{
 "cells": [
  {
   "cell_type": "markdown",
   "id": "9e6a47a3-f66a-47ee-aae1-03662201353d",
   "metadata": {},
   "source": [
    "# Start"
   ]
  },
  {
   "cell_type": "code",
   "execution_count": 1,
   "id": "3fd2be60-3d51-4df0-8b6d-b09f24d395c0",
   "metadata": {},
   "outputs": [],
   "source": [
    "import pandas as pd\n",
    "import numpy as np\n",
    "from datetime import datetime"
   ]
  },
  {
   "cell_type": "code",
   "execution_count": 2,
   "id": "2fb855c2-8fa4-4d01-babd-124a80af3aad",
   "metadata": {},
   "outputs": [],
   "source": [
    "purchase_data = pd.read_excel(\"./Analyst_dataset.xlsx\", sheet_name='Purchase Exit Survey Data')\n",
    "airings_data = pd.read_excel(\"./Analyst_dataset.xlsx\", sheet_name='Airings')\n",
    "lookup_data = pd.read_excel(\"./Analyst_dataset.xlsx\", sheet_name='Lookup', skiprows=1)"
   ]
  },
  {
   "cell_type": "markdown",
   "id": "5804936d-21e1-49f5-8347-19b48bd50abb",
   "metadata": {},
   "source": [
    "# Preprocessing"
   ]
  },
  {
   "cell_type": "code",
   "execution_count": 3,
   "id": "57995261-5caf-4c53-8f4f-8f53c1174b8d",
   "metadata": {},
   "outputs": [
    {
     "data": {
      "text/plain": [
       "(44, 3)"
      ]
     },
     "execution_count": 3,
     "metadata": {},
     "output_type": "execute_result"
    }
   ],
   "source": [
    "lookup_data.shape"
   ]
  },
  {
   "cell_type": "code",
   "execution_count": 4,
   "id": "08ae9bed-025a-49b8-b538-14a2bef75eb4",
   "metadata": {},
   "outputs": [],
   "source": [
    "lookup_data = lookup_data.dropna(how='all')"
   ]
  },
  {
   "cell_type": "code",
   "execution_count": 5,
   "id": "8a7fb8b4-12af-414c-a612-1d978d4d82d7",
   "metadata": {},
   "outputs": [
    {
     "data": {
      "text/plain": [
       "(43, 3)"
      ]
     },
     "execution_count": 5,
     "metadata": {},
     "output_type": "execute_result"
    }
   ],
   "source": [
    "lookup_data.shape"
   ]
  },
  {
   "cell_type": "code",
   "execution_count": 6,
   "id": "cef1597a-b1f4-4f80-b850-9875a7bee031",
   "metadata": {},
   "outputs": [],
   "source": [
    "lookup_data['Exit Survey'] = lookup_data['Exit Survey'].str.lower()\n",
    "lookup_data['Airings'] = lookup_data['Airings'].str.upper()"
   ]
  },
  {
   "cell_type": "code",
   "execution_count": 7,
   "id": "75a59a14-9e4d-4f79-ae95-0c2b82957a56",
   "metadata": {},
   "outputs": [],
   "source": [
    "airings_data['Network'] = airings_data['Network'].str.upper()"
   ]
  },
  {
   "cell_type": "markdown",
   "id": "3a223e39-88d8-4186-899e-28f6804a375e",
   "metadata": {},
   "source": [
    "# Transposing Purchase Exit Survey Data - Converting dates from columns to rows in Purchase Exit Survey Data"
   ]
  },
  {
   "cell_type": "code",
   "execution_count": 8,
   "id": "96897330-0baf-4a17-b5e3-032c2f49115b",
   "metadata": {},
   "outputs": [
    {
     "data": {
      "text/plain": [
       "2017"
      ]
     },
     "execution_count": 8,
     "metadata": {},
     "output_type": "execute_result"
    }
   ],
   "source": [
    "current_year = purchase_data.iloc[0,:].dropna()\n",
    "current_year = int(current_year)\n",
    "current_year"
   ]
  },
  {
   "cell_type": "code",
   "execution_count": 9,
   "id": "4b55fce2-d190-4dfc-a9cf-90084d8bc73d",
   "metadata": {},
   "outputs": [
    {
     "data": {
      "text/plain": [
       "['September', 'October']"
      ]
     },
     "execution_count": 9,
     "metadata": {},
     "output_type": "execute_result"
    }
   ],
   "source": [
    "months = []\n",
    "for month in purchase_data.iloc[2,2:].dropna():\n",
    "    months.append(month)\n",
    "months"
   ]
  },
  {
   "cell_type": "code",
   "execution_count": 10,
   "id": "04201d4a-970b-44bc-bed3-d3583f1ecfb7",
   "metadata": {},
   "outputs": [],
   "source": [
    "# current_month = months[0]\n",
    "# i = 0\n",
    "# for count, day in enumerate(day_nums, start=1):\n",
    "#     if str(day) > str(purchase_data.iloc[3, 2+count]):\n",
    "#         i += 1\n",
    "#         current_month = month[i]\n",
    "#         current_date = str(current_year) + '-' + current_month + '-' + str(day)\n",
    "#         print(current_date)\n",
    "#         #print(count)\n",
    "#     else:\n",
    "#         current_date = str(current_year) + '-' + current_month + '-' + str(day)\n",
    "#         print(current_date)\n",
    "#         #print(count)\n",
    "\n",
    "day_nums = np.array(purchase_data.iloc[3,2:], dtype=int)\n",
    "\n",
    "parsed_dates = []\n",
    "current_month = months[0]\n",
    "i = 0\n",
    "for count, today in enumerate(day_nums, start=1):\n",
    "    try:\n",
    "        tomorrow = day_nums[count]\n",
    "    except:\n",
    "        pass\n",
    "        # current_date = str(current_year) + '-' + current_month + '-' + str(today)\n",
    "        # current_date = datetime.strptime(current_date, '%Y-%B-%d').date()\n",
    "        # parsed_dates.append(current_date)\n",
    "        #print(type(current_date))\n",
    "    if today > tomorrow:\n",
    "        current_date = str(current_year) + '-' + current_month + '-' + str(today)\n",
    "        current_date = datetime.strptime(current_date, '%Y-%B-%d').date()\n",
    "        i += 1\n",
    "        current_month = months[i]\n",
    "        parsed_dates.append(current_date)\n",
    "        #print(current_date)\n",
    "        #print(count)\n",
    "    else:\n",
    "        current_date = str(current_year) + '-' + current_month + '-' + str(today)\n",
    "        current_date = datetime.strptime(current_date, '%Y-%B-%d').date()\n",
    "        #print(current_date)\n",
    "        parsed_dates.append(current_date)\n",
    "        #print(count)"
   ]
  },
  {
   "cell_type": "code",
   "execution_count": 11,
   "id": "4c7ac0c2-85c9-4e32-a4de-bb421e60658b",
   "metadata": {},
   "outputs": [],
   "source": [
    "purchase_data.iloc[3,2:] = parsed_dates"
   ]
  },
  {
   "cell_type": "code",
   "execution_count": 12,
   "id": "4ae8646c-a73a-46f3-a95c-0ad3e7835dce",
   "metadata": {},
   "outputs": [],
   "source": [
    "purchase_data_transpose = purchase_data.iloc[3:,:].transpose()\n",
    "#new_df.head()"
   ]
  },
  {
   "cell_type": "code",
   "execution_count": 13,
   "id": "4b205ebb-8b12-48f6-9e0e-534d1511e9f3",
   "metadata": {},
   "outputs": [],
   "source": [
    "purchase_data_transpose.index = purchase_data_transpose.iloc[:, 0]"
   ]
  },
  {
   "cell_type": "code",
   "execution_count": 14,
   "id": "c745bdf5-f428-4471-be7c-7f9194e8eabd",
   "metadata": {},
   "outputs": [],
   "source": [
    "purchase_data_transpose = purchase_data_transpose.iloc[1:]"
   ]
  },
  {
   "cell_type": "code",
   "execution_count": 15,
   "id": "b1679f01-3e4a-4c48-8592-2b9666fb1d56",
   "metadata": {},
   "outputs": [],
   "source": [
    "purchase_data_transpose = purchase_data_transpose.drop(labels=3, axis=1)"
   ]
  },
  {
   "cell_type": "code",
   "execution_count": 16,
   "id": "9042a71e-f795-4724-806d-38af3d71a00a",
   "metadata": {},
   "outputs": [],
   "source": [
    "purchase_data_transpose.columns = purchase_data_transpose.iloc[0]"
   ]
  },
  {
   "cell_type": "code",
   "execution_count": 17,
   "id": "ece87e4b-9d3f-4128-a67f-018d55439e5b",
   "metadata": {},
   "outputs": [],
   "source": [
    "purchase_data_transpose = purchase_data_transpose.drop(labels='Source')"
   ]
  },
  {
   "cell_type": "code",
   "execution_count": 18,
   "id": "61c39312-b498-47f6-8ec5-a96d36dbaffb",
   "metadata": {},
   "outputs": [],
   "source": [
    "purchase_data_transpose.index = pd.to_datetime(purchase_data_transpose.index)"
   ]
  },
  {
   "cell_type": "code",
   "execution_count": 19,
   "id": "4fefde1f-3f83-40cd-aa44-b0a85248ab84",
   "metadata": {},
   "outputs": [],
   "source": [
    "purchase_data_transpose.rename_axis('date', inplace=True)\n",
    "#purchase_data_transpose"
   ]
  },
  {
   "cell_type": "code",
   "execution_count": 20,
   "id": "34c9afcc-94c5-43d8-9eee-8d06246ab586",
   "metadata": {},
   "outputs": [
    {
     "data": {
      "text/plain": [
       "(56, 30)"
      ]
     },
     "execution_count": 20,
     "metadata": {},
     "output_type": "execute_result"
    }
   ],
   "source": [
    "purchase_data_transpose.shape"
   ]
  },
  {
   "cell_type": "markdown",
   "id": "3c9fa84e-e1c5-4a24-8353-6f194764b831",
   "metadata": {},
   "source": [
    "# Overall metrics by Network"
   ]
  },
  {
   "cell_type": "markdown",
   "id": "f00b68a2-4a76-48d2-ae75-1d2551c41eda",
   "metadata": {},
   "source": [
    "## Sum of Purchases by Network"
   ]
  },
  {
   "cell_type": "code",
   "execution_count": 26,
   "id": "966c6caf-bceb-4a77-a9a6-933088dae0bf",
   "metadata": {},
   "outputs": [],
   "source": [
    "sum_of_purchases = purchase_data_transpose.sum(axis=0)\n",
    "sum_of_purchases = sum_of_purchases.to_frame()\n",
    "sum_of_purchases = sum_of_purchases.rename(columns={0:'Purchases'})\n",
    "sum_of_purchases.index = sum_of_purchases.index.str.lower()"
   ]
  },
  {
   "cell_type": "code",
   "execution_count": 33,
   "id": "e4023193-b86b-4ae4-b8e6-8fd3642aa8e7",
   "metadata": {},
   "outputs": [
    {
     "data": {
      "text/plain": [
       "(30, 1)"
      ]
     },
     "execution_count": 33,
     "metadata": {},
     "output_type": "execute_result"
    }
   ],
   "source": [
    "sum_of_purchases.shape"
   ]
  },
  {
   "cell_type": "markdown",
   "id": "9461665c-e7bd-4e7c-a0b5-dbcf26fc6e1b",
   "metadata": {},
   "source": [
    "## Joining Purchases to Lookup Data"
   ]
  },
  {
   "cell_type": "code",
   "execution_count": 34,
   "id": "423af1bf-7f89-4b75-a90c-81c9955e0b3b",
   "metadata": {},
   "outputs": [
    {
     "name": "stdout",
     "output_type": "stream",
     "text": [
      "<class 'pandas.core.frame.DataFrame'>\n",
      "Int64Index: 43 entries, 0 to 43\n",
      "Data columns (total 3 columns):\n",
      " #   Column         Non-Null Count  Dtype \n",
      "---  ------         --------------  ----- \n",
      " 0   Exit Survey    43 non-null     object\n",
      " 1   Airings        38 non-null     object\n",
      " 2   Exit Survey.1  43 non-null     object\n",
      "dtypes: object(3)\n",
      "memory usage: 1.3+ KB\n"
     ]
    }
   ],
   "source": [
    "lookup_data.info()"
   ]
  },
  {
   "cell_type": "code",
   "execution_count": 35,
   "id": "ea241d82-6ac7-4477-8fb3-df6b2900a244",
   "metadata": {},
   "outputs": [
    {
     "data": {
      "text/plain": [
       "(43, 2)"
      ]
     },
     "execution_count": 35,
     "metadata": {},
     "output_type": "execute_result"
    }
   ],
   "source": [
    "overall_tbl = lookup_data.merge(right=sum_of_purchases, left_on='Exit Survey', right_on='Source', how='left')\n",
    "overall_tbl.drop(labels='Exit Survey.1', axis=1, inplace=True)\n",
    "#overall_tbl.rename(columns={0:'Purchases'}, inplace=True)\n",
    "overall_tbl.set_index('Exit Survey', inplace=True)\n",
    "overall_tbl.shape"
   ]
  },
  {
   "cell_type": "markdown",
   "id": "08aeba17-5ca8-43c2-8e80-0057e995269b",
   "metadata": {},
   "source": [
    "## Spend and Lift by Network"
   ]
  },
  {
   "cell_type": "code",
   "execution_count": 37,
   "id": "b47b8230-e650-4602-bf8a-25e957dbf53c",
   "metadata": {},
   "outputs": [
    {
     "data": {
      "text/plain": [
       "(19, 2)"
      ]
     },
     "execution_count": 37,
     "metadata": {},
     "output_type": "execute_result"
    }
   ],
   "source": [
    "airings_spend_and_lift = airings_data.groupby('Network')[['Spend', 'Lift']].agg('sum')\n",
    "airings_spend_and_lift.shape"
   ]
  },
  {
   "cell_type": "markdown",
   "id": "60f0961b-fada-4358-8c1d-d97a74d71a2d",
   "metadata": {},
   "source": [
    "## Joining Purchases/Lookup to Spend and Lift"
   ]
  },
  {
   "cell_type": "code",
   "execution_count": 38,
   "id": "4d46e4a8-3e00-46e4-af1f-fcc70ece6aec",
   "metadata": {},
   "outputs": [
    {
     "data": {
      "text/plain": [
       "(43, 4)"
      ]
     },
     "execution_count": 38,
     "metadata": {},
     "output_type": "execute_result"
    }
   ],
   "source": [
    "overall_tbl = overall_tbl.merge(right=airings_spend_and_lift,left_on='Airings', right_index=True, how='left')\n",
    "overall_tbl.shape"
   ]
  },
  {
   "cell_type": "markdown",
   "id": "9e4a42b9-74df-4446-bb60-4996be96b246",
   "metadata": {},
   "source": [
    "## Computing Metrics by Network"
   ]
  },
  {
   "cell_type": "code",
   "execution_count": 39,
   "id": "0891498a-6a67-4f42-a5ba-859316a82914",
   "metadata": {},
   "outputs": [
    {
     "data": {
      "text/html": [
       "<div>\n",
       "<style scoped>\n",
       "    .dataframe tbody tr th:only-of-type {\n",
       "        vertical-align: middle;\n",
       "    }\n",
       "\n",
       "    .dataframe tbody tr th {\n",
       "        vertical-align: top;\n",
       "    }\n",
       "\n",
       "    .dataframe thead th {\n",
       "        text-align: right;\n",
       "    }\n",
       "</style>\n",
       "<table border=\"1\" class=\"dataframe\">\n",
       "  <thead>\n",
       "    <tr style=\"text-align: right;\">\n",
       "      <th></th>\n",
       "      <th>Airings</th>\n",
       "      <th>Purchases</th>\n",
       "      <th>Spend</th>\n",
       "      <th>Lift</th>\n",
       "      <th>Conversion Rate</th>\n",
       "      <th>Cost Per Acquisition</th>\n",
       "      <th>Cost Per Visitor</th>\n",
       "      <th>Percent of Purchases</th>\n",
       "      <th>Percent of Spend</th>\n",
       "      <th>Percent Pur &gt; Percent Spend</th>\n",
       "    </tr>\n",
       "    <tr>\n",
       "      <th>Exit Survey</th>\n",
       "      <th></th>\n",
       "      <th></th>\n",
       "      <th></th>\n",
       "      <th></th>\n",
       "      <th></th>\n",
       "      <th></th>\n",
       "      <th></th>\n",
       "      <th></th>\n",
       "      <th></th>\n",
       "      <th></th>\n",
       "    </tr>\n",
       "  </thead>\n",
       "  <tbody>\n",
       "    <tr>\n",
       "      <th>(blank)</th>\n",
       "      <td>NaN</td>\n",
       "      <td>3.0</td>\n",
       "      <td>NaN</td>\n",
       "      <td>NaN</td>\n",
       "      <td>NaN</td>\n",
       "      <td>NaN</td>\n",
       "      <td>NaN</td>\n",
       "      <td>1.271186</td>\n",
       "      <td>NaN</td>\n",
       "      <td>False</td>\n",
       "    </tr>\n",
       "    <tr>\n",
       "      <th>aapka_colors</th>\n",
       "      <td>NaN</td>\n",
       "      <td>6.0</td>\n",
       "      <td>NaN</td>\n",
       "      <td>NaN</td>\n",
       "      <td>NaN</td>\n",
       "      <td>NaN</td>\n",
       "      <td>NaN</td>\n",
       "      <td>2.542373</td>\n",
       "      <td>NaN</td>\n",
       "      <td>False</td>\n",
       "    </tr>\n",
       "    <tr>\n",
       "      <th>baby_first</th>\n",
       "      <td>BABY</td>\n",
       "      <td>1.0</td>\n",
       "      <td>NaN</td>\n",
       "      <td>NaN</td>\n",
       "      <td>NaN</td>\n",
       "      <td>NaN</td>\n",
       "      <td>NaN</td>\n",
       "      <td>0.423729</td>\n",
       "      <td>NaN</td>\n",
       "      <td>False</td>\n",
       "    </tr>\n",
       "    <tr>\n",
       "      <th>bloomberg</th>\n",
       "      <td>BLOM</td>\n",
       "      <td>2.0</td>\n",
       "      <td>4966.72</td>\n",
       "      <td>199.0</td>\n",
       "      <td>1.005025</td>\n",
       "      <td>2483.36</td>\n",
       "      <td>24.958392</td>\n",
       "      <td>0.847458</td>\n",
       "      <td>2.242951</td>\n",
       "      <td>False</td>\n",
       "    </tr>\n",
       "    <tr>\n",
       "      <th>cbs_sports</th>\n",
       "      <td>CBSS</td>\n",
       "      <td>1.0</td>\n",
       "      <td>NaN</td>\n",
       "      <td>NaN</td>\n",
       "      <td>NaN</td>\n",
       "      <td>NaN</td>\n",
       "      <td>NaN</td>\n",
       "      <td>0.423729</td>\n",
       "      <td>NaN</td>\n",
       "      <td>False</td>\n",
       "    </tr>\n",
       "    <tr>\n",
       "      <th>cnbc</th>\n",
       "      <td>CNBC</td>\n",
       "      <td>15.0</td>\n",
       "      <td>6481.42</td>\n",
       "      <td>406.0</td>\n",
       "      <td>3.694581</td>\n",
       "      <td>432.094667</td>\n",
       "      <td>15.964089</td>\n",
       "      <td>6.355932</td>\n",
       "      <td>2.926984</td>\n",
       "      <td>True</td>\n",
       "    </tr>\n",
       "    <tr>\n",
       "      <th>cnn</th>\n",
       "      <td>CNN</td>\n",
       "      <td>23.0</td>\n",
       "      <td>18114.35</td>\n",
       "      <td>1081.0</td>\n",
       "      <td>2.12766</td>\n",
       "      <td>787.580435</td>\n",
       "      <td>16.757031</td>\n",
       "      <td>9.745763</td>\n",
       "      <td>8.180369</td>\n",
       "      <td>True</td>\n",
       "    </tr>\n",
       "    <tr>\n",
       "      <th>comedy_central</th>\n",
       "      <td>COM</td>\n",
       "      <td>2.0</td>\n",
       "      <td>7501.25</td>\n",
       "      <td>108.0</td>\n",
       "      <td>1.851852</td>\n",
       "      <td>3750.625</td>\n",
       "      <td>69.456019</td>\n",
       "      <td>0.847458</td>\n",
       "      <td>3.387535</td>\n",
       "      <td>False</td>\n",
       "    </tr>\n",
       "    <tr>\n",
       "      <th>cozi</th>\n",
       "      <td>COZI</td>\n",
       "      <td>NaN</td>\n",
       "      <td>NaN</td>\n",
       "      <td>NaN</td>\n",
       "      <td>NaN</td>\n",
       "      <td>NaN</td>\n",
       "      <td>NaN</td>\n",
       "      <td>NaN</td>\n",
       "      <td>NaN</td>\n",
       "      <td>False</td>\n",
       "    </tr>\n",
       "    <tr>\n",
       "      <th>dateline</th>\n",
       "      <td>DATELINE</td>\n",
       "      <td>10.0</td>\n",
       "      <td>15288.11</td>\n",
       "      <td>862.0</td>\n",
       "      <td>1.160093</td>\n",
       "      <td>1528.811</td>\n",
       "      <td>17.735626</td>\n",
       "      <td>4.237288</td>\n",
       "      <td>6.904050</td>\n",
       "      <td>False</td>\n",
       "    </tr>\n",
       "    <tr>\n",
       "      <th>dish_network</th>\n",
       "      <td>DISH</td>\n",
       "      <td>5.0</td>\n",
       "      <td>3033.33</td>\n",
       "      <td>1092.0</td>\n",
       "      <td>0.457875</td>\n",
       "      <td>606.666</td>\n",
       "      <td>2.777775</td>\n",
       "      <td>2.118644</td>\n",
       "      <td>1.369840</td>\n",
       "      <td>True</td>\n",
       "    </tr>\n",
       "    <tr>\n",
       "      <th>diy</th>\n",
       "      <td>NaN</td>\n",
       "      <td>2.0</td>\n",
       "      <td>NaN</td>\n",
       "      <td>NaN</td>\n",
       "      <td>NaN</td>\n",
       "      <td>NaN</td>\n",
       "      <td>NaN</td>\n",
       "      <td>0.847458</td>\n",
       "      <td>NaN</td>\n",
       "      <td>False</td>\n",
       "    </tr>\n",
       "    <tr>\n",
       "      <th>espn</th>\n",
       "      <td>ENN</td>\n",
       "      <td>4.0</td>\n",
       "      <td>NaN</td>\n",
       "      <td>NaN</td>\n",
       "      <td>NaN</td>\n",
       "      <td>NaN</td>\n",
       "      <td>NaN</td>\n",
       "      <td>1.694915</td>\n",
       "      <td>NaN</td>\n",
       "      <td>False</td>\n",
       "    </tr>\n",
       "    <tr>\n",
       "      <th>fox_news</th>\n",
       "      <td>FNEW</td>\n",
       "      <td>14.0</td>\n",
       "      <td>NaN</td>\n",
       "      <td>NaN</td>\n",
       "      <td>NaN</td>\n",
       "      <td>NaN</td>\n",
       "      <td>NaN</td>\n",
       "      <td>5.932203</td>\n",
       "      <td>NaN</td>\n",
       "      <td>False</td>\n",
       "    </tr>\n",
       "    <tr>\n",
       "      <th>fox_sports</th>\n",
       "      <td>FS1</td>\n",
       "      <td>2.0</td>\n",
       "      <td>4258.50</td>\n",
       "      <td>183.0</td>\n",
       "      <td>1.092896</td>\n",
       "      <td>2129.25</td>\n",
       "      <td>23.270492</td>\n",
       "      <td>0.847458</td>\n",
       "      <td>1.923122</td>\n",
       "      <td>False</td>\n",
       "    </tr>\n",
       "    <tr>\n",
       "      <th>fyi</th>\n",
       "      <td>FYI</td>\n",
       "      <td>2.0</td>\n",
       "      <td>NaN</td>\n",
       "      <td>NaN</td>\n",
       "      <td>NaN</td>\n",
       "      <td>NaN</td>\n",
       "      <td>NaN</td>\n",
       "      <td>0.847458</td>\n",
       "      <td>NaN</td>\n",
       "      <td>False</td>\n",
       "    </tr>\n",
       "    <tr>\n",
       "      <th>hgtv</th>\n",
       "      <td>HGTV</td>\n",
       "      <td>6.0</td>\n",
       "      <td>NaN</td>\n",
       "      <td>NaN</td>\n",
       "      <td>NaN</td>\n",
       "      <td>NaN</td>\n",
       "      <td>NaN</td>\n",
       "      <td>2.542373</td>\n",
       "      <td>NaN</td>\n",
       "      <td>False</td>\n",
       "    </tr>\n",
       "    <tr>\n",
       "      <th>lifetime_movie_network</th>\n",
       "      <td>LMN</td>\n",
       "      <td>NaN</td>\n",
       "      <td>NaN</td>\n",
       "      <td>NaN</td>\n",
       "      <td>NaN</td>\n",
       "      <td>NaN</td>\n",
       "      <td>NaN</td>\n",
       "      <td>NaN</td>\n",
       "      <td>NaN</td>\n",
       "      <td>False</td>\n",
       "    </tr>\n",
       "    <tr>\n",
       "      <th>msnbc</th>\n",
       "      <td>MSNB</td>\n",
       "      <td>16.0</td>\n",
       "      <td>11330.04</td>\n",
       "      <td>1123.0</td>\n",
       "      <td>1.424755</td>\n",
       "      <td>708.1275</td>\n",
       "      <td>10.089083</td>\n",
       "      <td>6.779661</td>\n",
       "      <td>5.116601</td>\n",
       "      <td>True</td>\n",
       "    </tr>\n",
       "    <tr>\n",
       "      <th>nfl_network</th>\n",
       "      <td>NFLN</td>\n",
       "      <td>3.0</td>\n",
       "      <td>5412.80</td>\n",
       "      <td>200.0</td>\n",
       "      <td>1.5</td>\n",
       "      <td>1804.266667</td>\n",
       "      <td>27.064000</td>\n",
       "      <td>1.271186</td>\n",
       "      <td>2.444399</td>\n",
       "      <td>False</td>\n",
       "    </tr>\n",
       "    <tr>\n",
       "      <th>one_america_news_network</th>\n",
       "      <td>OANN</td>\n",
       "      <td>16.0</td>\n",
       "      <td>24935.00</td>\n",
       "      <td>2372.0</td>\n",
       "      <td>0.674536</td>\n",
       "      <td>1558.4375</td>\n",
       "      <td>10.512226</td>\n",
       "      <td>6.779661</td>\n",
       "      <td>11.260547</td>\n",
       "      <td>False</td>\n",
       "    </tr>\n",
       "    <tr>\n",
       "      <th>oprah_winfrey_network</th>\n",
       "      <td>OWN</td>\n",
       "      <td>1.0</td>\n",
       "      <td>NaN</td>\n",
       "      <td>NaN</td>\n",
       "      <td>NaN</td>\n",
       "      <td>NaN</td>\n",
       "      <td>NaN</td>\n",
       "      <td>0.423729</td>\n",
       "      <td>NaN</td>\n",
       "      <td>False</td>\n",
       "    </tr>\n",
       "    <tr>\n",
       "      <th>other</th>\n",
       "      <td>NaN</td>\n",
       "      <td>13.0</td>\n",
       "      <td>NaN</td>\n",
       "      <td>NaN</td>\n",
       "      <td>NaN</td>\n",
       "      <td>NaN</td>\n",
       "      <td>NaN</td>\n",
       "      <td>5.508475</td>\n",
       "      <td>NaN</td>\n",
       "      <td>False</td>\n",
       "    </tr>\n",
       "    <tr>\n",
       "      <th>science</th>\n",
       "      <td>SCI</td>\n",
       "      <td>4.0</td>\n",
       "      <td>7993.18</td>\n",
       "      <td>132.0</td>\n",
       "      <td>3.030303</td>\n",
       "      <td>1998.295</td>\n",
       "      <td>60.554394</td>\n",
       "      <td>1.694915</td>\n",
       "      <td>3.609688</td>\n",
       "      <td>False</td>\n",
       "    </tr>\n",
       "    <tr>\n",
       "      <th>sony_entertainment_tv</th>\n",
       "      <td>NaN</td>\n",
       "      <td>4.0</td>\n",
       "      <td>NaN</td>\n",
       "      <td>NaN</td>\n",
       "      <td>NaN</td>\n",
       "      <td>NaN</td>\n",
       "      <td>NaN</td>\n",
       "      <td>1.694915</td>\n",
       "      <td>NaN</td>\n",
       "      <td>False</td>\n",
       "    </tr>\n",
       "    <tr>\n",
       "      <th>spectrum_sports</th>\n",
       "      <td>SPECSPTS</td>\n",
       "      <td>3.0</td>\n",
       "      <td>5580.26</td>\n",
       "      <td>220.0</td>\n",
       "      <td>1.363636</td>\n",
       "      <td>1860.086667</td>\n",
       "      <td>25.364818</td>\n",
       "      <td>1.271186</td>\n",
       "      <td>2.520023</td>\n",
       "      <td>False</td>\n",
       "    </tr>\n",
       "    <tr>\n",
       "      <th>spike</th>\n",
       "      <td>SPK</td>\n",
       "      <td>NaN</td>\n",
       "      <td>NaN</td>\n",
       "      <td>NaN</td>\n",
       "      <td>NaN</td>\n",
       "      <td>NaN</td>\n",
       "      <td>NaN</td>\n",
       "      <td>NaN</td>\n",
       "      <td>NaN</td>\n",
       "      <td>False</td>\n",
       "    </tr>\n",
       "    <tr>\n",
       "      <th>star_plus</th>\n",
       "      <td>STARPLUS</td>\n",
       "      <td>4.0</td>\n",
       "      <td>11780.56</td>\n",
       "      <td>1783.0</td>\n",
       "      <td>0.224341</td>\n",
       "      <td>2945.14</td>\n",
       "      <td>6.607156</td>\n",
       "      <td>1.694915</td>\n",
       "      <td>5.320054</td>\n",
       "      <td>False</td>\n",
       "    </tr>\n",
       "    <tr>\n",
       "      <th>sundance_channel</th>\n",
       "      <td>SUND</td>\n",
       "      <td>NaN</td>\n",
       "      <td>NaN</td>\n",
       "      <td>NaN</td>\n",
       "      <td>NaN</td>\n",
       "      <td>NaN</td>\n",
       "      <td>NaN</td>\n",
       "      <td>NaN</td>\n",
       "      <td>NaN</td>\n",
       "      <td>False</td>\n",
       "    </tr>\n",
       "    <tr>\n",
       "      <th>television_food_network</th>\n",
       "      <td>FOOD</td>\n",
       "      <td>4.0</td>\n",
       "      <td>NaN</td>\n",
       "      <td>NaN</td>\n",
       "      <td>NaN</td>\n",
       "      <td>NaN</td>\n",
       "      <td>NaN</td>\n",
       "      <td>1.694915</td>\n",
       "      <td>NaN</td>\n",
       "      <td>False</td>\n",
       "    </tr>\n",
       "    <tr>\n",
       "      <th>the_cooking_channel</th>\n",
       "      <td>COOK</td>\n",
       "      <td>NaN</td>\n",
       "      <td>NaN</td>\n",
       "      <td>NaN</td>\n",
       "      <td>NaN</td>\n",
       "      <td>NaN</td>\n",
       "      <td>NaN</td>\n",
       "      <td>NaN</td>\n",
       "      <td>NaN</td>\n",
       "      <td>False</td>\n",
       "    </tr>\n",
       "    <tr>\n",
       "      <th>the_history_channel</th>\n",
       "      <td>HIST</td>\n",
       "      <td>5.0</td>\n",
       "      <td>7278.30</td>\n",
       "      <td>330.0</td>\n",
       "      <td>1.515152</td>\n",
       "      <td>1455.66</td>\n",
       "      <td>22.055455</td>\n",
       "      <td>2.118644</td>\n",
       "      <td>3.286851</td>\n",
       "      <td>False</td>\n",
       "    </tr>\n",
       "    <tr>\n",
       "      <th>the_weather_channel</th>\n",
       "      <td>TWC</td>\n",
       "      <td>NaN</td>\n",
       "      <td>7718.71</td>\n",
       "      <td>211.0</td>\n",
       "      <td>NaN</td>\n",
       "      <td>NaN</td>\n",
       "      <td>36.581564</td>\n",
       "      <td>NaN</td>\n",
       "      <td>3.485739</td>\n",
       "      <td>False</td>\n",
       "    </tr>\n",
       "    <tr>\n",
       "      <th>turner_network_tv</th>\n",
       "      <td>TNT</td>\n",
       "      <td>4.0</td>\n",
       "      <td>5125.50</td>\n",
       "      <td>179.0</td>\n",
       "      <td>2.234637</td>\n",
       "      <td>1281.375</td>\n",
       "      <td>28.634078</td>\n",
       "      <td>1.694915</td>\n",
       "      <td>2.314656</td>\n",
       "      <td>False</td>\n",
       "    </tr>\n",
       "    <tr>\n",
       "      <th>willow_tv</th>\n",
       "      <td>WILO</td>\n",
       "      <td>56.0</td>\n",
       "      <td>47734.57</td>\n",
       "      <td>8214.0</td>\n",
       "      <td>0.681763</td>\n",
       "      <td>852.403036</td>\n",
       "      <td>5.811367</td>\n",
       "      <td>23.728814</td>\n",
       "      <td>21.556743</td>\n",
       "      <td>True</td>\n",
       "    </tr>\n",
       "    <tr>\n",
       "      <th>zeetv</th>\n",
       "      <td>ZEETV</td>\n",
       "      <td>5.0</td>\n",
       "      <td>25604.25</td>\n",
       "      <td>1741.0</td>\n",
       "      <td>0.287191</td>\n",
       "      <td>5120.85</td>\n",
       "      <td>14.706634</td>\n",
       "      <td>2.118644</td>\n",
       "      <td>11.562778</td>\n",
       "      <td>False</td>\n",
       "    </tr>\n",
       "    <tr>\n",
       "      <th>velocity</th>\n",
       "      <td>VEL</td>\n",
       "      <td>NaN</td>\n",
       "      <td>NaN</td>\n",
       "      <td>NaN</td>\n",
       "      <td>NaN</td>\n",
       "      <td>NaN</td>\n",
       "      <td>NaN</td>\n",
       "      <td>NaN</td>\n",
       "      <td>NaN</td>\n",
       "      <td>False</td>\n",
       "    </tr>\n",
       "    <tr>\n",
       "      <th>investigation discovery</th>\n",
       "      <td>ID</td>\n",
       "      <td>NaN</td>\n",
       "      <td>NaN</td>\n",
       "      <td>NaN</td>\n",
       "      <td>NaN</td>\n",
       "      <td>NaN</td>\n",
       "      <td>NaN</td>\n",
       "      <td>NaN</td>\n",
       "      <td>NaN</td>\n",
       "      <td>False</td>\n",
       "    </tr>\n",
       "    <tr>\n",
       "      <th>viceland</th>\n",
       "      <td>VICE</td>\n",
       "      <td>NaN</td>\n",
       "      <td>NaN</td>\n",
       "      <td>NaN</td>\n",
       "      <td>NaN</td>\n",
       "      <td>NaN</td>\n",
       "      <td>NaN</td>\n",
       "      <td>NaN</td>\n",
       "      <td>NaN</td>\n",
       "      <td>False</td>\n",
       "    </tr>\n",
       "    <tr>\n",
       "      <th>destination america</th>\n",
       "      <td>DEST</td>\n",
       "      <td>NaN</td>\n",
       "      <td>NaN</td>\n",
       "      <td>NaN</td>\n",
       "      <td>NaN</td>\n",
       "      <td>NaN</td>\n",
       "      <td>NaN</td>\n",
       "      <td>NaN</td>\n",
       "      <td>NaN</td>\n",
       "      <td>False</td>\n",
       "    </tr>\n",
       "    <tr>\n",
       "      <th>golf</th>\n",
       "      <td>GOLF</td>\n",
       "      <td>NaN</td>\n",
       "      <td>NaN</td>\n",
       "      <td>NaN</td>\n",
       "      <td>NaN</td>\n",
       "      <td>NaN</td>\n",
       "      <td>NaN</td>\n",
       "      <td>NaN</td>\n",
       "      <td>NaN</td>\n",
       "      <td>False</td>\n",
       "    </tr>\n",
       "    <tr>\n",
       "      <th>tennis</th>\n",
       "      <td>TENN</td>\n",
       "      <td>NaN</td>\n",
       "      <td>NaN</td>\n",
       "      <td>NaN</td>\n",
       "      <td>NaN</td>\n",
       "      <td>NaN</td>\n",
       "      <td>NaN</td>\n",
       "      <td>NaN</td>\n",
       "      <td>NaN</td>\n",
       "      <td>False</td>\n",
       "    </tr>\n",
       "    <tr>\n",
       "      <th>cnbc world</th>\n",
       "      <td>CNBCWORLD</td>\n",
       "      <td>NaN</td>\n",
       "      <td>1299.99</td>\n",
       "      <td>51.0</td>\n",
       "      <td>NaN</td>\n",
       "      <td>NaN</td>\n",
       "      <td>25.490000</td>\n",
       "      <td>NaN</td>\n",
       "      <td>0.587070</td>\n",
       "      <td>False</td>\n",
       "    </tr>\n",
       "  </tbody>\n",
       "</table>\n",
       "</div>"
      ],
      "text/plain": [
       "                            Airings Purchases     Spend    Lift  \\\n",
       "Exit Survey                                                       \n",
       "(blank)                         NaN       3.0       NaN     NaN   \n",
       "aapka_colors                    NaN       6.0       NaN     NaN   \n",
       "baby_first                     BABY       1.0       NaN     NaN   \n",
       "bloomberg                      BLOM       2.0   4966.72   199.0   \n",
       "cbs_sports                     CBSS       1.0       NaN     NaN   \n",
       "cnbc                           CNBC      15.0   6481.42   406.0   \n",
       "cnn                             CNN      23.0  18114.35  1081.0   \n",
       "comedy_central                  COM       2.0   7501.25   108.0   \n",
       "cozi                           COZI       NaN       NaN     NaN   \n",
       "dateline                   DATELINE      10.0  15288.11   862.0   \n",
       "dish_network                   DISH       5.0   3033.33  1092.0   \n",
       "diy                             NaN       2.0       NaN     NaN   \n",
       "espn                            ENN       4.0       NaN     NaN   \n",
       "fox_news                       FNEW      14.0       NaN     NaN   \n",
       "fox_sports                      FS1       2.0   4258.50   183.0   \n",
       "fyi                             FYI       2.0       NaN     NaN   \n",
       "hgtv                           HGTV       6.0       NaN     NaN   \n",
       "lifetime_movie_network          LMN       NaN       NaN     NaN   \n",
       "msnbc                          MSNB      16.0  11330.04  1123.0   \n",
       "nfl_network                    NFLN       3.0   5412.80   200.0   \n",
       "one_america_news_network       OANN      16.0  24935.00  2372.0   \n",
       "oprah_winfrey_network           OWN       1.0       NaN     NaN   \n",
       "other                           NaN      13.0       NaN     NaN   \n",
       "science                         SCI       4.0   7993.18   132.0   \n",
       "sony_entertainment_tv           NaN       4.0       NaN     NaN   \n",
       "spectrum_sports            SPECSPTS       3.0   5580.26   220.0   \n",
       "spike                           SPK       NaN       NaN     NaN   \n",
       "star_plus                  STARPLUS       4.0  11780.56  1783.0   \n",
       "sundance_channel               SUND       NaN       NaN     NaN   \n",
       "television_food_network        FOOD       4.0       NaN     NaN   \n",
       "the_cooking_channel            COOK       NaN       NaN     NaN   \n",
       "the_history_channel            HIST       5.0   7278.30   330.0   \n",
       "the_weather_channel             TWC       NaN   7718.71   211.0   \n",
       "turner_network_tv               TNT       4.0   5125.50   179.0   \n",
       "willow_tv                      WILO      56.0  47734.57  8214.0   \n",
       "zeetv                         ZEETV       5.0  25604.25  1741.0   \n",
       "velocity                        VEL       NaN       NaN     NaN   \n",
       "investigation discovery          ID       NaN       NaN     NaN   \n",
       "viceland                       VICE       NaN       NaN     NaN   \n",
       "destination america            DEST       NaN       NaN     NaN   \n",
       "golf                           GOLF       NaN       NaN     NaN   \n",
       "tennis                         TENN       NaN       NaN     NaN   \n",
       "cnbc world                CNBCWORLD       NaN   1299.99    51.0   \n",
       "\n",
       "                         Conversion Rate Cost Per Acquisition  \\\n",
       "Exit Survey                                                     \n",
       "(blank)                              NaN                  NaN   \n",
       "aapka_colors                         NaN                  NaN   \n",
       "baby_first                           NaN                  NaN   \n",
       "bloomberg                       1.005025              2483.36   \n",
       "cbs_sports                           NaN                  NaN   \n",
       "cnbc                            3.694581           432.094667   \n",
       "cnn                              2.12766           787.580435   \n",
       "comedy_central                  1.851852             3750.625   \n",
       "cozi                                 NaN                  NaN   \n",
       "dateline                        1.160093             1528.811   \n",
       "dish_network                    0.457875              606.666   \n",
       "diy                                  NaN                  NaN   \n",
       "espn                                 NaN                  NaN   \n",
       "fox_news                             NaN                  NaN   \n",
       "fox_sports                      1.092896              2129.25   \n",
       "fyi                                  NaN                  NaN   \n",
       "hgtv                                 NaN                  NaN   \n",
       "lifetime_movie_network               NaN                  NaN   \n",
       "msnbc                           1.424755             708.1275   \n",
       "nfl_network                          1.5          1804.266667   \n",
       "one_america_news_network        0.674536            1558.4375   \n",
       "oprah_winfrey_network                NaN                  NaN   \n",
       "other                                NaN                  NaN   \n",
       "science                         3.030303             1998.295   \n",
       "sony_entertainment_tv                NaN                  NaN   \n",
       "spectrum_sports                 1.363636          1860.086667   \n",
       "spike                                NaN                  NaN   \n",
       "star_plus                       0.224341              2945.14   \n",
       "sundance_channel                     NaN                  NaN   \n",
       "television_food_network              NaN                  NaN   \n",
       "the_cooking_channel                  NaN                  NaN   \n",
       "the_history_channel             1.515152              1455.66   \n",
       "the_weather_channel                  NaN                  NaN   \n",
       "turner_network_tv               2.234637             1281.375   \n",
       "willow_tv                       0.681763           852.403036   \n",
       "zeetv                           0.287191              5120.85   \n",
       "velocity                             NaN                  NaN   \n",
       "investigation discovery              NaN                  NaN   \n",
       "viceland                             NaN                  NaN   \n",
       "destination america                  NaN                  NaN   \n",
       "golf                                 NaN                  NaN   \n",
       "tennis                               NaN                  NaN   \n",
       "cnbc world                           NaN                  NaN   \n",
       "\n",
       "                          Cost Per Visitor Percent of Purchases  \\\n",
       "Exit Survey                                                       \n",
       "(blank)                                NaN             1.271186   \n",
       "aapka_colors                           NaN             2.542373   \n",
       "baby_first                             NaN             0.423729   \n",
       "bloomberg                        24.958392             0.847458   \n",
       "cbs_sports                             NaN             0.423729   \n",
       "cnbc                             15.964089             6.355932   \n",
       "cnn                              16.757031             9.745763   \n",
       "comedy_central                   69.456019             0.847458   \n",
       "cozi                                   NaN                  NaN   \n",
       "dateline                         17.735626             4.237288   \n",
       "dish_network                      2.777775             2.118644   \n",
       "diy                                    NaN             0.847458   \n",
       "espn                                   NaN             1.694915   \n",
       "fox_news                               NaN             5.932203   \n",
       "fox_sports                       23.270492             0.847458   \n",
       "fyi                                    NaN             0.847458   \n",
       "hgtv                                   NaN             2.542373   \n",
       "lifetime_movie_network                 NaN                  NaN   \n",
       "msnbc                            10.089083             6.779661   \n",
       "nfl_network                      27.064000             1.271186   \n",
       "one_america_news_network         10.512226             6.779661   \n",
       "oprah_winfrey_network                  NaN             0.423729   \n",
       "other                                  NaN             5.508475   \n",
       "science                          60.554394             1.694915   \n",
       "sony_entertainment_tv                  NaN             1.694915   \n",
       "spectrum_sports                  25.364818             1.271186   \n",
       "spike                                  NaN                  NaN   \n",
       "star_plus                         6.607156             1.694915   \n",
       "sundance_channel                       NaN                  NaN   \n",
       "television_food_network                NaN             1.694915   \n",
       "the_cooking_channel                    NaN                  NaN   \n",
       "the_history_channel              22.055455             2.118644   \n",
       "the_weather_channel              36.581564                  NaN   \n",
       "turner_network_tv                28.634078             1.694915   \n",
       "willow_tv                         5.811367            23.728814   \n",
       "zeetv                            14.706634             2.118644   \n",
       "velocity                               NaN                  NaN   \n",
       "investigation discovery                NaN                  NaN   \n",
       "viceland                               NaN                  NaN   \n",
       "destination america                    NaN                  NaN   \n",
       "golf                                   NaN                  NaN   \n",
       "tennis                                 NaN                  NaN   \n",
       "cnbc world                       25.490000                  NaN   \n",
       "\n",
       "                          Percent of Spend  Percent Pur > Percent Spend  \n",
       "Exit Survey                                                              \n",
       "(blank)                                NaN                        False  \n",
       "aapka_colors                           NaN                        False  \n",
       "baby_first                             NaN                        False  \n",
       "bloomberg                         2.242951                        False  \n",
       "cbs_sports                             NaN                        False  \n",
       "cnbc                              2.926984                         True  \n",
       "cnn                               8.180369                         True  \n",
       "comedy_central                    3.387535                        False  \n",
       "cozi                                   NaN                        False  \n",
       "dateline                          6.904050                        False  \n",
       "dish_network                      1.369840                         True  \n",
       "diy                                    NaN                        False  \n",
       "espn                                   NaN                        False  \n",
       "fox_news                               NaN                        False  \n",
       "fox_sports                        1.923122                        False  \n",
       "fyi                                    NaN                        False  \n",
       "hgtv                                   NaN                        False  \n",
       "lifetime_movie_network                 NaN                        False  \n",
       "msnbc                             5.116601                         True  \n",
       "nfl_network                       2.444399                        False  \n",
       "one_america_news_network         11.260547                        False  \n",
       "oprah_winfrey_network                  NaN                        False  \n",
       "other                                  NaN                        False  \n",
       "science                           3.609688                        False  \n",
       "sony_entertainment_tv                  NaN                        False  \n",
       "spectrum_sports                   2.520023                        False  \n",
       "spike                                  NaN                        False  \n",
       "star_plus                         5.320054                        False  \n",
       "sundance_channel                       NaN                        False  \n",
       "television_food_network                NaN                        False  \n",
       "the_cooking_channel                    NaN                        False  \n",
       "the_history_channel               3.286851                        False  \n",
       "the_weather_channel               3.485739                        False  \n",
       "turner_network_tv                 2.314656                        False  \n",
       "willow_tv                        21.556743                         True  \n",
       "zeetv                            11.562778                        False  \n",
       "velocity                               NaN                        False  \n",
       "investigation discovery                NaN                        False  \n",
       "viceland                               NaN                        False  \n",
       "destination america                    NaN                        False  \n",
       "golf                                   NaN                        False  \n",
       "tennis                                 NaN                        False  \n",
       "cnbc world                        0.587070                        False  "
      ]
     },
     "execution_count": 39,
     "metadata": {},
     "output_type": "execute_result"
    }
   ],
   "source": [
    "overall_tbl['Conversion Rate'] = overall_tbl['Purchases'] / overall_tbl['Lift'] * 100\n",
    "overall_tbl['Cost Per Acquisition'] = overall_tbl['Spend'] / overall_tbl['Purchases']\n",
    "overall_tbl['Cost Per Visitor'] = overall_tbl['Spend'] / overall_tbl['Lift']\n",
    "overall_tbl['Percent of Purchases'] = overall_tbl['Purchases'] / sum(overall_tbl['Purchases'].fillna(0)) * 100\n",
    "overall_tbl['Percent of Spend'] = overall_tbl['Spend'] / sum(overall_tbl['Spend'].fillna(0)) * 100\n",
    "overall_tbl['Percent Pur > Percent Spend'] = overall_tbl['Percent of Purchases'] > overall_tbl['Percent of Spend']\n",
    "overall_tbl"
   ]
  },
  {
   "cell_type": "code",
   "execution_count": 40,
   "id": "333f8efd-8bc4-4e2a-89aa-3134f4f1d591",
   "metadata": {},
   "outputs": [
    {
     "data": {
      "text/plain": [
       "(43, 10)"
      ]
     },
     "execution_count": 40,
     "metadata": {},
     "output_type": "execute_result"
    }
   ],
   "source": [
    "overall_tbl.shape"
   ]
  },
  {
   "cell_type": "markdown",
   "id": "1f454f18-7548-439b-9d6a-4c2509c19e5d",
   "metadata": {},
   "source": [
    "## Done"
   ]
  },
  {
   "cell_type": "markdown",
   "id": "1698735a-9bd8-4f8d-a085-2d2474c410d8",
   "metadata": {},
   "source": [
    "# Grouped Metrics by Network and Month"
   ]
  },
  {
   "cell_type": "markdown",
   "id": "5b1bc2d5-f30e-4816-9840-ff1b92f5171e",
   "metadata": {},
   "source": [
    "## Purchase Data by Network and Month"
   ]
  },
  {
   "cell_type": "code",
   "execution_count": null,
   "id": "0d14cce1-59c4-4c19-bd74-86c7b697f01f",
   "metadata": {},
   "outputs": [],
   "source": [
    "purchase_data_by_month = purchase_data_transpose.groupby(pd.Grouper(freq='M')).agg('sum')\n",
    "purchase_data_by_month"
   ]
  },
  {
   "cell_type": "code",
   "execution_count": null,
   "id": "ab371aec-953c-4165-8479-ab785e228f35",
   "metadata": {},
   "outputs": [],
   "source": [
    "purchase_data_by_month = purchase_data_by_month.transpose()\n",
    "purchase_data_by_month = purchase_data_by_month.stack().to_frame()\n",
    "purchase_data_by_month.rename(columns={0:'Purchases'}, inplace=True)\n",
    "purchase_data_by_month = purchase_data_by_month.reset_index()\n",
    "purchase_data_by_month"
   ]
  },
  {
   "cell_type": "code",
   "execution_count": null,
   "id": "9d84aeea-10d4-47b2-8263-a64ed75a11c5",
   "metadata": {},
   "outputs": [],
   "source": [
    "purchase_data_by_month.shape"
   ]
  },
  {
   "cell_type": "markdown",
   "id": "b382e33e-0e0b-43e8-bc2b-e1fdad0ec2d6",
   "metadata": {},
   "source": [
    "## Airings Sheet"
   ]
  },
  {
   "cell_type": "code",
   "execution_count": null,
   "id": "95b8db1f-2ee3-49f7-8338-052731b88fd5",
   "metadata": {},
   "outputs": [],
   "source": [
    "airings_data.info()"
   ]
  },
  {
   "cell_type": "code",
   "execution_count": null,
   "id": "873b895e-00e7-4556-8b8d-b6286e2a48e0",
   "metadata": {},
   "outputs": [],
   "source": [
    "# airings_data.groupby([pd.Grouper(key='Date/Time ET', freq='M'), 'Network'])[['Spend', 'Lift']].agg('sum')"
   ]
  },
  {
   "cell_type": "markdown",
   "id": "e0a6ed52-48a6-40eb-a028-3528e1f67042",
   "metadata": {},
   "source": [
    "## Preparing Lookup Data for Join"
   ]
  },
  {
   "cell_type": "code",
   "execution_count": null,
   "id": "0db27ce1-3a7d-4964-92e5-1b08350bbe47",
   "metadata": {},
   "outputs": [],
   "source": [
    "lookup_data = lookup_data.drop('Exit Survey.1', axis=1)\n",
    "# lookup_data = lookup_data.set_index('Exit Survey')\n",
    "# lookup_data = lookup_data.rename_axis('Source')\n",
    "lookup_data"
   ]
  },
  {
   "cell_type": "code",
   "execution_count": null,
   "id": "3857ccf4-df2d-4e3f-bbb7-45156b1daefc",
   "metadata": {},
   "outputs": [],
   "source": [
    "lookup_data.shape"
   ]
  },
  {
   "cell_type": "markdown",
   "id": "fc10a862-73c5-4b9e-a729-a1319fecb91d",
   "metadata": {},
   "source": [
    "## Joining Purchases by network and month to Lookup Data"
   ]
  },
  {
   "cell_type": "code",
   "execution_count": null,
   "id": "3b244735-f6d0-470c-ad49-d6aa149106b8",
   "metadata": {},
   "outputs": [],
   "source": [
    "# joined_tbl = lookup_data[['Exit Survey', 'Airings']].merge(right=purchase_data_by_date, left_on='Exit Survey', right_on='Source', how='left')\n",
    "# #joined_tbl.drop(labels='Exit Survey', axis=1, inplace=True)\n",
    "# joined_tbl"
   ]
  },
  {
   "cell_type": "code",
   "execution_count": null,
   "id": "0ef06627-30a0-4e30-9754-2e03642485f3",
   "metadata": {},
   "outputs": [],
   "source": [
    "# purchase_grouped = purchase_data_by_month.join(lookup_data, how='right')\n",
    "# purchase_grouped"
   ]
  },
  {
   "cell_type": "code",
   "execution_count": null,
   "id": "f79b2417-65d6-411f-8e41-80b73e7fe102",
   "metadata": {},
   "outputs": [],
   "source": [
    "test = lookup_data.merge(right=purchase_data_by_month, left_on='Exit Survey', right_on='Source', how='left').set_index(['Exit Survey', 'date'])\n",
    "test"
   ]
  },
  {
   "cell_type": "code",
   "execution_count": null,
   "id": "f10040a2-c06d-46ca-b22b-c85d768d06d9",
   "metadata": {},
   "outputs": [],
   "source": [
    "print(test.to_string())"
   ]
  },
  {
   "cell_type": "code",
   "execution_count": null,
   "id": "5d859dfc-72ea-4a5d-929d-a0db5daacad4",
   "metadata": {},
   "outputs": [],
   "source": [
    "test.shape"
   ]
  },
  {
   "cell_type": "markdown",
   "id": "90c5a8c6-1f7d-40a1-8916-fef77880a340",
   "metadata": {},
   "source": [
    "## Spend and Lift by Network and Month"
   ]
  },
  {
   "cell_type": "code",
   "execution_count": null,
   "id": "3b1d3d5f-566d-499e-96b2-78389a551fee",
   "metadata": {},
   "outputs": [],
   "source": [
    "# NEED TO drop Network as an index and make a column, join with purchase_grouped and keep the \n",
    "airings_spend_lift_grouped = airings_data.groupby(['Network', pd.Grouper(key='Date/Time ET', freq='M')])[['Spend', 'Lift']].agg('sum')\n",
    "airings_spend_lift_grouped"
   ]
  },
  {
   "cell_type": "code",
   "execution_count": null,
   "id": "3bce1a42-3dc2-4721-a961-36a87d361307",
   "metadata": {},
   "outputs": [],
   "source": [
    "# airings_spend_lift_grouped.reset_index()"
   ]
  },
  {
   "cell_type": "code",
   "execution_count": null,
   "id": "e687cb3a-e445-4cb7-bebc-c27e611cd9fb",
   "metadata": {},
   "outputs": [],
   "source": [
    "# purchase_grouped.reset_index()"
   ]
  },
  {
   "cell_type": "markdown",
   "id": "13ebbd48-a751-4920-a8c1-3c02ee78b8b0",
   "metadata": {},
   "source": [
    "## Joining Purchases/Lookup to Spend and Lift by Network and Month"
   ]
  },
  {
   "cell_type": "code",
   "execution_count": null,
   "id": "3dafe29d-6aa8-4e86-a027-24d8ed605c7c",
   "metadata": {},
   "outputs": [],
   "source": [
    "month_and_network_grouped = purchase_grouped.reset_index().merge(right=airings_spend_lift_grouped.reset_index(), left_on=['Airings', 'date'], right_on=['Network', 'Date/Time ET'], how='left')\n",
    "month_and_network_grouped"
   ]
  },
  {
   "cell_type": "code",
   "execution_count": null,
   "id": "f9cf99dc-6f0f-47f4-9453-7e1e3ac9fd39",
   "metadata": {},
   "outputs": [],
   "source": [
    "month_and_network_grouped= month_and_network_grouped.set_index(['Source', 'date']).drop(labels=['Airings', 'Network', 'Date/Time ET'], axis=1)\n",
    "month_and_network_grouped"
   ]
  },
  {
   "cell_type": "code",
   "execution_count": null,
   "id": "70a80622-29da-44b1-a666-4029d85a6277",
   "metadata": {},
   "outputs": [],
   "source": [
    "month_and_network_grouped.shape"
   ]
  },
  {
   "cell_type": "code",
   "execution_count": null,
   "id": "79cffe61-8f2c-4c01-b6b8-947a9b8e0326",
   "metadata": {},
   "outputs": [],
   "source": []
  },
  {
   "cell_type": "code",
   "execution_count": null,
   "id": "15121994-649e-48f7-a94c-9a2ad47abab7",
   "metadata": {},
   "outputs": [],
   "source": []
  },
  {
   "cell_type": "code",
   "execution_count": null,
   "id": "10042117-db4c-4ce9-94e3-55b3214a0616",
   "metadata": {},
   "outputs": [],
   "source": []
  },
  {
   "cell_type": "code",
   "execution_count": null,
   "id": "0e3e71d1-53b1-4e7d-b301-6fbe222ff035",
   "metadata": {},
   "outputs": [],
   "source": []
  },
  {
   "cell_type": "code",
   "execution_count": null,
   "id": "cce37716-d3a6-4131-9901-6f15898a24a3",
   "metadata": {},
   "outputs": [],
   "source": [
    "airings_data.query('Network == \"FOOD\"')"
   ]
  },
  {
   "cell_type": "code",
   "execution_count": null,
   "id": "913b2c83-ac9c-4df8-bee7-dd4b0e5a15dc",
   "metadata": {},
   "outputs": [],
   "source": []
  },
  {
   "cell_type": "markdown",
   "id": "ab0b6332-c156-4b84-9554-c927c48cbb51",
   "metadata": {},
   "source": [
    "# What networks have purchases but no spend?"
   ]
  },
  {
   "cell_type": "code",
   "execution_count": null,
   "id": "d401a463-d636-498b-ba43-9d10ea082b56",
   "metadata": {},
   "outputs": [],
   "source": [
    "airings_data.query('Spend == 0')['Network'].value_counts()"
   ]
  },
  {
   "cell_type": "code",
   "execution_count": null,
   "id": "25083176-6a00-4fda-9933-0dcfa5f21bf1",
   "metadata": {},
   "outputs": [],
   "source": [
    "airings_data.groupby('Network')[['Spend', 'Lift']].agg('sum')"
   ]
  },
  {
   "cell_type": "code",
   "execution_count": null,
   "id": "50108b10-9f3d-4c34-b954-a410bc9cc4cf",
   "metadata": {},
   "outputs": [],
   "source": []
  }
 ],
 "metadata": {
  "jupytext": {
   "formats": "ipynb,auto:percent"
  },
  "kernelspec": {
   "display_name": "Python 3 (ipykernel)",
   "language": "python",
   "name": "python3"
  },
  "language_info": {
   "codemirror_mode": {
    "name": "ipython",
    "version": 3
   },
   "file_extension": ".py",
   "mimetype": "text/x-python",
   "name": "python",
   "nbconvert_exporter": "python",
   "pygments_lexer": "ipython3",
   "version": "3.9.10"
  }
 },
 "nbformat": 4,
 "nbformat_minor": 5
}
