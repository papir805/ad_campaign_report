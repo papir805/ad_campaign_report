{
 "cells": [
  {
   "cell_type": "markdown",
   "id": "9e6a47a3-f66a-47ee-aae1-03662201353d",
   "metadata": {},
   "source": [
    "# Start"
   ]
  },
  {
   "cell_type": "code",
   "execution_count": 1,
   "id": "3fd2be60-3d51-4df0-8b6d-b09f24d395c0",
   "metadata": {},
   "outputs": [],
   "source": [
    "import pandas as pd\n",
    "import numpy as np\n",
    "from datetime import datetime\n",
    "import seaborn as sns\n",
    "import matplotlib.pyplot as plt"
   ]
  },
  {
   "cell_type": "code",
   "execution_count": 2,
   "id": "2fb855c2-8fa4-4d01-babd-124a80af3aad",
   "metadata": {},
   "outputs": [],
   "source": [
    "purchase_data = pd.read_excel(\"./dataset.xlsx\", sheet_name='Purchase Exit Survey Data')\n",
    "airings_data = pd.read_excel(\"./dataset.xlsx\", sheet_name='Airings')\n",
    "\n",
    "# The first row of Lookup table says \"Lookup table for survey response field to airings network ticker symbol.\"  Assuming the first row always says that, we can drop it.\n",
    "lookup_data = pd.read_excel(\"./Analyst_dataset.xlsx\", sheet_name='Lookup', skiprows=1)"
   ]
  },
  {
   "cell_type": "markdown",
   "id": "5804936d-21e1-49f5-8347-19b48bd50abb",
   "metadata": {},
   "source": [
    "# Preprocessing"
   ]
  },
  {
   "cell_type": "code",
   "execution_count": 3,
   "id": "08ae9bed-025a-49b8-b538-14a2bef75eb4",
   "metadata": {},
   "outputs": [],
   "source": [
    "# Lookup data is meant to facilitate a join between the purchases data and the spend/lift data, but lookup data has a row will all null values, which doesn't help the join in any way.  I'll drop that row.\n",
    "lookup_data = lookup_data.dropna(how='all')\n",
    "\n",
    "# The Exit Survey column and Exit Survey.1 column are identical, so we can drop the duplicated column.\n",
    "lookup_data.drop(labels='Exit Survey.1', axis=1, inplace=True)"
   ]
  },
  {
   "cell_type": "code",
   "execution_count": 4,
   "id": "cef1597a-b1f4-4f80-b850-9875a7bee031",
   "metadata": {},
   "outputs": [],
   "source": [
    "# In order to make sure the joins happen correctly, we need to ensure that the strings we're joining on actually match.\n",
    "\n",
    "# The purchase data table is pretty messy, but if we assume the second column always contains the names of the networks, we can use .iloc to grab them and ensure they're lowercase \n",
    "\n",
    "lookup_data['Exit Survey'] = lookup_data['Exit Survey'].str.lower()\n",
    "lookup_data['Airings'] = lookup_data['Airings'].str.upper()\n",
    "airings_data['Network'] = airings_data['Network'].str.upper()\n",
    "purchase_data.iloc[:, 1] = purchase_data.iloc[:, 1].str.lower()"
   ]
  },
  {
   "cell_type": "markdown",
   "id": "3a223e39-88d8-4186-899e-28f6804a375e",
   "metadata": {},
   "source": [
    "# Transposing Purchase Exit Survey Data - Converting dates from columns to rows in Purchase Exit Survey Data\n",
    "\n",
    "The purchases table is extremely messy and would be easier to work with if the rows were dates and the columns were the networks.  If we assume that the first row will always have the year, the third row will always have month names, and the fourth row will always have the day numbers, I can programmatically concatenate all the necessary date information in the form \"Year-Month-Day\", then use them for the rows."
   ]
  },
  {
   "cell_type": "code",
   "execution_count": 5,
   "id": "96897330-0baf-4a17-b5e3-032c2f49115b",
   "metadata": {},
   "outputs": [
    {
     "data": {
      "text/plain": [
       "2017"
      ]
     },
     "execution_count": 5,
     "metadata": {},
     "output_type": "execute_result"
    }
   ],
   "source": [
    "current_year = purchase_data.iloc[0,:].dropna()\n",
    "current_year = int(current_year)\n",
    "current_year"
   ]
  },
  {
   "cell_type": "code",
   "execution_count": 6,
   "id": "4b55fce2-d190-4dfc-a9cf-90084d8bc73d",
   "metadata": {},
   "outputs": [
    {
     "data": {
      "text/plain": [
       "['September', 'October']"
      ]
     },
     "execution_count": 6,
     "metadata": {},
     "output_type": "execute_result"
    }
   ],
   "source": [
    "months = []\n",
    "for month in purchase_data.iloc[2,2:].dropna():\n",
    "    months.append(month)\n",
    "months"
   ]
  },
  {
   "cell_type": "code",
   "execution_count": 7,
   "id": "04201d4a-970b-44bc-bed3-d3583f1ecfb7",
   "metadata": {},
   "outputs": [],
   "source": [
    "# Grab the row of day numbers and cast as integers\n",
    "day_nums = np.array(purchase_data.iloc[3,2:], dtype=int)\n",
    "\n",
    "parsed_dates = []\n",
    "current_month = months[0]\n",
    "i = 0\n",
    "\n",
    "# Walk through the list of day_nums.  \n",
    "\n",
    "# If current_day_num > next_day_num, that indicates a change in month (ex: If current_day = Sept-30 and next_day = Oct-1, b/c 30 > 1).  When this happens, we concatenate the current_day, then increase i by 1 to set the current_month to the next month for furture concatenation.  \n",
    "\n",
    "# If current_day_num < next_day_num, that indicates both days are in the same month (ex: If current_day = Sept-5 and next_day = Sept-6, b/c 5 < 6), so we concatenate like normal.\n",
    "\n",
    "# The try block handles the exception when you get to the last day in day_nums.  Since there are no more days in the list, we get an error when we try to index into the list one day into the future.\n",
    "for count, current_day_num in enumerate(day_nums, start=1):\n",
    "    try:\n",
    "        next_day_num = day_nums[count]\n",
    "    except:\n",
    "        pass\n",
    "    if current_day_num > next_day_num:\n",
    "        current_date = str(current_year) + '-' + current_month + '-' + str(current_day_num)\n",
    "        current_date = datetime.strptime(current_date, '%Y-%B-%d').date()\n",
    "        i += 1\n",
    "        current_month = months[i]\n",
    "        parsed_dates.append(current_date)\n",
    "    else:\n",
    "        current_date = str(current_year) + '-' + current_month + '-' + str(current_day_num)\n",
    "        current_date = datetime.strptime(current_date, '%Y-%B-%d').date()\n",
    "        parsed_dates.append(current_date)\n",
    "\n",
    "# Now that all the dates have been parsed, we replace the unparsed dates with the parsed ones, then transpose the table.  We now have rows that correspond to dates and columns that correspond to networks\n",
    "purchase_data.iloc[3,2:] = parsed_dates\n",
    "purchase_data_transpose = purchase_data.iloc[3:,:].transpose()"
   ]
  },
  {
   "cell_type": "markdown",
   "id": "b78f2971-0eba-44c3-8a1c-8d3d49660b96",
   "metadata": {},
   "source": [
    "## Some Cleanup"
   ]
  },
  {
   "cell_type": "code",
   "execution_count": 8,
   "id": "4b205ebb-8b12-48f6-9e0e-534d1511e9f3",
   "metadata": {},
   "outputs": [],
   "source": [
    "# Set the column of dates as the index and rename the axis appropriately\n",
    "#purchase_data_transpose.index = purchase_data_transpose.iloc[:, 0]\n",
    "purchase_data_transpose.set_index(3, inplace=True)\n",
    "purchase_data_transpose.rename_axis('date', inplace=True)\n",
    "\n",
    "# Drop first row, which doesn't contain anything useful\n",
    "purchase_data_transpose = purchase_data_transpose.iloc[1:]\n",
    "\n",
    "# Replace column names with the row of network names and then drop that row\n",
    "purchase_data_transpose.columns = purchase_data_transpose.iloc[0]\n",
    "purchase_data_transpose = purchase_data_transpose.drop(labels='source')\n",
    "\n",
    "# Rename column axis as upper-case \"Source\" to match original table\n",
    "purchase_data_transpose.rename_axis('Source', axis='columns', inplace=True)\n",
    "\n",
    "# Convert index of dates to datetime objects\n",
    "purchase_data_transpose.index = pd.to_datetime(purchase_data_transpose.index)"
   ]
  },
  {
   "cell_type": "markdown",
   "id": "6046a65a-d398-4287-8719-2ce509d4fcfd",
   "metadata": {},
   "source": [
    "## Done"
   ]
  },
  {
   "cell_type": "markdown",
   "id": "3c9fa84e-e1c5-4a24-8353-6f194764b831",
   "metadata": {},
   "source": [
    "# Metrics by Network"
   ]
  },
  {
   "cell_type": "markdown",
   "id": "f00b68a2-4a76-48d2-ae75-1d2551c41eda",
   "metadata": {},
   "source": [
    "## Purchases by Network"
   ]
  },
  {
   "cell_type": "code",
   "execution_count": 9,
   "id": "966c6caf-bceb-4a77-a9a6-933088dae0bf",
   "metadata": {},
   "outputs": [],
   "source": [
    "purchases_by_network = purchase_data_transpose.sum(axis=0)\n",
    "purchases_by_network = purchases_by_network.to_frame()\n",
    "purchases_by_network = purchases_by_network.rename(columns={0:'Purchases'})"
   ]
  },
  {
   "cell_type": "markdown",
   "id": "08aeba17-5ca8-43c2-8e80-0057e995269b",
   "metadata": {},
   "source": [
    "## Spend and Lift by Network"
   ]
  },
  {
   "cell_type": "code",
   "execution_count": 10,
   "id": "b47b8230-e650-4602-bf8a-25e957dbf53c",
   "metadata": {},
   "outputs": [],
   "source": [
    "spend_and_lift_by_network = airings_data.groupby('Network')[['Spend', 'Lift']].agg('sum')"
   ]
  },
  {
   "cell_type": "markdown",
   "id": "601cd0c9-36bc-4e1d-b238-3402586c499b",
   "metadata": {},
   "source": [
    "## Joins"
   ]
  },
  {
   "cell_type": "markdown",
   "id": "9461665c-e7bd-4e7c-a0b5-dbcf26fc6e1b",
   "metadata": {},
   "source": [
    "### Joining Purchases by Network to Lookup Data"
   ]
  },
  {
   "cell_type": "code",
   "execution_count": 11,
   "id": "ea241d82-6ac7-4477-8fb3-df6b2900a244",
   "metadata": {},
   "outputs": [],
   "source": [
    "purchases_by_network_w_lookup = lookup_data.merge(right=purchases_by_network, left_on='Exit Survey', right_on='Source', how='left')\n",
    "purchases_by_network_w_lookup.set_index('Exit Survey', inplace=True)"
   ]
  },
  {
   "cell_type": "markdown",
   "id": "60f0961b-fada-4358-8c1d-d97a74d71a2d",
   "metadata": {
    "tags": []
   },
   "source": [
    "### Joining Purchases/Lookup by Network to Spend and Lift"
   ]
  },
  {
   "cell_type": "code",
   "execution_count": 12,
   "id": "4d46e4a8-3e00-46e4-af1f-fcc70ece6aec",
   "metadata": {},
   "outputs": [],
   "source": [
    "purchases_spend_lift_by_network = purchases_by_network_w_lookup.merge(right=spend_and_lift_by_network, left_on='Airings', right_index=True, how='left')\n",
    "\n",
    "# Since this column was only needed for the join, I'm going to drop it post join\n",
    "purchases_spend_lift_by_network.drop('Airings', axis=1, inplace=True)"
   ]
  },
  {
   "cell_type": "code",
   "execution_count": 13,
   "id": "cc65e922-aa8e-426b-b646-ff241ec2fb55",
   "metadata": {},
   "outputs": [],
   "source": [
    "purchases_spend_lift_by_network.index = purchases_spend_lift_by_network.index.str.replace('_', ' ').str.title()"
   ]
  },
  {
   "cell_type": "code",
   "execution_count": 14,
   "id": "939311cd-b2e9-4d44-b6bf-e1e560671386",
   "metadata": {},
   "outputs": [],
   "source": [
    "purchases_spend_lift_by_network.fillna(0, inplace=True)"
   ]
  },
  {
   "cell_type": "markdown",
   "id": "9e4a42b9-74df-4446-bb60-4996be96b246",
   "metadata": {},
   "source": [
    "## Computing Metrics by Network"
   ]
  },
  {
   "cell_type": "code",
   "execution_count": 15,
   "id": "0891498a-6a67-4f42-a5ba-859316a82914",
   "metadata": {},
   "outputs": [],
   "source": [
    "purchases_spend_lift_by_network['Conversion Rate (Purchases/Lift)%'] = purchases_spend_lift_by_network['Purchases'] / purchases_spend_lift_by_network['Lift'] * 100\n",
    "\n",
    "purchases_spend_lift_by_network['Cost Per Acquisition (Spend/Purchases)'] = purchases_spend_lift_by_network['Spend'] / purchases_spend_lift_by_network['Purchases'].fillna(0)\n",
    "\n",
    "purchases_spend_lift_by_network['Cost Per Visitor (Spend/Lift)'] = purchases_spend_lift_by_network['Spend'] / purchases_spend_lift_by_network['Lift'].fillna(0)\n",
    "\n",
    "purchases_spend_lift_by_network['Percent of Purchases'] = purchases_spend_lift_by_network['Purchases'] / sum(purchases_spend_lift_by_network['Purchases'].fillna(0)) * 100\n",
    "\n",
    "purchases_spend_lift_by_network['Percent of Spend'] = purchases_spend_lift_by_network['Spend'] / sum(purchases_spend_lift_by_network['Spend'].fillna(0)) * 100\n",
    "\n",
    "purchases_spend_lift_by_network['Percent Pur > Percent Spend'] = purchases_spend_lift_by_network['Percent of Purchases'] > purchases_spend_lift_by_network['Percent of Spend']"
   ]
  },
  {
   "cell_type": "markdown",
   "id": "f07c4ebd-49af-410d-b64e-cb0680383562",
   "metadata": {},
   "source": [
    "## Output results to CSV file"
   ]
  },
  {
   "cell_type": "code",
   "execution_count": 16,
   "id": "a6fd639b-ce56-4a8c-ae02-f4ffb6a8e198",
   "metadata": {},
   "outputs": [],
   "source": [
    "current_year_and_months = str(current_year) + '_' + '_'.join(str(month) for month in months)\n",
    "\n",
    "purchases_spend_lift_by_network.to_csv(F\"./cleaned_output/purchases_spend_lift_by_network_{current_year_and_months}.csv\")"
   ]
  },
  {
   "cell_type": "markdown",
   "id": "1f454f18-7548-439b-9d6a-4c2509c19e5d",
   "metadata": {},
   "source": [
    "## Done"
   ]
  },
  {
   "cell_type": "markdown",
   "id": "1698735a-9bd8-4f8d-a085-2d2474c410d8",
   "metadata": {},
   "source": [
    "# Metrics by Network and Month"
   ]
  },
  {
   "cell_type": "markdown",
   "id": "48790162-fe8e-4d21-aac0-ebd40ddb8646",
   "metadata": {},
   "source": [
    "## Creating a lookup table that has monthly date information through a Cross Join"
   ]
  },
  {
   "cell_type": "code",
   "execution_count": 17,
   "id": "f3e73bb2-ca6d-4fc5-8675-20753552fc21",
   "metadata": {
    "tags": []
   },
   "outputs": [],
   "source": [
    "# First we generate a series that has the monthly date information as the index, which we can grab\n",
    "month_stamps = purchase_data_transpose.groupby(pd.Grouper(freq='M')).sum().index.values\n",
    "\n",
    "# Then we convert the series to a DataFrame and add a key column, which will be used in the cross join.  Pandas doesn't have built in cross join functionality, so this will be used as a work around\n",
    "month_df = pd.DataFrame(data=month_stamps)\n",
    "month_df['key']=0\n",
    "\n",
    "# If we also add the same key to our lookup data, we'll be able to join the months in our spreadsheet to each row of the lookup table, and merge them together on that key, effectively creating a cross join\n",
    "lookup_data_with_key = lookup_data.copy()\n",
    "lookup_data_with_key['key'] = 0\n",
    "\n",
    "\n",
    "lookup_data_with_months = lookup_data_with_key.merge(month_df)\n",
    "lookup_data_with_months.rename(columns={0:'date'}, inplace=True)\n",
    "lookup_data_with_months.drop(columns='key', inplace=True)\n",
    "\n",
    "# Now we have a lookup table that has the appropriate dates for each month in the campaign for each channel"
   ]
  },
  {
   "cell_type": "markdown",
   "id": "020eda09-93aa-4649-b142-a2536cd254e1",
   "metadata": {},
   "source": [
    "## Aggregating Spend and Lift by Network and Month"
   ]
  },
  {
   "cell_type": "code",
   "execution_count": 18,
   "id": "430ef6cd-5264-47ce-8f88-ad7b3258445d",
   "metadata": {},
   "outputs": [],
   "source": [
    "spend_lift_by_network_and_month = airings_data.groupby(['Network', pd.Grouper(key='Date/Time ET', freq='M')]).sum().reset_index()"
   ]
  },
  {
   "cell_type": "markdown",
   "id": "9c63c9e0-b8ea-45f8-9a6f-f102638de711",
   "metadata": {},
   "source": [
    "## Aggregating Purchases by Network and Month"
   ]
  },
  {
   "cell_type": "code",
   "execution_count": 19,
   "id": "a7ea1b67-695a-4b92-8976-b89368b89cab",
   "metadata": {},
   "outputs": [],
   "source": [
    "purchases_by_network_and_month = purchase_data_transpose.groupby(pd.Grouper(freq='M')).sum().transpose().stack().to_frame().reset_index()\n",
    "\n",
    "purchases_by_network_and_month.rename(columns={0:'Purchases'}, inplace=True)"
   ]
  },
  {
   "cell_type": "markdown",
   "id": "1417bd1c-1bb6-41e3-b5ee-b83d689806a7",
   "metadata": {},
   "source": [
    "## Joins"
   ]
  },
  {
   "cell_type": "markdown",
   "id": "320fe117-a5f9-495e-9ad7-4c32dc9f994d",
   "metadata": {},
   "source": [
    "### Joining lookup_data_with_months to spend_lift_by_network_and_month"
   ]
  },
  {
   "cell_type": "code",
   "execution_count": 20,
   "id": "1546ee0a-484a-409d-8336-be242fda5fb2",
   "metadata": {},
   "outputs": [],
   "source": [
    "lookup_spend_lift_by_network_and_month = lookup_data_with_months.merge(spend_lift_by_network_and_month, left_on=['Airings', 'date'], right_on=['Network', 'Date/Time ET'], how='left')\n",
    "\n",
    "lookup_spend_lift_by_network_and_month.drop(columns=['Airings', 'Network', 'Date/Time ET'], inplace=True)"
   ]
  },
  {
   "cell_type": "markdown",
   "id": "86e40315-1cf9-4015-84d6-565c39479498",
   "metadata": {},
   "source": [
    "### Joining Spend and Lift to Purchases"
   ]
  },
  {
   "cell_type": "code",
   "execution_count": 21,
   "id": "0c7587c4-7045-4e1e-b588-206a29f2dc2e",
   "metadata": {},
   "outputs": [],
   "source": [
    "purchases_spend_lift_by_network_and_month = lookup_spend_lift_by_network_and_month.merge(purchases_by_network_and_month, left_on=['Exit Survey', 'date'], right_on=['Source', 'date'], how='left')\n",
    "\n",
    "purchases_spend_lift_by_network_and_month.drop(columns='Source', inplace=True)"
   ]
  },
  {
   "cell_type": "markdown",
   "id": "27d12893-2db9-4914-a647-a1e417cbfcda",
   "metadata": {},
   "source": [
    "## Cleanup"
   ]
  },
  {
   "cell_type": "code",
   "execution_count": 22,
   "id": "e641e5fb-ea7f-4dd5-b452-41af58fbfd02",
   "metadata": {},
   "outputs": [],
   "source": [
    "purchases_spend_lift_by_network_and_month['Exit Survey'] = purchases_spend_lift_by_network_and_month['Exit Survey'].str.replace('_', ' ').str.title()"
   ]
  },
  {
   "cell_type": "code",
   "execution_count": 23,
   "id": "c87b1a5b-9587-41c5-b432-d33eb6251c3e",
   "metadata": {},
   "outputs": [],
   "source": [
    "purchases_spend_lift_by_network_and_month.rename(columns={\"Exit Survey\": \"Exit Survey Source\"}, inplace=True)"
   ]
  },
  {
   "cell_type": "code",
   "execution_count": 24,
   "id": "de69bdb8-00c5-4a9c-bbc8-3443948912c3",
   "metadata": {},
   "outputs": [],
   "source": [
    "purchases_spend_lift_by_network_and_month = purchases_spend_lift_by_network_and_month.set_index(['Exit Survey Source', 'date'])"
   ]
  },
  {
   "cell_type": "code",
   "execution_count": 25,
   "id": "41b577a0-d522-4894-a9c6-e8c1891522ec",
   "metadata": {},
   "outputs": [],
   "source": [
    "purchases_spend_lift_by_network_and_month.fillna(0, inplace=True)"
   ]
  },
  {
   "cell_type": "code",
   "execution_count": 26,
   "id": "c93257ba-3be6-4509-841b-cbd0d0b72d71",
   "metadata": {},
   "outputs": [],
   "source": [
    "purchases_spend_lift_by_network_and_month = purchases_spend_lift_by_network_and_month[['Purchases', 'Spend', 'Lift']]"
   ]
  },
  {
   "cell_type": "markdown",
   "id": "11e21ee6-0bdc-4c44-8010-a6a683b0ef23",
   "metadata": {},
   "source": [
    "## Computing Metrics by Network and Month"
   ]
  },
  {
   "cell_type": "code",
   "execution_count": 27,
   "id": "b2035edc-9c62-496a-b9cc-68c3c8fb5851",
   "metadata": {},
   "outputs": [],
   "source": [
    "purchases_spend_lift_by_network_and_month['Conversion Rate (Purchases/Lift)%'] = purchases_spend_lift_by_network_and_month['Purchases'] / purchases_spend_lift_by_network_and_month['Lift'] * 100\n",
    "\n",
    "purchases_spend_lift_by_network_and_month['Cost Per Acquisition (Spend/Purchases)'] = purchases_spend_lift_by_network_and_month['Spend'] / purchases_spend_lift_by_network_and_month['Purchases']\n",
    "\n",
    "purchases_spend_lift_by_network_and_month['Cost Per Visitor (Spend/Lift)'] = purchases_spend_lift_by_network_and_month['Spend'] / purchases_spend_lift_by_network_and_month['Lift']\n",
    "\n",
    "purchases_spend_lift_by_network_and_month['Percent of Purchases'] = purchases_spend_lift_by_network_and_month['Purchases'] / sum(purchases_spend_lift_by_network_and_month['Purchases'].fillna(0)) * 100\n",
    "\n",
    "purchases_spend_lift_by_network_and_month['Percent of Spend'] = purchases_spend_lift_by_network_and_month['Spend'] / sum(purchases_spend_lift_by_network_and_month['Spend'].fillna(0)) * 100\n",
    "\n",
    "purchases_spend_lift_by_network_and_month['Percent Pur > Percent Spend'] = purchases_spend_lift_by_network_and_month['Percent of Purchases'] > purchases_spend_lift_by_network_and_month['Percent of Spend']"
   ]
  },
  {
   "cell_type": "code",
   "execution_count": 28,
   "id": "804c4798-898e-48fa-8aa3-c7045cdccbdc",
   "metadata": {},
   "outputs": [],
   "source": [
    "purchases_spend_lift_by_network_and_month = purchases_spend_lift_by_network_and_month.round({\"Purchases\":0, \"Spend\":2, \"Lift\":0, \"Conversion Rate (Purchases/Lift)%\":1, \"Cost Per Acquisition (Spend/Purchases)\":2, \"Cost Per Visitor (Spend/Lift)\":2})\n",
    "\n",
    "purchases_spend_lift_by_network_and_month[['Purchases', 'Lift']] = purchases_spend_lift_by_network_and_month[['Purchases', 'Lift']].astype(int)\n",
    "\n",
    "purchases_spend_lift_by_network_and_month = purchases_spend_lift_by_network_and_month.sort_values('Exit Survey Source')"
   ]
  },
  {
   "cell_type": "markdown",
   "id": "512c821f-ca10-4e32-b941-19185dfae99e",
   "metadata": {},
   "source": [
    "## Output results to CSV file"
   ]
  },
  {
   "cell_type": "code",
   "execution_count": 29,
   "id": "772c7c5f-2ad0-4d77-9b14-32c197cd7311",
   "metadata": {},
   "outputs": [],
   "source": [
    "purchases_spend_lift_by_network_and_month.to_csv(F\"./cleaned_output/purchases_spend_lift_by_network_and_month_{current_year_and_months}.csv\")"
   ]
  },
  {
   "cell_type": "markdown",
   "id": "6aedb5fe-c662-4f10-b317-018b833eafdf",
   "metadata": {},
   "source": [
    "## Done"
   ]
  },
  {
   "cell_type": "markdown",
   "id": "9e34230d-9f60-4a58-92cb-571268d19989",
   "metadata": {},
   "source": [
    "# Generating Reports"
   ]
  },
  {
   "cell_type": "markdown",
   "id": "e9f91072-c09a-4ed4-b28b-9daa5ba03f54",
   "metadata": {},
   "source": [
    "## Overall report by network"
   ]
  },
  {
   "cell_type": "code",
   "execution_count": 30,
   "id": "6dded851-f47a-4028-8672-d102d577eb6f",
   "metadata": {
    "tags": []
   },
   "outputs": [],
   "source": [
    "report_for_client = purchases_spend_lift_by_network.drop(['Percent of Purchases', 'Percent of Spend', 'Percent Pur > Percent Spend'], axis=1)\n",
    "\n",
    "report_for_client.query('Spend > 0', inplace=True)"
   ]
  },
  {
   "cell_type": "code",
   "execution_count": 31,
   "id": "b422a3d1-0196-4cda-8005-04b1b5b3685f",
   "metadata": {},
   "outputs": [],
   "source": [
    "report_for_client[['Purchases', 'Lift']] = report_for_client[['Purchases', 'Lift']].astype(int)\n",
    "\n",
    "report_for_client = report_for_client.round({\"Purchases\":0, \"Spend\":2, \"Lift\":0, \"Conversion Rate (Purchases/Lift)%\":1, \"Cost Per Acquisition (Spend/Purchases)\":2, \"Cost Per Visitor (Spend/Lift)\":2})\n",
    "\n",
    "\n",
    "report_for_client.rename_axis('Exit Survey Source', axis=0, inplace=True)\n",
    "\n",
    "report_for_client = report_for_client.sort_values('Exit Survey Source')"
   ]
  },
  {
   "cell_type": "markdown",
   "id": "12accfcb-39d1-481b-8ca9-ebd748fb47bd",
   "metadata": {},
   "source": [
    "## Monthly report by network"
   ]
  },
  {
   "cell_type": "code",
   "execution_count": 32,
   "id": "d6735ab8-5c04-40ff-befc-cd48caca83ca",
   "metadata": {},
   "outputs": [],
   "source": [
    "report_for_client_by_month = purchases_spend_lift_by_network_and_month.drop(['Percent of Purchases', 'Percent of Spend', 'Percent Pur > Percent Spend'], axis=1)"
   ]
  },
  {
   "cell_type": "code",
   "execution_count": 33,
   "id": "be91332a-0c2b-48a6-b78d-3775c59d4cf5",
   "metadata": {},
   "outputs": [],
   "source": [
    "report_for_client_by_month = report_for_client_by_month.round({\"Purchases\":0, \"Spend\":2, \"Lift\":0, \"Conversion Rate (Purchases/Lift)%\":1, \"Cost Per Acquisition (Spend/Purchases)\":2, \"Cost Per Visitor (Spend/Lift)\":2})\n",
    "\n",
    "report_for_client_by_month[['Purchases', 'Lift']] = report_for_client_by_month[['Purchases', 'Lift']].astype(int)"
   ]
  },
  {
   "cell_type": "code",
   "execution_count": 34,
   "id": "4c0ca808-f41f-4521-9879-693732aa0c21",
   "metadata": {},
   "outputs": [],
   "source": [
    "# This will ensure that both reports have the same channels.  Since we already filtered report_for_client to show only channels where there was spend, report_for_client_by_month will also also have those same channels.  \n",
    "report_for_client_by_month = report_for_client_by_month.loc[report_for_client.index]"
   ]
  },
  {
   "cell_type": "code",
   "execution_count": 35,
   "id": "503e1ab3-5dff-4dd7-a04e-4803eca174ca",
   "metadata": {},
   "outputs": [],
   "source": [
    "report_for_client_by_month.fillna(0, inplace=True)"
   ]
  },
  {
   "cell_type": "markdown",
   "id": "328ca75c-072b-4fa8-b23c-652b6ad5119d",
   "metadata": {},
   "source": [
    "# Viewing Report by Network"
   ]
  },
  {
   "cell_type": "code",
   "execution_count": 36,
   "id": "6f1e1789-16a7-4e8c-8438-18f578f80c6a",
   "metadata": {},
   "outputs": [
    {
     "data": {
      "text/html": [
       "<div>\n",
       "<style scoped>\n",
       "    .dataframe tbody tr th:only-of-type {\n",
       "        vertical-align: middle;\n",
       "    }\n",
       "\n",
       "    .dataframe tbody tr th {\n",
       "        vertical-align: top;\n",
       "    }\n",
       "\n",
       "    .dataframe thead th {\n",
       "        text-align: right;\n",
       "    }\n",
       "</style>\n",
       "<table border=\"1\" class=\"dataframe\">\n",
       "  <thead>\n",
       "    <tr style=\"text-align: right;\">\n",
       "      <th></th>\n",
       "      <th>Purchases</th>\n",
       "      <th>Spend</th>\n",
       "      <th>Lift</th>\n",
       "      <th>Conversion Rate (Purchases/Lift)%</th>\n",
       "      <th>Cost Per Acquisition (Spend/Purchases)</th>\n",
       "      <th>Cost Per Visitor (Spend/Lift)</th>\n",
       "    </tr>\n",
       "    <tr>\n",
       "      <th>Exit Survey Source</th>\n",
       "      <th></th>\n",
       "      <th></th>\n",
       "      <th></th>\n",
       "      <th></th>\n",
       "      <th></th>\n",
       "      <th></th>\n",
       "    </tr>\n",
       "  </thead>\n",
       "  <tbody>\n",
       "    <tr>\n",
       "      <th>Bloomberg</th>\n",
       "      <td>2</td>\n",
       "      <td>4966.72</td>\n",
       "      <td>199</td>\n",
       "      <td>1.0</td>\n",
       "      <td>2483.36</td>\n",
       "      <td>24.96</td>\n",
       "    </tr>\n",
       "    <tr>\n",
       "      <th>Cnbc</th>\n",
       "      <td>15</td>\n",
       "      <td>6481.42</td>\n",
       "      <td>406</td>\n",
       "      <td>3.7</td>\n",
       "      <td>432.09</td>\n",
       "      <td>15.96</td>\n",
       "    </tr>\n",
       "    <tr>\n",
       "      <th>Cnbc World</th>\n",
       "      <td>0</td>\n",
       "      <td>1299.99</td>\n",
       "      <td>51</td>\n",
       "      <td>0.0</td>\n",
       "      <td>inf</td>\n",
       "      <td>25.49</td>\n",
       "    </tr>\n",
       "    <tr>\n",
       "      <th>Cnn</th>\n",
       "      <td>23</td>\n",
       "      <td>18114.35</td>\n",
       "      <td>1081</td>\n",
       "      <td>2.1</td>\n",
       "      <td>787.58</td>\n",
       "      <td>16.76</td>\n",
       "    </tr>\n",
       "    <tr>\n",
       "      <th>Comedy Central</th>\n",
       "      <td>2</td>\n",
       "      <td>7501.25</td>\n",
       "      <td>108</td>\n",
       "      <td>1.9</td>\n",
       "      <td>3750.62</td>\n",
       "      <td>69.46</td>\n",
       "    </tr>\n",
       "    <tr>\n",
       "      <th>Dateline</th>\n",
       "      <td>10</td>\n",
       "      <td>15288.11</td>\n",
       "      <td>862</td>\n",
       "      <td>1.2</td>\n",
       "      <td>1528.81</td>\n",
       "      <td>17.74</td>\n",
       "    </tr>\n",
       "    <tr>\n",
       "      <th>Dish Network</th>\n",
       "      <td>5</td>\n",
       "      <td>3033.33</td>\n",
       "      <td>1092</td>\n",
       "      <td>0.5</td>\n",
       "      <td>606.67</td>\n",
       "      <td>2.78</td>\n",
       "    </tr>\n",
       "    <tr>\n",
       "      <th>Fox Sports</th>\n",
       "      <td>2</td>\n",
       "      <td>4258.50</td>\n",
       "      <td>183</td>\n",
       "      <td>1.1</td>\n",
       "      <td>2129.25</td>\n",
       "      <td>23.27</td>\n",
       "    </tr>\n",
       "    <tr>\n",
       "      <th>Msnbc</th>\n",
       "      <td>16</td>\n",
       "      <td>11330.04</td>\n",
       "      <td>1123</td>\n",
       "      <td>1.4</td>\n",
       "      <td>708.13</td>\n",
       "      <td>10.09</td>\n",
       "    </tr>\n",
       "    <tr>\n",
       "      <th>Nfl Network</th>\n",
       "      <td>3</td>\n",
       "      <td>5412.80</td>\n",
       "      <td>200</td>\n",
       "      <td>1.5</td>\n",
       "      <td>1804.27</td>\n",
       "      <td>27.06</td>\n",
       "    </tr>\n",
       "    <tr>\n",
       "      <th>One America News Network</th>\n",
       "      <td>16</td>\n",
       "      <td>24935.00</td>\n",
       "      <td>2372</td>\n",
       "      <td>0.7</td>\n",
       "      <td>1558.44</td>\n",
       "      <td>10.51</td>\n",
       "    </tr>\n",
       "    <tr>\n",
       "      <th>Science</th>\n",
       "      <td>4</td>\n",
       "      <td>7993.18</td>\n",
       "      <td>132</td>\n",
       "      <td>3.0</td>\n",
       "      <td>1998.30</td>\n",
       "      <td>60.55</td>\n",
       "    </tr>\n",
       "    <tr>\n",
       "      <th>Spectrum Sports</th>\n",
       "      <td>3</td>\n",
       "      <td>5580.26</td>\n",
       "      <td>220</td>\n",
       "      <td>1.4</td>\n",
       "      <td>1860.09</td>\n",
       "      <td>25.36</td>\n",
       "    </tr>\n",
       "    <tr>\n",
       "      <th>Star Plus</th>\n",
       "      <td>4</td>\n",
       "      <td>11780.56</td>\n",
       "      <td>1783</td>\n",
       "      <td>0.2</td>\n",
       "      <td>2945.14</td>\n",
       "      <td>6.61</td>\n",
       "    </tr>\n",
       "    <tr>\n",
       "      <th>The History Channel</th>\n",
       "      <td>5</td>\n",
       "      <td>7278.30</td>\n",
       "      <td>330</td>\n",
       "      <td>1.5</td>\n",
       "      <td>1455.66</td>\n",
       "      <td>22.06</td>\n",
       "    </tr>\n",
       "    <tr>\n",
       "      <th>The Weather Channel</th>\n",
       "      <td>0</td>\n",
       "      <td>7718.71</td>\n",
       "      <td>211</td>\n",
       "      <td>0.0</td>\n",
       "      <td>inf</td>\n",
       "      <td>36.58</td>\n",
       "    </tr>\n",
       "    <tr>\n",
       "      <th>Turner Network Tv</th>\n",
       "      <td>4</td>\n",
       "      <td>5125.50</td>\n",
       "      <td>179</td>\n",
       "      <td>2.2</td>\n",
       "      <td>1281.38</td>\n",
       "      <td>28.63</td>\n",
       "    </tr>\n",
       "    <tr>\n",
       "      <th>Willow Tv</th>\n",
       "      <td>56</td>\n",
       "      <td>47734.57</td>\n",
       "      <td>8214</td>\n",
       "      <td>0.7</td>\n",
       "      <td>852.40</td>\n",
       "      <td>5.81</td>\n",
       "    </tr>\n",
       "    <tr>\n",
       "      <th>Zeetv</th>\n",
       "      <td>5</td>\n",
       "      <td>25604.25</td>\n",
       "      <td>1741</td>\n",
       "      <td>0.3</td>\n",
       "      <td>5120.85</td>\n",
       "      <td>14.71</td>\n",
       "    </tr>\n",
       "  </tbody>\n",
       "</table>\n",
       "</div>"
      ],
      "text/plain": [
       "                          Purchases     Spend  Lift  \\\n",
       "Exit Survey Source                                    \n",
       "Bloomberg                         2   4966.72   199   \n",
       "Cnbc                             15   6481.42   406   \n",
       "Cnbc World                        0   1299.99    51   \n",
       "Cnn                              23  18114.35  1081   \n",
       "Comedy Central                    2   7501.25   108   \n",
       "Dateline                         10  15288.11   862   \n",
       "Dish Network                      5   3033.33  1092   \n",
       "Fox Sports                        2   4258.50   183   \n",
       "Msnbc                            16  11330.04  1123   \n",
       "Nfl Network                       3   5412.80   200   \n",
       "One America News Network         16  24935.00  2372   \n",
       "Science                           4   7993.18   132   \n",
       "Spectrum Sports                   3   5580.26   220   \n",
       "Star Plus                         4  11780.56  1783   \n",
       "The History Channel               5   7278.30   330   \n",
       "The Weather Channel               0   7718.71   211   \n",
       "Turner Network Tv                 4   5125.50   179   \n",
       "Willow Tv                        56  47734.57  8214   \n",
       "Zeetv                             5  25604.25  1741   \n",
       "\n",
       "                          Conversion Rate (Purchases/Lift)%  \\\n",
       "Exit Survey Source                                            \n",
       "Bloomberg                                               1.0   \n",
       "Cnbc                                                    3.7   \n",
       "Cnbc World                                              0.0   \n",
       "Cnn                                                     2.1   \n",
       "Comedy Central                                          1.9   \n",
       "Dateline                                                1.2   \n",
       "Dish Network                                            0.5   \n",
       "Fox Sports                                              1.1   \n",
       "Msnbc                                                   1.4   \n",
       "Nfl Network                                             1.5   \n",
       "One America News Network                                0.7   \n",
       "Science                                                 3.0   \n",
       "Spectrum Sports                                         1.4   \n",
       "Star Plus                                               0.2   \n",
       "The History Channel                                     1.5   \n",
       "The Weather Channel                                     0.0   \n",
       "Turner Network Tv                                       2.2   \n",
       "Willow Tv                                               0.7   \n",
       "Zeetv                                                   0.3   \n",
       "\n",
       "                          Cost Per Acquisition (Spend/Purchases)  \\\n",
       "Exit Survey Source                                                 \n",
       "Bloomberg                                                2483.36   \n",
       "Cnbc                                                      432.09   \n",
       "Cnbc World                                                   inf   \n",
       "Cnn                                                       787.58   \n",
       "Comedy Central                                           3750.62   \n",
       "Dateline                                                 1528.81   \n",
       "Dish Network                                              606.67   \n",
       "Fox Sports                                               2129.25   \n",
       "Msnbc                                                     708.13   \n",
       "Nfl Network                                              1804.27   \n",
       "One America News Network                                 1558.44   \n",
       "Science                                                  1998.30   \n",
       "Spectrum Sports                                          1860.09   \n",
       "Star Plus                                                2945.14   \n",
       "The History Channel                                      1455.66   \n",
       "The Weather Channel                                          inf   \n",
       "Turner Network Tv                                        1281.38   \n",
       "Willow Tv                                                 852.40   \n",
       "Zeetv                                                    5120.85   \n",
       "\n",
       "                          Cost Per Visitor (Spend/Lift)  \n",
       "Exit Survey Source                                       \n",
       "Bloomberg                                         24.96  \n",
       "Cnbc                                              15.96  \n",
       "Cnbc World                                        25.49  \n",
       "Cnn                                               16.76  \n",
       "Comedy Central                                    69.46  \n",
       "Dateline                                          17.74  \n",
       "Dish Network                                       2.78  \n",
       "Fox Sports                                        23.27  \n",
       "Msnbc                                             10.09  \n",
       "Nfl Network                                       27.06  \n",
       "One America News Network                          10.51  \n",
       "Science                                           60.55  \n",
       "Spectrum Sports                                   25.36  \n",
       "Star Plus                                          6.61  \n",
       "The History Channel                               22.06  \n",
       "The Weather Channel                               36.58  \n",
       "Turner Network Tv                                 28.63  \n",
       "Willow Tv                                          5.81  \n",
       "Zeetv                                             14.71  "
      ]
     },
     "execution_count": 36,
     "metadata": {},
     "output_type": "execute_result"
    }
   ],
   "source": [
    "report_for_client"
   ]
  },
  {
   "cell_type": "markdown",
   "id": "2dc92472-3cba-40d5-8904-725de563c102",
   "metadata": {},
   "source": [
    "# Viewing Report by Network and Month"
   ]
  },
  {
   "cell_type": "code",
   "execution_count": 37,
   "id": "e4db81af-446f-40f6-85c6-4fc209b17ce1",
   "metadata": {},
   "outputs": [
    {
     "data": {
      "text/html": [
       "<div>\n",
       "<style scoped>\n",
       "    .dataframe tbody tr th:only-of-type {\n",
       "        vertical-align: middle;\n",
       "    }\n",
       "\n",
       "    .dataframe tbody tr th {\n",
       "        vertical-align: top;\n",
       "    }\n",
       "\n",
       "    .dataframe thead th {\n",
       "        text-align: right;\n",
       "    }\n",
       "</style>\n",
       "<table border=\"1\" class=\"dataframe\">\n",
       "  <thead>\n",
       "    <tr style=\"text-align: right;\">\n",
       "      <th></th>\n",
       "      <th></th>\n",
       "      <th>Purchases</th>\n",
       "      <th>Spend</th>\n",
       "      <th>Lift</th>\n",
       "      <th>Conversion Rate (Purchases/Lift)%</th>\n",
       "      <th>Cost Per Acquisition (Spend/Purchases)</th>\n",
       "      <th>Cost Per Visitor (Spend/Lift)</th>\n",
       "    </tr>\n",
       "    <tr>\n",
       "      <th>Exit Survey Source</th>\n",
       "      <th>date</th>\n",
       "      <th></th>\n",
       "      <th></th>\n",
       "      <th></th>\n",
       "      <th></th>\n",
       "      <th></th>\n",
       "      <th></th>\n",
       "    </tr>\n",
       "  </thead>\n",
       "  <tbody>\n",
       "    <tr>\n",
       "      <th rowspan=\"2\" valign=\"top\">Bloomberg</th>\n",
       "      <th>2017-09-30</th>\n",
       "      <td>1</td>\n",
       "      <td>4966.72</td>\n",
       "      <td>199</td>\n",
       "      <td>0.5</td>\n",
       "      <td>4966.72</td>\n",
       "      <td>24.96</td>\n",
       "    </tr>\n",
       "    <tr>\n",
       "      <th>2017-10-31</th>\n",
       "      <td>1</td>\n",
       "      <td>0.00</td>\n",
       "      <td>0</td>\n",
       "      <td>inf</td>\n",
       "      <td>0.00</td>\n",
       "      <td>0.00</td>\n",
       "    </tr>\n",
       "    <tr>\n",
       "      <th rowspan=\"2\" valign=\"top\">Cnbc</th>\n",
       "      <th>2017-09-30</th>\n",
       "      <td>5</td>\n",
       "      <td>6481.42</td>\n",
       "      <td>406</td>\n",
       "      <td>1.2</td>\n",
       "      <td>1296.28</td>\n",
       "      <td>15.96</td>\n",
       "    </tr>\n",
       "    <tr>\n",
       "      <th>2017-10-31</th>\n",
       "      <td>10</td>\n",
       "      <td>0.00</td>\n",
       "      <td>0</td>\n",
       "      <td>inf</td>\n",
       "      <td>0.00</td>\n",
       "      <td>0.00</td>\n",
       "    </tr>\n",
       "    <tr>\n",
       "      <th rowspan=\"2\" valign=\"top\">Cnbc World</th>\n",
       "      <th>2017-09-30</th>\n",
       "      <td>0</td>\n",
       "      <td>0.00</td>\n",
       "      <td>0</td>\n",
       "      <td>0.0</td>\n",
       "      <td>0.00</td>\n",
       "      <td>0.00</td>\n",
       "    </tr>\n",
       "    <tr>\n",
       "      <th>2017-10-31</th>\n",
       "      <td>0</td>\n",
       "      <td>1299.99</td>\n",
       "      <td>51</td>\n",
       "      <td>0.0</td>\n",
       "      <td>inf</td>\n",
       "      <td>25.49</td>\n",
       "    </tr>\n",
       "    <tr>\n",
       "      <th rowspan=\"2\" valign=\"top\">Cnn</th>\n",
       "      <th>2017-10-31</th>\n",
       "      <td>10</td>\n",
       "      <td>8954.75</td>\n",
       "      <td>574</td>\n",
       "      <td>1.7</td>\n",
       "      <td>895.48</td>\n",
       "      <td>15.60</td>\n",
       "    </tr>\n",
       "    <tr>\n",
       "      <th>2017-09-30</th>\n",
       "      <td>13</td>\n",
       "      <td>9159.60</td>\n",
       "      <td>507</td>\n",
       "      <td>2.6</td>\n",
       "      <td>704.58</td>\n",
       "      <td>18.07</td>\n",
       "    </tr>\n",
       "    <tr>\n",
       "      <th rowspan=\"2\" valign=\"top\">Comedy Central</th>\n",
       "      <th>2017-09-30</th>\n",
       "      <td>0</td>\n",
       "      <td>0.00</td>\n",
       "      <td>0</td>\n",
       "      <td>0.0</td>\n",
       "      <td>0.00</td>\n",
       "      <td>0.00</td>\n",
       "    </tr>\n",
       "    <tr>\n",
       "      <th>2017-10-31</th>\n",
       "      <td>2</td>\n",
       "      <td>7501.25</td>\n",
       "      <td>108</td>\n",
       "      <td>1.9</td>\n",
       "      <td>3750.62</td>\n",
       "      <td>69.46</td>\n",
       "    </tr>\n",
       "    <tr>\n",
       "      <th rowspan=\"2\" valign=\"top\">Dateline</th>\n",
       "      <th>2017-09-30</th>\n",
       "      <td>0</td>\n",
       "      <td>4211.62</td>\n",
       "      <td>252</td>\n",
       "      <td>0.0</td>\n",
       "      <td>inf</td>\n",
       "      <td>16.71</td>\n",
       "    </tr>\n",
       "    <tr>\n",
       "      <th>2017-10-31</th>\n",
       "      <td>10</td>\n",
       "      <td>11076.49</td>\n",
       "      <td>610</td>\n",
       "      <td>1.6</td>\n",
       "      <td>1107.65</td>\n",
       "      <td>18.16</td>\n",
       "    </tr>\n",
       "    <tr>\n",
       "      <th rowspan=\"2\" valign=\"top\">Dish Network</th>\n",
       "      <th>2017-09-30</th>\n",
       "      <td>4</td>\n",
       "      <td>2513.09</td>\n",
       "      <td>976</td>\n",
       "      <td>0.4</td>\n",
       "      <td>628.27</td>\n",
       "      <td>2.57</td>\n",
       "    </tr>\n",
       "    <tr>\n",
       "      <th>2017-10-31</th>\n",
       "      <td>1</td>\n",
       "      <td>520.24</td>\n",
       "      <td>116</td>\n",
       "      <td>0.9</td>\n",
       "      <td>520.24</td>\n",
       "      <td>4.48</td>\n",
       "    </tr>\n",
       "    <tr>\n",
       "      <th rowspan=\"2\" valign=\"top\">Fox Sports</th>\n",
       "      <th>2017-09-30</th>\n",
       "      <td>1</td>\n",
       "      <td>4258.50</td>\n",
       "      <td>183</td>\n",
       "      <td>0.5</td>\n",
       "      <td>4258.50</td>\n",
       "      <td>23.27</td>\n",
       "    </tr>\n",
       "    <tr>\n",
       "      <th>2017-10-31</th>\n",
       "      <td>1</td>\n",
       "      <td>0.00</td>\n",
       "      <td>0</td>\n",
       "      <td>inf</td>\n",
       "      <td>0.00</td>\n",
       "      <td>0.00</td>\n",
       "    </tr>\n",
       "    <tr>\n",
       "      <th rowspan=\"2\" valign=\"top\">Msnbc</th>\n",
       "      <th>2017-09-30</th>\n",
       "      <td>10</td>\n",
       "      <td>8091.15</td>\n",
       "      <td>701</td>\n",
       "      <td>1.4</td>\n",
       "      <td>809.12</td>\n",
       "      <td>11.54</td>\n",
       "    </tr>\n",
       "    <tr>\n",
       "      <th>2017-10-31</th>\n",
       "      <td>6</td>\n",
       "      <td>3238.89</td>\n",
       "      <td>422</td>\n",
       "      <td>1.4</td>\n",
       "      <td>539.81</td>\n",
       "      <td>7.68</td>\n",
       "    </tr>\n",
       "    <tr>\n",
       "      <th rowspan=\"2\" valign=\"top\">Nfl Network</th>\n",
       "      <th>2017-09-30</th>\n",
       "      <td>2</td>\n",
       "      <td>5412.80</td>\n",
       "      <td>200</td>\n",
       "      <td>1.0</td>\n",
       "      <td>2706.40</td>\n",
       "      <td>27.06</td>\n",
       "    </tr>\n",
       "    <tr>\n",
       "      <th>2017-10-31</th>\n",
       "      <td>1</td>\n",
       "      <td>0.00</td>\n",
       "      <td>0</td>\n",
       "      <td>inf</td>\n",
       "      <td>0.00</td>\n",
       "      <td>0.00</td>\n",
       "    </tr>\n",
       "    <tr>\n",
       "      <th rowspan=\"2\" valign=\"top\">One America News Network</th>\n",
       "      <th>2017-09-30</th>\n",
       "      <td>2</td>\n",
       "      <td>4966.80</td>\n",
       "      <td>648</td>\n",
       "      <td>0.3</td>\n",
       "      <td>2483.40</td>\n",
       "      <td>7.66</td>\n",
       "    </tr>\n",
       "    <tr>\n",
       "      <th>2017-10-31</th>\n",
       "      <td>14</td>\n",
       "      <td>19968.20</td>\n",
       "      <td>1724</td>\n",
       "      <td>0.8</td>\n",
       "      <td>1426.30</td>\n",
       "      <td>11.58</td>\n",
       "    </tr>\n",
       "    <tr>\n",
       "      <th rowspan=\"2\" valign=\"top\">Science</th>\n",
       "      <th>2017-09-30</th>\n",
       "      <td>1</td>\n",
       "      <td>7993.18</td>\n",
       "      <td>132</td>\n",
       "      <td>0.8</td>\n",
       "      <td>7993.18</td>\n",
       "      <td>60.55</td>\n",
       "    </tr>\n",
       "    <tr>\n",
       "      <th>2017-10-31</th>\n",
       "      <td>3</td>\n",
       "      <td>0.00</td>\n",
       "      <td>0</td>\n",
       "      <td>inf</td>\n",
       "      <td>0.00</td>\n",
       "      <td>0.00</td>\n",
       "    </tr>\n",
       "    <tr>\n",
       "      <th rowspan=\"2\" valign=\"top\">Spectrum Sports</th>\n",
       "      <th>2017-09-30</th>\n",
       "      <td>2</td>\n",
       "      <td>5580.26</td>\n",
       "      <td>220</td>\n",
       "      <td>0.9</td>\n",
       "      <td>2790.13</td>\n",
       "      <td>25.36</td>\n",
       "    </tr>\n",
       "    <tr>\n",
       "      <th>2017-10-31</th>\n",
       "      <td>1</td>\n",
       "      <td>0.00</td>\n",
       "      <td>0</td>\n",
       "      <td>inf</td>\n",
       "      <td>0.00</td>\n",
       "      <td>0.00</td>\n",
       "    </tr>\n",
       "    <tr>\n",
       "      <th rowspan=\"2\" valign=\"top\">Star Plus</th>\n",
       "      <th>2017-10-31</th>\n",
       "      <td>2</td>\n",
       "      <td>8338.98</td>\n",
       "      <td>1221</td>\n",
       "      <td>0.2</td>\n",
       "      <td>4169.49</td>\n",
       "      <td>6.83</td>\n",
       "    </tr>\n",
       "    <tr>\n",
       "      <th>2017-09-30</th>\n",
       "      <td>2</td>\n",
       "      <td>3441.58</td>\n",
       "      <td>562</td>\n",
       "      <td>0.4</td>\n",
       "      <td>1720.79</td>\n",
       "      <td>6.12</td>\n",
       "    </tr>\n",
       "    <tr>\n",
       "      <th rowspan=\"2\" valign=\"top\">The History Channel</th>\n",
       "      <th>2017-10-31</th>\n",
       "      <td>1</td>\n",
       "      <td>1500.00</td>\n",
       "      <td>77</td>\n",
       "      <td>1.3</td>\n",
       "      <td>1500.00</td>\n",
       "      <td>19.48</td>\n",
       "    </tr>\n",
       "    <tr>\n",
       "      <th>2017-09-30</th>\n",
       "      <td>4</td>\n",
       "      <td>5778.30</td>\n",
       "      <td>253</td>\n",
       "      <td>1.6</td>\n",
       "      <td>1444.58</td>\n",
       "      <td>22.84</td>\n",
       "    </tr>\n",
       "    <tr>\n",
       "      <th rowspan=\"2\" valign=\"top\">The Weather Channel</th>\n",
       "      <th>2017-10-31</th>\n",
       "      <td>0</td>\n",
       "      <td>7718.71</td>\n",
       "      <td>211</td>\n",
       "      <td>0.0</td>\n",
       "      <td>inf</td>\n",
       "      <td>36.58</td>\n",
       "    </tr>\n",
       "    <tr>\n",
       "      <th>2017-09-30</th>\n",
       "      <td>0</td>\n",
       "      <td>0.00</td>\n",
       "      <td>0</td>\n",
       "      <td>0.0</td>\n",
       "      <td>0.00</td>\n",
       "      <td>0.00</td>\n",
       "    </tr>\n",
       "    <tr>\n",
       "      <th rowspan=\"2\" valign=\"top\">Turner Network Tv</th>\n",
       "      <th>2017-09-30</th>\n",
       "      <td>2</td>\n",
       "      <td>5125.50</td>\n",
       "      <td>179</td>\n",
       "      <td>1.1</td>\n",
       "      <td>2562.75</td>\n",
       "      <td>28.63</td>\n",
       "    </tr>\n",
       "    <tr>\n",
       "      <th>2017-10-31</th>\n",
       "      <td>2</td>\n",
       "      <td>0.00</td>\n",
       "      <td>0</td>\n",
       "      <td>inf</td>\n",
       "      <td>0.00</td>\n",
       "      <td>0.00</td>\n",
       "    </tr>\n",
       "    <tr>\n",
       "      <th rowspan=\"2\" valign=\"top\">Willow Tv</th>\n",
       "      <th>2017-10-31</th>\n",
       "      <td>29</td>\n",
       "      <td>27961.08</td>\n",
       "      <td>5076</td>\n",
       "      <td>0.6</td>\n",
       "      <td>964.18</td>\n",
       "      <td>5.51</td>\n",
       "    </tr>\n",
       "    <tr>\n",
       "      <th>2017-09-30</th>\n",
       "      <td>27</td>\n",
       "      <td>19773.49</td>\n",
       "      <td>3138</td>\n",
       "      <td>0.9</td>\n",
       "      <td>732.35</td>\n",
       "      <td>6.30</td>\n",
       "    </tr>\n",
       "    <tr>\n",
       "      <th rowspan=\"2\" valign=\"top\">Zeetv</th>\n",
       "      <th>2017-10-31</th>\n",
       "      <td>3</td>\n",
       "      <td>15429.12</td>\n",
       "      <td>819</td>\n",
       "      <td>0.4</td>\n",
       "      <td>5143.04</td>\n",
       "      <td>18.84</td>\n",
       "    </tr>\n",
       "    <tr>\n",
       "      <th>2017-09-30</th>\n",
       "      <td>2</td>\n",
       "      <td>10175.13</td>\n",
       "      <td>922</td>\n",
       "      <td>0.2</td>\n",
       "      <td>5087.56</td>\n",
       "      <td>11.04</td>\n",
       "    </tr>\n",
       "  </tbody>\n",
       "</table>\n",
       "</div>"
      ],
      "text/plain": [
       "                                     Purchases     Spend  Lift  \\\n",
       "Exit Survey Source       date                                    \n",
       "Bloomberg                2017-09-30          1   4966.72   199   \n",
       "                         2017-10-31          1      0.00     0   \n",
       "Cnbc                     2017-09-30          5   6481.42   406   \n",
       "                         2017-10-31         10      0.00     0   \n",
       "Cnbc World               2017-09-30          0      0.00     0   \n",
       "                         2017-10-31          0   1299.99    51   \n",
       "Cnn                      2017-10-31         10   8954.75   574   \n",
       "                         2017-09-30         13   9159.60   507   \n",
       "Comedy Central           2017-09-30          0      0.00     0   \n",
       "                         2017-10-31          2   7501.25   108   \n",
       "Dateline                 2017-09-30          0   4211.62   252   \n",
       "                         2017-10-31         10  11076.49   610   \n",
       "Dish Network             2017-09-30          4   2513.09   976   \n",
       "                         2017-10-31          1    520.24   116   \n",
       "Fox Sports               2017-09-30          1   4258.50   183   \n",
       "                         2017-10-31          1      0.00     0   \n",
       "Msnbc                    2017-09-30         10   8091.15   701   \n",
       "                         2017-10-31          6   3238.89   422   \n",
       "Nfl Network              2017-09-30          2   5412.80   200   \n",
       "                         2017-10-31          1      0.00     0   \n",
       "One America News Network 2017-09-30          2   4966.80   648   \n",
       "                         2017-10-31         14  19968.20  1724   \n",
       "Science                  2017-09-30          1   7993.18   132   \n",
       "                         2017-10-31          3      0.00     0   \n",
       "Spectrum Sports          2017-09-30          2   5580.26   220   \n",
       "                         2017-10-31          1      0.00     0   \n",
       "Star Plus                2017-10-31          2   8338.98  1221   \n",
       "                         2017-09-30          2   3441.58   562   \n",
       "The History Channel      2017-10-31          1   1500.00    77   \n",
       "                         2017-09-30          4   5778.30   253   \n",
       "The Weather Channel      2017-10-31          0   7718.71   211   \n",
       "                         2017-09-30          0      0.00     0   \n",
       "Turner Network Tv        2017-09-30          2   5125.50   179   \n",
       "                         2017-10-31          2      0.00     0   \n",
       "Willow Tv                2017-10-31         29  27961.08  5076   \n",
       "                         2017-09-30         27  19773.49  3138   \n",
       "Zeetv                    2017-10-31          3  15429.12   819   \n",
       "                         2017-09-30          2  10175.13   922   \n",
       "\n",
       "                                     Conversion Rate (Purchases/Lift)%  \\\n",
       "Exit Survey Source       date                                            \n",
       "Bloomberg                2017-09-30                                0.5   \n",
       "                         2017-10-31                                inf   \n",
       "Cnbc                     2017-09-30                                1.2   \n",
       "                         2017-10-31                                inf   \n",
       "Cnbc World               2017-09-30                                0.0   \n",
       "                         2017-10-31                                0.0   \n",
       "Cnn                      2017-10-31                                1.7   \n",
       "                         2017-09-30                                2.6   \n",
       "Comedy Central           2017-09-30                                0.0   \n",
       "                         2017-10-31                                1.9   \n",
       "Dateline                 2017-09-30                                0.0   \n",
       "                         2017-10-31                                1.6   \n",
       "Dish Network             2017-09-30                                0.4   \n",
       "                         2017-10-31                                0.9   \n",
       "Fox Sports               2017-09-30                                0.5   \n",
       "                         2017-10-31                                inf   \n",
       "Msnbc                    2017-09-30                                1.4   \n",
       "                         2017-10-31                                1.4   \n",
       "Nfl Network              2017-09-30                                1.0   \n",
       "                         2017-10-31                                inf   \n",
       "One America News Network 2017-09-30                                0.3   \n",
       "                         2017-10-31                                0.8   \n",
       "Science                  2017-09-30                                0.8   \n",
       "                         2017-10-31                                inf   \n",
       "Spectrum Sports          2017-09-30                                0.9   \n",
       "                         2017-10-31                                inf   \n",
       "Star Plus                2017-10-31                                0.2   \n",
       "                         2017-09-30                                0.4   \n",
       "The History Channel      2017-10-31                                1.3   \n",
       "                         2017-09-30                                1.6   \n",
       "The Weather Channel      2017-10-31                                0.0   \n",
       "                         2017-09-30                                0.0   \n",
       "Turner Network Tv        2017-09-30                                1.1   \n",
       "                         2017-10-31                                inf   \n",
       "Willow Tv                2017-10-31                                0.6   \n",
       "                         2017-09-30                                0.9   \n",
       "Zeetv                    2017-10-31                                0.4   \n",
       "                         2017-09-30                                0.2   \n",
       "\n",
       "                                     Cost Per Acquisition (Spend/Purchases)  \\\n",
       "Exit Survey Source       date                                                 \n",
       "Bloomberg                2017-09-30                                 4966.72   \n",
       "                         2017-10-31                                    0.00   \n",
       "Cnbc                     2017-09-30                                 1296.28   \n",
       "                         2017-10-31                                    0.00   \n",
       "Cnbc World               2017-09-30                                    0.00   \n",
       "                         2017-10-31                                     inf   \n",
       "Cnn                      2017-10-31                                  895.48   \n",
       "                         2017-09-30                                  704.58   \n",
       "Comedy Central           2017-09-30                                    0.00   \n",
       "                         2017-10-31                                 3750.62   \n",
       "Dateline                 2017-09-30                                     inf   \n",
       "                         2017-10-31                                 1107.65   \n",
       "Dish Network             2017-09-30                                  628.27   \n",
       "                         2017-10-31                                  520.24   \n",
       "Fox Sports               2017-09-30                                 4258.50   \n",
       "                         2017-10-31                                    0.00   \n",
       "Msnbc                    2017-09-30                                  809.12   \n",
       "                         2017-10-31                                  539.81   \n",
       "Nfl Network              2017-09-30                                 2706.40   \n",
       "                         2017-10-31                                    0.00   \n",
       "One America News Network 2017-09-30                                 2483.40   \n",
       "                         2017-10-31                                 1426.30   \n",
       "Science                  2017-09-30                                 7993.18   \n",
       "                         2017-10-31                                    0.00   \n",
       "Spectrum Sports          2017-09-30                                 2790.13   \n",
       "                         2017-10-31                                    0.00   \n",
       "Star Plus                2017-10-31                                 4169.49   \n",
       "                         2017-09-30                                 1720.79   \n",
       "The History Channel      2017-10-31                                 1500.00   \n",
       "                         2017-09-30                                 1444.58   \n",
       "The Weather Channel      2017-10-31                                     inf   \n",
       "                         2017-09-30                                    0.00   \n",
       "Turner Network Tv        2017-09-30                                 2562.75   \n",
       "                         2017-10-31                                    0.00   \n",
       "Willow Tv                2017-10-31                                  964.18   \n",
       "                         2017-09-30                                  732.35   \n",
       "Zeetv                    2017-10-31                                 5143.04   \n",
       "                         2017-09-30                                 5087.56   \n",
       "\n",
       "                                     Cost Per Visitor (Spend/Lift)  \n",
       "Exit Survey Source       date                                       \n",
       "Bloomberg                2017-09-30                          24.96  \n",
       "                         2017-10-31                           0.00  \n",
       "Cnbc                     2017-09-30                          15.96  \n",
       "                         2017-10-31                           0.00  \n",
       "Cnbc World               2017-09-30                           0.00  \n",
       "                         2017-10-31                          25.49  \n",
       "Cnn                      2017-10-31                          15.60  \n",
       "                         2017-09-30                          18.07  \n",
       "Comedy Central           2017-09-30                           0.00  \n",
       "                         2017-10-31                          69.46  \n",
       "Dateline                 2017-09-30                          16.71  \n",
       "                         2017-10-31                          18.16  \n",
       "Dish Network             2017-09-30                           2.57  \n",
       "                         2017-10-31                           4.48  \n",
       "Fox Sports               2017-09-30                          23.27  \n",
       "                         2017-10-31                           0.00  \n",
       "Msnbc                    2017-09-30                          11.54  \n",
       "                         2017-10-31                           7.68  \n",
       "Nfl Network              2017-09-30                          27.06  \n",
       "                         2017-10-31                           0.00  \n",
       "One America News Network 2017-09-30                           7.66  \n",
       "                         2017-10-31                          11.58  \n",
       "Science                  2017-09-30                          60.55  \n",
       "                         2017-10-31                           0.00  \n",
       "Spectrum Sports          2017-09-30                          25.36  \n",
       "                         2017-10-31                           0.00  \n",
       "Star Plus                2017-10-31                           6.83  \n",
       "                         2017-09-30                           6.12  \n",
       "The History Channel      2017-10-31                          19.48  \n",
       "                         2017-09-30                          22.84  \n",
       "The Weather Channel      2017-10-31                          36.58  \n",
       "                         2017-09-30                           0.00  \n",
       "Turner Network Tv        2017-09-30                          28.63  \n",
       "                         2017-10-31                           0.00  \n",
       "Willow Tv                2017-10-31                           5.51  \n",
       "                         2017-09-30                           6.30  \n",
       "Zeetv                    2017-10-31                          18.84  \n",
       "                         2017-09-30                          11.04  "
      ]
     },
     "execution_count": 37,
     "metadata": {},
     "output_type": "execute_result"
    }
   ],
   "source": [
    "report_for_client_by_month"
   ]
  },
  {
   "cell_type": "markdown",
   "id": "9ba4355f-09aa-417c-bcee-3cd4b464ea21",
   "metadata": {},
   "source": [
    "## Report of channels where Spend = 0"
   ]
  },
  {
   "cell_type": "code",
   "execution_count": 38,
   "id": "3a23d56c-3f4c-407a-b46b-38f38afbe6d1",
   "metadata": {},
   "outputs": [],
   "source": [
    "channels_no_spend = purchases_spend_lift_by_network.query('Spend == 0')['Purchases'].to_frame()\n",
    "\n",
    "channels_no_spend.sort_values(by='Purchases', ascending=False, inplace=True)"
   ]
  },
  {
   "cell_type": "code",
   "execution_count": 39,
   "id": "1d78dedd-efde-4505-b771-234fb929f96d",
   "metadata": {},
   "outputs": [
    {
     "data": {
      "text/html": [
       "<div>\n",
       "<style scoped>\n",
       "    .dataframe tbody tr th:only-of-type {\n",
       "        vertical-align: middle;\n",
       "    }\n",
       "\n",
       "    .dataframe tbody tr th {\n",
       "        vertical-align: top;\n",
       "    }\n",
       "\n",
       "    .dataframe thead th {\n",
       "        text-align: right;\n",
       "    }\n",
       "</style>\n",
       "<table border=\"1\" class=\"dataframe\">\n",
       "  <thead>\n",
       "    <tr style=\"text-align: right;\">\n",
       "      <th></th>\n",
       "      <th>Purchases</th>\n",
       "    </tr>\n",
       "    <tr>\n",
       "      <th>Exit Survey</th>\n",
       "      <th></th>\n",
       "    </tr>\n",
       "  </thead>\n",
       "  <tbody>\n",
       "    <tr>\n",
       "      <th>(Blank)</th>\n",
       "      <td>3.0</td>\n",
       "    </tr>\n",
       "    <tr>\n",
       "      <th>Aapka Colors</th>\n",
       "      <td>6.0</td>\n",
       "    </tr>\n",
       "    <tr>\n",
       "      <th>Baby First</th>\n",
       "      <td>1.0</td>\n",
       "    </tr>\n",
       "    <tr>\n",
       "      <th>Cbs Sports</th>\n",
       "      <td>1.0</td>\n",
       "    </tr>\n",
       "    <tr>\n",
       "      <th>Cozi</th>\n",
       "      <td>0.0</td>\n",
       "    </tr>\n",
       "    <tr>\n",
       "      <th>Destination America</th>\n",
       "      <td>0.0</td>\n",
       "    </tr>\n",
       "    <tr>\n",
       "      <th>Diy</th>\n",
       "      <td>2.0</td>\n",
       "    </tr>\n",
       "    <tr>\n",
       "      <th>Espn</th>\n",
       "      <td>4.0</td>\n",
       "    </tr>\n",
       "    <tr>\n",
       "      <th>Fox News</th>\n",
       "      <td>14.0</td>\n",
       "    </tr>\n",
       "    <tr>\n",
       "      <th>Fyi</th>\n",
       "      <td>2.0</td>\n",
       "    </tr>\n",
       "    <tr>\n",
       "      <th>Golf</th>\n",
       "      <td>0.0</td>\n",
       "    </tr>\n",
       "    <tr>\n",
       "      <th>Hgtv</th>\n",
       "      <td>6.0</td>\n",
       "    </tr>\n",
       "    <tr>\n",
       "      <th>Investigation Discovery</th>\n",
       "      <td>0.0</td>\n",
       "    </tr>\n",
       "    <tr>\n",
       "      <th>Lifetime Movie Network</th>\n",
       "      <td>0.0</td>\n",
       "    </tr>\n",
       "    <tr>\n",
       "      <th>Oprah Winfrey Network</th>\n",
       "      <td>1.0</td>\n",
       "    </tr>\n",
       "    <tr>\n",
       "      <th>Other</th>\n",
       "      <td>13.0</td>\n",
       "    </tr>\n",
       "    <tr>\n",
       "      <th>Sony Entertainment Tv</th>\n",
       "      <td>4.0</td>\n",
       "    </tr>\n",
       "    <tr>\n",
       "      <th>Spike</th>\n",
       "      <td>0.0</td>\n",
       "    </tr>\n",
       "    <tr>\n",
       "      <th>Sundance Channel</th>\n",
       "      <td>0.0</td>\n",
       "    </tr>\n",
       "    <tr>\n",
       "      <th>Television Food Network</th>\n",
       "      <td>4.0</td>\n",
       "    </tr>\n",
       "    <tr>\n",
       "      <th>Tennis</th>\n",
       "      <td>0.0</td>\n",
       "    </tr>\n",
       "    <tr>\n",
       "      <th>The Cooking Channel</th>\n",
       "      <td>0.0</td>\n",
       "    </tr>\n",
       "    <tr>\n",
       "      <th>Velocity</th>\n",
       "      <td>0.0</td>\n",
       "    </tr>\n",
       "    <tr>\n",
       "      <th>Viceland</th>\n",
       "      <td>0.0</td>\n",
       "    </tr>\n",
       "  </tbody>\n",
       "</table>\n",
       "</div>"
      ],
      "text/plain": [
       "                         Purchases\n",
       "Exit Survey                       \n",
       "(Blank)                        3.0\n",
       "Aapka Colors                   6.0\n",
       "Baby First                     1.0\n",
       "Cbs Sports                     1.0\n",
       "Cozi                           0.0\n",
       "Destination America            0.0\n",
       "Diy                            2.0\n",
       "Espn                           4.0\n",
       "Fox News                      14.0\n",
       "Fyi                            2.0\n",
       "Golf                           0.0\n",
       "Hgtv                           6.0\n",
       "Investigation Discovery        0.0\n",
       "Lifetime Movie Network         0.0\n",
       "Oprah Winfrey Network          1.0\n",
       "Other                         13.0\n",
       "Sony Entertainment Tv          4.0\n",
       "Spike                          0.0\n",
       "Sundance Channel               0.0\n",
       "Television Food Network        4.0\n",
       "Tennis                         0.0\n",
       "The Cooking Channel            0.0\n",
       "Velocity                       0.0\n",
       "Viceland                       0.0"
      ]
     },
     "execution_count": 39,
     "metadata": {},
     "output_type": "execute_result"
    }
   ],
   "source": [
    "purchases_spend_lift_by_network.query('Spend == 0')['Purchases'].to_frame().sort_index()"
   ]
  },
  {
   "cell_type": "markdown",
   "id": "87b8e3aa-d017-44af-a69b-32db2d3321b7",
   "metadata": {},
   "source": [
    "## Exporting Results to PDF Files"
   ]
  },
  {
   "cell_type": "code",
   "execution_count": 40,
   "id": "6579835b-2591-4558-9827-587b3d319936",
   "metadata": {},
   "outputs": [
    {
     "data": {
      "text/plain": [
       "True"
      ]
     },
     "execution_count": 40,
     "metadata": {},
     "output_type": "execute_result"
    }
   ],
   "source": [
    "import pdfkit\n",
    "\n",
    "f = open('./reports_output/html/report_for_client.html','w')\n",
    "a = report_for_client.to_html(col_space='100px')\n",
    "f.write(a)\n",
    "f.close()\n",
    "\n",
    "pdfkit.from_file('./reports_output/html/report_for_client.html', './reports_output/pdfs/report_for_client.pdf')"
   ]
  },
  {
   "cell_type": "code",
   "execution_count": 41,
   "id": "72281760-f28e-4d68-bbe4-7d39fd508c28",
   "metadata": {},
   "outputs": [
    {
     "data": {
      "text/plain": [
       "True"
      ]
     },
     "execution_count": 41,
     "metadata": {},
     "output_type": "execute_result"
    }
   ],
   "source": [
    "f = open('./reports_output/html/report_for_client_by_month.html','w')\n",
    "a = report_for_client_by_month.to_html(col_space='100px')\n",
    "f.write(a)\n",
    "f.close()\n",
    "\n",
    "pdfkit.from_file('./reports_output/html/report_for_client_by_month.html', './reports_output/pdfs/report_for_client_by_month.pdf')"
   ]
  },
  {
   "cell_type": "code",
   "execution_count": 42,
   "id": "4ebb132d-d8a6-4d01-ac09-0d5db2afb6c9",
   "metadata": {},
   "outputs": [
    {
     "data": {
      "text/plain": [
       "True"
      ]
     },
     "execution_count": 42,
     "metadata": {},
     "output_type": "execute_result"
    }
   ],
   "source": [
    "f = open('./reports_output/html/report_channels_no_spend.html','w')\n",
    "a = channels_no_spend.to_html(col_space='100px')\n",
    "f.write(a)\n",
    "f.close()\n",
    "\n",
    "pdfkit.from_file('./reports_output/html/report_channels_no_spend.html', './reports_output/pdfs/report_channels_no_spend.pdf')"
   ]
  },
  {
   "cell_type": "markdown",
   "id": "ea796be5-6f49-48e7-9ea8-c032df5d46b4",
   "metadata": {},
   "source": [
    "# Presentation "
   ]
  },
  {
   "cell_type": "markdown",
   "id": "dbce54c9-f477-473e-ad62-b2f36a842bc6",
   "metadata": {},
   "source": [
    "## How much does it cost to acquire a customer through TV?\n",
    "* Overall Cost Per Acquisition\n",
    "* Overall Cost Per Visitor\n",
    "* Overall Conversion Rate"
   ]
  },
  {
   "cell_type": "code",
   "execution_count": 43,
   "id": "f2fc1ded-6136-462f-aac6-e0227ea093cf",
   "metadata": {},
   "outputs": [
    {
     "name": "stdout",
     "output_type": "stream",
     "text": [
      "If we only consider purchases from channels where spend > 0\n",
      "------------------------------------------------------------\n",
      "The overall cost per acquisition was: $1265.35\n",
      "The overall cost per visitor was: $10.81\n",
      "The overall conversion rate was: 0.9%\n",
      "\n",
      "\n",
      "If we consider all purchases from channels, even if spend = 0\n",
      "------------------------------------------------------------\n",
      "The overall cost per acquisition was: $938.29\n",
      "The overall conversion rate was: 1.2%\n"
     ]
    }
   ],
   "source": [
    "# Where spend > 0\n",
    "total_spend = report_for_client['Spend'].sum()\n",
    "total_purchases_from_spend = report_for_client['Purchases'].sum()\n",
    "total_lift = report_for_client['Lift'].sum()\n",
    "\n",
    "overall_cost_per_acquisition = total_spend / total_purchases_from_spend\n",
    "overall_cost_per_visitor = total_spend / total_lift\n",
    "overall_conversion_rate = total_purchases_from_spend / total_lift * 100\n",
    "\n",
    "# Any purchases, including where spend = 0\n",
    "total_purchases_from_campaign = purchase_data_transpose.sum().sum()\n",
    "\n",
    "cost_per_acquisition_any_spend = total_spend / total_purchases_from_campaign\n",
    "conversion_rate_any_spend = total_purchases_from_campaign / total_lift * 100\n",
    "\n",
    "print(\"If we only consider purchases from channels where spend > 0\")\n",
    "print('-'*60)\n",
    "print(F\"The overall cost per acquisition was: ${overall_cost_per_acquisition:.2f}\")\n",
    "print(F\"The overall cost per visitor was: ${overall_cost_per_visitor:.2f}\")\n",
    "print(F\"The overall conversion rate was: {overall_conversion_rate:.1f}%\")\n",
    "print()\n",
    "print()\n",
    "print(\"If we consider all purchases from channels, even if spend = 0\")\n",
    "print('-'*60)\n",
    "print(F\"The overall cost per acquisition was: ${cost_per_acquisition_any_spend:.2f}\")\n",
    "print(F\"The overall conversion rate was: {conversion_rate_any_spend:.1f}%\")"
   ]
  },
  {
   "cell_type": "markdown",
   "id": "2c36e0b5-34fe-44fe-ae1a-f6122865cd5b",
   "metadata": {},
   "source": [
    "## Cost Efficiency Metrics"
   ]
  },
  {
   "cell_type": "markdown",
   "id": "c6df7790-19c1-4368-8171-fe07cd13dbf5",
   "metadata": {},
   "source": [
    "### Heatmaps"
   ]
  },
  {
   "cell_type": "markdown",
   "id": "b075f36d-2fbe-4f25-8ba0-f243a1c8436e",
   "metadata": {},
   "source": [
    "#### Plotting Function - make_heatmap()"
   ]
  },
  {
   "cell_type": "code",
   "execution_count": 44,
   "id": "9eba502b-b00b-4b44-945c-b1c57bdb0bd8",
   "metadata": {},
   "outputs": [],
   "source": [
    "def make_heatmap(df, field, color_map, top_labels, bottom_labels, rounding=\".0f\", cutoff_value=False, asc=False, annotate_horizontal=True, hide_y_label=False):\n",
    "\n",
    "    import matplotlib.pyplot as plt\n",
    "    import seaborn as sns\n",
    "    \n",
    "    # # Get cutoff_value isn't supplied, we use the mean as the cutoff_value\n",
    "    if cutoff_value==False:\n",
    "        cutoff_value = df[field].mean()\n",
    "    \n",
    "    \n",
    "    # Sort purchases High to Low\n",
    "    sorted_values = df[[field]].sort_values(by=field, ascending=asc)\n",
    "    \n",
    "    # Find index of channel that has a field value >= field_mean.  This is used to draw horizontal line in heatmap later.\n",
    "    if asc == False:\n",
    "        horizontal_y_val = sorted_values[sorted_values[field] > cutoff_value].shape[0]\n",
    "    else:\n",
    "        horizontal_y_val = sorted_values[sorted_values[field] < cutoff_value].shape[0]\n",
    "\n",
    "    # Create labels for y_ticks.  Keep top and bottom 5 labels, replace middle labels\n",
    "    # with empty string.\n",
    "    labels_list = []\n",
    "    for count, label in enumerate(sorted_values.index):\n",
    "        #print(count, label)\n",
    "        if count<5 or count>len(sorted_values.index)-6:\n",
    "            labels_list.append(label)\n",
    "        else:\n",
    "            labels_list.append('')\n",
    "    \n",
    "    # # This part is needed if you want to get the values of Purchases to change the annotations (Annot) in the heatmap.  This keeps the top and bottom 5 values, but replaces the middle values with np.nan.  You can pass top_and_bottom_values to the sns.heatmap Annot arg to only annotate the top and bottom 5 values.\n",
    "\n",
    "    # top_and_bottom_values = []\n",
    "    # for i, boolean in enumerate(top_and_bottom_mask[field]):\n",
    "    #     if boolean == True:\n",
    "    #         purchases = sorted_values.iloc[i, 0]\n",
    "    #         top_and_bottom_values.append(purchases)\n",
    "    #         top_and_bottom_labels.append(top_and_bottom_mask.index.values[i])\n",
    "    #     else:\n",
    "    #         top_and_bottom_values.append(np.nan)\n",
    "\n",
    "    \n",
    "    # Unfortunately we need to hard code the names of the channels that are among the top and bottom 5 of Purchases, Spend, and Lift, b/c grabbing them programmatically is a little hard\n",
    "    top_5_channels = top_labels\n",
    "    bottom_5_channels = bottom_labels\n",
    "\n",
    "\n",
    "    fig, ax = plt.subplots(1,1,figsize=(2,10))\n",
    "\n",
    "\n",
    "    ## the last two entries for Cost Per Acquisition are np.inf and can't be plotted, so we remove them\n",
    "    if field == 'Cost Per Acquisition (Spend/Purchases)':\n",
    "        sorted_values = df[[field]].sort_values(by=field, ascending=True)[:-2]\n",
    "    \n",
    "    # Create masks\n",
    "    if asc==False:\n",
    "        \n",
    "        mask1 = sorted_values>=sorted_values[field][4]\n",
    "        ## Bottom 5 mask\n",
    "        mask2 = sorted_values<=sorted_values[field][-5]\n",
    "    else:\n",
    "        ## Top 5 mask\n",
    "        mask1 = sorted_values>=sorted_values[field][-5]\n",
    "        ## Bottom 5 mask\n",
    "        mask2 = sorted_values<=sorted_values[field][4]\n",
    "\n",
    "    top_and_bottom_mask = mask1 | mask2\n",
    "    middle_mask = ~top_and_bottom_mask\n",
    "    \n",
    "    #print(middle_mask)\n",
    "    \n",
    "    sns.heatmap(data=sorted_values,\n",
    "                mask=middle_mask,\n",
    "                annot=True, \n",
    "                cmap=color_map, \n",
    "                fmt='g',\n",
    "                cbar=True,\n",
    "                #annot_kws={\"weight\": \"bold\"},\n",
    "                #yticklabels=purchase_labels_w_alert,\n",
    "                ax=ax);\n",
    "\n",
    "\n",
    "    sns.heatmap(data=sorted_values,\n",
    "                # mask=top_and_bottom_mask,\n",
    "                #annot=True, \n",
    "                cmap=color_map, \n",
    "                fmt='g',\n",
    "                cbar = False,\n",
    "                yticklabels=labels_list,\n",
    "                ax=ax)\n",
    "\n",
    "    yticks=plt.gca().get_yticklabels()\n",
    "\n",
    "    for text in yticks:\n",
    "        if text.get_text() in top_5_channels:\n",
    "            text.set_weight('bold')\n",
    "            text.set_color('green')\n",
    "            #print('\\u26A0 ' + text.get_text())\n",
    "            #text.set_text('\\u26A0 ' + text.get_text())\n",
    "        if text.get_text() in bottom_5_channels:\n",
    "            text.set_weight('bold')\n",
    "            text.set_color('red')\n",
    "            \n",
    "    rewrite_txt_dict = {\"Cost Per Visitor (Spend/Lift)\":\"Cost Per Visitor\",\n",
    "                        \"Cost Per Acquisition (Spend/Purchases)\":\"Cost Per Acquisition\",\n",
    "                        \"Conversion Rate (Purchases/Lift)%\":\"Conversion Rate\"}        \n",
    "    \n",
    "    if field in rewrite_txt_dict.keys():\n",
    "        field = rewrite_txt_dict[field]\n",
    "    \n",
    "    y=plt.gca().get_yticks()\n",
    "    ax.tick_params(axis='y', left=False)\n",
    "    \n",
    "    if annotate_horizontal==True:\n",
    "        ax.axhline(horizontal_y_val, linestyle=':', color='blue')\n",
    "        text = ax.annotate(text=F'Avg {field} {format(cutoff_value, rounding)}:', xy=(0, horizontal_y_val), xytext=(-10, -5), textcoords='offset pixels', ha='right', color='#2596be')\n",
    "        # import matplotlib.patheffects as pe\n",
    "        # text.set_path_effects(path_effects=[pe.withStroke(linewidth=0.8, foreground='black'), pe.Normal()])\n",
    "\n",
    "    if hide_y_label:\n",
    "        plt.ylabel('')\n",
    "    plt.show();"
   ]
  },
  {
   "cell_type": "markdown",
   "id": "61d15946-d33f-4d55-a423-5b1164859e28",
   "metadata": {},
   "source": [
    "##### Attempt at make_heatmap2() and make_multiple_heatmaps() to plot multiple heatmaps at once"
   ]
  },
  {
   "cell_type": "code",
   "execution_count": 45,
   "id": "fc50af84-ff7a-4f12-8902-eca7f615d5a3",
   "metadata": {},
   "outputs": [],
   "source": [
    "def make_heatmap2(df, field, color_map, ax_to_plot_on, hide_y_label=False):\n",
    "\n",
    "    import matplotlib.pyplot as plt\n",
    "    import seaborn as sns\n",
    "    \n",
    "    # Get mean of values\n",
    "    field_mean = df[field].mean()\n",
    "    \n",
    "    # Sort purchases High to Low\n",
    "    sorted_values = df[[field]].sort_values(by=field, ascending=False)\n",
    "    \n",
    "    # Find index of channel that has a field value >= field_mean.  This is used to draw horizontal line in heatmap later.\n",
    "    horizontal_y_val = sorted_values[sorted_values[field] > field_mean].shape[0]\n",
    "    \n",
    "    # Create masks\n",
    "\n",
    "    ## Top 5 purchases mask\n",
    "    mask1 = sorted_values>=sorted_values[field][4]\n",
    "    ## Bottom 5 purchases mask\n",
    "    mask2 = sorted_values<=sorted_values[field][-5]\n",
    "\n",
    "    top_and_bottom_mask = mask1 | mask2\n",
    "    middle_mask = ~top_and_bottom_mask\n",
    "\n",
    "    # Create labels for y_ticks.  Keep top and bottom 5 labels, replace middle labels\n",
    "    # with empty string.\n",
    "    labels_list = []\n",
    "    for count, label in enumerate(sorted_values.index):\n",
    "        #print(count, label)\n",
    "        if count<5 or count>len(sorted_values.index)-6:\n",
    "            labels_list.append(label)\n",
    "        else:\n",
    "            labels_list.append('')\n",
    "\n",
    "    # # This part is needed if you want to get the values of Purchases to change the annotations (Annot) in the heatmap.  This keeps the top and bottom 5 values, but replaces the middle values with np.nan.  You can pass top_and_bottom_values to the sns.heatmap Annot arg to only annotate the top and bottom 5 values.\n",
    "\n",
    "    # top_and_bottom_values = []\n",
    "    # for i, boolean in enumerate(top_and_bottom_mask[field]):\n",
    "    #     if boolean == True:\n",
    "    #         purchases = sorted_values.iloc[i, 0]\n",
    "    #         top_and_bottom_values.append(purchases)\n",
    "    #         top_and_bottom_labels.append(top_and_bottom_mask.index.values[i])\n",
    "    #     else:\n",
    "    #         top_and_bottom_values.append(np.nan)\n",
    "\n",
    "    \n",
    "    # Unfortunately we need to hard code the names of the channels that are among the top and bottom 5 of Purchases, Spend, and Lift, b/c grabbing them programmatically is a little hard\n",
    "    top_5_channels = ['Willow Tv', 'One America News Network', 'Zeetv', 'Cnn', 'Msnbc']\n",
    "    bottom_5_channels = ['Fox Sports', 'Bloomberg', 'Comedy Central', 'Turner Network Tv', 'Cnbc World']\n",
    "\n",
    "\n",
    "    #fig, ax = plt.subplots(1,1,figsize=(2,10))\n",
    "\n",
    "    sns.heatmap(data=sorted_values,\n",
    "                mask=middle_mask,\n",
    "                annot=True, \n",
    "                cmap=color_map, \n",
    "                fmt='g',\n",
    "                cbar=True,\n",
    "                #annot_kws={\"weight\": \"bold\"},\n",
    "                #yticklabels=purchase_labels_w_alert,\n",
    "                ax=ax_to_plot_on);\n",
    "\n",
    "\n",
    "    sns.heatmap(data=sorted_values,\n",
    "                # mask=top_and_bottom_mask,\n",
    "                #annot=True, \n",
    "                cmap=color_map, \n",
    "                fmt='g',\n",
    "                cbar = False,\n",
    "                yticklabels=labels_list,\n",
    "                ax=ax_to_plot_on)\n",
    "\n",
    "    yticks=ax_to_plot_on.get_yticklabels()\n",
    "\n",
    "    for text in yticks:\n",
    "        if text.get_text() in top_5_channels:\n",
    "            text.set_weight('bold')\n",
    "            text.set_color('green')\n",
    "            #print('\\u26A0 ' + text.get_text())\n",
    "            #text.set_text('\\u26A0 ' + text.get_text())\n",
    "        if text.get_text() in bottom_5_channels:\n",
    "            text.set_weight('bold')\n",
    "            text.set_color('red')\n",
    "\n",
    "    #y=plt.gca().get_yticks()\n",
    "    ax_to_plot_on.tick_params(axis='y', left=False)\n",
    "    ax_to_plot_on.axhline(horizontal_y_val, linestyle=':', color='blue')\n",
    "    ax_to_plot_on.annotate(text=F'Avg {field} {field_mean:.0f}:', xy=(0, horizontal_y_val), xytext=(-10, -5), textcoords='offset pixels', ha='right', color='blue')\n",
    "    \n",
    "    if hide_y_label:\n",
    "        plt.ylabel('')\n",
    "    plt.show();"
   ]
  },
  {
   "cell_type": "code",
   "execution_count": 46,
   "id": "c74e758d-9fff-4d77-9d83-1f996fa5845d",
   "metadata": {},
   "outputs": [
    {
     "data": {
      "image/png": "[encoded data removed]",
      "text/plain": [
       "<Figure size 432x288 with 3 Axes>"
      ]
     },
     "metadata": {
      "needs_background": "light"
     },
     "output_type": "display_data"
    }
   ],
   "source": [
    "fig, ax = plt.subplots(1,2)\n",
    "make_heatmap2(df=report_for_client, field='Purchases', ax_to_plot_on=ax[0], color_map='Greys')\n",
    "make_heatmap2(df=report_for_client, field='Purchases', ax_to_plot_on=ax[1], color_map='Greys')"
   ]
  },
  {
   "cell_type": "code",
   "execution_count": 47,
   "id": "9192c12c-05ca-4359-9e76-946c61a2e39e",
   "metadata": {},
   "outputs": [],
   "source": [
    "def make_multiple_heatmaps(i, j, df, field, color_map, hide_y_label=False):\n",
    "    fig, ax = plt.subplots(i, j, figsize=(2,10))\n",
    "    make_heatmap2(df, field, color_map, ax[0], hide_y_label)\n",
    "    make_heatmap2(df, field, color_map, ax[1], hide_y_label)"
   ]
  },
  {
   "cell_type": "code",
   "execution_count": 48,
   "id": "d0c042f6-cf49-4154-bdcc-ba84b0dfd7c3",
   "metadata": {},
   "outputs": [
    {
     "data": {
      "image/png": "[encoded data removed]",
      "text/plain": [
       "<Figure size 144x720 with 3 Axes>"
      ]
     },
     "metadata": {
      "needs_background": "light"
     },
     "output_type": "display_data"
    }
   ],
   "source": [
    "make_multiple_heatmaps(1, 2, report_for_client, 'Purchases', 'Blues')"
   ]
  },
  {
   "cell_type": "markdown",
   "id": "1041b923-e5e1-48fc-bcd5-8671c1ee47e0",
   "metadata": {},
   "source": [
    "#### Purchases, Spend, and Lift"
   ]
  },
  {
   "cell_type": "code",
   "execution_count": 49,
   "id": "74c852ad-1ef4-43ec-9e94-b4d1c9eaa85a",
   "metadata": {},
   "outputs": [
    {
     "data": {
      "image/png": "[encoded data removed]",
      "text/plain": [
       "<Figure size 144x720 with 2 Axes>"
      ]
     },
     "metadata": {
      "needs_background": "light"
     },
     "output_type": "display_data"
    },
    {
     "data": {
      "image/png": "[encoded data removed]",
      "text/plain": [
       "<Figure size 144x720 with 2 Axes>"
      ]
     },
     "metadata": {
      "needs_background": "light"
     },
     "output_type": "display_data"
    },
    {
     "data": {
      "image/png": "[encoded data removed]",
      "text/plain": [
       "<Figure size 144x720 with 2 Axes>"
      ]
     },
     "metadata": {
      "needs_background": "light"
     },
     "output_type": "display_data"
    }
   ],
   "source": [
    "# Top Purchases, Spend, and Lift labels\n",
    "field1_top_labels = set(report_for_client['Purchases'].sort_values(ascending=False).index.values[0:5])\n",
    "field2_top_labels = set(report_for_client['Spend'].sort_values(ascending=False).index.values[0:5])\n",
    "field3_top_labels = set(report_for_client['Lift'].sort_values(ascending=False).index.values[0:5])\n",
    "\n",
    "## Use set logic to find which channels are in at least 2/3 of the top5 for Purchases, Spend, and Lift\n",
    "set1 = field1_top_labels.intersection(field2_top_labels)\n",
    "set2 = field1_top_labels.intersection(field3_top_labels)\n",
    "set3 = field2_top_labels.intersection(field3_top_labels)\n",
    "set4 = set1.intersection(set2, set3)\n",
    "at_least_top_2_of_3_spend_purchase_lift_labels = set1.union(set2, set3, set4)\n",
    "\n",
    "\n",
    "# Bottom Purchases, Spend, and Lift labels\n",
    "field1_bottom_labels = set(report_for_client['Purchases'].sort_values(ascending=False).index.values[-5:])\n",
    "field2_bottom_labels = set(report_for_client['Spend'].sort_values(ascending=False).index.values[-5:])\n",
    "field3_bottom_labels = set(report_for_client['Lift'].sort_values(ascending=False).index.values[-5:])\n",
    "\n",
    "## Use set logic to find which channels are in at least 2/3 of the bottom5 for Purchases, Spend, and Lift\n",
    "set1 = field1_bottom_labels.intersection(field2_bottom_labels)\n",
    "set2 = field1_bottom_labels.intersection(field3_bottom_labels)\n",
    "set3 = field2_bottom_labels.intersection(field3_bottom_labels)\n",
    "set4 = set1.intersection(set2, set3)\n",
    "at_least_bottom_2_of_3_spend_purchase_lift_labels = set1.union(set2, set3, set4)\n",
    "\n",
    "\n",
    "make_heatmap(df=report_for_client, \n",
    "             field='Purchases', \n",
    "             color_map='Greys', \n",
    "             top_labels=at_least_top_2_of_3_spend_purchase_lift_labels, \n",
    "             bottom_labels=at_least_bottom_2_of_3_spend_purchase_lift_labels)\n",
    "plt.show()\n",
    "\n",
    "\n",
    "make_heatmap(df=report_for_client, \n",
    "             field='Spend', \n",
    "             color_map='Greys', \n",
    "             top_labels=at_least_top_2_of_3_spend_purchase_lift_labels, \n",
    "             bottom_labels=at_least_bottom_2_of_3_spend_purchase_lift_labels,\n",
    "             hide_y_label=True)\n",
    "plt.show()\n",
    "\n",
    "\n",
    "make_heatmap(df=report_for_client, \n",
    "             field='Lift', \n",
    "             color_map='Greys', \n",
    "             top_labels=at_least_top_2_of_3_spend_purchase_lift_labels, \n",
    "             bottom_labels=at_least_bottom_2_of_3_spend_purchase_lift_labels, \n",
    "             hide_y_label=True)\n",
    "plt.show()"
   ]
  },
  {
   "cell_type": "markdown",
   "id": "23f78bde-d979-4ade-897e-8c59c4d601f0",
   "metadata": {},
   "source": [
    "#### Purchases and Cost Per Visitor"
   ]
  },
  {
   "cell_type": "code",
   "execution_count": 50,
   "id": "d879da03-98e3-4e84-847a-a018d1230d33",
   "metadata": {},
   "outputs": [
    {
     "data": {
      "image/png": "[encoded data removed]",
      "text/plain": [
       "<Figure size 144x720 with 2 Axes>"
      ]
     },
     "metadata": {
      "needs_background": "light"
     },
     "output_type": "display_data"
    },
    {
     "data": {
      "image/png": "[encoded data removed]",
      "text/plain": [
       "<Figure size 144x720 with 2 Axes>"
      ]
     },
     "metadata": {
      "needs_background": "light"
     },
     "output_type": "display_data"
    }
   ],
   "source": [
    "# Use set logic to find which channels are in the top5 for purchases and cost per visitor\n",
    "top_5_purchases=set(report_for_client['Purchases'].sort_values(ascending=False).index.values[0:5])\n",
    "top_5_cost_per_visitor=set(report_for_client['Cost Per Visitor (Spend/Lift)'].sort_values(ascending=True).index.values[0:5])\n",
    "\n",
    "top_5_purchases_and_cost_per_visitor = top_5_purchases.intersection(top_5_cost_per_visitor)\n",
    "\n",
    "# Use set logic to find which channels are in the bottom5 for purchases and cost per visitor\n",
    "bottom_5_purchases=set(report_for_client['Purchases'].sort_values(ascending=False).index.values[-5:])\n",
    "bottom_5_cost_per_visitor=set(report_for_client['Cost Per Visitor (Spend/Lift)'].sort_values(ascending=True).index.values[-5:])\n",
    "\n",
    "bottom_5_purchases_and_cost_per_visitor = bottom_5_purchases.intersection(bottom_5_cost_per_visitor)\n",
    "\n",
    "\n",
    "\n",
    "make_heatmap(df=report_for_client, \n",
    "             field='Purchases', \n",
    "             color_map='Greys', \n",
    "             top_labels=top_5_purchases_and_cost_per_visitor, \n",
    "             bottom_labels=bottom_5_purchases_and_cost_per_visitor, \n",
    "             annotate_horizontal=False)\n",
    "plt.show()\n",
    "\n",
    "make_heatmap(df=report_for_client, \n",
    "             field='Cost Per Visitor (Spend/Lift)', \n",
    "             cutoff_value = overall_cost_per_visitor, \n",
    "             asc=True, \n",
    "             rounding=\".2f\",\n",
    "             top_labels=top_5_purchases_and_cost_per_visitor, \n",
    "             bottom_labels=bottom_5_purchases_and_cost_per_visitor, \n",
    "             color_map='Greys', \n",
    "             hide_y_label=True)\n",
    "plt.show()"
   ]
  },
  {
   "cell_type": "markdown",
   "id": "92274f26-0057-42fc-94d9-470b6b85a4d2",
   "metadata": {},
   "source": [
    "#### Purchases and Cost Per Acquisition"
   ]
  },
  {
   "cell_type": "code",
   "execution_count": 51,
   "id": "9b5c65d2-6000-49a3-95ea-feb0373e5ad5",
   "metadata": {},
   "outputs": [
    {
     "data": {
      "image/png": "[encoded data removed]",
      "text/plain": [
       "<Figure size 144x720 with 2 Axes>"
      ]
     },
     "metadata": {
      "needs_background": "light"
     },
     "output_type": "display_data"
    },
    {
     "data": {
      "image/png": "[encoded data removed]",
      "text/plain": [
       "<Figure size 144x720 with 2 Axes>"
      ]
     },
     "metadata": {
      "needs_background": "light"
     },
     "output_type": "display_data"
    }
   ],
   "source": [
    "top_5_purchases=set(report_for_client['Purchases'].sort_values(ascending=False).index.values[0:5])\n",
    "top_5_cost_per_acquisition=set(report_for_client['Cost Per Acquisition (Spend/Purchases)'].sort_values(ascending=True).index.values[0:5])\n",
    "\n",
    "top_5_purchases_and_cost_per_acquisition = top_5_purchases.intersection(top_5_cost_per_acquisition)\n",
    "\n",
    "\n",
    "bottom_5_purchases=set(report_for_client['Purchases'].sort_values(ascending=False).index.values[-5:])\n",
    "bottom_5_cost_per_acquisition=set(report_for_client['Cost Per Acquisition (Spend/Purchases)'].sort_values(ascending=True).index.values[-5:])\n",
    "\n",
    "bottom_5_purchases_and_cost_per_acquisition = bottom_5_purchases.intersection(bottom_5_cost_per_acquisition)\n",
    "\n",
    "make_heatmap(df=report_for_client, \n",
    "             field='Purchases', \n",
    "             color_map='Greys', \n",
    "             top_labels=top_5_purchases_and_cost_per_acquisition, \n",
    "             bottom_labels=bottom_5_purchases_and_cost_per_acquisition, \n",
    "             annotate_horizontal=False)\n",
    "plt.show()\n",
    "\n",
    "make_heatmap(df=report_for_client, \n",
    "             field='Cost Per Acquisition (Spend/Purchases)', \n",
    "             cutoff_value = overall_cost_per_acquisition,\n",
    "             top_labels = top_5_purchases_and_cost_per_acquisition,\n",
    "             bottom_labels = bottom_5_purchases_and_cost_per_acquisition,\n",
    "             asc=True, \n",
    "             rounding=\".02f\",\n",
    "             color_map='Greys', \n",
    "             hide_y_label=True)\n",
    "plt.show()"
   ]
  },
  {
   "cell_type": "markdown",
   "id": "5ab3e929-7ffe-4445-9bed-41ca7c5e2219",
   "metadata": {},
   "source": [
    "#### Purchases and Conversion Rate"
   ]
  },
  {
   "cell_type": "code",
   "execution_count": 52,
   "id": "75be1d6f-9b7f-4a0a-bcc6-2e3abf7b122e",
   "metadata": {},
   "outputs": [
    {
     "data": {
      "image/png": "[encoded data removed]",
      "text/plain": [
       "<Figure size 144x720 with 2 Axes>"
      ]
     },
     "metadata": {
      "needs_background": "light"
     },
     "output_type": "display_data"
    },
    {
     "data": {
      "image/png": "[encoded data removed]",
      "text/plain": [
       "<Figure size 144x720 with 2 Axes>"
      ]
     },
     "metadata": {
      "needs_background": "light"
     },
     "output_type": "display_data"
    }
   ],
   "source": [
    "top_5_purchases=set(report_for_client['Purchases'].sort_values(ascending=False).index.values[0:5])\n",
    "top_5_conversion_rate=set(report_for_client['Conversion Rate (Purchases/Lift)%'].sort_values(ascending=False).index.values[0:5])\n",
    "\n",
    "top_5_purchases_and_conversion_rate = top_5_purchases.intersection(top_5_conversion_rate)\n",
    "\n",
    "\n",
    "bottom_5_purchases=set(report_for_client['Purchases'].sort_values(ascending=False).index.values[-5:])\n",
    "bottom_5_conversion_rate=set(report_for_client['Conversion Rate (Purchases/Lift)%'].sort_values(ascending=False).index.values[-5:])\n",
    "\n",
    "bottom_5_purchases_and_conversion_rate = bottom_5_purchases.intersection(bottom_5_conversion_rate)\n",
    "\n",
    "make_heatmap(df=report_for_client, \n",
    "             field='Purchases', \n",
    "             color_map='Greys', \n",
    "             top_labels=top_5_purchases_and_conversion_rate,\n",
    "             bottom_labels=bottom_5_purchases_and_conversion_rate, \n",
    "             annotate_horizontal=False)\n",
    "plt.show()\n",
    "\n",
    "make_heatmap(df=report_for_client, \n",
    "             field='Conversion Rate (Purchases/Lift)%', \n",
    "             cutoff_value = overall_conversion_rate, \n",
    "             rounding=\".1f\",\n",
    "             top_labels = top_5_purchases_and_conversion_rate,\n",
    "             bottom_labels = bottom_5_purchases_and_conversion_rate,\n",
    "             color_map='Greys', \n",
    "             hide_y_label=True)\n",
    "plt.show()"
   ]
  },
  {
   "cell_type": "code",
   "execution_count": null,
   "id": "1cd47884-9212-4ff4-af1e-05484b7c5d40",
   "metadata": {},
   "outputs": [],
   "source": []
  },
  {
   "cell_type": "code",
   "execution_count": null,
   "id": "f1eeadb7-a4ac-4c24-b7fc-c1fbc26b7a9a",
   "metadata": {},
   "outputs": [],
   "source": []
  },
  {
   "cell_type": "markdown",
   "id": "0093e307-b3ef-4a67-ba46-14b7b28d21f0",
   "metadata": {},
   "source": [
    "## Scatter Plots"
   ]
  },
  {
   "cell_type": "markdown",
   "id": "a3f11a9b-7783-4ce3-be2a-76fe9ffd8023",
   "metadata": {
    "tags": []
   },
   "source": [
    "### Plotting Function - make_scatter()"
   ]
  },
  {
   "cell_type": "code",
   "execution_count": 53,
   "id": "a0d4c5f2-fefd-4c2f-a4ef-d68f0db824ca",
   "metadata": {},
   "outputs": [],
   "source": [
    "def make_scatter(df, x_field, y_field, x_units='', y_units='', color_1='green', color_2='red'):\n",
    "    \n",
    "    from adjustText import adjust_text\n",
    "    \n",
    "    fig, ax = plt.subplots(1,1,figsize=(10,5))\n",
    "    \n",
    "    # ax.tick_params(top=False,\n",
    "    #                bottom=True,\n",
    "    #                left=True,\n",
    "    #                right=False,\n",
    "    #                labelleft=False,\n",
    "    #                labelbottom=False)\n",
    "    \n",
    "    df[x_field] = df[x_field].replace(np.inf, 0)\n",
    "    df[y_field] = df[y_field].replace(np.inf, 0)\n",
    "    \n",
    "    df.plot(kind='scatter', x=x_field, y=y_field, ax=ax)\n",
    "    \n",
    "    x_field_mean = df[x_field].mean()\n",
    "    y_field_mean = df[y_field].mean()\n",
    "    \n",
    "    if x_units == \"$\":\n",
    "        x_field_mean = round(x_field_mean, 2)\n",
    "    elif x_units == \"%\":\n",
    "        x_field_mean = round(x_field_mean, 1)\n",
    "    else:\n",
    "        x_field_mean = round(x_field_mean)\n",
    "        \n",
    "    if y_units == \"$\":\n",
    "        y_field_mean = round(y_field_mean, 2)\n",
    "    elif y_units == \"%\":\n",
    "        y_field_mean = round(y_field_mean, 1)\n",
    "    else:\n",
    "        y_field_mean = round(y_field_mean)\n",
    "\n",
    "    \n",
    "    low_x_high_y = df[(df[x_field] < x_field_mean) & (df[y_field] >= y_field_mean)]\n",
    "    high_x_low_y = df[(df[x_field] >= x_field_mean) & (df[y_field] < y_field_mean)]\n",
    "\n",
    "    together = []\n",
    "    \n",
    "    for i in range(len(low_x_high_y)):\n",
    "        txt1 = low_x_high_y.index[i]\n",
    "        x_coord1 = low_x_high_y[x_field][i]\n",
    "        y_coord1 = low_x_high_y[y_field][i]\n",
    "        #size1 = low_x_high_y['Purchases'][i]\n",
    "        color1 = color_1\n",
    "        together.append((txt1, x_coord1, y_coord1, color1))\n",
    "        ax.scatter(x_coord1, y_coord1, color=color1)\n",
    "\n",
    "    for i in range(len(high_x_low_y)):\n",
    "        txt2 = high_x_low_y.index[i]\n",
    "        x_coord2 = high_x_low_y[x_field][i]\n",
    "        y_coord2 = high_x_low_y[y_field][i]\n",
    "        color2 = color_2\n",
    "        together.append((txt2, x_coord2, y_coord2, color2))\n",
    "        ax.scatter(x_coord2, y_coord2, color=color2)\n",
    "    together.sort()\n",
    "\n",
    "\n",
    "    text = [x for (x,y,z,c) in together]\n",
    "    x_coords = [y for (x,y,z,c) in together]\n",
    "    y_coords = [z for (x,y,z,c) in together]\n",
    "    colors = [c for (x,y,z,c) in together]\n",
    "\n",
    "    texts = []\n",
    "    for x, y, s, c in zip(x_coords, y_coords, text, colors):\n",
    "        texts.append(plt.text(x, y, s, color=c))\n",
    "\n",
    "    \n",
    "    # I should lookup how to do this with regex to make things easier...\n",
    "    x_annot_text = x_field\n",
    "    y_annot_text = y_field\n",
    "    if x_field == \"Conversion Rate (Purchases/Lift)%\":\n",
    "        x_annot_text = \"Conversion Rate\"\n",
    "    elif x_field == \"Cost Per Acquisition (Spend/Purchases)\":\n",
    "        x_annot_text = \"Cost Per Acquisition\"\n",
    "    elif x_field == \"Cost Per Visitor (Spend/Lift)\":\n",
    "        x_annot_text = \"Cost Per Visitor\"\n",
    "        \n",
    "    if y_field == \"Conversion Rate (Purchases/Lift)%\":\n",
    "        y_annot_text = \"Conversion Rate\"\n",
    "    elif y_field == \"Cost Per Acquisition (Spend/Purchases)\":\n",
    "        y_annot_text = \"Cost Per Acquisition\"\n",
    "    elif y_field == \"Cost Per Visitor (Spend/Lift)\":\n",
    "        y_annot_text = \"Cost Per Visitor\"\n",
    "    \n",
    "    \n",
    "    \n",
    "    plt.axvline(x=x_field_mean, linestyle=(0, (2, 8)), color='k')\n",
    "    ax.annotate(F'Mean {x_annot_text}'#: {round(x_field_mean, 2)}{x_units}'\n",
    "                ,\n",
    "                xy=(x_field_mean, max(ax.get_ylim())), xycoords='data',\n",
    "                xytext=(0, 2), textcoords='offset pixels',\n",
    "                color='k', ha='center')\n",
    "    \n",
    "    plt.axhline(y=y_field_mean, linestyle=(0, (2, 8)), color='k')\n",
    "    ax.annotate(F'Mean\\n{y_annot_text}' #:\\n{round(y_field_mean, 2)}{y_units}'\n",
    "                ,\n",
    "                xy=(max(ax.get_xlim()), y_field_mean), xycoords='data',\n",
    "                xytext=(5, 0), textcoords='offset pixels',\n",
    "                color='k', ha='left')\n",
    "    \n",
    "    ax.axes.set_xticks([0, x_field_mean])\n",
    "    #ax.axes.xaxis.set_ticklabels([])\n",
    "    ax.axes.set_yticks([0, y_field_mean])\n",
    "    #ax.axes.yaxis.set_ticklabels([])\n",
    "    \n",
    "    adjust_text(texts, \n",
    "            force_text=(1,1),\n",
    "            force_points=(1,1),\n",
    "            force_objects=(1,1),\n",
    "            only_move={'points':'y', 'texts':'y'},\n",
    "            arrowprops=dict(arrowstyle=\"->\", color='k', lw=0.5))\n",
    "\n",
    "    return fig, ax;"
   ]
  },
  {
   "cell_type": "code",
   "execution_count": 87,
   "id": "61779ee5-455e-4ae6-92f8-cd8ddb891b20",
   "metadata": {},
   "outputs": [],
   "source": [
    "def make_scatter_with_size_adjustment(df,\n",
    "                  x_field,\n",
    "                  y_field,\n",
    "                  size_scale,\n",
    "                  x_units='',\n",
    "                  y_units='',\n",
    "                  color_1='green',\n",
    "                  color_2='red',\n",
    "                  expand_text=(1.5, 1.5),\n",
    "                  expand_points=(3,3),\n",
    "                  expand_objects=(3,3),\n",
    "                  force_text=(1,1),\n",
    "                  force_points=(1,1),\n",
    "                  force_objects=(1,1),\n",
    "                  annotate_text=True):\n",
    "    \n",
    "    from adjustText import adjust_text\n",
    "    \n",
    "    fig, ax = plt.subplots(1,1,figsize=(10,5))\n",
    "    \n",
    "    # ax.tick_params(top=False,\n",
    "    #                bottom=True,\n",
    "    #                left=True,\n",
    "    #                right=False,\n",
    "    #                labelleft=False,\n",
    "    #                labelbottom=False)\n",
    "    \n",
    "    df[x_field] = df[x_field].replace(np.inf, 0)\n",
    "    df[y_field] = df[y_field].replace(np.inf, 0)\n",
    "    \n",
    "    df.plot(kind='scatter', x=x_field, y=y_field, ax=ax)\n",
    "    \n",
    "    x_field_mean = df[x_field].mean()\n",
    "    y_field_mean = df[y_field].mean()\n",
    "    \n",
    "    if x_units == \"$\":\n",
    "        x_field_mean = round(x_field_mean, 2)\n",
    "    elif x_units == \"%\":\n",
    "        x_field_mean = round(x_field_mean, 1)\n",
    "    else:\n",
    "        x_field_mean = round(x_field_mean)\n",
    "        \n",
    "    if y_units == \"$\":\n",
    "        y_field_mean = round(y_field_mean, 2)\n",
    "    elif y_units == \"%\":\n",
    "        y_field_mean = round(y_field_mean, 1)\n",
    "    else:\n",
    "        y_field_mean = round(y_field_mean)\n",
    "\n",
    "    \n",
    "    low_x_high_y = df[(df[x_field] < x_field_mean) & (df[y_field] >= y_field_mean)]\n",
    "    high_x_low_y = df[(df[x_field] >= x_field_mean) & (df[y_field] < y_field_mean)]\n",
    "\n",
    "    together = []\n",
    "    \n",
    "    for i in range(len(low_x_high_y)):\n",
    "        txt1 = low_x_high_y.index[i]\n",
    "        x_coord1 = low_x_high_y[x_field][i]\n",
    "        y_coord1 = low_x_high_y[y_field][i]\n",
    "        size1 = low_x_high_y['Purchases'][i]\n",
    "        if size1 == 0:\n",
    "            size1 = size_scale * 1 / size_scale\n",
    "        color1 = color_1\n",
    "        together.append((txt1, x_coord1, y_coord1, color1))\n",
    "        ax.scatter(x_coord1, y_coord1, color=color1, s=size1*size_scale)\n",
    "\n",
    "    for i in range(len(high_x_low_y)):\n",
    "        txt2 = high_x_low_y.index[i]\n",
    "        x_coord2 = high_x_low_y[x_field][i]\n",
    "        y_coord2 = high_x_low_y[y_field][i]\n",
    "        size2 = high_x_low_y['Purchases'][i]\n",
    "        if size2 == 0:\n",
    "            size2 = size_scale * 1 / size_scale\n",
    "        color2 = color_2\n",
    "        together.append((txt2, x_coord2, y_coord2, color2))\n",
    "        ax.scatter(x_coord2, y_coord2, color=color2, s=size2*size_scale)\n",
    "    together.sort()\n",
    "\n",
    "\n",
    "    text = [x for (x,y,z,c) in together]\n",
    "    x_coords = [y for (x,y,z,c) in together]\n",
    "    y_coords = [z for (x,y,z,c) in together]\n",
    "    colors = [c for (x,y,z,c) in together]\n",
    "    \n",
    "    if annotate_text==True:\n",
    "        texts = []\n",
    "        for x, y, s, c in zip(x_coords, y_coords, text, colors):\n",
    "            texts.append(plt.text(x, y, s, color=c))\n",
    "\n",
    "    \n",
    "    # I should lookup how to do this with regex to make things easier...\n",
    "    x_annot_text = x_field\n",
    "    y_annot_text = y_field\n",
    "    if x_field == \"Conversion Rate (Purchases/Lift)%\":\n",
    "        x_annot_text = \"Conversion Rate\"\n",
    "    elif x_field == \"Cost Per Acquisition (Spend/Purchases)\":\n",
    "        x_annot_text = \"Cost Per Acquisition\"\n",
    "    elif x_field == \"Cost Per Visitor (Spend/Lift)\":\n",
    "        x_annot_text = \"Cost Per Visitor\"\n",
    "        \n",
    "    if y_field == \"Conversion Rate (Purchases/Lift)%\":\n",
    "        y_annot_text = \"Conversion Rate\"\n",
    "    elif y_field == \"Cost Per Acquisition (Spend/Purchases)\":\n",
    "        y_annot_text = \"Cost Per Acquisition\"\n",
    "    elif y_field == \"Cost Per Visitor (Spend/Lift)\":\n",
    "        y_annot_text = \"Cost Per Visitor\"\n",
    "    \n",
    "    \n",
    "    \n",
    "    plt.axvline(x=x_field_mean, linestyle=(0, (2, 8)), color='k')\n",
    "    ax.annotate(F'Mean {x_annot_text}'#: {round(x_field_mean, 2)}{x_units}'\n",
    "                ,\n",
    "                xy=(x_field_mean, max(ax.get_ylim())), xycoords='data',\n",
    "                xytext=(0, 2), textcoords='offset pixels',\n",
    "                color='k', ha='center')\n",
    "    \n",
    "    plt.axhline(y=y_field_mean, linestyle=(0, (2, 8)), color='k')\n",
    "    ax.annotate(F'Mean\\n{y_annot_text}' #:\\n{round(y_field_mean, 2)}{y_units}'\n",
    "                ,\n",
    "                xy=(max(ax.get_xlim()), y_field_mean), xycoords='data',\n",
    "                xytext=(5, 0), textcoords='offset pixels',\n",
    "                color='k', ha='left')\n",
    "    \n",
    "    ax.axes.set_xticks([0, x_field_mean])\n",
    "    #ax.axes.xaxis.set_ticklabels([])\n",
    "    ax.axes.set_yticks([0, y_field_mean])\n",
    "    #ax.axes.yaxis.set_ticklabels([])\n",
    "    \n",
    "    if annotate_text == True:\n",
    "        adjust_text(texts,\n",
    "                expand_text=expand_text,\n",
    "                expand_points=expand_points,\n",
    "                expand_objects=expand_objects,\n",
    "                force_text=force_text,\n",
    "                force_points=force_points,\n",
    "                force_objects=force_objects,\n",
    "                only_move={'points':'y', 'texts':'y'},\n",
    "                arrowprops=dict(arrowstyle=\"->\", color='k', lw=0.5))\n",
    "\n",
    "    return fig, ax;"
   ]
  },
  {
   "cell_type": "code",
   "execution_count": 55,
   "id": "76dae165-20f0-43b1-9a9f-3486081f0662",
   "metadata": {},
   "outputs": [],
   "source": [
    "scale=10"
   ]
  },
  {
   "cell_type": "markdown",
   "id": "955bd357-06d5-43d0-a8fa-dd2f803bbce5",
   "metadata": {},
   "source": [
    "#### Spend vs. Purchases"
   ]
  },
  {
   "cell_type": "code",
   "execution_count": 56,
   "id": "b77f741e-b22c-4cea-af61-8b396288a794",
   "metadata": {},
   "outputs": [],
   "source": [
    "willow_tv = report_for_client.query(\"`Exit Survey Source` == 'Willow Tv'\")\n",
    "willow_tv_purchases = willow_tv['Purchases']\n",
    "willow_tv_spend = willow_tv['Spend']\n",
    "willow_tv_lift = willow_tv['Lift']"
   ]
  },
  {
   "cell_type": "code",
   "execution_count": 102,
   "id": "8607b749-ae3f-4564-8ae3-9d52bec535f5",
   "metadata": {},
   "outputs": [
    {
     "data": {
      "image/png": "[encoded data removed]",
      "text/plain": [
       "<Figure size 720x360 with 1 Axes>"
      ]
     },
     "metadata": {
      "needs_background": "light"
     },
     "output_type": "display_data"
    }
   ],
   "source": [
    "fig, ax = make_scatter(df=report_for_client,\n",
    "                       x_field='Spend',\n",
    "                       y_field='Purchases', \n",
    "                       #size=False,\n",
    "                       x_units='$', \n",
    "                       y_units='', \n",
    "                       color_1='green',\n",
    "                       color_2='red')\n",
    "ax.scatter(willow_tv_spend, willow_tv_purchases, c='blue')\n",
    "text1 = ax.annotate(text='Willow Tv',\n",
    "            xy=(willow_tv_spend, willow_tv_purchases),\n",
    "            xytext=(-5, -20), textcoords='offset pixels',\n",
    "            ha='right',\n",
    "            color='blue',\n",
    "            alpha=0.3)\n",
    "# import matplotlib.patheffects as pe\n",
    "# text1.set_path_effects(path_effects=[pe.withStroke(linewidth=2, foreground='black'), pe.Normal()])\n",
    "\n",
    "# Label x and y values of outlier on xticks and yticks\n",
    "current_xticks = ax.get_xticks()\n",
    "updated_xticks = np.append(current_xticks, willow_tv['Spend'])\n",
    "ax.set_xticks(updated_xticks)\n",
    "\n",
    "current_yticks = ax.get_yticks()\n",
    "updated_yticks = np.append(current_yticks, willow_tv['Purchases'])\n",
    "ax.set_yticks(updated_yticks)\n",
    "\n",
    "plt.show()"
   ]
  },
  {
   "cell_type": "markdown",
   "id": "3d2e0b21-18f8-4646-95de-7a7be1b735b8",
   "metadata": {},
   "source": [
    "#### Lift vs. Purchases"
   ]
  },
  {
   "cell_type": "code",
   "execution_count": 100,
   "id": "bea356aa-414b-4e20-8068-ef7b022f575f",
   "metadata": {},
   "outputs": [
    {
     "data": {
      "image/png": "[encoded data removed]",
      "text/plain": [
       "<Figure size 720x360 with 1 Axes>"
      ]
     },
     "metadata": {
      "needs_background": "light"
     },
     "output_type": "display_data"
    }
   ],
   "source": [
    "fig, ax = make_scatter(report_for_client,\n",
    "                       x_field='Lift',\n",
    "                       y_field='Purchases',\n",
    "                       x_units='',\n",
    "                       y_units='')\n",
    "\n",
    "ax.scatter(willow_tv_lift, willow_tv_purchases, c='blue')\n",
    "text1 = ax.annotate(text='Willow Tv',\n",
    "            xy=(willow_tv_lift, willow_tv_purchases),\n",
    "            xytext=(-5, -20), textcoords='offset pixels',\n",
    "            ha='right',\n",
    "            color='blue',\n",
    "            alpha=0.3)\n",
    "\n",
    "# Label x and y values of outlier on xticks and yticks\n",
    "current_xticks = ax.get_xticks()\n",
    "updated_xticks = np.append(current_xticks, willow_tv['Lift'])\n",
    "ax.set_xticks(updated_xticks)\n",
    "\n",
    "current_yticks = ax.get_yticks()\n",
    "updated_yticks = np.append(current_yticks, willow_tv['Purchases'])\n",
    "ax.set_yticks(updated_yticks)\n",
    "\n",
    "plt.show()"
   ]
  },
  {
   "cell_type": "markdown",
   "id": "49d092fc-cd38-4816-8d94-de06d135733d",
   "metadata": {},
   "source": [
    "#### Spend vs. Lift"
   ]
  },
  {
   "cell_type": "code",
   "execution_count": 59,
   "id": "dadcfa94-6fd1-4a8d-b19b-8e418f3270d2",
   "metadata": {},
   "outputs": [
    {
     "data": {
      "image/png": "[encoded data removed]",
      "text/plain": [
       "<Figure size 720x360 with 1 Axes>"
      ]
     },
     "metadata": {
      "needs_background": "light"
     },
     "output_type": "display_data"
    }
   ],
   "source": [
    "fig, ax = make_scatter_with_size_adjustment(report_for_client,\n",
    "                                            x_field='Spend',\n",
    "                                            y_field='Lift',\n",
    "                                            size_scale=scale,\n",
    "                                            x_units='',\n",
    "                                            y_units='$',\n",
    "                                            color_1='green',\n",
    "                                            color_2='red')\n",
    "ax.scatter(willow_tv_spend, willow_tv_lift, c='blue')\n",
    "text1 = ax.annotate(text='Willow Tv',\n",
    "            xy=(willow_tv_spend, willow_tv_lift),\n",
    "            xytext=(-5, -20), textcoords='offset pixels',\n",
    "            ha='right',\n",
    "            color='blue',\n",
    "            alpha=0.3)\n",
    "\n",
    "current_xticks = ax.get_xticks()\n",
    "updated_xticks = np.append(current_xticks, willow_tv['Spend'])\n",
    "ax.set_xticks(updated_xticks)\n",
    "\n",
    "current_yticks = ax.get_yticks()\n",
    "updated_yticks = np.append(current_yticks, willow_tv['Lift'])\n",
    "ax.set_yticks(updated_yticks)\n",
    "\n",
    "plt.show()"
   ]
  },
  {
   "cell_type": "markdown",
   "id": "27b13b61-e53f-4751-ba46-445d2cfea3d7",
   "metadata": {},
   "source": [
    "#### Spend vs. Conversion Rate"
   ]
  },
  {
   "cell_type": "code",
   "execution_count": 104,
   "id": "f0bd5642-6d82-4714-90c8-63e289e80395",
   "metadata": {},
   "outputs": [
    {
     "data": {
      "image/png": "[encoded data removed]",
      "text/plain": [
       "<Figure size 720x360 with 1 Axes>"
      ]
     },
     "metadata": {
      "needs_background": "light"
     },
     "output_type": "display_data"
    }
   ],
   "source": [
    "make_scatter_with_size_adjustment(report_for_client,\n",
    "             x_field='Spend',\n",
    "             y_field='Conversion Rate (Purchases/Lift)%',\n",
    "             size_scale=scale,\n",
    "             x_units='$',\n",
    "             y_units='%',\n",
    "             color_1='green',\n",
    "             color_2='red',\n",
    "             annotate_text=True)\n",
    "plt.show();"
   ]
  },
  {
   "cell_type": "markdown",
   "id": "fe08d974-704e-44eb-bad9-0c2d3890d1fc",
   "metadata": {},
   "source": [
    "#### Conversion Rate vs. Cost Per Acquisition"
   ]
  },
  {
   "cell_type": "code",
   "execution_count": 61,
   "id": "7b4ba0fb-9752-4261-8422-c27fa02a1217",
   "metadata": {},
   "outputs": [
    {
     "data": {
      "image/png": "[encoded data removed]",
      "text/plain": [
       "<Figure size 720x360 with 1 Axes>"
      ]
     },
     "metadata": {
      "needs_background": "light"
     },
     "output_type": "display_data"
    }
   ],
   "source": [
    "make_scatter_with_size_adjustment(report_for_client,\n",
    "             x_field='Conversion Rate (Purchases/Lift)%',\n",
    "             y_field='Cost Per Acquisition (Spend/Purchases)',\n",
    "             size_scale=scale,\n",
    "             x_units='%',\n",
    "             y_units='$',\n",
    "             color_1='red',\n",
    "             color_2='green')\n",
    "plt.show();"
   ]
  },
  {
   "cell_type": "markdown",
   "id": "290ea752-e6a8-4232-8eee-3d3df1edfba4",
   "metadata": {},
   "source": [
    "#### Conversion Rate vs. Cost Per Visitor"
   ]
  },
  {
   "cell_type": "code",
   "execution_count": 62,
   "id": "3f3735e8-e2bc-4aee-bb67-e2674b76db08",
   "metadata": {},
   "outputs": [
    {
     "data": {
      "image/png": "[encoded data removed]",
      "text/plain": [
       "<Figure size 720x360 with 1 Axes>"
      ]
     },
     "metadata": {
      "needs_background": "light"
     },
     "output_type": "display_data"
    }
   ],
   "source": [
    "make_scatter_with_size_adjustment(df=report_for_client,\n",
    "             x_field=\"Conversion Rate (Purchases/Lift)%\",\n",
    "             y_field=\"Cost Per Visitor (Spend/Lift)\",\n",
    "             size_scale=scale,\n",
    "             x_units=\"%\",\n",
    "             y_units=\"$\",\n",
    "             color_1='red',\n",
    "             color_2='green')\n",
    "plt.show();"
   ]
  },
  {
   "cell_type": "code",
   "execution_count": 105,
   "id": "0dad73b1-4d46-46e3-8e60-62f1a8a2b64c",
   "metadata": {},
   "outputs": [
    {
     "data": {
      "text/plain": [
       "23.388947368421054"
      ]
     },
     "execution_count": 105,
     "metadata": {},
     "output_type": "execute_result"
    }
   ],
   "source": [
    "report_for_client[\"Cost Per Visitor (Spend/Lift)\"].mean()"
   ]
  },
  {
   "cell_type": "markdown",
   "id": "cf4956f2-2ece-4427-a9b4-df8cb8a7f1c5",
   "metadata": {
    "tags": []
   },
   "source": [
    "## Bar Charts"
   ]
  },
  {
   "cell_type": "markdown",
   "id": "71999476-60ad-407a-89ca-e65a1ce0efe1",
   "metadata": {
    "tags": []
   },
   "source": [
    "### Channels with no spend, but had purchases.  Excluding 'Other' and '(Blank)'"
   ]
  },
  {
   "cell_type": "code",
   "execution_count": 63,
   "id": "6cb77c31-41bf-435a-9d69-54d008e39b51",
   "metadata": {},
   "outputs": [
    {
     "data": {
      "text/html": [
       "<div>\n",
       "<style scoped>\n",
       "    .dataframe tbody tr th:only-of-type {\n",
       "        vertical-align: middle;\n",
       "    }\n",
       "\n",
       "    .dataframe tbody tr th {\n",
       "        vertical-align: top;\n",
       "    }\n",
       "\n",
       "    .dataframe thead th {\n",
       "        text-align: right;\n",
       "    }\n",
       "</style>\n",
       "<table border=\"1\" class=\"dataframe\">\n",
       "  <thead>\n",
       "    <tr style=\"text-align: right;\">\n",
       "      <th></th>\n",
       "      <th>Purchases</th>\n",
       "      <th>Spend</th>\n",
       "      <th>Lift</th>\n",
       "      <th>Conversion Rate (Purchases/Lift)%</th>\n",
       "      <th>Cost Per Acquisition (Spend/Purchases)</th>\n",
       "      <th>Cost Per Visitor (Spend/Lift)</th>\n",
       "      <th>Percent of Purchases</th>\n",
       "      <th>Percent of Spend</th>\n",
       "      <th>Percent Pur &gt; Percent Spend</th>\n",
       "    </tr>\n",
       "    <tr>\n",
       "      <th>Exit Survey</th>\n",
       "      <th></th>\n",
       "      <th></th>\n",
       "      <th></th>\n",
       "      <th></th>\n",
       "      <th></th>\n",
       "      <th></th>\n",
       "      <th></th>\n",
       "      <th></th>\n",
       "      <th></th>\n",
       "    </tr>\n",
       "  </thead>\n",
       "  <tbody>\n",
       "    <tr>\n",
       "      <th>Aapka Colors</th>\n",
       "      <td>6.0</td>\n",
       "      <td>0.0</td>\n",
       "      <td>0.0</td>\n",
       "      <td>inf</td>\n",
       "      <td>0.0</td>\n",
       "      <td>NaN</td>\n",
       "      <td>2.542373</td>\n",
       "      <td>0.0</td>\n",
       "      <td>True</td>\n",
       "    </tr>\n",
       "    <tr>\n",
       "      <th>Baby First</th>\n",
       "      <td>1.0</td>\n",
       "      <td>0.0</td>\n",
       "      <td>0.0</td>\n",
       "      <td>inf</td>\n",
       "      <td>0.0</td>\n",
       "      <td>NaN</td>\n",
       "      <td>0.423729</td>\n",
       "      <td>0.0</td>\n",
       "      <td>True</td>\n",
       "    </tr>\n",
       "    <tr>\n",
       "      <th>Cbs Sports</th>\n",
       "      <td>1.0</td>\n",
       "      <td>0.0</td>\n",
       "      <td>0.0</td>\n",
       "      <td>inf</td>\n",
       "      <td>0.0</td>\n",
       "      <td>NaN</td>\n",
       "      <td>0.423729</td>\n",
       "      <td>0.0</td>\n",
       "      <td>True</td>\n",
       "    </tr>\n",
       "    <tr>\n",
       "      <th>Diy</th>\n",
       "      <td>2.0</td>\n",
       "      <td>0.0</td>\n",
       "      <td>0.0</td>\n",
       "      <td>inf</td>\n",
       "      <td>0.0</td>\n",
       "      <td>NaN</td>\n",
       "      <td>0.847458</td>\n",
       "      <td>0.0</td>\n",
       "      <td>True</td>\n",
       "    </tr>\n",
       "    <tr>\n",
       "      <th>Espn</th>\n",
       "      <td>4.0</td>\n",
       "      <td>0.0</td>\n",
       "      <td>0.0</td>\n",
       "      <td>inf</td>\n",
       "      <td>0.0</td>\n",
       "      <td>NaN</td>\n",
       "      <td>1.694915</td>\n",
       "      <td>0.0</td>\n",
       "      <td>True</td>\n",
       "    </tr>\n",
       "    <tr>\n",
       "      <th>Fox News</th>\n",
       "      <td>14.0</td>\n",
       "      <td>0.0</td>\n",
       "      <td>0.0</td>\n",
       "      <td>inf</td>\n",
       "      <td>0.0</td>\n",
       "      <td>NaN</td>\n",
       "      <td>5.932203</td>\n",
       "      <td>0.0</td>\n",
       "      <td>True</td>\n",
       "    </tr>\n",
       "    <tr>\n",
       "      <th>Fyi</th>\n",
       "      <td>2.0</td>\n",
       "      <td>0.0</td>\n",
       "      <td>0.0</td>\n",
       "      <td>inf</td>\n",
       "      <td>0.0</td>\n",
       "      <td>NaN</td>\n",
       "      <td>0.847458</td>\n",
       "      <td>0.0</td>\n",
       "      <td>True</td>\n",
       "    </tr>\n",
       "    <tr>\n",
       "      <th>Hgtv</th>\n",
       "      <td>6.0</td>\n",
       "      <td>0.0</td>\n",
       "      <td>0.0</td>\n",
       "      <td>inf</td>\n",
       "      <td>0.0</td>\n",
       "      <td>NaN</td>\n",
       "      <td>2.542373</td>\n",
       "      <td>0.0</td>\n",
       "      <td>True</td>\n",
       "    </tr>\n",
       "    <tr>\n",
       "      <th>Oprah Winfrey Network</th>\n",
       "      <td>1.0</td>\n",
       "      <td>0.0</td>\n",
       "      <td>0.0</td>\n",
       "      <td>inf</td>\n",
       "      <td>0.0</td>\n",
       "      <td>NaN</td>\n",
       "      <td>0.423729</td>\n",
       "      <td>0.0</td>\n",
       "      <td>True</td>\n",
       "    </tr>\n",
       "    <tr>\n",
       "      <th>Sony Entertainment Tv</th>\n",
       "      <td>4.0</td>\n",
       "      <td>0.0</td>\n",
       "      <td>0.0</td>\n",
       "      <td>inf</td>\n",
       "      <td>0.0</td>\n",
       "      <td>NaN</td>\n",
       "      <td>1.694915</td>\n",
       "      <td>0.0</td>\n",
       "      <td>True</td>\n",
       "    </tr>\n",
       "    <tr>\n",
       "      <th>Television Food Network</th>\n",
       "      <td>4.0</td>\n",
       "      <td>0.0</td>\n",
       "      <td>0.0</td>\n",
       "      <td>inf</td>\n",
       "      <td>0.0</td>\n",
       "      <td>NaN</td>\n",
       "      <td>1.694915</td>\n",
       "      <td>0.0</td>\n",
       "      <td>True</td>\n",
       "    </tr>\n",
       "  </tbody>\n",
       "</table>\n",
       "</div>"
      ],
      "text/plain": [
       "                         Purchases  Spend  Lift  \\\n",
       "Exit Survey                                       \n",
       "Aapka Colors                   6.0    0.0   0.0   \n",
       "Baby First                     1.0    0.0   0.0   \n",
       "Cbs Sports                     1.0    0.0   0.0   \n",
       "Diy                            2.0    0.0   0.0   \n",
       "Espn                           4.0    0.0   0.0   \n",
       "Fox News                      14.0    0.0   0.0   \n",
       "Fyi                            2.0    0.0   0.0   \n",
       "Hgtv                           6.0    0.0   0.0   \n",
       "Oprah Winfrey Network          1.0    0.0   0.0   \n",
       "Sony Entertainment Tv          4.0    0.0   0.0   \n",
       "Television Food Network        4.0    0.0   0.0   \n",
       "\n",
       "                         Conversion Rate (Purchases/Lift)%  \\\n",
       "Exit Survey                                                  \n",
       "Aapka Colors                                           inf   \n",
       "Baby First                                             inf   \n",
       "Cbs Sports                                             inf   \n",
       "Diy                                                    inf   \n",
       "Espn                                                   inf   \n",
       "Fox News                                               inf   \n",
       "Fyi                                                    inf   \n",
       "Hgtv                                                   inf   \n",
       "Oprah Winfrey Network                                  inf   \n",
       "Sony Entertainment Tv                                  inf   \n",
       "Television Food Network                                inf   \n",
       "\n",
       "                         Cost Per Acquisition (Spend/Purchases)  \\\n",
       "Exit Survey                                                       \n",
       "Aapka Colors                                                0.0   \n",
       "Baby First                                                  0.0   \n",
       "Cbs Sports                                                  0.0   \n",
       "Diy                                                         0.0   \n",
       "Espn                                                        0.0   \n",
       "Fox News                                                    0.0   \n",
       "Fyi                                                         0.0   \n",
       "Hgtv                                                        0.0   \n",
       "Oprah Winfrey Network                                       0.0   \n",
       "Sony Entertainment Tv                                       0.0   \n",
       "Television Food Network                                     0.0   \n",
       "\n",
       "                         Cost Per Visitor (Spend/Lift)  Percent of Purchases  \\\n",
       "Exit Survey                                                                    \n",
       "Aapka Colors                                       NaN              2.542373   \n",
       "Baby First                                         NaN              0.423729   \n",
       "Cbs Sports                                         NaN              0.423729   \n",
       "Diy                                                NaN              0.847458   \n",
       "Espn                                               NaN              1.694915   \n",
       "Fox News                                           NaN              5.932203   \n",
       "Fyi                                                NaN              0.847458   \n",
       "Hgtv                                               NaN              2.542373   \n",
       "Oprah Winfrey Network                              NaN              0.423729   \n",
       "Sony Entertainment Tv                              NaN              1.694915   \n",
       "Television Food Network                            NaN              1.694915   \n",
       "\n",
       "                         Percent of Spend  Percent Pur > Percent Spend  \n",
       "Exit Survey                                                             \n",
       "Aapka Colors                          0.0                         True  \n",
       "Baby First                            0.0                         True  \n",
       "Cbs Sports                            0.0                         True  \n",
       "Diy                                   0.0                         True  \n",
       "Espn                                  0.0                         True  \n",
       "Fox News                              0.0                         True  \n",
       "Fyi                                   0.0                         True  \n",
       "Hgtv                                  0.0                         True  \n",
       "Oprah Winfrey Network                 0.0                         True  \n",
       "Sony Entertainment Tv                 0.0                         True  \n",
       "Television Food Network               0.0                         True  "
      ]
     },
     "execution_count": 63,
     "metadata": {},
     "output_type": "execute_result"
    }
   ],
   "source": [
    "no_spend_but_purchases = purchases_spend_lift_by_network.query(\"Spend == 0 & Purchases > 0 & `Exit Survey` != 'Other' & `Exit Survey` != '(Blank)'\")\n",
    "no_spend_but_purchases"
   ]
  },
  {
   "cell_type": "code",
   "execution_count": 64,
   "id": "0a725ec0-ee16-4c88-8a37-96a509649822",
   "metadata": {},
   "outputs": [],
   "source": [
    "no_spend_but_purchases = purchases_spend_lift_by_network.query(\"Spend == 0 & Purchases > 0 & `Exit Survey` != 'Other' & `Exit Survey` != '(Blank)'\")\n",
    "\n",
    "no_spend_but_purchases = no_spend_but_purchases.sort_values('Purchases', ascending=False)[['Purchases']]"
   ]
  },
  {
   "cell_type": "code",
   "execution_count": 65,
   "id": "a49e2f8a-334e-4902-89aa-decb37598403",
   "metadata": {},
   "outputs": [
    {
     "data": {
      "text/html": [
       "<div>\n",
       "<style scoped>\n",
       "    .dataframe tbody tr th:only-of-type {\n",
       "        vertical-align: middle;\n",
       "    }\n",
       "\n",
       "    .dataframe tbody tr th {\n",
       "        vertical-align: top;\n",
       "    }\n",
       "\n",
       "    .dataframe thead th {\n",
       "        text-align: right;\n",
       "    }\n",
       "</style>\n",
       "<table border=\"1\" class=\"dataframe\">\n",
       "  <thead>\n",
       "    <tr style=\"text-align: right;\">\n",
       "      <th></th>\n",
       "      <th>Purchases</th>\n",
       "    </tr>\n",
       "    <tr>\n",
       "      <th>Exit Survey</th>\n",
       "      <th></th>\n",
       "    </tr>\n",
       "  </thead>\n",
       "  <tbody>\n",
       "    <tr>\n",
       "      <th>Fox News</th>\n",
       "      <td>14.0</td>\n",
       "    </tr>\n",
       "    <tr>\n",
       "      <th>Aapka Colors</th>\n",
       "      <td>6.0</td>\n",
       "    </tr>\n",
       "    <tr>\n",
       "      <th>Hgtv</th>\n",
       "      <td>6.0</td>\n",
       "    </tr>\n",
       "    <tr>\n",
       "      <th>Espn</th>\n",
       "      <td>4.0</td>\n",
       "    </tr>\n",
       "    <tr>\n",
       "      <th>Sony Entertainment Tv</th>\n",
       "      <td>4.0</td>\n",
       "    </tr>\n",
       "    <tr>\n",
       "      <th>Television Food Network</th>\n",
       "      <td>4.0</td>\n",
       "    </tr>\n",
       "    <tr>\n",
       "      <th>Diy</th>\n",
       "      <td>2.0</td>\n",
       "    </tr>\n",
       "    <tr>\n",
       "      <th>Fyi</th>\n",
       "      <td>2.0</td>\n",
       "    </tr>\n",
       "    <tr>\n",
       "      <th>Baby First</th>\n",
       "      <td>1.0</td>\n",
       "    </tr>\n",
       "    <tr>\n",
       "      <th>Cbs Sports</th>\n",
       "      <td>1.0</td>\n",
       "    </tr>\n",
       "    <tr>\n",
       "      <th>Oprah Winfrey Network</th>\n",
       "      <td>1.0</td>\n",
       "    </tr>\n",
       "  </tbody>\n",
       "</table>\n",
       "</div>"
      ],
      "text/plain": [
       "                         Purchases\n",
       "Exit Survey                       \n",
       "Fox News                      14.0\n",
       "Aapka Colors                   6.0\n",
       "Hgtv                           6.0\n",
       "Espn                           4.0\n",
       "Sony Entertainment Tv          4.0\n",
       "Television Food Network        4.0\n",
       "Diy                            2.0\n",
       "Fyi                            2.0\n",
       "Baby First                     1.0\n",
       "Cbs Sports                     1.0\n",
       "Oprah Winfrey Network          1.0"
      ]
     },
     "execution_count": 65,
     "metadata": {},
     "output_type": "execute_result"
    }
   ],
   "source": [
    "no_spend_but_purchases"
   ]
  },
  {
   "cell_type": "code",
   "execution_count": 66,
   "id": "893a9124-757a-49f2-a979-9bc9773e38af",
   "metadata": {},
   "outputs": [],
   "source": [
    "no_spend_but_purchases['percent_of_all_purchases'] = no_spend_but_purchases['Purchases'] / total_purchases_from_campaign * 100"
   ]
  },
  {
   "cell_type": "code",
   "execution_count": 67,
   "id": "93efca3e-3ad2-4829-a77f-2e32c73e215c",
   "metadata": {},
   "outputs": [],
   "source": [
    "mean_num_purchases_with_spend = round(report_for_client['Purchases'].mean(), 0)\n",
    "mean_num_purchases_from_campaign = round(purchases_spend_lift_by_network['Purchases'].mean(), 0)"
   ]
  },
  {
   "cell_type": "code",
   "execution_count": 68,
   "id": "200f8c75-23ea-4e55-bfe7-34aa8b7f2b53",
   "metadata": {},
   "outputs": [],
   "source": [
    "no_spend_but_above_mean_purchases_from_campaign_labels = no_spend_but_purchases[no_spend_but_purchases['Purchases'] > mean_num_purchases_from_campaign].index.values"
   ]
  },
  {
   "cell_type": "code",
   "execution_count": 69,
   "id": "079aa504-115d-49aa-851b-d78f3868ac6e",
   "metadata": {},
   "outputs": [],
   "source": [
    "# no_spend_but_purchases['above_mean_purchases_from_campaign'] = no_spend_but_purchases['Purchases'] > mean_num_purchases_from_campaign"
   ]
  },
  {
   "cell_type": "code",
   "execution_count": 70,
   "id": "4a0d2884-46e9-41d3-be85-b1c2b02d1419",
   "metadata": {},
   "outputs": [],
   "source": [
    "no_spend_yticks = []\n",
    "for label in no_spend_but_purchases.index.values:\n",
    "    if label in no_spend_but_above_mean_purchases_from_campaign_labels:\n",
    "        no_spend_yticks.append(label)\n",
    "    else:\n",
    "        no_spend_yticks.append('')"
   ]
  },
  {
   "cell_type": "code",
   "execution_count": 98,
   "id": "d523fcf5-ac3b-47bc-a7f8-54bee8502f7b",
   "metadata": {},
   "outputs": [
    {
     "data": {
      "image/png": "[encoded data removed]",
      "text/plain": [
       "<Figure size 576x432 with 1 Axes>"
      ]
     },
     "metadata": {},
     "output_type": "display_data"
    }
   ],
   "source": [
    "import matplotlib.patheffects as pe\n",
    "\n",
    "fig, ax = plt.subplots(1,1,figsize=(8,6))\n",
    "no_spend_but_purchases['Purchases'].plot(kind='barh', ax=ax, edgecolor='black')\n",
    "ax.set_xlabel('Number of Purchases on Exit Survey')\n",
    "ax.set_title('Channels where spend = 0')\n",
    "\n",
    "\n",
    "ax.axvline(mean_num_purchases_with_spend, color='red', linestyle='--')\n",
    "text1 = ax.annotate(F'Mean purchases\\nfrom channels\\nthat had spending',\n",
    "                xy=(mean_num_purchases_with_spend, 0), xycoords='data',\n",
    "                xytext=(5, -175), textcoords='offset pixels', size=11,\n",
    "                color='red', ha='left')\n",
    "# text1.set_path_effects(path_effects=[pe.withStroke(linewidth=2.5, foreground='black'), pe.Normal()])\n",
    "\n",
    "ax.axvline(mean_num_purchases_from_campaign, color='darkviolet', linestyle='--')\n",
    "text2 = ax.annotate(F'Mean purchases\\nfrom exit survey',\n",
    "                xy=(mean_num_purchases_from_campaign, 0), xycoords='data',\n",
    "                xytext=(5, -175), textcoords='offset pixels', size=11,\n",
    "                color='darkviolet', ha='left')\n",
    "# text2.set_path_effects(path_effects=[pe.withStroke(linewidth=1.3, foreground='black'), pe.Normal()])\n",
    "\n",
    "ax.set_yticklabels(no_spend_yticks)\n",
    "\n",
    "yticks=plt.gca().get_yticklabels()\n",
    "\n",
    "\n",
    "\n",
    "for text in yticks:\n",
    "    if text.get_text() == 'Fox News':\n",
    "        text.set_weight('bold')\n",
    "        text.set_color('green')\n",
    "    elif text.get_text() == 'Aapka Colors' or text.get_text() == 'Hgtv':\n",
    "        text.set_weight('bold')\n",
    "        text.set_color('darkturquoise')\n",
    "\n",
    "ax.invert_yaxis();"
   ]
  },
  {
   "cell_type": "markdown",
   "id": "c5472b2e-7793-4d5c-a7fc-b313223f0643",
   "metadata": {},
   "source": [
    "## Slope plots"
   ]
  },
  {
   "cell_type": "code",
   "execution_count": 72,
   "id": "3d019e7a-d2fe-4b78-8b8f-09729976715b",
   "metadata": {},
   "outputs": [
    {
     "data": {
      "text/plain": [
       "array(['Bloomberg', 'Bloomberg', 'Cnbc', 'Cnbc', 'Cnbc World',\n",
       "       'Cnbc World', 'Cnn', 'Cnn', 'Comedy Central', 'Comedy Central',\n",
       "       'Dateline', 'Dateline', 'Dish Network', 'Dish Network',\n",
       "       'Fox Sports', 'Fox Sports', 'Msnbc', 'Msnbc', 'Nfl Network',\n",
       "       'Nfl Network', 'One America News Network',\n",
       "       'One America News Network', 'Science', 'Science',\n",
       "       'Spectrum Sports', 'Spectrum Sports', 'Star Plus', 'Star Plus',\n",
       "       'The History Channel', 'The History Channel',\n",
       "       'The Weather Channel', 'The Weather Channel', 'Turner Network Tv',\n",
       "       'Turner Network Tv', 'Willow Tv', 'Willow Tv', 'Zeetv', 'Zeetv'],\n",
       "      dtype=object)"
      ]
     },
     "execution_count": 72,
     "metadata": {},
     "output_type": "execute_result"
    }
   ],
   "source": [
    "report_for_client_by_month.index.get_level_values(level=0).values"
   ]
  },
  {
   "cell_type": "code",
   "execution_count": 73,
   "id": "f26f2fdb-3c1b-46d7-87c0-f9a82cb63608",
   "metadata": {},
   "outputs": [],
   "source": [
    "channel_names = report_for_client_by_month.index.get_level_values(level=0).values"
   ]
  },
  {
   "cell_type": "code",
   "execution_count": 74,
   "id": "0ce20fa0-4774-4cba-aa8b-c8b5841a54e6",
   "metadata": {},
   "outputs": [
    {
     "data": {
      "image/png": "[encoded data removed]",
      "text/plain": [
       "<Figure size 720x720 with 1 Axes>"
      ]
     },
     "metadata": {
      "needs_background": "light"
     },
     "output_type": "display_data"
    }
   ],
   "source": [
    "fig, ax = plt.subplots(1,1, figsize=(10,10))\n",
    "\n",
    "for name in channel_names:\n",
    "    temp = report_for_client_by_month.loc[(name,), :]\n",
    "    dates = report_for_client_by_month.index.get_level_values(level=1).unique().values\n",
    "    y_vals = temp['Purchases']\n",
    "    ax.plot(dates, y_vals)"
   ]
  },
  {
   "cell_type": "code",
   "execution_count": 75,
   "id": "d90af500-6405-486c-952e-5b420e241775",
   "metadata": {},
   "outputs": [
    {
     "data": {
      "image/png": "[encoded data removed]",
      "text/plain": [
       "<Figure size 720x720 with 1 Axes>"
      ]
     },
     "metadata": {
      "needs_background": "light"
     },
     "output_type": "display_data"
    }
   ],
   "source": [
    "fig, ax = plt.subplots(1,1, figsize=(10,10))\n",
    "\n",
    "for name in channel_names:\n",
    "    temp = report_for_client_by_month.loc[(name,), :]\n",
    "    dates = report_for_client_by_month.index.get_level_values(level=1).unique().values\n",
    "    y_vals = temp['Spend']\n",
    "    ax.plot(dates, y_vals)"
   ]
  },
  {
   "cell_type": "code",
   "execution_count": 76,
   "id": "c3a41831-d565-435e-aa2b-52fd50df0539",
   "metadata": {},
   "outputs": [
    {
     "data": {
      "image/png": "[encoded data removed]",
      "text/plain": [
       "<Figure size 720x720 with 1 Axes>"
      ]
     },
     "metadata": {
      "needs_background": "light"
     },
     "output_type": "display_data"
    }
   ],
   "source": [
    "fig, ax = plt.subplots(1,1, figsize=(10,10))\n",
    "\n",
    "for name in channel_names:\n",
    "    temp = report_for_client_by_month.loc[(name,), :]\n",
    "    dates = report_for_client_by_month.index.get_level_values(level=1).unique().values\n",
    "    y_vals = temp['Lift']\n",
    "    ax.plot(dates, y_vals)"
   ]
  },
  {
   "cell_type": "code",
   "execution_count": 77,
   "id": "c8e35f4e-dde6-409d-9f26-14dde6265d64",
   "metadata": {},
   "outputs": [
    {
     "data": {
      "text/plain": [
       "array(['2017-09-30T00:00:00.000000000', '2017-10-31T00:00:00.000000000'],\n",
       "      dtype='datetime64[ns]')"
      ]
     },
     "execution_count": 77,
     "metadata": {},
     "output_type": "execute_result"
    }
   ],
   "source": [
    "report_for_client_by_month.index.get_level_values(level=1).unique().values"
   ]
  },
  {
   "cell_type": "code",
   "execution_count": 78,
   "id": "8f591623-bfd1-4de4-843a-717734fee23b",
   "metadata": {},
   "outputs": [
    {
     "data": {
      "text/html": [
       "<div>\n",
       "<style scoped>\n",
       "    .dataframe tbody tr th:only-of-type {\n",
       "        vertical-align: middle;\n",
       "    }\n",
       "\n",
       "    .dataframe tbody tr th {\n",
       "        vertical-align: top;\n",
       "    }\n",
       "\n",
       "    .dataframe thead th {\n",
       "        text-align: right;\n",
       "    }\n",
       "</style>\n",
       "<table border=\"1\" class=\"dataframe\">\n",
       "  <thead>\n",
       "    <tr style=\"text-align: right;\">\n",
       "      <th></th>\n",
       "      <th>Purchases</th>\n",
       "      <th>Spend</th>\n",
       "      <th>Lift</th>\n",
       "      <th>Conversion Rate (Purchases/Lift)%</th>\n",
       "      <th>Cost Per Acquisition (Spend/Purchases)</th>\n",
       "      <th>Cost Per Visitor (Spend/Lift)</th>\n",
       "    </tr>\n",
       "    <tr>\n",
       "      <th>date</th>\n",
       "      <th></th>\n",
       "      <th></th>\n",
       "      <th></th>\n",
       "      <th></th>\n",
       "      <th></th>\n",
       "      <th></th>\n",
       "    </tr>\n",
       "  </thead>\n",
       "  <tbody>\n",
       "    <tr>\n",
       "      <th>2017-09-30</th>\n",
       "      <td>1</td>\n",
       "      <td>4966.72</td>\n",
       "      <td>199</td>\n",
       "      <td>0.5</td>\n",
       "      <td>4966.72</td>\n",
       "      <td>24.96</td>\n",
       "    </tr>\n",
       "    <tr>\n",
       "      <th>2017-10-31</th>\n",
       "      <td>1</td>\n",
       "      <td>0.00</td>\n",
       "      <td>0</td>\n",
       "      <td>inf</td>\n",
       "      <td>0.00</td>\n",
       "      <td>0.00</td>\n",
       "    </tr>\n",
       "  </tbody>\n",
       "</table>\n",
       "</div>"
      ],
      "text/plain": [
       "            Purchases    Spend  Lift  Conversion Rate (Purchases/Lift)%  \\\n",
       "date                                                                      \n",
       "2017-09-30          1  4966.72   199                                0.5   \n",
       "2017-10-31          1     0.00     0                                inf   \n",
       "\n",
       "            Cost Per Acquisition (Spend/Purchases)  \\\n",
       "date                                                 \n",
       "2017-09-30                                 4966.72   \n",
       "2017-10-31                                    0.00   \n",
       "\n",
       "            Cost Per Visitor (Spend/Lift)  \n",
       "date                                       \n",
       "2017-09-30                          24.96  \n",
       "2017-10-31                           0.00  "
      ]
     },
     "execution_count": 78,
     "metadata": {},
     "output_type": "execute_result"
    }
   ],
   "source": [
    "report_for_client_by_month.loc[('Bloomberg',), :]"
   ]
  },
  {
   "cell_type": "markdown",
   "id": "80ba81d2-cd3a-4255-b42a-4e282d2ed6f3",
   "metadata": {},
   "source": [
    "# Scratch Work"
   ]
  },
  {
   "cell_type": "markdown",
   "id": "0c5a34f4-380d-4577-b0a8-fe3cb453e7de",
   "metadata": {},
   "source": [
    "## Which networks have no spend?"
   ]
  },
  {
   "cell_type": "code",
   "execution_count": 79,
   "id": "68cf3ff0-b74b-4050-a2dc-1cdc46ac3b78",
   "metadata": {},
   "outputs": [
    {
     "data": {
      "text/html": [
       "<div>\n",
       "<style scoped>\n",
       "    .dataframe tbody tr th:only-of-type {\n",
       "        vertical-align: middle;\n",
       "    }\n",
       "\n",
       "    .dataframe tbody tr th {\n",
       "        vertical-align: top;\n",
       "    }\n",
       "\n",
       "    .dataframe thead th {\n",
       "        text-align: right;\n",
       "    }\n",
       "</style>\n",
       "<table border=\"1\" class=\"dataframe\">\n",
       "  <thead>\n",
       "    <tr style=\"text-align: right;\">\n",
       "      <th></th>\n",
       "      <th>Purchases</th>\n",
       "      <th>Spend</th>\n",
       "      <th>Lift</th>\n",
       "      <th>Conversion Rate (Purchases/Lift)%</th>\n",
       "      <th>Cost Per Acquisition (Spend/Purchases)</th>\n",
       "      <th>Cost Per Visitor (Spend/Lift)</th>\n",
       "      <th>Percent of Purchases</th>\n",
       "      <th>Percent of Spend</th>\n",
       "      <th>Percent Pur &gt; Percent Spend</th>\n",
       "    </tr>\n",
       "    <tr>\n",
       "      <th>Exit Survey</th>\n",
       "      <th></th>\n",
       "      <th></th>\n",
       "      <th></th>\n",
       "      <th></th>\n",
       "      <th></th>\n",
       "      <th></th>\n",
       "      <th></th>\n",
       "      <th></th>\n",
       "      <th></th>\n",
       "    </tr>\n",
       "  </thead>\n",
       "  <tbody>\n",
       "    <tr>\n",
       "      <th>(Blank)</th>\n",
       "      <td>3.0</td>\n",
       "      <td>0.0</td>\n",
       "      <td>0.0</td>\n",
       "      <td>inf</td>\n",
       "      <td>0.0</td>\n",
       "      <td>NaN</td>\n",
       "      <td>1.271186</td>\n",
       "      <td>0.0</td>\n",
       "      <td>True</td>\n",
       "    </tr>\n",
       "    <tr>\n",
       "      <th>Aapka Colors</th>\n",
       "      <td>6.0</td>\n",
       "      <td>0.0</td>\n",
       "      <td>0.0</td>\n",
       "      <td>inf</td>\n",
       "      <td>0.0</td>\n",
       "      <td>NaN</td>\n",
       "      <td>2.542373</td>\n",
       "      <td>0.0</td>\n",
       "      <td>True</td>\n",
       "    </tr>\n",
       "    <tr>\n",
       "      <th>Baby First</th>\n",
       "      <td>1.0</td>\n",
       "      <td>0.0</td>\n",
       "      <td>0.0</td>\n",
       "      <td>inf</td>\n",
       "      <td>0.0</td>\n",
       "      <td>NaN</td>\n",
       "      <td>0.423729</td>\n",
       "      <td>0.0</td>\n",
       "      <td>True</td>\n",
       "    </tr>\n",
       "    <tr>\n",
       "      <th>Cbs Sports</th>\n",
       "      <td>1.0</td>\n",
       "      <td>0.0</td>\n",
       "      <td>0.0</td>\n",
       "      <td>inf</td>\n",
       "      <td>0.0</td>\n",
       "      <td>NaN</td>\n",
       "      <td>0.423729</td>\n",
       "      <td>0.0</td>\n",
       "      <td>True</td>\n",
       "    </tr>\n",
       "    <tr>\n",
       "      <th>Cozi</th>\n",
       "      <td>0.0</td>\n",
       "      <td>0.0</td>\n",
       "      <td>0.0</td>\n",
       "      <td>NaN</td>\n",
       "      <td>NaN</td>\n",
       "      <td>NaN</td>\n",
       "      <td>0.000000</td>\n",
       "      <td>0.0</td>\n",
       "      <td>False</td>\n",
       "    </tr>\n",
       "    <tr>\n",
       "      <th>Diy</th>\n",
       "      <td>2.0</td>\n",
       "      <td>0.0</td>\n",
       "      <td>0.0</td>\n",
       "      <td>inf</td>\n",
       "      <td>0.0</td>\n",
       "      <td>NaN</td>\n",
       "      <td>0.847458</td>\n",
       "      <td>0.0</td>\n",
       "      <td>True</td>\n",
       "    </tr>\n",
       "    <tr>\n",
       "      <th>Espn</th>\n",
       "      <td>4.0</td>\n",
       "      <td>0.0</td>\n",
       "      <td>0.0</td>\n",
       "      <td>inf</td>\n",
       "      <td>0.0</td>\n",
       "      <td>NaN</td>\n",
       "      <td>1.694915</td>\n",
       "      <td>0.0</td>\n",
       "      <td>True</td>\n",
       "    </tr>\n",
       "    <tr>\n",
       "      <th>Fox News</th>\n",
       "      <td>14.0</td>\n",
       "      <td>0.0</td>\n",
       "      <td>0.0</td>\n",
       "      <td>inf</td>\n",
       "      <td>0.0</td>\n",
       "      <td>NaN</td>\n",
       "      <td>5.932203</td>\n",
       "      <td>0.0</td>\n",
       "      <td>True</td>\n",
       "    </tr>\n",
       "    <tr>\n",
       "      <th>Fyi</th>\n",
       "      <td>2.0</td>\n",
       "      <td>0.0</td>\n",
       "      <td>0.0</td>\n",
       "      <td>inf</td>\n",
       "      <td>0.0</td>\n",
       "      <td>NaN</td>\n",
       "      <td>0.847458</td>\n",
       "      <td>0.0</td>\n",
       "      <td>True</td>\n",
       "    </tr>\n",
       "    <tr>\n",
       "      <th>Hgtv</th>\n",
       "      <td>6.0</td>\n",
       "      <td>0.0</td>\n",
       "      <td>0.0</td>\n",
       "      <td>inf</td>\n",
       "      <td>0.0</td>\n",
       "      <td>NaN</td>\n",
       "      <td>2.542373</td>\n",
       "      <td>0.0</td>\n",
       "      <td>True</td>\n",
       "    </tr>\n",
       "    <tr>\n",
       "      <th>Lifetime Movie Network</th>\n",
       "      <td>0.0</td>\n",
       "      <td>0.0</td>\n",
       "      <td>0.0</td>\n",
       "      <td>NaN</td>\n",
       "      <td>NaN</td>\n",
       "      <td>NaN</td>\n",
       "      <td>0.000000</td>\n",
       "      <td>0.0</td>\n",
       "      <td>False</td>\n",
       "    </tr>\n",
       "    <tr>\n",
       "      <th>Oprah Winfrey Network</th>\n",
       "      <td>1.0</td>\n",
       "      <td>0.0</td>\n",
       "      <td>0.0</td>\n",
       "      <td>inf</td>\n",
       "      <td>0.0</td>\n",
       "      <td>NaN</td>\n",
       "      <td>0.423729</td>\n",
       "      <td>0.0</td>\n",
       "      <td>True</td>\n",
       "    </tr>\n",
       "    <tr>\n",
       "      <th>Other</th>\n",
       "      <td>13.0</td>\n",
       "      <td>0.0</td>\n",
       "      <td>0.0</td>\n",
       "      <td>inf</td>\n",
       "      <td>0.0</td>\n",
       "      <td>NaN</td>\n",
       "      <td>5.508475</td>\n",
       "      <td>0.0</td>\n",
       "      <td>True</td>\n",
       "    </tr>\n",
       "    <tr>\n",
       "      <th>Sony Entertainment Tv</th>\n",
       "      <td>4.0</td>\n",
       "      <td>0.0</td>\n",
       "      <td>0.0</td>\n",
       "      <td>inf</td>\n",
       "      <td>0.0</td>\n",
       "      <td>NaN</td>\n",
       "      <td>1.694915</td>\n",
       "      <td>0.0</td>\n",
       "      <td>True</td>\n",
       "    </tr>\n",
       "    <tr>\n",
       "      <th>Spike</th>\n",
       "      <td>0.0</td>\n",
       "      <td>0.0</td>\n",
       "      <td>0.0</td>\n",
       "      <td>NaN</td>\n",
       "      <td>NaN</td>\n",
       "      <td>NaN</td>\n",
       "      <td>0.000000</td>\n",
       "      <td>0.0</td>\n",
       "      <td>False</td>\n",
       "    </tr>\n",
       "    <tr>\n",
       "      <th>Sundance Channel</th>\n",
       "      <td>0.0</td>\n",
       "      <td>0.0</td>\n",
       "      <td>0.0</td>\n",
       "      <td>NaN</td>\n",
       "      <td>NaN</td>\n",
       "      <td>NaN</td>\n",
       "      <td>0.000000</td>\n",
       "      <td>0.0</td>\n",
       "      <td>False</td>\n",
       "    </tr>\n",
       "    <tr>\n",
       "      <th>Television Food Network</th>\n",
       "      <td>4.0</td>\n",
       "      <td>0.0</td>\n",
       "      <td>0.0</td>\n",
       "      <td>inf</td>\n",
       "      <td>0.0</td>\n",
       "      <td>NaN</td>\n",
       "      <td>1.694915</td>\n",
       "      <td>0.0</td>\n",
       "      <td>True</td>\n",
       "    </tr>\n",
       "    <tr>\n",
       "      <th>The Cooking Channel</th>\n",
       "      <td>0.0</td>\n",
       "      <td>0.0</td>\n",
       "      <td>0.0</td>\n",
       "      <td>NaN</td>\n",
       "      <td>NaN</td>\n",
       "      <td>NaN</td>\n",
       "      <td>0.000000</td>\n",
       "      <td>0.0</td>\n",
       "      <td>False</td>\n",
       "    </tr>\n",
       "    <tr>\n",
       "      <th>Velocity</th>\n",
       "      <td>0.0</td>\n",
       "      <td>0.0</td>\n",
       "      <td>0.0</td>\n",
       "      <td>NaN</td>\n",
       "      <td>NaN</td>\n",
       "      <td>NaN</td>\n",
       "      <td>0.000000</td>\n",
       "      <td>0.0</td>\n",
       "      <td>False</td>\n",
       "    </tr>\n",
       "    <tr>\n",
       "      <th>Investigation Discovery</th>\n",
       "      <td>0.0</td>\n",
       "      <td>0.0</td>\n",
       "      <td>0.0</td>\n",
       "      <td>NaN</td>\n",
       "      <td>NaN</td>\n",
       "      <td>NaN</td>\n",
       "      <td>0.000000</td>\n",
       "      <td>0.0</td>\n",
       "      <td>False</td>\n",
       "    </tr>\n",
       "    <tr>\n",
       "      <th>Viceland</th>\n",
       "      <td>0.0</td>\n",
       "      <td>0.0</td>\n",
       "      <td>0.0</td>\n",
       "      <td>NaN</td>\n",
       "      <td>NaN</td>\n",
       "      <td>NaN</td>\n",
       "      <td>0.000000</td>\n",
       "      <td>0.0</td>\n",
       "      <td>False</td>\n",
       "    </tr>\n",
       "    <tr>\n",
       "      <th>Destination America</th>\n",
       "      <td>0.0</td>\n",
       "      <td>0.0</td>\n",
       "      <td>0.0</td>\n",
       "      <td>NaN</td>\n",
       "      <td>NaN</td>\n",
       "      <td>NaN</td>\n",
       "      <td>0.000000</td>\n",
       "      <td>0.0</td>\n",
       "      <td>False</td>\n",
       "    </tr>\n",
       "    <tr>\n",
       "      <th>Golf</th>\n",
       "      <td>0.0</td>\n",
       "      <td>0.0</td>\n",
       "      <td>0.0</td>\n",
       "      <td>NaN</td>\n",
       "      <td>NaN</td>\n",
       "      <td>NaN</td>\n",
       "      <td>0.000000</td>\n",
       "      <td>0.0</td>\n",
       "      <td>False</td>\n",
       "    </tr>\n",
       "    <tr>\n",
       "      <th>Tennis</th>\n",
       "      <td>0.0</td>\n",
       "      <td>0.0</td>\n",
       "      <td>0.0</td>\n",
       "      <td>NaN</td>\n",
       "      <td>NaN</td>\n",
       "      <td>NaN</td>\n",
       "      <td>0.000000</td>\n",
       "      <td>0.0</td>\n",
       "      <td>False</td>\n",
       "    </tr>\n",
       "  </tbody>\n",
       "</table>\n",
       "</div>"
      ],
      "text/plain": [
       "                         Purchases  Spend  Lift  \\\n",
       "Exit Survey                                       \n",
       "(Blank)                        3.0    0.0   0.0   \n",
       "Aapka Colors                   6.0    0.0   0.0   \n",
       "Baby First                     1.0    0.0   0.0   \n",
       "Cbs Sports                     1.0    0.0   0.0   \n",
       "Cozi                           0.0    0.0   0.0   \n",
       "Diy                            2.0    0.0   0.0   \n",
       "Espn                           4.0    0.0   0.0   \n",
       "Fox News                      14.0    0.0   0.0   \n",
       "Fyi                            2.0    0.0   0.0   \n",
       "Hgtv                           6.0    0.0   0.0   \n",
       "Lifetime Movie Network         0.0    0.0   0.0   \n",
       "Oprah Winfrey Network          1.0    0.0   0.0   \n",
       "Other                         13.0    0.0   0.0   \n",
       "Sony Entertainment Tv          4.0    0.0   0.0   \n",
       "Spike                          0.0    0.0   0.0   \n",
       "Sundance Channel               0.0    0.0   0.0   \n",
       "Television Food Network        4.0    0.0   0.0   \n",
       "The Cooking Channel            0.0    0.0   0.0   \n",
       "Velocity                       0.0    0.0   0.0   \n",
       "Investigation Discovery        0.0    0.0   0.0   \n",
       "Viceland                       0.0    0.0   0.0   \n",
       "Destination America            0.0    0.0   0.0   \n",
       "Golf                           0.0    0.0   0.0   \n",
       "Tennis                         0.0    0.0   0.0   \n",
       "\n",
       "                         Conversion Rate (Purchases/Lift)%  \\\n",
       "Exit Survey                                                  \n",
       "(Blank)                                                inf   \n",
       "Aapka Colors                                           inf   \n",
       "Baby First                                             inf   \n",
       "Cbs Sports                                             inf   \n",
       "Cozi                                                   NaN   \n",
       "Diy                                                    inf   \n",
       "Espn                                                   inf   \n",
       "Fox News                                               inf   \n",
       "Fyi                                                    inf   \n",
       "Hgtv                                                   inf   \n",
       "Lifetime Movie Network                                 NaN   \n",
       "Oprah Winfrey Network                                  inf   \n",
       "Other                                                  inf   \n",
       "Sony Entertainment Tv                                  inf   \n",
       "Spike                                                  NaN   \n",
       "Sundance Channel                                       NaN   \n",
       "Television Food Network                                inf   \n",
       "The Cooking Channel                                    NaN   \n",
       "Velocity                                               NaN   \n",
       "Investigation Discovery                                NaN   \n",
       "Viceland                                               NaN   \n",
       "Destination America                                    NaN   \n",
       "Golf                                                   NaN   \n",
       "Tennis                                                 NaN   \n",
       "\n",
       "                         Cost Per Acquisition (Spend/Purchases)  \\\n",
       "Exit Survey                                                       \n",
       "(Blank)                                                     0.0   \n",
       "Aapka Colors                                                0.0   \n",
       "Baby First                                                  0.0   \n",
       "Cbs Sports                                                  0.0   \n",
       "Cozi                                                        NaN   \n",
       "Diy                                                         0.0   \n",
       "Espn                                                        0.0   \n",
       "Fox News                                                    0.0   \n",
       "Fyi                                                         0.0   \n",
       "Hgtv                                                        0.0   \n",
       "Lifetime Movie Network                                      NaN   \n",
       "Oprah Winfrey Network                                       0.0   \n",
       "Other                                                       0.0   \n",
       "Sony Entertainment Tv                                       0.0   \n",
       "Spike                                                       NaN   \n",
       "Sundance Channel                                            NaN   \n",
       "Television Food Network                                     0.0   \n",
       "The Cooking Channel                                         NaN   \n",
       "Velocity                                                    NaN   \n",
       "Investigation Discovery                                     NaN   \n",
       "Viceland                                                    NaN   \n",
       "Destination America                                         NaN   \n",
       "Golf                                                        NaN   \n",
       "Tennis                                                      NaN   \n",
       "\n",
       "                         Cost Per Visitor (Spend/Lift)  Percent of Purchases  \\\n",
       "Exit Survey                                                                    \n",
       "(Blank)                                            NaN              1.271186   \n",
       "Aapka Colors                                       NaN              2.542373   \n",
       "Baby First                                         NaN              0.423729   \n",
       "Cbs Sports                                         NaN              0.423729   \n",
       "Cozi                                               NaN              0.000000   \n",
       "Diy                                                NaN              0.847458   \n",
       "Espn                                               NaN              1.694915   \n",
       "Fox News                                           NaN              5.932203   \n",
       "Fyi                                                NaN              0.847458   \n",
       "Hgtv                                               NaN              2.542373   \n",
       "Lifetime Movie Network                             NaN              0.000000   \n",
       "Oprah Winfrey Network                              NaN              0.423729   \n",
       "Other                                              NaN              5.508475   \n",
       "Sony Entertainment Tv                              NaN              1.694915   \n",
       "Spike                                              NaN              0.000000   \n",
       "Sundance Channel                                   NaN              0.000000   \n",
       "Television Food Network                            NaN              1.694915   \n",
       "The Cooking Channel                                NaN              0.000000   \n",
       "Velocity                                           NaN              0.000000   \n",
       "Investigation Discovery                            NaN              0.000000   \n",
       "Viceland                                           NaN              0.000000   \n",
       "Destination America                                NaN              0.000000   \n",
       "Golf                                               NaN              0.000000   \n",
       "Tennis                                             NaN              0.000000   \n",
       "\n",
       "                         Percent of Spend  Percent Pur > Percent Spend  \n",
       "Exit Survey                                                             \n",
       "(Blank)                               0.0                         True  \n",
       "Aapka Colors                          0.0                         True  \n",
       "Baby First                            0.0                         True  \n",
       "Cbs Sports                            0.0                         True  \n",
       "Cozi                                  0.0                        False  \n",
       "Diy                                   0.0                         True  \n",
       "Espn                                  0.0                         True  \n",
       "Fox News                              0.0                         True  \n",
       "Fyi                                   0.0                         True  \n",
       "Hgtv                                  0.0                         True  \n",
       "Lifetime Movie Network                0.0                        False  \n",
       "Oprah Winfrey Network                 0.0                         True  \n",
       "Other                                 0.0                         True  \n",
       "Sony Entertainment Tv                 0.0                         True  \n",
       "Spike                                 0.0                        False  \n",
       "Sundance Channel                      0.0                        False  \n",
       "Television Food Network               0.0                         True  \n",
       "The Cooking Channel                   0.0                        False  \n",
       "Velocity                              0.0                        False  \n",
       "Investigation Discovery               0.0                        False  \n",
       "Viceland                              0.0                        False  \n",
       "Destination America                   0.0                        False  \n",
       "Golf                                  0.0                        False  \n",
       "Tennis                                0.0                        False  "
      ]
     },
     "execution_count": 79,
     "metadata": {},
     "output_type": "execute_result"
    }
   ],
   "source": [
    "purchases_spend_lift_by_network.query('Spend == 0')"
   ]
  },
  {
   "cell_type": "code",
   "execution_count": null,
   "id": "100348e2-5b6d-4258-a033-9ba76459cf01",
   "metadata": {},
   "outputs": [],
   "source": []
  },
  {
   "cell_type": "code",
   "execution_count": 80,
   "id": "123411de-6ae3-48bd-b350-1d0c9091e05a",
   "metadata": {},
   "outputs": [
    {
     "data": {
      "text/plain": [
       "Series([], Name: Purchases, dtype: float64)"
      ]
     },
     "execution_count": 80,
     "metadata": {},
     "output_type": "execute_result"
    }
   ],
   "source": [
    "num_purchases_no_spend = report_for_client[report_for_client['Spend']==0].groupby(\"Exit Survey Source\")['Purchases'].agg('sum')\n",
    "\n",
    "tot_purchases_no_spend = sum(num_purchases_no_spend)\n",
    "\n",
    "perc_purchases_no_spend = num_purchases_no_spend / tot_purchases_no_spend * 100\n",
    "perc_purchases_no_spend = perc_purchases_no_spend.sort_values(ascending=False)\n",
    "\n",
    "perc_purchases_no_spend\n",
    "# (report_for_client[report_for_client['Spend']==0].groupby(\"Exit Survey Source\")['Purchases'].agg('sum') / sum(report_for_client[report_for_client['Spend']==0].groupby(\"Exit Survey Source\")['Purchases'].agg('sum')) * 100).sort_values(ascending=False)"
   ]
  },
  {
   "cell_type": "code",
   "execution_count": null,
   "id": "7abc8ffd-af07-42e2-9956-d211e0ed6708",
   "metadata": {},
   "outputs": [],
   "source": []
  },
  {
   "cell_type": "markdown",
   "id": "7219d6c0-61cf-47e8-99b9-f5a524a3b443",
   "metadata": {},
   "source": [
    "## Old Graphing"
   ]
  },
  {
   "cell_type": "markdown",
   "id": "972e24e1-8d4b-4418-82c2-db6845386bcd",
   "metadata": {},
   "source": [
    "### Bar Charts"
   ]
  },
  {
   "cell_type": "code",
   "execution_count": 81,
   "id": "880d12ab-2d3b-44d3-b05d-36acb57486d0",
   "metadata": {},
   "outputs": [],
   "source": [
    "# ax = report_purchases_sorted[0:10].plot(kind='barh', y='Purchases', title='Top 10 Networks by Purchase', legend=False)\n",
    "# ax.invert_yaxis()\n",
    "# ax.set_xlabel('Number of Purchases');"
   ]
  },
  {
   "cell_type": "code",
   "execution_count": 82,
   "id": "0c98010f-2f58-4202-b5e9-468049a5f67d",
   "metadata": {},
   "outputs": [],
   "source": [
    "# ax = report_purchases_sorted[-10:].plot(kind='barh', y='Purchases', title='Bottom 10 Networks by Purchase', legend=False)\n",
    "# ax.invert_yaxis()\n",
    "# ax.set_xlabel('Number of Purchases')\n",
    "# ax.set_xticks(np.arange(0,3,1));"
   ]
  },
  {
   "cell_type": "code",
   "execution_count": 83,
   "id": "b1a541a9-e8e4-44f6-83ea-d213ac318cf7",
   "metadata": {},
   "outputs": [],
   "source": [
    "# ax = report_purchases_sorted[0:10].plot(kind='barh', y='Purchases', title='Top 10 Networks by Purchase', legend=False, color='blue')\n",
    "# ax.invert_yaxis()\n",
    "# ax.set_xlabel('Number of Purchases')\n",
    "# ax1 = ax.twiny()\n",
    "# report_purchases_sorted[0:10].plot(kind='barh', y='Spend', title='Top 10 Networks by Purchase', legend=False, ax=ax, color='r');"
   ]
  },
  {
   "cell_type": "code",
   "execution_count": 84,
   "id": "5327be93-b8ae-4849-b1b1-7997b0d3bc63",
   "metadata": {},
   "outputs": [],
   "source": [
    "# fig = plt.figure()\n",
    "# ax = fig.add_subplot(111)\n",
    "# ax.set_xlabel('Number of Purchases')\n",
    "\n",
    "\n",
    "# ax2 = ax.twiny()\n",
    "# ax2.set_xlabel('Amount Spent ($)')\n",
    "\n",
    "\n",
    "# bar1 = report_purchases_sorted['Purchases'][0:10].plot(kind='barh', color='green', position=1, width=0.4, ax=ax, label='Purchases')\n",
    "# bar2 = report_purchases_sorted['Spend'][0:10].plot(kind='barh', color='red', position=0, width=0.4, ax=ax2, label='Spend')\n",
    "\n",
    "# #ax2.invert_yaxis()\n",
    "# plt.ylim((-0.5, len(report_purchases_sorted[0:10])-0.5))\n",
    "# ax.invert_yaxis()\n",
    "\n",
    "# bars, labels = ax.get_legend_handles_labels()\n",
    "# bars2, labels2 = ax2.get_legend_handles_labels()\n",
    "# ax.legend(bars+bars2, labels+labels2, loc='lower right')\n",
    "\n",
    "# ;"
   ]
  },
  {
   "cell_type": "code",
   "execution_count": 85,
   "id": "a2af46a2-3734-4697-ab86-56231e99e402",
   "metadata": {},
   "outputs": [],
   "source": [
    "# fig = plt.figure(figsize=(7,7))\n",
    "# ax = fig.add_subplot(111)\n",
    "# ax.set_xlabel('Number of Purchases')\n",
    "\n",
    "\n",
    "# ax2 = ax.twiny()\n",
    "# ax2.set_xlabel('Amount Spent ($)')\n",
    "\n",
    "\n",
    "# report_purchases_sorted['Purchases'][-10:].plot(kind='barh', color='blue', position=1, width=0.4, ax=ax)\n",
    "# report_purchases_sorted['Spend'][-10:].plot(kind='barh', color='red', position=0, width=0.4, ax=ax2)\n",
    "# ax.invert_yaxis()\n",
    "# #ax2.invert_yaxis()\n",
    "# plt.ylim((-0.5, len(report_purchases_sorted[0:10])-0.5));"
   ]
  },
  {
   "cell_type": "code",
   "execution_count": null,
   "id": "5b27ed8d-d748-4516-b4eb-bc807eff7398",
   "metadata": {},
   "outputs": [],
   "source": []
  },
  {
   "cell_type": "code",
   "execution_count": null,
   "id": "b85d0745-3dbe-4744-a62d-09962a6e8452",
   "metadata": {},
   "outputs": [],
   "source": []
  },
  {
   "cell_type": "code",
   "execution_count": null,
   "id": "dcef92bc-2904-4184-abda-4ba7efa870dd",
   "metadata": {},
   "outputs": [],
   "source": []
  },
  {
   "cell_type": "markdown",
   "id": "0f1b852a-aa91-4882-8701-f3135d5139ab",
   "metadata": {},
   "source": [
    "### Scatter Plots"
   ]
  },
  {
   "cell_type": "markdown",
   "id": "b646e647-6031-4b97-aa87-a37b606d77f7",
   "metadata": {},
   "source": [
    "#### Adjusting annotation text manually"
   ]
  },
  {
   "cell_type": "code",
   "execution_count": 86,
   "id": "03d3ab91-93fd-4a89-a6df-e3813000af68",
   "metadata": {},
   "outputs": [
    {
     "ename": "NameError",
     "evalue": "name 'mean_purchases' is not defined",
     "output_type": "error",
     "traceback": [
      "\u001b[0;31m---------------------------------------------------------------------------\u001b[0m",
      "\u001b[0;31mNameError\u001b[0m                                 Traceback (most recent call last)",
      "Input \u001b[0;32mIn [86]\u001b[0m, in \u001b[0;36m<module>\u001b[0;34m\u001b[0m\n\u001b[1;32m      1\u001b[0m \u001b[38;5;66;03m#Q1: High Purchases, High Spend, check cost per acquisition?\u001b[39;00m\n\u001b[1;32m      2\u001b[0m \u001b[38;5;66;03m#Q2: Low Purchases, High Spend, Bad!\u001b[39;00m\n\u001b[0;32m----> 3\u001b[0m low_purchase_high_spend \u001b[38;5;241m=\u001b[39m report_for_client\u001b[38;5;241m.\u001b[39mquery(\u001b[38;5;124mF\u001b[39m\u001b[38;5;124m'\u001b[39m\u001b[38;5;124m(Purchases < \u001b[39m\u001b[38;5;132;01m{\u001b[39;00mmean_purchases\u001b[38;5;132;01m}\u001b[39;00m\u001b[38;5;124m) & (Spend >= \u001b[39m\u001b[38;5;132;01m{\u001b[39;00mmean_spend\u001b[38;5;132;01m}\u001b[39;00m\u001b[38;5;124m)\u001b[39m\u001b[38;5;124m'\u001b[39m)\u001b[38;5;241m.\u001b[39msort_values(\u001b[38;5;124m'\u001b[39m\u001b[38;5;124mCost Per Acquisition (Spend/Purchases)\u001b[39m\u001b[38;5;124m'\u001b[39m, ascending\u001b[38;5;241m=\u001b[39m\u001b[38;5;28;01mFalse\u001b[39;00m)\n\u001b[1;32m      4\u001b[0m \u001b[38;5;66;03m#Q3: Low Purchases, Low Spend, check cost per acquisition?\u001b[39;00m\n\u001b[1;32m      5\u001b[0m \u001b[38;5;66;03m#Q4: High Purchases, Low Spend, great!\u001b[39;00m\n\u001b[1;32m      6\u001b[0m high_purchase_low_spend \u001b[38;5;241m=\u001b[39m report_for_client\u001b[38;5;241m.\u001b[39mquery(\u001b[38;5;124mF\u001b[39m\u001b[38;5;124m'\u001b[39m\u001b[38;5;124m(Purchases >= \u001b[39m\u001b[38;5;132;01m{\u001b[39;00mmean_purchases\u001b[38;5;132;01m}\u001b[39;00m\u001b[38;5;124m) & (Spend < \u001b[39m\u001b[38;5;132;01m{\u001b[39;00mmean_spend\u001b[38;5;132;01m}\u001b[39;00m\u001b[38;5;124m)\u001b[39m\u001b[38;5;124m'\u001b[39m)\u001b[38;5;241m.\u001b[39msort_values(\u001b[38;5;124m'\u001b[39m\u001b[38;5;124mCost Per Acquisition (Spend/Purchases)\u001b[39m\u001b[38;5;124m'\u001b[39m, ascending\u001b[38;5;241m=\u001b[39m\u001b[38;5;28;01mFalse\u001b[39;00m)\n",
      "\u001b[0;31mNameError\u001b[0m: name 'mean_purchases' is not defined"
     ]
    }
   ],
   "source": [
    "#Q1: High Purchases, High Spend, check cost per acquisition?\n",
    "#Q2: Low Purchases, High Spend, Bad!\n",
    "low_purchase_high_spend = report_for_client.query(F'(Purchases < {mean_purchases}) & (Spend >= {mean_spend})').sort_values('Cost Per Acquisition (Spend/Purchases)', ascending=False)\n",
    "#Q3: Low Purchases, Low Spend, check cost per acquisition?\n",
    "#Q4: High Purchases, Low Spend, great!\n",
    "high_purchase_low_spend = report_for_client.query(F'(Purchases >= {mean_purchases}) & (Spend < {mean_spend})').sort_values('Cost Per Acquisition (Spend/Purchases)', ascending=False)\n",
    "\n",
    "fig, ax = plt.subplots(1,1,figsize=(10,5))\n",
    "report_for_client[['Purchases', 'Spend']].plot(kind='scatter', x='Purchases', y='Spend', ax=ax)\n",
    "\n",
    "plt.tick_params(left=True,labelleft=False,\n",
    "                   labelbottom=False)\n",
    "\n",
    "for i in range(len(low_purchase_high_spend)):\n",
    "    txt = low_purchase_high_spend.index[i]\n",
    "    x_coord = low_purchase_high_spend['Purchases'][i]\n",
    "    y_coord = low_purchase_high_spend['Spend'][i]\n",
    "    ax.annotate(txt, xy=(x_coord, y_coord), xytext=(x_coord, y_coord+1_000), color='red', ha='center')\n",
    "    ax.scatter(x_coord, y_coord, color='red')\n",
    "    \n",
    "for i in range(len(high_purchase_low_spend)):\n",
    "    txt = high_purchase_low_spend.index[i]\n",
    "    x_coord = high_purchase_low_spend['Purchases'][i]\n",
    "    y_coord = high_purchase_low_spend['Spend'][i]\n",
    "    ax.scatter(x_coord, y_coord, color='green')\n",
    "    if i == 3:\n",
    "        ax.annotate(txt, xy=(x_coord, y_coord), xytext=(x_coord-0.5, y_coord+1_000), color='green', ha='right')\n",
    "    elif i == 2:\n",
    "        ax.annotate(txt, xy=(x_coord, y_coord), xytext=(x_coord+0.5, y_coord+1_000), color='green', ha='left')\n",
    "    else:\n",
    "        ax.annotate(txt, xy=(x_coord, y_coord), xytext=(x_coord+0.5, y_coord+1_000), color='green', ha='center')\n",
    "\n",
    "#report_top_5_purchases[['Purchases', 'Spend']].plot(kind='scatter', x='Purchases', y='Spend', color='red', ax=ax)\n",
    "plt.axhline(y=mean_spend, linestyle='--', color='k')\n",
    "plt.text(x=45, y=mean_spend+1_000, s=F'Mean Spend: ${round(mean_spend,2)}', color='k')\n",
    "plt.axvline(x=mean_purchases, linestyle='--', color='k')\n",
    "plt.text(x=mean_purchases+0.5, y=48_000, s=F'Mean Purchases: {round(mean_purchases)}', color='k')\n",
    "\n",
    "# plt.text(x=2, y=45_000, s='Low Purchases,', ha='center', color='red')\n",
    "# plt.text(x=2, y=43_000, s='High Spend', ha='center', color='red')\n",
    "\n",
    "# plt.text(x=40, y=5_000, s='High Purchases,', ha='center', color='green')\n",
    "# plt.text(x=40, y=3_000, s='Low Spend', ha='center', color='green')\n",
    "\n",
    "plt.show();"
   ]
  },
  {
   "cell_type": "code",
   "execution_count": null,
   "id": "89e661c6-0cbf-4ace-baf8-6a8d65a714f4",
   "metadata": {
    "tags": []
   },
   "outputs": [],
   "source": [
    "report_for_client.query(F'(Purchases >= {mean_purchases}) & (Spend >= {mean_spend})').sort_values('Cost Per Acquisition (Spend/Purchases)', ascending=False)"
   ]
  },
  {
   "cell_type": "code",
   "execution_count": null,
   "id": "62022e23-1a49-448b-8a10-25ef476aa062",
   "metadata": {},
   "outputs": [],
   "source": [
    "report_for_client.query(F'(Purchases < {mean_purchases}) & (Spend >= {mean_spend})').sort_values('Cost Per Acquisition (Spend/Purchases)', ascending=False)"
   ]
  },
  {
   "cell_type": "code",
   "execution_count": null,
   "id": "efba4104-71ee-4fea-a431-a58afbe7bb6a",
   "metadata": {
    "tags": []
   },
   "outputs": [],
   "source": [
    "report_for_client.query(F'(Purchases < {mean_purchases}) & (Spend < {mean_spend})').sort_values('Cost Per Acquisition (Spend/Purchases)', ascending=False)"
   ]
  },
  {
   "cell_type": "code",
   "execution_count": null,
   "id": "53c1d8a7-951a-4970-8ff3-d74ecd77d7a2",
   "metadata": {},
   "outputs": [],
   "source": [
    "report_for_client.query(F'(Purchases >= {mean_purchases}) & (Spend < {mean_spend})').sort_values('Cost Per Acquisition (Spend/Purchases)', ascending=False)"
   ]
  },
  {
   "cell_type": "code",
   "execution_count": null,
   "id": "77b99313-bf44-436e-ba5c-55dda218b051",
   "metadata": {},
   "outputs": [],
   "source": [
    "#Q1: High Lift, High Spend, check cost per visitor?\n",
    "#Q2: Low Lift, High Spend, Bad!\n",
    "#Q3: Low Lift, Low Spend, check cost per visitor?\n",
    "#Q4: High Lift, Low Spend great!\n",
    "\n",
    "fig, ax = plt.subplots(1,1,figsize=(10,5))\n",
    "report_for_client.plot(kind='scatter', x='Lift', y='Spend', ax=ax)\n",
    "#report_top_5_purchases.plot(kind='scatter', x='Lift', y='Spend', color='red', ax=ax)\n",
    "\n",
    "low_lift_high_spend = report_for_client.query(F'(Lift < {mean_lift}) & (Spend >= {mean_spend})').sort_values('Cost Per Visitor (Spend/Lift)', ascending=False)\n",
    "\n",
    "for i in range(len(low_lift_high_spend)):\n",
    "    txt = low_lift_high_spend.index[i]\n",
    "    x_coord = low_lift_high_spend['Lift'][i]\n",
    "    y_coord = low_lift_high_spend['Spend'][i]\n",
    "    ax.annotate(txt, xy=(x_coord, y_coord), xytext=(x_coord, y_coord+1_000), color='red', ha='right')\n",
    "    ax.scatter(x_coord, y_coord, color='red')\n",
    "\n",
    "high_lift_low_spend = report_for_client.query(F'(Lift >= {mean_lift}) & (Spend < {mean_spend})').sort_values('Cost Per Visitor (Spend/Lift)', ascending=False)\n",
    "\n",
    "for i in range(len(high_lift_low_spend)):\n",
    "    txt = high_lift_low_spend.index[i]\n",
    "    x_coord = high_lift_low_spend['Lift'][i]\n",
    "    y_coord = high_lift_low_spend['Spend'][i]\n",
    "    ax.annotate(txt, xy=(x_coord, y_coord), xytext=(x_coord+50, y_coord-2_000), color='green', ha='left')\n",
    "    ax.scatter(x_coord, y_coord, color='green')\n",
    "\n",
    "# plt.axhline(y=mean_spend)\n",
    "# plt.axvline(x=mean_lift)\n",
    "\n",
    "plt.axhline(y=mean_spend, linestyle='--', color='k')\n",
    "plt.text(x=6_500, y=mean_spend+1_000, s=F'Mean Spend: ${round(mean_spend,2)}', color='k')\n",
    "\n",
    "plt.axvline(x=mean_lift, linestyle='--', color='k')\n",
    "plt.text(x=mean_lift+100, y=48_000, s=F'Mean Lift: {round(mean_lift)}', color='k')\n",
    "\n",
    "plt.show();"
   ]
  },
  {
   "cell_type": "code",
   "execution_count": null,
   "id": "e7d61c2a-4d9b-49d4-a1bf-04edf2f562b9",
   "metadata": {
    "tags": []
   },
   "outputs": [],
   "source": [
    "report_for_client.query(F'(Lift >= {mean_lift}) & (Spend >= {mean_spend})').sort_values('Cost Per Visitor (Spend/Lift)', ascending=False)"
   ]
  },
  {
   "cell_type": "code",
   "execution_count": null,
   "id": "2eb6c26b-f98a-4263-a441-5ea7153a9d06",
   "metadata": {},
   "outputs": [],
   "source": [
    "report_for_client.query(F'(Lift < {mean_lift}) & (Spend >= {mean_spend})').sort_values('Cost Per Visitor (Spend/Lift)', ascending=False)"
   ]
  },
  {
   "cell_type": "code",
   "execution_count": null,
   "id": "c01c5bf4-28df-4f76-8850-7f7c9fc724ec",
   "metadata": {
    "tags": []
   },
   "outputs": [],
   "source": [
    "report_for_client.query(F'(Lift < {mean_lift}) & (Spend < {mean_spend})').sort_values('Cost Per Visitor (Spend/Lift)', ascending=False)"
   ]
  },
  {
   "cell_type": "code",
   "execution_count": null,
   "id": "dc385ad7-8798-45ea-ae77-a5930d6cb411",
   "metadata": {},
   "outputs": [],
   "source": [
    "report_for_client.query(F'(Lift >= {mean_lift}) & (Spend < {mean_spend})').sort_values('Cost Per Visitor (Spend/Lift)', ascending=False)"
   ]
  },
  {
   "cell_type": "code",
   "execution_count": null,
   "id": "f5ddf560-ec2f-498d-ad34-14b814a86916",
   "metadata": {},
   "outputs": [],
   "source": [
    "#Q1: High Lift, High Purchases, check _?\n",
    "#Q2: Low Lift, High Purchases, check spend, maybe spend more here!\n",
    "#Q3: Low Lift, Low Purchases, check conversion rate, spend more on ones that have high conversion rate?  Maybe also check cost per visitor?\n",
    "#Q4: High Lift, Low Purchases, not good?\n",
    "fig, ax = plt.subplots(1,1,figsize=(10,5))\n",
    "report_for_client.plot(kind='scatter', x='Lift', y='Purchases', ax=ax)\n",
    "\n",
    "low_lift_high_purchases = report_for_client.query(F'(Lift < {mean_lift}) & (Purchases >= {mean_purchases})').sort_values('Cost Per Visitor (Spend/Lift)', ascending=False)\n",
    "\n",
    "for i in range(len(low_lift_high_purchases)):\n",
    "    txt = low_lift_high_purchases.index[i]\n",
    "    x_coord = low_lift_high_purchases['Lift'][i]\n",
    "    y_coord = low_lift_high_purchases['Purchases'][i]\n",
    "    if i == 1: #cnbc\n",
    "        ax.annotate(txt, xy=(x_coord, y_coord), xytext=(x_coord, y_coord+2), color='green', ha='left')\n",
    "        ax.scatter(x_coord, y_coord, color='green')\n",
    "    elif i == 2: #fox news\n",
    "        ax.annotate(txt, xy=(x_coord, y_coord), xytext=(x_coord, y_coord+1), color='green', ha='center')\n",
    "        ax.scatter(x_coord, y_coord, color='green')\n",
    "    elif i == 3: #other\n",
    "        ax.annotate(txt, xy=(x_coord, y_coord), xytext=(x_coord, y_coord-3), color='green', ha='center')\n",
    "        ax.scatter(x_coord, y_coord, color='green')\n",
    "    else: #cnbc and dateline\n",
    "        ax.annotate(txt, xy=(x_coord, y_coord), xytext=(x_coord, y_coord+1), color='green', ha='center')\n",
    "        ax.scatter(x_coord, y_coord, color='green')\n",
    "\n",
    "high_lift_low_purchases = report_for_client.query(F'(Lift >= {mean_lift}) & (Purchases < {mean_purchases})').sort_values('Cost Per Visitor (Spend/Lift)', ascending=False)\n",
    "\n",
    "for i in range(len(high_lift_low_purchases)):\n",
    "    txt = high_lift_low_purchases.index[i]\n",
    "    x_coord = high_lift_low_purchases['Lift'][i]\n",
    "    y_coord = high_lift_low_purchases['Purchases'][i]\n",
    "    \n",
    "    if i == 2: #dishnetwork\n",
    "        ax.annotate(txt, xy=(x_coord, y_coord), xytext=(x_coord+140, y_coord-5), color='red', ha='center')\n",
    "        ax.scatter(x_coord, y_coord, color='red')\n",
    "    elif i == 0: #zeetv\n",
    "        ax.annotate(txt, xy=(x_coord, y_coord), xytext=(x_coord, y_coord+1), color='red', ha='center')\n",
    "        ax.scatter(x_coord, y_coord, color='red')\n",
    "    else: #starplus\n",
    "        ax.annotate(txt, xy=(x_coord, y_coord), xytext=(x_coord+100, y_coord-2), color='red', ha='left')\n",
    "        ax.scatter(x_coord, y_coord, color='red')\n",
    "\n",
    "# report_top_5_purchases.plot(kind='scatter', x='Lift', y='Purchases', color='red', ax=ax)\n",
    "# plt.axhline(y=mean_purchases)\n",
    "# plt.axvline(x=mean_lift)\n",
    "\n",
    "plt.axhline(y=mean_purchases, linestyle='--', color='k')\n",
    "plt.text(x=6_500, y=mean_purchases+1, s=F'Mean Purchases: {round(mean_purchases)}', color='k')\n",
    "\n",
    "plt.axvline(x=mean_lift, linestyle='--', color='k')\n",
    "plt.text(x=mean_lift+100, y=55, s=F'Mean Lift: {round(mean_lift)}', color='k')\n",
    "\n",
    "plt.show();"
   ]
  },
  {
   "cell_type": "code",
   "execution_count": null,
   "id": "b402d112-7f8e-4e6f-9b68-aa581d075340",
   "metadata": {},
   "outputs": [],
   "source": [
    "report_for_client.query(F'(Lift < {mean_lift}) & (Purchases >= {mean_purchases})').sort_values('Cost Per Visitor (Spend/Lift)', ascending=False)"
   ]
  },
  {
   "cell_type": "code",
   "execution_count": null,
   "id": "8c008275-eda3-4c97-bb92-6397931a592a",
   "metadata": {},
   "outputs": [],
   "source": [
    "report_for_client.query(F'(Lift >= {mean_lift}) & (Purchases < {mean_purchases})').sort_values('Cost Per Visitor (Spend/Lift)', ascending=False)"
   ]
  },
  {
   "cell_type": "code",
   "execution_count": null,
   "id": "0c03b663-8a65-4add-b72c-827b34db238a",
   "metadata": {},
   "outputs": [],
   "source": [
    "#Q1: High Conversion Rate, High Spend, check _?\n",
    "#Q2: Low Conversion Rate, High Spend, bad!\n",
    "#Q3: Low Conversion Rate, Low Spend, check conversion rate, check cost per acquisition and cost per visitor?\n",
    "#Q4: high Conversion Rate, Low Spend great!\n",
    "\n",
    "fig, ax = plt.subplots(1,1,figsize=(10,5))\n",
    "report_for_client.plot(kind='scatter', x='Conversion Rate (Purchases/Lift)%', y='Spend', ax=ax)\n",
    "\n",
    "low_conversion_rate_high_spend = report_for_client[(report_for_client[\"Conversion Rate (Purchases/Lift)%\"] < mean_conversion_rate) & (report_for_client[\"Spend\"] >= mean_spend)]\n",
    "\n",
    "for i in range(len(low_conversion_rate_high_spend)):\n",
    "    txt = low_conversion_rate_high_spend.index[i]\n",
    "    x_coord = low_conversion_rate_high_spend['Conversion Rate (Purchases/Lift)%'][i]\n",
    "    y_coord = low_conversion_rate_high_spend['Spend'][i]\n",
    "    ax.annotate(txt, xy=(x_coord, y_coord), xytext=(x_coord, y_coord+1_000), color='red', ha='center')\n",
    "    ax.scatter(x_coord, y_coord, color='red')\n",
    "\n",
    "    \n",
    "high_conversion_rate_low_spend = report_for_client[(report_for_client[\"Conversion Rate (Purchases/Lift)%\"] >= mean_conversion_rate) & (report_for_client[\"Spend\"] < mean_spend)]\n",
    "    \n",
    "# report_top_5_purchases.plot(kind='scatter', x='Conversion Rate (Purchases/Lift)%', y='Spend', color='red', ax=ax)\n",
    "# plt.axhline(y=mean_spend)\n",
    "# plt.axvline(x=mean_conversion_rate)\n",
    "\n",
    "plt.axhline(y=mean_spend, linestyle='--', color='k')\n",
    "plt.text(x=3, y=mean_spend+1_000, s=F'Mean Spend: ${round(mean_spend, 2)}', color='k')\n",
    "\n",
    "plt.axvline(x=mean_conversion_rate, linestyle='--', color='k')\n",
    "plt.text(x=mean_conversion_rate+0.05, y=45_000, s=F'Mean Conversion Rate: {round(mean_conversion_rate, 1)}%', color='k')\n",
    "\n",
    "plt.show();"
   ]
  },
  {
   "cell_type": "markdown",
   "id": "f496c21e-6b08-4c79-9b6f-88ab940a1428",
   "metadata": {},
   "source": [
    "#### Where you started using adjustText to adjust annotation text automatically"
   ]
  },
  {
   "cell_type": "code",
   "execution_count": null,
   "id": "b72dd4c6-ee77-4b30-b671-308111f21b50",
   "metadata": {},
   "outputs": [],
   "source": [
    "from adjustText import adjust_text\n",
    "\n",
    "fig, ax = plt.subplots(1,1,figsize=(10,5))\n",
    "report_for_client.plot(kind='scatter', x='Conversion Rate (Purchases/Lift)%', y='Spend', ax=ax)\n",
    "\n",
    "together1 = []\n",
    "# text_list = []\n",
    "# x_coords = []\n",
    "# y_coords = []\n",
    "for i in range(len(low_conversion_rate_high_spend)):\n",
    "    txt1 = low_conversion_rate_high_spend.index[i]\n",
    "    x_coord1 = low_conversion_rate_high_spend['Conversion Rate (Purchases/Lift)%'][i]\n",
    "    y_coord1 = low_conversion_rate_high_spend['Spend'][i]\n",
    "    together1.append((txt1, x_coord1, y_coord1))\n",
    "    ax.scatter(x_coord1, y_coord1, color='red')\n",
    "together1.sort()\n",
    "\n",
    "text1 = [x for (x,y,z) in together1]\n",
    "x_coords1 = [y for (x,y,z) in together1]\n",
    "y_coords1 = [z for (x,y,z) in together1]\n",
    "\n",
    "texts1 = []\n",
    "for x, y, s in zip(x_coords1, y_coords1, text1):\n",
    "    texts1.append(plt.text(x, y, s, color='red'))\n",
    "\n",
    "adjust_text(texts1, only_move={'points':'y', 'texts1':'y'})\n",
    "\n",
    "\n",
    "together2 = []\n",
    "# text_list = []\n",
    "# x_coords = []\n",
    "# y_coords = []\n",
    "for i in range(len(high_conversion_rate_low_spend)):\n",
    "    txt2 = high_conversion_rate_low_spend.index[i]\n",
    "    x_coord2 = high_conversion_rate_low_spend['Conversion Rate (Purchases/Lift)%'][i]\n",
    "    y_coord2 = high_conversion_rate_low_spend['Spend'][i]\n",
    "    together2.append((txt2, x_coord2, y_coord2))\n",
    "    ax.scatter(x_coord2, y_coord2, color='green')\n",
    "together2.sort()\n",
    "\n",
    "text2 = [x for (x,y,z) in together2]\n",
    "x_coords2 = [y for (x,y,z) in together2]\n",
    "y_coords2 = [z for (x,y,z) in together2]\n",
    "\n",
    "texts2 = []\n",
    "for x, y, s in zip(x_coords2, y_coords2, text2):\n",
    "    texts2.append(plt.text(x, y, s, color='green'))\n",
    "\n",
    "adjust_text(texts2, only_move={'points':'y', 'texts2':'y'})\n",
    "\n",
    "plt.axhline(y=mean_spend, linestyle=(0, (2, 8)), color='k')\n",
    "plt.text(x=2.9, y=mean_spend+1_000, s=F'Mean Spend: ${round(mean_spend, 2)}', color='k')\n",
    "\n",
    "plt.axvline(x=mean_conversion_rate, linestyle=(0, (2, 8)), color='k')\n",
    "plt.text(x=mean_conversion_rate+0.05, y=45_000, s=F'Mean Conversion Rate: {round(mean_conversion_rate, 1)}%', color='k')\n",
    "\n",
    "plt.show()"
   ]
  },
  {
   "cell_type": "code",
   "execution_count": null,
   "id": "e0fd3c52-0d5d-41f6-9a02-f9f35d269d59",
   "metadata": {},
   "outputs": [],
   "source": [
    "from adjustText import adjust_text\n",
    "\n",
    "fig, ax = plt.subplots(1,1,figsize=(10,5))\n",
    "report_for_client.plot(kind='scatter', x='Conversion Rate (Purchases/Lift)%', y='Spend', ax=ax)\n",
    "\n",
    "together = []\n",
    "\n",
    "for i in range(len(low_conversion_rate_high_spend)):\n",
    "    txt1 = low_conversion_rate_high_spend.index[i]\n",
    "    x_coord1 = low_conversion_rate_high_spend['Conversion Rate (Purchases/Lift)%'][i]\n",
    "    y_coord1 = low_conversion_rate_high_spend['Spend'][i]\n",
    "    color1 = 'red'\n",
    "    together.append((txt1, x_coord1, y_coord1, color1))\n",
    "    ax.scatter(x_coord1, y_coord1, color=color1)\n",
    "\n",
    "for i in range(len(high_conversion_rate_low_spend)):\n",
    "    txt2 = high_conversion_rate_low_spend.index[i]\n",
    "    x_coord2 = high_conversion_rate_low_spend['Conversion Rate (Purchases/Lift)%'][i]\n",
    "    y_coord2 = high_conversion_rate_low_spend['Spend'][i]\n",
    "    color2 = 'green'\n",
    "    together.append((txt2, x_coord2, y_coord2, color2))\n",
    "    ax.scatter(x_coord2, y_coord2, color=color2)\n",
    "together.sort()\n",
    "\n",
    "text = [x for (x,y,z,c) in together]\n",
    "x_coords = [y for (x,y,z,c) in together]\n",
    "y_coords = [z for (x,y,z,c) in together]\n",
    "colors = [c for (x,y,z,c) in together]\n",
    "\n",
    "texts = []\n",
    "for x, y, s, c in zip(x_coords, y_coords, text, colors):\n",
    "    texts.append(plt.text(x, y, s, color=c))\n",
    "\n",
    "adjust_text(texts, only_move={'points':'y', 'texts':'y'})\n",
    "\n",
    "\n",
    "plt.axhline(y=mean_spend, linestyle=(0, (2, 8)), color='k')\n",
    "plt.text(x=2.9, y=mean_spend+1_000, s=F'Mean Spend: ${round(mean_spend, 2)}', color='k')\n",
    "\n",
    "plt.axvline(x=mean_conversion_rate, linestyle=(0, (2, 8)), color='k')\n",
    "plt.text(x=mean_conversion_rate+0.05, y=45_000, s=F'Mean Conversion Rate: {round(mean_conversion_rate, 1)}%', color='k')\n",
    "\n",
    "plt.show()"
   ]
  },
  {
   "cell_type": "code",
   "execution_count": null,
   "id": "89a4ad42-c449-4a38-9910-76d308952e74",
   "metadata": {},
   "outputs": [],
   "source": []
  },
  {
   "cell_type": "code",
   "execution_count": null,
   "id": "6f59588b-7d05-4863-8860-e0df3c40a162",
   "metadata": {},
   "outputs": [],
   "source": [
    "report_for_client[(report_for_client[\"Conversion Rate (Purchases/Lift)%\"] < mean_conversion_rate) & (report_for_client[\"Spend\"] >= mean_spend)]"
   ]
  },
  {
   "cell_type": "code",
   "execution_count": null,
   "id": "6df8e8d3-7cab-43b6-a363-9bd541318e81",
   "metadata": {},
   "outputs": [],
   "source": [
    "report_for_client[(report_for_client[\"Conversion Rate (Purchases/Lift)%\"] >= mean_conversion_rate) & (report_for_client[\"Spend\"] < mean_spend)]"
   ]
  },
  {
   "cell_type": "code",
   "execution_count": null,
   "id": "d282451f-0561-4f52-9305-20955f58df9c",
   "metadata": {},
   "outputs": [],
   "source": [
    "# report_for_client.query(\"(Conversion Rate (Purchases/Lift)% < {0}) & (Spend >= {1})\".format(mean_conversion_rate, mean_spend)).sort_values('Cost Per Visitor (Spend/Lift)', ascending=False)"
   ]
  },
  {
   "cell_type": "code",
   "execution_count": null,
   "id": "e061a99c-41fa-4545-9b67-4ad7812046bf",
   "metadata": {},
   "outputs": [],
   "source": [
    "# # This chart just seems bad\n",
    "\n",
    "# #Q1: High Cost Per Acquisition, High Spend, bad!\n",
    "# #Q2: Low Cost Per Acquisition, High Spend, must mean lots of purchases?  Doesn't make a lot of sense\n",
    "# #Q3: Low Cost Per Acquisition, Low Spend, check conversion rate, check cost per acquisition and cost per visitor?\n",
    "# #Q4: Low Spend, high Cost Per Acquisition, doesn't make a lot of sense..?\n",
    "# fig, ax = plt.subplots(1,1,figsize=(10,5))\n",
    "# report_for_client.plot(kind='scatter', x='Cost Per Acquisition', y='Spend', ax=ax)\n",
    "# report_top_5_purchases.plot(kind='scatter', x='Cost Per Acquisition', y='Spend', color='red', ax=ax)\n",
    "# plt.axhline(y=mean_spend)\n",
    "# plt.axvline(x=mean_cpa)\n",
    "# ;"
   ]
  },
  {
   "cell_type": "code",
   "execution_count": null,
   "id": "0f560f14-2922-4992-9392-d10d15973a81",
   "metadata": {},
   "outputs": [],
   "source": [
    "# # This chart just seems bad\n",
    "\n",
    "# #Q1: High Cost Per Visitor, High Spend, none present, doesn't matter\n",
    "# #Q2: Low Cost Per Visitor, High Spend, Seems weird? Doesn't make sense\n",
    "# #Q3: Low Cost Per Visitor, Low Spend, Seems weird, doesn't make sense\n",
    "# #Q4: High Cost Per Visitor, Low Spend, seems weird, doesn't make sense\n",
    "\n",
    "# fig, ax = plt.subplots(1,1,figsize=(10,5))\n",
    "# report_for_client.plot(kind='scatter', x='Cost Per Visitor', y='Spend', ax=ax)\n",
    "# report_top_5_purchases.plot(kind='scatter', x='Cost Per Visitor', y='Spend', color='red', ax=ax)\n",
    "# plt.axhline(y=mean_spend)\n",
    "# plt.axvline(x=mean_cost_per_visitor)\n",
    "# ;"
   ]
  },
  {
   "cell_type": "code",
   "execution_count": null,
   "id": "b293580e-533f-4ede-9059-4912db02f036",
   "metadata": {},
   "outputs": [],
   "source": [
    "#Q1: High Conversion Rate, High Cost Per Acquisition, check _?\n",
    "#Q2: Low Conversion Rate, High Cost Per Acquisition, bad!\n",
    "#Q3: Low Conversion Rate, Low Cost Per Acquisition, unsure?\n",
    "#Q4: High Conversion Rate, Low Cost Per Acquisition, great!\n",
    "\n",
    "fig, ax = plt.subplots(1,1,figsize=(10,5))\n",
    "report_for_client.plot(kind='scatter', x='Conversion Rate (Purchases/Lift)%', y='Cost Per Acquisition (Spend/Purchases)', ax=ax)\n",
    "\n",
    "\n",
    "report_top_5_purchases.plot(kind='scatter', x='Conversion Rate (Purchases/Lift)%', y='Cost Per Acquisition (Spend/Purchases)', color='red', ax=ax)\n",
    "plt.axhline(y=mean_cpa)\n",
    "plt.axvline(x=mean_conversion_rate)\n",
    "\n",
    "plt.show();"
   ]
  },
  {
   "cell_type": "code",
   "execution_count": null,
   "id": "5f8dcfd4-a77d-4eaf-a804-18c9a1a18174",
   "metadata": {},
   "outputs": [],
   "source": [
    "make_scatter(df=report_for_client,\n",
    "             x_field=\"Conversion Rate (Purchases/Lift)%\",\n",
    "             y_field=\"Cost Per Acquisition (Spend/Purchases)\",\n",
    "             x_units=\"%\",\n",
    "             y_units=\"$\")"
   ]
  },
  {
   "cell_type": "code",
   "execution_count": null,
   "id": "03bbf56c-97d1-400a-9612-47b9e2349221",
   "metadata": {},
   "outputs": [],
   "source": [
    "fig, ax = plt.subplots(1,1,figsize=(10,5))\n",
    "report_for_client.plot(kind='scatter', x='Conversion Rate (Purchases/Lift)%', y='Cost Per Acquisition (Spend/Purchases)', ax=ax)\n",
    "\n",
    "low_conversion_rate_high_cost_per_acquisition = report_for_client[(report_for_client[\"Conversion Rate (Purchases/Lift)%\"] < mean_conversion_rate) & (report_for_client[\"Cost Per Acquisition (Spend/Purchases)\"] >= mean_cpa)]\n",
    "\n",
    "together = []\n",
    "\n",
    "for i in range(len(low_conversion_rate_high_cost_per_acquisition)):\n",
    "    txt1 = low_conversion_rate_high_cost_per_acquisition.index[i]\n",
    "    x_coord1 = low_conversion_rate_high_cost_per_acquisition['Conversion Rate (Purchases/Lift)%'][i]\n",
    "    y_coord1 = low_conversion_rate_high_cost_per_acquisition['Cost Per Acquisition (Spend/Purchases)'][i]\n",
    "    color1 = 'red'\n",
    "    together.append((txt1, x_coord1, y_coord1, color1))\n",
    "    ax.scatter(x_coord1, y_coord1, color=color1)\n",
    "\n",
    "\n",
    "high_conversion_rate_low_cost_per_acquisition = report_for_client[(report_for_client[\"Conversion Rate (Purchases/Lift)%\"] >= mean_conversion_rate) & (report_for_client[\"Cost Per Acquisition (Spend/Purchases)\"] < mean_cpa)]\n",
    "\n",
    "\n",
    "for i in range(len(high_conversion_rate_low_cost_per_acquisition)):\n",
    "    txt2 = high_conversion_rate_low_cost_per_acquisition.index[i]\n",
    "    x_coord2 = high_conversion_rate_low_cost_per_acquisition['Conversion Rate (Purchases/Lift)%'][i]\n",
    "    y_coord2 = high_conversion_rate_low_cost_per_acquisition['Cost Per Acquisition (Spend/Purchases)'][i]\n",
    "    color2 = 'green'\n",
    "    together.append((txt2, x_coord2, y_coord2, color2))\n",
    "    ax.scatter(x_coord2, y_coord2, color=color2)\n",
    "together.sort()\n",
    "\n",
    "    \n",
    "text = [x for (x,y,z,c) in together]\n",
    "x_coords = [y for (x,y,z,c) in together]\n",
    "y_coords = [z for (x,y,z,c) in together]\n",
    "colors = [c for (x,y,z,c) in together]\n",
    "\n",
    "texts = []\n",
    "for x, y, s, c in zip(x_coords, y_coords, text, colors):\n",
    "    texts.append(plt.text(x, y, s, color=c))\n",
    "\n",
    "adjust_text(texts, only_move={'points':'y', 'texts':'y'})\n",
    "\n",
    "\n",
    "plt.axhline(y=mean_cpa, linestyle=(0, (2, 8)), color='k')\n",
    "plt.text(x=2.5, y=mean_cpa-300, s=F'Mean Cost Per Acquisition: ${round(mean_cpa, 2)}', color='k')\n",
    "\n",
    "plt.axvline(x=mean_conversion_rate, linestyle=(0, (2, 8)), color='k')\n",
    "plt.text(x=mean_conversion_rate+0.05, y=5_000, s=F'Mean Conversion Rate: {round(mean_conversion_rate, 1)}%', color='k')\n",
    "\n",
    "plt.show();"
   ]
  },
  {
   "cell_type": "code",
   "execution_count": null,
   "id": "af3afc84-14dc-47ed-848f-c2ffdbb2572a",
   "metadata": {},
   "outputs": [],
   "source": [
    "report_for_client[(report_for_client[\"Conversion Rate (Purchases/Lift)%\"] < mean_conversion_rate) & (report_for_client[\"Cost Per Acquisition (Spend/Purchases)\"] >= mean_cpa)]"
   ]
  },
  {
   "cell_type": "code",
   "execution_count": null,
   "id": "1ece09ac-9e12-44ec-bd7b-fcaa5db45ac4",
   "metadata": {},
   "outputs": [],
   "source": [
    "report_for_client[(report_for_client[\"Conversion Rate (Purchases/Lift)%\"] >= mean_conversion_rate) & (report_for_client[\"Cost Per Acquisition (Spend/Purchases)\"] < mean_cpa)]"
   ]
  },
  {
   "cell_type": "code",
   "execution_count": null,
   "id": "be4ad32c-f679-42a7-995d-cffce782f7fb",
   "metadata": {},
   "outputs": [],
   "source": [
    "#Q1: High Conversion Rate, High Cost Per Visitor, check _?\n",
    "#Q2: Low Conversion Rate, High Cost Per Visitor, bad!\n",
    "#Q3: Low Conversion Rate, Low Cost Per Visitor, unsure?\n",
    "#Q4: High Conversion Rate, Low Cost Per Visitor, great!\n",
    "\n",
    "fig, ax = plt.subplots(1,1,figsize=(10,5))\n",
    "report_for_client.plot(kind='scatter', x='Conversion Rate (Purchases/Lift)%', y='Cost Per Visitor (Spend/Lift)', ax=ax)\n",
    "report_top_5_purchases.plot(kind='scatter', x='Conversion Rate (Purchases/Lift)%', y='Cost Per Visitor (Spend/Lift)', color='red', ax=ax)\n",
    "plt.axhline(y=mean_cost_per_visitor)\n",
    "plt.axvline(x=mean_conversion_rate)\n",
    ";"
   ]
  },
  {
   "cell_type": "code",
   "execution_count": null,
   "id": "b4c2db6b-215a-4cd5-a08e-da90810551ac",
   "metadata": {},
   "outputs": [],
   "source": [
    "fig, ax = plt.subplots(1,1,figsize=(10,5))\n",
    "report_for_client.plot(kind='scatter', x='Conversion Rate (Purchases/Lift)%', y='Cost Per Visitor (Spend/Lift)', ax=ax)\n",
    "\n",
    "low_conversion_rate_high_cost_per_visitor = report_for_client[(report_for_client[\"Conversion Rate (Purchases/Lift)%\"] < mean_conversion_rate) & (report_for_client[\"Cost Per Visitor (Spend/Lift)\"] >= mean_cost_per_visitor)]\n",
    "\n",
    "together1 = []\n",
    "# text_list = []\n",
    "# x_coords = []\n",
    "# y_coords = []\n",
    "for i in range(len(low_conversion_rate_high_cost_per_visitor)):\n",
    "    txt1 = low_conversion_rate_high_cost_per_visitor.index[i]\n",
    "    x_coord1 = low_conversion_rate_high_cost_per_visitor['Conversion Rate (Purchases/Lift)%'][i]\n",
    "    y_coord1 = low_conversion_rate_high_cost_per_visitor['Cost Per Visitor (Spend/Lift)'][i]\n",
    "    together1.append((txt1, x_coord1, y_coord1))\n",
    "    ax.scatter(x_coord1, y_coord1, color='red')\n",
    "together1.sort()\n",
    "\n",
    "text1 = [x for (x,y,z) in together1]\n",
    "x_coords1 = [y for (x,y,z) in together1]\n",
    "y_coords1 = [z for (x,y,z) in together1]\n",
    "\n",
    "texts1 = []\n",
    "for x, y, s in zip(x_coords1, y_coords1, text1):\n",
    "    texts1.append(plt.text(x, y, s, color='red'))\n",
    "\n",
    "adjust_text(texts1, only_move={'points':'y', 'texts1':'y'})\n",
    "\n",
    "high_conversion_rate_low_cost_per_visitor = report_for_client[(report_for_client[\"Conversion Rate (Purchases/Lift)%\"] >= mean_conversion_rate) & (report_for_client[\"Cost Per Visitor (Spend/Lift)\"] < mean_cost_per_visitor)]\n",
    "\n",
    "together2 = []\n",
    "# text_list = []\n",
    "# x_coords = []\n",
    "# y_coords = []\n",
    "for i in range(len(high_conversion_rate_low_cost_per_visitor)):\n",
    "    txt2 = high_conversion_rate_low_cost_per_visitor.index[i]\n",
    "    x_coord2 = high_conversion_rate_low_cost_per_visitor['Conversion Rate (Purchases/Lift)%'][i]\n",
    "    y_coord2 = high_conversion_rate_low_cost_per_visitor['Cost Per Visitor (Spend/Lift)'][i]\n",
    "    together2.append((txt2, x_coord2, y_coord2))\n",
    "    ax.scatter(x_coord2, y_coord2, color='green')\n",
    "together2.sort()\n",
    "\n",
    "text2 = [x for (x,y,z) in together2]\n",
    "x_coords2 = [y for (x,y,z) in together2]\n",
    "y_coords2 = [z for (x,y,z) in together2]\n",
    "\n",
    "texts2 = []\n",
    "for x, y, s in zip(x_coords2, y_coords2, text2):\n",
    "    texts2.append(plt.text(x, y, s, color='green'))\n",
    "\n",
    "adjust_text(texts2, only_move={'points':'y', 'texts2':'y'})\n",
    "\n",
    "plt.axhline(y=mean_cost_per_visitor, linestyle=(0, (2, 8)), color='k')\n",
    "plt.text(x=2.75, y=mean_cost_per_visitor+2, s=F'Mean Cost Per Visitor: ${round(mean_cost_per_visitor, 2)}', color='k')\n",
    "\n",
    "plt.axvline(x=mean_conversion_rate, linestyle=(0, (2, 8)), color='k')\n",
    "plt.text(x=mean_conversion_rate+0.05, y=65, s=F'Mean Conversion Rate: {round(mean_conversion_rate, 1)}%', color='k')\n",
    "\n",
    "plt.show();"
   ]
  },
  {
   "cell_type": "code",
   "execution_count": null,
   "id": "99290e0f-d45e-4b19-b356-d495b39f4d2f",
   "metadata": {},
   "outputs": [],
   "source": [
    "report_for_client[(report_for_client[\"Conversion Rate (Purchases/Lift)%\"] < mean_conversion_rate) & (report_for_client[\"Cost Per Visitor (Spend/Lift)\"] >= mean_cost_per_visitor)]"
   ]
  },
  {
   "cell_type": "code",
   "execution_count": null,
   "id": "2c8213ca-65a8-4f2d-bd6a-3064506dbc9e",
   "metadata": {},
   "outputs": [],
   "source": [
    "report_for_client[(report_for_client[\"Conversion Rate (Purchases/Lift)%\"] >= mean_conversion_rate) & (report_for_client[\"Cost Per Visitor (Spend/Lift)\"] < mean_cost_per_visitor)]"
   ]
  },
  {
   "cell_type": "code",
   "execution_count": null,
   "id": "0c0e5944-73f4-4ab4-9405-b9c16ce0a60c",
   "metadata": {},
   "outputs": [],
   "source": [
    "# # This graph seems bad\n",
    "\n",
    "# #Q1: High Cost Per Acquisition, High Cost Per Visitor, sounds bad?\n",
    "# #Q2: Low Cost Per Acquisition, High Cost Per Visitor, sounds weird!\n",
    "# #Q3: Low Cost Per Acquisition, Low Cost Per Visitor, unsure?\n",
    "# #Q4: High Cost Per Acquisition, Low Cost Per Visitor, sounds weird!\n",
    "\n",
    "# fig, ax = plt.subplots(1,1,figsize=(10,5))\n",
    "# report_for_client.plot(kind='scatter', x='Cost Per Acquisition (Spend/Purchases)', y='Cost Per Visitor (Spend/Lift)', ax=ax)\n",
    "# report_top_5_purchases.plot(kind='scatter', x='Cost Per Acquisition (Spend/Purchases)', y='Cost Per Visitor (Spend/Lift)', color='red', ax=ax)\n",
    "# plt.axhline(y=mean_cost_per_visitor)\n",
    "# plt.axvline(x=mean_cpa)\n",
    "# ;"
   ]
  },
  {
   "cell_type": "code",
   "execution_count": null,
   "id": "bd5ee6ae-7121-4732-9063-622b625318c3",
   "metadata": {},
   "outputs": [],
   "source": [
    "# fix, ax = plt.subplots(1,1, figsize=(10,5))\n",
    "# for column in report_for_client.columns:\n",
    "#     report_for_client.plot.box(x='Purchases', ax=ax, vert=False)\n",
    "\n",
    "\n",
    "#fix, ax = plt.subplots(1,1, figsize=(10,5))\n",
    "for column in report_for_client.columns:\n",
    "    #print(column)\n",
    "    fig,ax = plt.subplots(1,1)\n",
    "    report_for_client[column].plot.box(vert=False, ax=ax)"
   ]
  },
  {
   "cell_type": "markdown",
   "id": "c30f1297-6d78-4f0a-a342-d3a37618f8d4",
   "metadata": {},
   "source": [
    "# Done"
   ]
  },
  {
   "cell_type": "code",
   "execution_count": null,
   "id": "2e1640e5-032a-4c12-8994-ca727d78ac90",
   "metadata": {},
   "outputs": [],
   "source": []
  }
 ],
 "metadata": {
  "jupytext": {
   "formats": "ipynb,py:percent"
  },
  "kernelspec": {
   "display_name": "Python 3 (ipykernel)",
   "language": "python",
   "name": "python3"
  },
  "language_info": {
   "codemirror_mode": {
    "name": "ipython",
    "version": 3
   },
   "file_extension": ".py",
   "mimetype": "text/x-python",
   "name": "python",
   "nbconvert_exporter": "python",
   "pygments_lexer": "ipython3",
   "version": "3.9.10"
  }
 },
 "nbformat": 4,
 "nbformat_minor": 5
}
