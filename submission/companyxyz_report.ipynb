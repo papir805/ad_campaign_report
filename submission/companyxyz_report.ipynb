{
 "cells": [
  {
   "cell_type": "markdown",
   "id": "5d80223a",
   "metadata": {},
   "source": [
    "# Start"
   ]
  },
  {
   "cell_type": "code",
   "execution_count": 2,
   "id": "1a6604ba",
   "metadata": {},
   "outputs": [],
   "source": [
    "import pandas as pd\n",
    "import numpy as np\n",
    "from datetime import datetime\n",
    "import seaborn as sns\n",
    "import matplotlib.pyplot as plt"
   ]
  },
  {
   "cell_type": "code",
   "execution_count": 3,
   "id": "f54794d2",
   "metadata": {},
   "outputs": [],
   "source": [
    "purchase_data = pd.read_excel(\"./Analyst_dataset.xlsx\", sheet_name='Purchase Exit Survey Data')\n",
    "airings_data = pd.read_excel(\"./Analyst_dataset.xlsx\", sheet_name='Airings')\n",
    "\n",
    "# The first row of Lookup table says \"Lookup table for survey response field to airings network ticker symbol.\"  Assuming the first row always says that, we can drop it.\n",
    "lookup_data = pd.read_excel(\"./Analyst_dataset.xlsx\", sheet_name='Lookup', skiprows=1)"
   ]
  },
  {
   "cell_type": "markdown",
   "id": "05cd1405",
   "metadata": {},
   "source": [
    "# Preprocessing"
   ]
  },
  {
   "cell_type": "code",
   "execution_count": 4,
   "id": "18f2ce19",
   "metadata": {},
   "outputs": [],
   "source": [
    "# Lookup data is meant to facilitate a join between the purchases data and the spend/lift data, but lookup data has a row will all null values, which doesn't help the join in any way.  I'll drop that row.\n",
    "lookup_data = lookup_data.dropna(how='all')\n",
    "\n",
    "# The Exit Survey column and Exit Survey.1 column are identical, so we can drop the duplicated column.\n",
    "lookup_data.drop(labels='Exit Survey.1', axis=1, inplace=True)"
   ]
  },
  {
   "cell_type": "code",
   "execution_count": 5,
   "id": "8e47d00c",
   "metadata": {},
   "outputs": [],
   "source": [
    "# In order to make sure the joins happen correctly, we need to ensure that the strings we're joining on actually match.\n",
    "\n",
    "# The purchase data table is pretty messy, but if we assume the second column always contains the names of the networks, we can use .iloc to grab them and ensure they're lowercase \n",
    "\n",
    "lookup_data['Exit Survey'] = lookup_data['Exit Survey'].str.lower()\n",
    "lookup_data['Airings'] = lookup_data['Airings'].str.upper()\n",
    "airings_data['Network'] = airings_data['Network'].str.upper()\n",
    "purchase_data.iloc[:, 1] = purchase_data.iloc[:, 1].str.lower()"
   ]
  },
  {
   "cell_type": "markdown",
   "id": "06866f68",
   "metadata": {},
   "source": [
    "# Transposing Purchase Exit Survey Data - Converting dates from columns to rows in Purchase Exit Survey Data\n",
    "\n",
    "The purchases table is extremely messy and would be easier to work with if the rows were dates and the columns were the networks.  If we assume that the first row will always have the year, the third row will always have month names, and the fourth row will always have the day numbers, I can programmatically concatenate all the necessary date information in the form \"Year-Month-Day\", then use them for the rows."
   ]
  },
  {
   "cell_type": "code",
   "execution_count": 6,
   "id": "bab90c0e",
   "metadata": {},
   "outputs": [
    {
     "data": {
      "text/plain": [
       "2017"
      ]
     },
     "execution_count": 6,
     "metadata": {},
     "output_type": "execute_result"
    }
   ],
   "source": [
    "current_year = purchase_data.iloc[0,:].dropna()\n",
    "current_year = int(current_year)\n",
    "current_year"
   ]
  },
  {
   "cell_type": "code",
   "execution_count": 7,
   "id": "d80cf791",
   "metadata": {},
   "outputs": [
    {
     "data": {
      "text/plain": [
       "['September', 'October']"
      ]
     },
     "execution_count": 7,
     "metadata": {},
     "output_type": "execute_result"
    }
   ],
   "source": [
    "months = []\n",
    "for month in purchase_data.iloc[2,2:].dropna():\n",
    "    months.append(month)\n",
    "months"
   ]
  },
  {
   "cell_type": "code",
   "execution_count": 8,
   "id": "4216075c",
   "metadata": {},
   "outputs": [],
   "source": [
    "# Grab the row of day numbers and cast as integers\n",
    "day_nums = np.array(purchase_data.iloc[3,2:], dtype=int)\n",
    "\n",
    "parsed_dates = []\n",
    "current_month = months[0]\n",
    "i = 0\n",
    "\n",
    "# Walk through the list of day_nums.  \n",
    "\n",
    "# If current_day_num > next_day_num, that indicates a change in month (ex: If current_day = Sept-30 and next_day = Oct-1, b/c 30 > 1).  When this happens, we concatenate the current_day, then increase i by 1 to set the current_month to the next month for furture concatenation.  \n",
    "\n",
    "# If current_day_num < next_day_num, that indicates both days are in the same month (ex: If current_day = Sept-5 and next_day = Sept-6, b/c 5 < 6), so we concatenate like normal.\n",
    "\n",
    "# The try block handles the exception when you get to the last day in day_nums.  Since there are no more days in the list, we get an error when we try to index into the list one day into the future.\n",
    "for count, current_day_num in enumerate(day_nums, start=1):\n",
    "    try:\n",
    "        next_day_num = day_nums[count]\n",
    "    except:\n",
    "        pass\n",
    "    if current_day_num > next_day_num:\n",
    "        current_date = str(current_year) + '-' + current_month + '-' + str(current_day_num)\n",
    "        current_date = datetime.strptime(current_date, '%Y-%B-%d').date()\n",
    "        i += 1\n",
    "        current_month = months[i]\n",
    "        parsed_dates.append(current_date)\n",
    "    else:\n",
    "        current_date = str(current_year) + '-' + current_month + '-' + str(current_day_num)\n",
    "        current_date = datetime.strptime(current_date, '%Y-%B-%d').date()\n",
    "        parsed_dates.append(current_date)\n",
    "\n",
    "# Now that all the dates have been parsed, we replace the unparsed dates with the parsed ones, then transpose the table.  We now have rows that correspond to dates and columns that correspond to networks\n",
    "purchase_data.iloc[3,2:] = parsed_dates\n",
    "purchase_data_transpose = purchase_data.iloc[3:,:].transpose()"
   ]
  },
  {
   "cell_type": "markdown",
   "id": "9f42c346",
   "metadata": {},
   "source": [
    "## Some Cleanup"
   ]
  },
  {
   "cell_type": "code",
   "execution_count": 9,
   "id": "8410612f",
   "metadata": {},
   "outputs": [],
   "source": [
    "# Set the column of dates as the index and rename the axis appropriately\n",
    "#purchase_data_transpose.index = purchase_data_transpose.iloc[:, 0]\n",
    "purchase_data_transpose.set_index(3, inplace=True)\n",
    "purchase_data_transpose.rename_axis('date', inplace=True)\n",
    "\n",
    "# Drop first row, which doesn't contain anything useful\n",
    "purchase_data_transpose = purchase_data_transpose.iloc[1:]\n",
    "\n",
    "# Replace column names with the row of network names and then drop that row\n",
    "purchase_data_transpose.columns = purchase_data_transpose.iloc[0]\n",
    "purchase_data_transpose = purchase_data_transpose.drop(labels='source')\n",
    "\n",
    "# Rename column axis as upper-case \"Source\" to match original table\n",
    "purchase_data_transpose.rename_axis('Source', axis='columns', inplace=True)\n",
    "\n",
    "# Convert index of dates to datetime objects\n",
    "purchase_data_transpose.index = pd.to_datetime(purchase_data_transpose.index)"
   ]
  },
  {
   "cell_type": "markdown",
   "id": "3131d544",
   "metadata": {},
   "source": [
    "## Done"
   ]
  },
  {
   "cell_type": "markdown",
   "id": "e7ecef43",
   "metadata": {},
   "source": [
    "# Metrics by Network"
   ]
  },
  {
   "cell_type": "markdown",
   "id": "a8a15387",
   "metadata": {},
   "source": [
    "## Purchases by Network"
   ]
  },
  {
   "cell_type": "code",
   "execution_count": 10,
   "id": "a377a511",
   "metadata": {},
   "outputs": [],
   "source": [
    "purchases_by_network = purchase_data_transpose.sum(axis=0)\n",
    "purchases_by_network = purchases_by_network.to_frame()\n",
    "purchases_by_network = purchases_by_network.rename(columns={0:'Purchases'})"
   ]
  },
  {
   "cell_type": "markdown",
   "id": "60cbc001",
   "metadata": {},
   "source": [
    "## Spend and Lift by Network"
   ]
  },
  {
   "cell_type": "code",
   "execution_count": 11,
   "id": "efa0d1c8",
   "metadata": {},
   "outputs": [],
   "source": [
    "spend_and_lift_by_network = airings_data.groupby('Network')[['Spend', 'Lift']].agg('sum')"
   ]
  },
  {
   "cell_type": "markdown",
   "id": "a14eb98b",
   "metadata": {},
   "source": [
    "## Joins"
   ]
  },
  {
   "cell_type": "markdown",
   "id": "631d1e46",
   "metadata": {},
   "source": [
    "### Joining Purchases by Network to Lookup Data"
   ]
  },
  {
   "cell_type": "code",
   "execution_count": 12,
   "id": "6ccf5fcc",
   "metadata": {},
   "outputs": [],
   "source": [
    "purchases_by_network_w_lookup = lookup_data.merge(right=purchases_by_network, left_on='Exit Survey', right_on='Source', how='left')\n",
    "purchases_by_network_w_lookup.set_index('Exit Survey', inplace=True)"
   ]
  },
  {
   "cell_type": "markdown",
   "id": "0e31d66c",
   "metadata": {
    "tags": []
   },
   "source": [
    "### Joining Purchases/Lookup by Network to Spend and Lift"
   ]
  },
  {
   "cell_type": "code",
   "execution_count": 13,
   "id": "1c89f273",
   "metadata": {},
   "outputs": [],
   "source": [
    "purchases_spend_lift_by_network = purchases_by_network_w_lookup.merge(right=spend_and_lift_by_network, left_on='Airings', right_index=True, how='left')\n",
    "\n",
    "# Since this column was only needed for the join, I'm going to drop it post join\n",
    "purchases_spend_lift_by_network.drop('Airings', axis=1, inplace=True)"
   ]
  },
  {
   "cell_type": "code",
   "execution_count": 14,
   "id": "581ae3c3",
   "metadata": {},
   "outputs": [],
   "source": [
    "purchases_spend_lift_by_network.index = purchases_spend_lift_by_network.index.str.replace('_', ' ').str.title()"
   ]
  },
  {
   "cell_type": "code",
   "execution_count": 15,
   "id": "2ea696fa",
   "metadata": {},
   "outputs": [],
   "source": [
    "purchases_spend_lift_by_network.fillna(0, inplace=True)"
   ]
  },
  {
   "cell_type": "markdown",
   "id": "6d777160",
   "metadata": {},
   "source": [
    "## Computing Metrics by Network"
   ]
  },
  {
   "cell_type": "code",
   "execution_count": 16,
   "id": "bc827495",
   "metadata": {},
   "outputs": [],
   "source": [
    "purchases_spend_lift_by_network['Conversion Rate (Purchases/Lift)%'] = purchases_spend_lift_by_network['Purchases'] / purchases_spend_lift_by_network['Lift'] * 100\n",
    "\n",
    "purchases_spend_lift_by_network['Cost Per Acquisition (Spend/Purchases)'] = purchases_spend_lift_by_network['Spend'] / purchases_spend_lift_by_network['Purchases'].fillna(0)\n",
    "\n",
    "purchases_spend_lift_by_network['Cost Per Visitor (Spend/Lift)'] = purchases_spend_lift_by_network['Spend'] / purchases_spend_lift_by_network['Lift'].fillna(0)\n",
    "\n",
    "purchases_spend_lift_by_network['Percent of Purchases'] = purchases_spend_lift_by_network['Purchases'] / sum(purchases_spend_lift_by_network['Purchases'].fillna(0)) * 100\n",
    "\n",
    "purchases_spend_lift_by_network['Percent of Spend'] = purchases_spend_lift_by_network['Spend'] / sum(purchases_spend_lift_by_network['Spend'].fillna(0)) * 100\n",
    "\n",
    "purchases_spend_lift_by_network['Percent Pur > Percent Spend'] = purchases_spend_lift_by_network['Percent of Purchases'] > purchases_spend_lift_by_network['Percent of Spend']"
   ]
  },
  {
   "cell_type": "markdown",
   "id": "6548d35a",
   "metadata": {},
   "source": [
    "## Output results to CSV file"
   ]
  },
  {
   "cell_type": "code",
   "execution_count": 17,
   "id": "3839dd5f",
   "metadata": {},
   "outputs": [],
   "source": [
    "current_year_and_months = str(current_year) + '_' + '_'.join(str(month) for month in months)\n",
    "\n",
    "purchases_spend_lift_by_network.to_csv(F\"./cleaned_output/purchases_spend_lift_by_network_{current_year_and_months}.csv\")"
   ]
  },
  {
   "cell_type": "markdown",
   "id": "2c8c4167",
   "metadata": {},
   "source": [
    "## Done"
   ]
  },
  {
   "cell_type": "markdown",
   "id": "f1878a64",
   "metadata": {},
   "source": [
    "# Metrics by Network and Month"
   ]
  },
  {
   "cell_type": "markdown",
   "id": "17e04412",
   "metadata": {},
   "source": [
    "## Creating a lookup table that has monthly data information through a Cross Join"
   ]
  },
  {
   "cell_type": "code",
   "execution_count": 18,
   "id": "52d8551e",
   "metadata": {
    "tags": []
   },
   "outputs": [],
   "source": [
    "# First we generate a series that has the monthly date information as the index, which we can grab\n",
    "month_stamps = purchase_data_transpose.groupby(pd.Grouper(freq='M')).sum().index.values\n",
    "\n",
    "# Then we convert the series to a DataFrame and add a key column, which will be used in the cross join.  Pandas doesn't have built in cross join functionality, so this will be used as a work around\n",
    "month_df = pd.DataFrame(data=month_stamps)\n",
    "month_df['key']=0\n",
    "\n",
    "# If we also add the same key to our lookup data, we'll be able to join the months in our spreadsheet to each row of the lookup table, and merge them together on that key, effectively creating a cross join\n",
    "lookup_data_with_key = lookup_data.copy()\n",
    "lookup_data_with_key['key'] = 0\n",
    "\n",
    "\n",
    "lookup_data_with_months = lookup_data_with_key.merge(month_df)\n",
    "lookup_data_with_months.rename(columns={0:'date'}, inplace=True)\n",
    "lookup_data_with_months.drop(columns='key', inplace=True)\n",
    "\n",
    "# Now we have a lookup table that has the appropriate dates for each month in the campaign for each channel"
   ]
  },
  {
   "cell_type": "markdown",
   "id": "b70102eb",
   "metadata": {},
   "source": [
    "## Aggregating Spend and Lift by Network and Month"
   ]
  },
  {
   "cell_type": "code",
   "execution_count": 19,
   "id": "efbc276b",
   "metadata": {},
   "outputs": [],
   "source": [
    "spend_lift_by_network_and_month = airings_data.groupby(['Network', pd.Grouper(key='Date/Time ET', freq='M')]).sum().reset_index()"
   ]
  },
  {
   "cell_type": "markdown",
   "id": "643b4cc2",
   "metadata": {},
   "source": [
    "## Aggregating Purchases by Network and Month"
   ]
  },
  {
   "cell_type": "code",
   "execution_count": 20,
   "id": "7c8f9121",
   "metadata": {},
   "outputs": [],
   "source": [
    "purchases_by_network_and_month = purchase_data_transpose.groupby(pd.Grouper(freq='M')).sum().transpose().stack().to_frame().reset_index()\n",
    "\n",
    "purchases_by_network_and_month.rename(columns={0:'Purchases'}, inplace=True)"
   ]
  },
  {
   "cell_type": "markdown",
   "id": "85fe8a75",
   "metadata": {},
   "source": [
    "## Joins"
   ]
  },
  {
   "cell_type": "markdown",
   "id": "43c71cb7",
   "metadata": {},
   "source": [
    "### Joining lookup_data_with_months to spend_lift_by_network_and_month"
   ]
  },
  {
   "cell_type": "code",
   "execution_count": 21,
   "id": "ec5a2b96",
   "metadata": {},
   "outputs": [],
   "source": [
    "lookup_spend_lift_by_network_and_month = lookup_data_with_months.merge(spend_lift_by_network_and_month, left_on=['Airings', 'date'], right_on=['Network', 'Date/Time ET'], how='left')\n",
    "\n",
    "lookup_spend_lift_by_network_and_month.drop(columns=['Airings', 'Network', 'Date/Time ET'], inplace=True)"
   ]
  },
  {
   "cell_type": "markdown",
   "id": "9ca2aa91",
   "metadata": {},
   "source": [
    "### Joining Spend and Lift to Purchases"
   ]
  },
  {
   "cell_type": "code",
   "execution_count": 22,
   "id": "6e94cd12",
   "metadata": {},
   "outputs": [],
   "source": [
    "purchases_spend_lift_by_network_and_month = lookup_spend_lift_by_network_and_month.merge(purchases_by_network_and_month, left_on=['Exit Survey', 'date'], right_on=['Source', 'date'], how='left')\n",
    "\n",
    "purchases_spend_lift_by_network_and_month.drop(columns='Source', inplace=True)"
   ]
  },
  {
   "cell_type": "markdown",
   "id": "bce3090c",
   "metadata": {},
   "source": [
    "## Cleanup"
   ]
  },
  {
   "cell_type": "code",
   "execution_count": 23,
   "id": "fbcc8f36",
   "metadata": {},
   "outputs": [],
   "source": [
    "purchases_spend_lift_by_network_and_month['Exit Survey'] = purchases_spend_lift_by_network_and_month['Exit Survey'].str.replace('_', ' ').str.title()"
   ]
  },
  {
   "cell_type": "code",
   "execution_count": 24,
   "id": "91120fb0",
   "metadata": {},
   "outputs": [],
   "source": [
    "purchases_spend_lift_by_network_and_month.rename(columns={\"Exit Survey\": \"Exit Survey Source\"}, inplace=True)"
   ]
  },
  {
   "cell_type": "code",
   "execution_count": 25,
   "id": "ac9c39af",
   "metadata": {},
   "outputs": [],
   "source": [
    "purchases_spend_lift_by_network_and_month = purchases_spend_lift_by_network_and_month.set_index(['Exit Survey Source', 'date'])"
   ]
  },
  {
   "cell_type": "code",
   "execution_count": 26,
   "id": "3d84a2f6",
   "metadata": {},
   "outputs": [],
   "source": [
    "purchases_spend_lift_by_network_and_month.fillna(0, inplace=True)"
   ]
  },
  {
   "cell_type": "code",
   "execution_count": 27,
   "id": "cfd6d3b3",
   "metadata": {},
   "outputs": [],
   "source": [
    "purchases_spend_lift_by_network_and_month = purchases_spend_lift_by_network_and_month[['Purchases', 'Spend', 'Lift']]"
   ]
  },
  {
   "cell_type": "markdown",
   "id": "5a819b75",
   "metadata": {},
   "source": [
    "## Computing Metrics by Network and Month"
   ]
  },
  {
   "cell_type": "code",
   "execution_count": 28,
   "id": "2d4db6b3",
   "metadata": {},
   "outputs": [],
   "source": [
    "purchases_spend_lift_by_network_and_month['Conversion Rate (Purchases/Lift)%'] = purchases_spend_lift_by_network_and_month['Purchases'] / purchases_spend_lift_by_network_and_month['Lift'] * 100\n",
    "\n",
    "purchases_spend_lift_by_network_and_month['Cost Per Acquisition (Spend/Purchases)'] = purchases_spend_lift_by_network_and_month['Spend'] / purchases_spend_lift_by_network_and_month['Purchases']\n",
    "\n",
    "purchases_spend_lift_by_network_and_month['Cost Per Visitor (Spend/Lift)'] = purchases_spend_lift_by_network_and_month['Spend'] / purchases_spend_lift_by_network_and_month['Lift']\n",
    "\n",
    "purchases_spend_lift_by_network_and_month['Percent of Purchases'] = purchases_spend_lift_by_network_and_month['Purchases'] / sum(purchases_spend_lift_by_network_and_month['Purchases'].fillna(0)) * 100\n",
    "\n",
    "purchases_spend_lift_by_network_and_month['Percent of Spend'] = purchases_spend_lift_by_network_and_month['Spend'] / sum(purchases_spend_lift_by_network_and_month['Spend'].fillna(0)) * 100\n",
    "\n",
    "purchases_spend_lift_by_network_and_month['Percent Pur > Percent Spend'] = purchases_spend_lift_by_network_and_month['Percent of Purchases'] > purchases_spend_lift_by_network_and_month['Percent of Spend']"
   ]
  },
  {
   "cell_type": "code",
   "execution_count": 29,
   "id": "379ee58d",
   "metadata": {},
   "outputs": [],
   "source": [
    "purchases_spend_lift_by_network_and_month = purchases_spend_lift_by_network_and_month.round({\"Purchases\":0, \"Spend\":2, \"Lift\":0, \"Conversion Rate (Purchases/Lift)%\":1, \"Cost Per Acquisition (Spend/Purchases)\":2, \"Cost Per Visitor (Spend/Lift)\":2})\n",
    "\n",
    "purchases_spend_lift_by_network_and_month[['Purchases', 'Lift']] = purchases_spend_lift_by_network_and_month[['Purchases', 'Lift']].astype(int)\n",
    "\n",
    "purchases_spend_lift_by_network_and_month = purchases_spend_lift_by_network_and_month.sort_values('Exit Survey Source')"
   ]
  },
  {
   "cell_type": "markdown",
   "id": "91ee054d",
   "metadata": {},
   "source": [
    "## Output results to CSV file"
   ]
  },
  {
   "cell_type": "code",
   "execution_count": 30,
   "id": "73dc414a",
   "metadata": {},
   "outputs": [],
   "source": [
    "purchases_spend_lift_by_network_and_month.to_csv(F\"./cleaned_output/purchases_spend_lift_by_network_and_month_{current_year_and_months}.csv\")"
   ]
  },
  {
   "cell_type": "markdown",
   "id": "cf0db527",
   "metadata": {},
   "source": [
    "## Done"
   ]
  },
  {
   "cell_type": "markdown",
   "id": "98af224d",
   "metadata": {},
   "source": [
    "# Generating Reports"
   ]
  },
  {
   "cell_type": "markdown",
   "id": "18e829fd",
   "metadata": {},
   "source": [
    "## Overall report by network"
   ]
  },
  {
   "cell_type": "code",
   "execution_count": 31,
   "id": "21b69633",
   "metadata": {
    "tags": []
   },
   "outputs": [],
   "source": [
    "report_for_client = purchases_spend_lift_by_network.drop(['Percent of Purchases', 'Percent of Spend', 'Percent Pur > Percent Spend'], axis=1)#.dropna(how='all').fillna(0)\n",
    "\n",
    "report_for_client.query('Spend > 0', inplace=True)"
   ]
  },
  {
   "cell_type": "code",
   "execution_count": 32,
   "id": "da173a63",
   "metadata": {},
   "outputs": [],
   "source": [
    "report_for_client[['Purchases', 'Lift']] = report_for_client[['Purchases', 'Lift']].astype(int)\n",
    "\n",
    "report_for_client = report_for_client.round({\"Purchases\":0, \"Spend\":2, \"Lift\":0, \"Conversion Rate (Purchases/Lift)%\":1, \"Cost Per Acquisition (Spend/Purchases)\":2, \"Cost Per Visitor (Spend/Lift)\":2})\n",
    "\n",
    "\n",
    "report_for_client.rename_axis('Exit Survey Source', axis=0, inplace=True)\n",
    "\n",
    "report_for_client = report_for_client.sort_values('Exit Survey Source')"
   ]
  },
  {
   "cell_type": "markdown",
   "id": "c1dd8261",
   "metadata": {},
   "source": [
    "## Monthly report by network"
   ]
  },
  {
   "cell_type": "code",
   "execution_count": 33,
   "id": "2542bce7",
   "metadata": {},
   "outputs": [],
   "source": [
    "report_for_client_by_month = purchases_spend_lift_by_network_and_month.drop(['Percent of Purchases', 'Percent of Spend', 'Percent Pur > Percent Spend'], axis=1)"
   ]
  },
  {
   "cell_type": "code",
   "execution_count": 34,
   "id": "b6325316",
   "metadata": {},
   "outputs": [],
   "source": [
    "report_for_client_by_month = report_for_client_by_month.round({\"Purchases\":0, \"Spend\":2, \"Lift\":0, \"Conversion Rate (Purchases/Lift)%\":1, \"Cost Per Acquisition (Spend/Purchases)\":2, \"Cost Per Visitor (Spend/Lift)\":2})\n",
    "\n",
    "report_for_client_by_month[['Purchases', 'Lift']] = report_for_client_by_month[['Purchases', 'Lift']].astype(int)"
   ]
  },
  {
   "cell_type": "code",
   "execution_count": 35,
   "id": "cfacf79c",
   "metadata": {},
   "outputs": [],
   "source": [
    "# This will ensure that both reports have the same channels.  Since we already filtered report_for_client to show only channels where there was spend, report_for_client_by_month will also also have those same channels.  \n",
    "report_for_client_by_month = report_for_client_by_month.loc[report_for_client.index]"
   ]
  },
  {
   "cell_type": "markdown",
   "id": "db5b900b",
   "metadata": {},
   "source": [
    "## Exporting Results to PDF Files"
   ]
  },
  {
   "cell_type": "code",
   "execution_count": 36,
   "id": "4b0ac963",
   "metadata": {},
   "outputs": [
    {
     "data": {
      "text/plain": [
       "True"
      ]
     },
     "execution_count": 36,
     "metadata": {},
     "output_type": "execute_result"
    }
   ],
   "source": [
    "import pdfkit\n",
    "\n",
    "f = open('./reports_output/html/report_for_client.html','w')\n",
    "a = report_for_client.to_html(col_space='100px')\n",
    "f.write(a)\n",
    "f.close()\n",
    "\n",
    "pdfkit.from_file('./reports_output/html/report_for_client.html', './reports_output/pdfs/report_for_client.pdf')"
   ]
  },
  {
   "cell_type": "code",
   "execution_count": 37,
   "id": "165009c9",
   "metadata": {},
   "outputs": [
    {
     "data": {
      "text/plain": [
       "True"
      ]
     },
     "execution_count": 37,
     "metadata": {},
     "output_type": "execute_result"
    }
   ],
   "source": [
    "f = open('./reports_output/html/report_for_client_by_month.html','w')\n",
    "a = report_for_client_by_month.to_html(col_space='100px')\n",
    "f.write(a)\n",
    "f.close()\n",
    "\n",
    "pdfkit.from_file('./reports_output/html/report_for_client_by_month.html', './reports_output/pdfs/report_for_client_by_month.pdf')"
   ]
  },
  {
   "cell_type": "markdown",
   "id": "8b60db1c",
   "metadata": {},
   "source": [
    "# Viewing Report by Network"
   ]
  },
  {
   "cell_type": "code",
   "execution_count": 38,
   "id": "e2519460",
   "metadata": {},
   "outputs": [
    {
     "data": {
      "text/html": [
       "<div>\n",
       "<style scoped>\n",
       "    .dataframe tbody tr th:only-of-type {\n",
       "        vertical-align: middle;\n",
       "    }\n",
       "\n",
       "    .dataframe tbody tr th {\n",
       "        vertical-align: top;\n",
       "    }\n",
       "\n",
       "    .dataframe thead th {\n",
       "        text-align: right;\n",
       "    }\n",
       "</style>\n",
       "<table border=\"1\" class=\"dataframe\">\n",
       "  <thead>\n",
       "    <tr style=\"text-align: right;\">\n",
       "      <th></th>\n",
       "      <th>Purchases</th>\n",
       "      <th>Spend</th>\n",
       "      <th>Lift</th>\n",
       "      <th>Conversion Rate (Purchases/Lift)%</th>\n",
       "      <th>Cost Per Acquisition (Spend/Purchases)</th>\n",
       "      <th>Cost Per Visitor (Spend/Lift)</th>\n",
       "    </tr>\n",
       "    <tr>\n",
       "      <th>Exit Survey Source</th>\n",
       "      <th></th>\n",
       "      <th></th>\n",
       "      <th></th>\n",
       "      <th></th>\n",
       "      <th></th>\n",
       "      <th></th>\n",
       "    </tr>\n",
       "  </thead>\n",
       "  <tbody>\n",
       "    <tr>\n",
       "      <th>Bloomberg</th>\n",
       "      <td>2</td>\n",
       "      <td>4966.72</td>\n",
       "      <td>199</td>\n",
       "      <td>1.0</td>\n",
       "      <td>2483.36</td>\n",
       "      <td>24.96</td>\n",
       "    </tr>\n",
       "    <tr>\n",
       "      <th>Cnbc</th>\n",
       "      <td>15</td>\n",
       "      <td>6481.42</td>\n",
       "      <td>406</td>\n",
       "      <td>3.7</td>\n",
       "      <td>432.09</td>\n",
       "      <td>15.96</td>\n",
       "    </tr>\n",
       "    <tr>\n",
       "      <th>Cnbc World</th>\n",
       "      <td>0</td>\n",
       "      <td>1299.99</td>\n",
       "      <td>51</td>\n",
       "      <td>0.0</td>\n",
       "      <td>inf</td>\n",
       "      <td>25.49</td>\n",
       "    </tr>\n",
       "    <tr>\n",
       "      <th>Cnn</th>\n",
       "      <td>23</td>\n",
       "      <td>18114.35</td>\n",
       "      <td>1081</td>\n",
       "      <td>2.1</td>\n",
       "      <td>787.58</td>\n",
       "      <td>16.76</td>\n",
       "    </tr>\n",
       "    <tr>\n",
       "      <th>Comedy Central</th>\n",
       "      <td>2</td>\n",
       "      <td>7501.25</td>\n",
       "      <td>108</td>\n",
       "      <td>1.9</td>\n",
       "      <td>3750.62</td>\n",
       "      <td>69.46</td>\n",
       "    </tr>\n",
       "    <tr>\n",
       "      <th>Dateline</th>\n",
       "      <td>10</td>\n",
       "      <td>15288.11</td>\n",
       "      <td>862</td>\n",
       "      <td>1.2</td>\n",
       "      <td>1528.81</td>\n",
       "      <td>17.74</td>\n",
       "    </tr>\n",
       "    <tr>\n",
       "      <th>Dish Network</th>\n",
       "      <td>5</td>\n",
       "      <td>3033.33</td>\n",
       "      <td>1092</td>\n",
       "      <td>0.5</td>\n",
       "      <td>606.67</td>\n",
       "      <td>2.78</td>\n",
       "    </tr>\n",
       "    <tr>\n",
       "      <th>Fox Sports</th>\n",
       "      <td>2</td>\n",
       "      <td>4258.50</td>\n",
       "      <td>183</td>\n",
       "      <td>1.1</td>\n",
       "      <td>2129.25</td>\n",
       "      <td>23.27</td>\n",
       "    </tr>\n",
       "    <tr>\n",
       "      <th>Msnbc</th>\n",
       "      <td>16</td>\n",
       "      <td>11330.04</td>\n",
       "      <td>1123</td>\n",
       "      <td>1.4</td>\n",
       "      <td>708.13</td>\n",
       "      <td>10.09</td>\n",
       "    </tr>\n",
       "    <tr>\n",
       "      <th>Nfl Network</th>\n",
       "      <td>3</td>\n",
       "      <td>5412.80</td>\n",
       "      <td>200</td>\n",
       "      <td>1.5</td>\n",
       "      <td>1804.27</td>\n",
       "      <td>27.06</td>\n",
       "    </tr>\n",
       "    <tr>\n",
       "      <th>One America News Network</th>\n",
       "      <td>16</td>\n",
       "      <td>24935.00</td>\n",
       "      <td>2372</td>\n",
       "      <td>0.7</td>\n",
       "      <td>1558.44</td>\n",
       "      <td>10.51</td>\n",
       "    </tr>\n",
       "    <tr>\n",
       "      <th>Science</th>\n",
       "      <td>4</td>\n",
       "      <td>7993.18</td>\n",
       "      <td>132</td>\n",
       "      <td>3.0</td>\n",
       "      <td>1998.30</td>\n",
       "      <td>60.55</td>\n",
       "    </tr>\n",
       "    <tr>\n",
       "      <th>Spectrum Sports</th>\n",
       "      <td>3</td>\n",
       "      <td>5580.26</td>\n",
       "      <td>220</td>\n",
       "      <td>1.4</td>\n",
       "      <td>1860.09</td>\n",
       "      <td>25.36</td>\n",
       "    </tr>\n",
       "    <tr>\n",
       "      <th>Star Plus</th>\n",
       "      <td>4</td>\n",
       "      <td>11780.56</td>\n",
       "      <td>1783</td>\n",
       "      <td>0.2</td>\n",
       "      <td>2945.14</td>\n",
       "      <td>6.61</td>\n",
       "    </tr>\n",
       "    <tr>\n",
       "      <th>The History Channel</th>\n",
       "      <td>5</td>\n",
       "      <td>7278.30</td>\n",
       "      <td>330</td>\n",
       "      <td>1.5</td>\n",
       "      <td>1455.66</td>\n",
       "      <td>22.06</td>\n",
       "    </tr>\n",
       "    <tr>\n",
       "      <th>The Weather Channel</th>\n",
       "      <td>0</td>\n",
       "      <td>7718.71</td>\n",
       "      <td>211</td>\n",
       "      <td>0.0</td>\n",
       "      <td>inf</td>\n",
       "      <td>36.58</td>\n",
       "    </tr>\n",
       "    <tr>\n",
       "      <th>Turner Network Tv</th>\n",
       "      <td>4</td>\n",
       "      <td>5125.50</td>\n",
       "      <td>179</td>\n",
       "      <td>2.2</td>\n",
       "      <td>1281.38</td>\n",
       "      <td>28.63</td>\n",
       "    </tr>\n",
       "    <tr>\n",
       "      <th>Willow Tv</th>\n",
       "      <td>56</td>\n",
       "      <td>47734.57</td>\n",
       "      <td>8214</td>\n",
       "      <td>0.7</td>\n",
       "      <td>852.40</td>\n",
       "      <td>5.81</td>\n",
       "    </tr>\n",
       "    <tr>\n",
       "      <th>Zeetv</th>\n",
       "      <td>5</td>\n",
       "      <td>25604.25</td>\n",
       "      <td>1741</td>\n",
       "      <td>0.3</td>\n",
       "      <td>5120.85</td>\n",
       "      <td>14.71</td>\n",
       "    </tr>\n",
       "  </tbody>\n",
       "</table>\n",
       "</div>"
      ],
      "text/plain": [
       "                          Purchases     Spend  Lift  \\\n",
       "Exit Survey Source                                    \n",
       "Bloomberg                         2   4966.72   199   \n",
       "Cnbc                             15   6481.42   406   \n",
       "Cnbc World                        0   1299.99    51   \n",
       "Cnn                              23  18114.35  1081   \n",
       "Comedy Central                    2   7501.25   108   \n",
       "Dateline                         10  15288.11   862   \n",
       "Dish Network                      5   3033.33  1092   \n",
       "Fox Sports                        2   4258.50   183   \n",
       "Msnbc                            16  11330.04  1123   \n",
       "Nfl Network                       3   5412.80   200   \n",
       "One America News Network         16  24935.00  2372   \n",
       "Science                           4   7993.18   132   \n",
       "Spectrum Sports                   3   5580.26   220   \n",
       "Star Plus                         4  11780.56  1783   \n",
       "The History Channel               5   7278.30   330   \n",
       "The Weather Channel               0   7718.71   211   \n",
       "Turner Network Tv                 4   5125.50   179   \n",
       "Willow Tv                        56  47734.57  8214   \n",
       "Zeetv                             5  25604.25  1741   \n",
       "\n",
       "                          Conversion Rate (Purchases/Lift)%  \\\n",
       "Exit Survey Source                                            \n",
       "Bloomberg                                               1.0   \n",
       "Cnbc                                                    3.7   \n",
       "Cnbc World                                              0.0   \n",
       "Cnn                                                     2.1   \n",
       "Comedy Central                                          1.9   \n",
       "Dateline                                                1.2   \n",
       "Dish Network                                            0.5   \n",
       "Fox Sports                                              1.1   \n",
       "Msnbc                                                   1.4   \n",
       "Nfl Network                                             1.5   \n",
       "One America News Network                                0.7   \n",
       "Science                                                 3.0   \n",
       "Spectrum Sports                                         1.4   \n",
       "Star Plus                                               0.2   \n",
       "The History Channel                                     1.5   \n",
       "The Weather Channel                                     0.0   \n",
       "Turner Network Tv                                       2.2   \n",
       "Willow Tv                                               0.7   \n",
       "Zeetv                                                   0.3   \n",
       "\n",
       "                          Cost Per Acquisition (Spend/Purchases)  \\\n",
       "Exit Survey Source                                                 \n",
       "Bloomberg                                                2483.36   \n",
       "Cnbc                                                      432.09   \n",
       "Cnbc World                                                   inf   \n",
       "Cnn                                                       787.58   \n",
       "Comedy Central                                           3750.62   \n",
       "Dateline                                                 1528.81   \n",
       "Dish Network                                              606.67   \n",
       "Fox Sports                                               2129.25   \n",
       "Msnbc                                                     708.13   \n",
       "Nfl Network                                              1804.27   \n",
       "One America News Network                                 1558.44   \n",
       "Science                                                  1998.30   \n",
       "Spectrum Sports                                          1860.09   \n",
       "Star Plus                                                2945.14   \n",
       "The History Channel                                      1455.66   \n",
       "The Weather Channel                                          inf   \n",
       "Turner Network Tv                                        1281.38   \n",
       "Willow Tv                                                 852.40   \n",
       "Zeetv                                                    5120.85   \n",
       "\n",
       "                          Cost Per Visitor (Spend/Lift)  \n",
       "Exit Survey Source                                       \n",
       "Bloomberg                                         24.96  \n",
       "Cnbc                                              15.96  \n",
       "Cnbc World                                        25.49  \n",
       "Cnn                                               16.76  \n",
       "Comedy Central                                    69.46  \n",
       "Dateline                                          17.74  \n",
       "Dish Network                                       2.78  \n",
       "Fox Sports                                        23.27  \n",
       "Msnbc                                             10.09  \n",
       "Nfl Network                                       27.06  \n",
       "One America News Network                          10.51  \n",
       "Science                                           60.55  \n",
       "Spectrum Sports                                   25.36  \n",
       "Star Plus                                          6.61  \n",
       "The History Channel                               22.06  \n",
       "The Weather Channel                               36.58  \n",
       "Turner Network Tv                                 28.63  \n",
       "Willow Tv                                          5.81  \n",
       "Zeetv                                             14.71  "
      ]
     },
     "execution_count": 38,
     "metadata": {},
     "output_type": "execute_result"
    }
   ],
   "source": [
    "report_for_client"
   ]
  },
  {
   "cell_type": "markdown",
   "id": "46b3df07",
   "metadata": {},
   "source": [
    "# Viewing Report by Network and Month"
   ]
  },
  {
   "cell_type": "code",
   "execution_count": 39,
   "id": "3cb1009d",
   "metadata": {},
   "outputs": [
    {
     "data": {
      "text/html": [
       "<div>\n",
       "<style scoped>\n",
       "    .dataframe tbody tr th:only-of-type {\n",
       "        vertical-align: middle;\n",
       "    }\n",
       "\n",
       "    .dataframe tbody tr th {\n",
       "        vertical-align: top;\n",
       "    }\n",
       "\n",
       "    .dataframe thead th {\n",
       "        text-align: right;\n",
       "    }\n",
       "</style>\n",
       "<table border=\"1\" class=\"dataframe\">\n",
       "  <thead>\n",
       "    <tr style=\"text-align: right;\">\n",
       "      <th></th>\n",
       "      <th></th>\n",
       "      <th>Purchases</th>\n",
       "      <th>Spend</th>\n",
       "      <th>Lift</th>\n",
       "      <th>Conversion Rate (Purchases/Lift)%</th>\n",
       "      <th>Cost Per Acquisition (Spend/Purchases)</th>\n",
       "      <th>Cost Per Visitor (Spend/Lift)</th>\n",
       "    </tr>\n",
       "    <tr>\n",
       "      <th>Exit Survey Source</th>\n",
       "      <th>date</th>\n",
       "      <th></th>\n",
       "      <th></th>\n",
       "      <th></th>\n",
       "      <th></th>\n",
       "      <th></th>\n",
       "      <th></th>\n",
       "    </tr>\n",
       "  </thead>\n",
       "  <tbody>\n",
       "    <tr>\n",
       "      <th rowspan=\"2\" valign=\"top\">Bloomberg</th>\n",
       "      <th>2017-09-30</th>\n",
       "      <td>1</td>\n",
       "      <td>4966.72</td>\n",
       "      <td>199</td>\n",
       "      <td>0.5</td>\n",
       "      <td>4966.72</td>\n",
       "      <td>24.96</td>\n",
       "    </tr>\n",
       "    <tr>\n",
       "      <th>2017-10-31</th>\n",
       "      <td>1</td>\n",
       "      <td>0.00</td>\n",
       "      <td>0</td>\n",
       "      <td>inf</td>\n",
       "      <td>0.00</td>\n",
       "      <td>NaN</td>\n",
       "    </tr>\n",
       "    <tr>\n",
       "      <th rowspan=\"2\" valign=\"top\">Cnbc</th>\n",
       "      <th>2017-09-30</th>\n",
       "      <td>5</td>\n",
       "      <td>6481.42</td>\n",
       "      <td>406</td>\n",
       "      <td>1.2</td>\n",
       "      <td>1296.28</td>\n",
       "      <td>15.96</td>\n",
       "    </tr>\n",
       "    <tr>\n",
       "      <th>2017-10-31</th>\n",
       "      <td>10</td>\n",
       "      <td>0.00</td>\n",
       "      <td>0</td>\n",
       "      <td>inf</td>\n",
       "      <td>0.00</td>\n",
       "      <td>NaN</td>\n",
       "    </tr>\n",
       "    <tr>\n",
       "      <th rowspan=\"2\" valign=\"top\">Cnbc World</th>\n",
       "      <th>2017-09-30</th>\n",
       "      <td>0</td>\n",
       "      <td>0.00</td>\n",
       "      <td>0</td>\n",
       "      <td>NaN</td>\n",
       "      <td>NaN</td>\n",
       "      <td>NaN</td>\n",
       "    </tr>\n",
       "    <tr>\n",
       "      <th>2017-10-31</th>\n",
       "      <td>0</td>\n",
       "      <td>1299.99</td>\n",
       "      <td>51</td>\n",
       "      <td>0.0</td>\n",
       "      <td>inf</td>\n",
       "      <td>25.49</td>\n",
       "    </tr>\n",
       "    <tr>\n",
       "      <th rowspan=\"2\" valign=\"top\">Cnn</th>\n",
       "      <th>2017-10-31</th>\n",
       "      <td>10</td>\n",
       "      <td>8954.75</td>\n",
       "      <td>574</td>\n",
       "      <td>1.7</td>\n",
       "      <td>895.48</td>\n",
       "      <td>15.60</td>\n",
       "    </tr>\n",
       "    <tr>\n",
       "      <th>2017-09-30</th>\n",
       "      <td>13</td>\n",
       "      <td>9159.60</td>\n",
       "      <td>507</td>\n",
       "      <td>2.6</td>\n",
       "      <td>704.58</td>\n",
       "      <td>18.07</td>\n",
       "    </tr>\n",
       "    <tr>\n",
       "      <th rowspan=\"2\" valign=\"top\">Comedy Central</th>\n",
       "      <th>2017-09-30</th>\n",
       "      <td>0</td>\n",
       "      <td>0.00</td>\n",
       "      <td>0</td>\n",
       "      <td>NaN</td>\n",
       "      <td>NaN</td>\n",
       "      <td>NaN</td>\n",
       "    </tr>\n",
       "    <tr>\n",
       "      <th>2017-10-31</th>\n",
       "      <td>2</td>\n",
       "      <td>7501.25</td>\n",
       "      <td>108</td>\n",
       "      <td>1.9</td>\n",
       "      <td>3750.62</td>\n",
       "      <td>69.46</td>\n",
       "    </tr>\n",
       "    <tr>\n",
       "      <th rowspan=\"2\" valign=\"top\">Dateline</th>\n",
       "      <th>2017-09-30</th>\n",
       "      <td>0</td>\n",
       "      <td>4211.62</td>\n",
       "      <td>252</td>\n",
       "      <td>0.0</td>\n",
       "      <td>inf</td>\n",
       "      <td>16.71</td>\n",
       "    </tr>\n",
       "    <tr>\n",
       "      <th>2017-10-31</th>\n",
       "      <td>10</td>\n",
       "      <td>11076.49</td>\n",
       "      <td>610</td>\n",
       "      <td>1.6</td>\n",
       "      <td>1107.65</td>\n",
       "      <td>18.16</td>\n",
       "    </tr>\n",
       "    <tr>\n",
       "      <th rowspan=\"2\" valign=\"top\">Dish Network</th>\n",
       "      <th>2017-09-30</th>\n",
       "      <td>4</td>\n",
       "      <td>2513.09</td>\n",
       "      <td>976</td>\n",
       "      <td>0.4</td>\n",
       "      <td>628.27</td>\n",
       "      <td>2.57</td>\n",
       "    </tr>\n",
       "    <tr>\n",
       "      <th>2017-10-31</th>\n",
       "      <td>1</td>\n",
       "      <td>520.24</td>\n",
       "      <td>116</td>\n",
       "      <td>0.9</td>\n",
       "      <td>520.24</td>\n",
       "      <td>4.48</td>\n",
       "    </tr>\n",
       "    <tr>\n",
       "      <th rowspan=\"2\" valign=\"top\">Fox Sports</th>\n",
       "      <th>2017-09-30</th>\n",
       "      <td>1</td>\n",
       "      <td>4258.50</td>\n",
       "      <td>183</td>\n",
       "      <td>0.5</td>\n",
       "      <td>4258.50</td>\n",
       "      <td>23.27</td>\n",
       "    </tr>\n",
       "    <tr>\n",
       "      <th>2017-10-31</th>\n",
       "      <td>1</td>\n",
       "      <td>0.00</td>\n",
       "      <td>0</td>\n",
       "      <td>inf</td>\n",
       "      <td>0.00</td>\n",
       "      <td>NaN</td>\n",
       "    </tr>\n",
       "    <tr>\n",
       "      <th rowspan=\"2\" valign=\"top\">Msnbc</th>\n",
       "      <th>2017-09-30</th>\n",
       "      <td>10</td>\n",
       "      <td>8091.15</td>\n",
       "      <td>701</td>\n",
       "      <td>1.4</td>\n",
       "      <td>809.12</td>\n",
       "      <td>11.54</td>\n",
       "    </tr>\n",
       "    <tr>\n",
       "      <th>2017-10-31</th>\n",
       "      <td>6</td>\n",
       "      <td>3238.89</td>\n",
       "      <td>422</td>\n",
       "      <td>1.4</td>\n",
       "      <td>539.81</td>\n",
       "      <td>7.68</td>\n",
       "    </tr>\n",
       "    <tr>\n",
       "      <th rowspan=\"2\" valign=\"top\">Nfl Network</th>\n",
       "      <th>2017-09-30</th>\n",
       "      <td>2</td>\n",
       "      <td>5412.80</td>\n",
       "      <td>200</td>\n",
       "      <td>1.0</td>\n",
       "      <td>2706.40</td>\n",
       "      <td>27.06</td>\n",
       "    </tr>\n",
       "    <tr>\n",
       "      <th>2017-10-31</th>\n",
       "      <td>1</td>\n",
       "      <td>0.00</td>\n",
       "      <td>0</td>\n",
       "      <td>inf</td>\n",
       "      <td>0.00</td>\n",
       "      <td>NaN</td>\n",
       "    </tr>\n",
       "    <tr>\n",
       "      <th rowspan=\"2\" valign=\"top\">One America News Network</th>\n",
       "      <th>2017-09-30</th>\n",
       "      <td>2</td>\n",
       "      <td>4966.80</td>\n",
       "      <td>648</td>\n",
       "      <td>0.3</td>\n",
       "      <td>2483.40</td>\n",
       "      <td>7.66</td>\n",
       "    </tr>\n",
       "    <tr>\n",
       "      <th>2017-10-31</th>\n",
       "      <td>14</td>\n",
       "      <td>19968.20</td>\n",
       "      <td>1724</td>\n",
       "      <td>0.8</td>\n",
       "      <td>1426.30</td>\n",
       "      <td>11.58</td>\n",
       "    </tr>\n",
       "    <tr>\n",
       "      <th rowspan=\"2\" valign=\"top\">Science</th>\n",
       "      <th>2017-09-30</th>\n",
       "      <td>1</td>\n",
       "      <td>7993.18</td>\n",
       "      <td>132</td>\n",
       "      <td>0.8</td>\n",
       "      <td>7993.18</td>\n",
       "      <td>60.55</td>\n",
       "    </tr>\n",
       "    <tr>\n",
       "      <th>2017-10-31</th>\n",
       "      <td>3</td>\n",
       "      <td>0.00</td>\n",
       "      <td>0</td>\n",
       "      <td>inf</td>\n",
       "      <td>0.00</td>\n",
       "      <td>NaN</td>\n",
       "    </tr>\n",
       "    <tr>\n",
       "      <th rowspan=\"2\" valign=\"top\">Spectrum Sports</th>\n",
       "      <th>2017-09-30</th>\n",
       "      <td>2</td>\n",
       "      <td>5580.26</td>\n",
       "      <td>220</td>\n",
       "      <td>0.9</td>\n",
       "      <td>2790.13</td>\n",
       "      <td>25.36</td>\n",
       "    </tr>\n",
       "    <tr>\n",
       "      <th>2017-10-31</th>\n",
       "      <td>1</td>\n",
       "      <td>0.00</td>\n",
       "      <td>0</td>\n",
       "      <td>inf</td>\n",
       "      <td>0.00</td>\n",
       "      <td>NaN</td>\n",
       "    </tr>\n",
       "    <tr>\n",
       "      <th rowspan=\"2\" valign=\"top\">Star Plus</th>\n",
       "      <th>2017-10-31</th>\n",
       "      <td>2</td>\n",
       "      <td>8338.98</td>\n",
       "      <td>1221</td>\n",
       "      <td>0.2</td>\n",
       "      <td>4169.49</td>\n",
       "      <td>6.83</td>\n",
       "    </tr>\n",
       "    <tr>\n",
       "      <th>2017-09-30</th>\n",
       "      <td>2</td>\n",
       "      <td>3441.58</td>\n",
       "      <td>562</td>\n",
       "      <td>0.4</td>\n",
       "      <td>1720.79</td>\n",
       "      <td>6.12</td>\n",
       "    </tr>\n",
       "    <tr>\n",
       "      <th rowspan=\"2\" valign=\"top\">The History Channel</th>\n",
       "      <th>2017-10-31</th>\n",
       "      <td>1</td>\n",
       "      <td>1500.00</td>\n",
       "      <td>77</td>\n",
       "      <td>1.3</td>\n",
       "      <td>1500.00</td>\n",
       "      <td>19.48</td>\n",
       "    </tr>\n",
       "    <tr>\n",
       "      <th>2017-09-30</th>\n",
       "      <td>4</td>\n",
       "      <td>5778.30</td>\n",
       "      <td>253</td>\n",
       "      <td>1.6</td>\n",
       "      <td>1444.58</td>\n",
       "      <td>22.84</td>\n",
       "    </tr>\n",
       "    <tr>\n",
       "      <th rowspan=\"2\" valign=\"top\">The Weather Channel</th>\n",
       "      <th>2017-10-31</th>\n",
       "      <td>0</td>\n",
       "      <td>7718.71</td>\n",
       "      <td>211</td>\n",
       "      <td>0.0</td>\n",
       "      <td>inf</td>\n",
       "      <td>36.58</td>\n",
       "    </tr>\n",
       "    <tr>\n",
       "      <th>2017-09-30</th>\n",
       "      <td>0</td>\n",
       "      <td>0.00</td>\n",
       "      <td>0</td>\n",
       "      <td>NaN</td>\n",
       "      <td>NaN</td>\n",
       "      <td>NaN</td>\n",
       "    </tr>\n",
       "    <tr>\n",
       "      <th rowspan=\"2\" valign=\"top\">Turner Network Tv</th>\n",
       "      <th>2017-09-30</th>\n",
       "      <td>2</td>\n",
       "      <td>5125.50</td>\n",
       "      <td>179</td>\n",
       "      <td>1.1</td>\n",
       "      <td>2562.75</td>\n",
       "      <td>28.63</td>\n",
       "    </tr>\n",
       "    <tr>\n",
       "      <th>2017-10-31</th>\n",
       "      <td>2</td>\n",
       "      <td>0.00</td>\n",
       "      <td>0</td>\n",
       "      <td>inf</td>\n",
       "      <td>0.00</td>\n",
       "      <td>NaN</td>\n",
       "    </tr>\n",
       "    <tr>\n",
       "      <th rowspan=\"2\" valign=\"top\">Willow Tv</th>\n",
       "      <th>2017-10-31</th>\n",
       "      <td>29</td>\n",
       "      <td>27961.08</td>\n",
       "      <td>5076</td>\n",
       "      <td>0.6</td>\n",
       "      <td>964.18</td>\n",
       "      <td>5.51</td>\n",
       "    </tr>\n",
       "    <tr>\n",
       "      <th>2017-09-30</th>\n",
       "      <td>27</td>\n",
       "      <td>19773.49</td>\n",
       "      <td>3138</td>\n",
       "      <td>0.9</td>\n",
       "      <td>732.35</td>\n",
       "      <td>6.30</td>\n",
       "    </tr>\n",
       "    <tr>\n",
       "      <th rowspan=\"2\" valign=\"top\">Zeetv</th>\n",
       "      <th>2017-10-31</th>\n",
       "      <td>3</td>\n",
       "      <td>15429.12</td>\n",
       "      <td>819</td>\n",
       "      <td>0.4</td>\n",
       "      <td>5143.04</td>\n",
       "      <td>18.84</td>\n",
       "    </tr>\n",
       "    <tr>\n",
       "      <th>2017-09-30</th>\n",
       "      <td>2</td>\n",
       "      <td>10175.13</td>\n",
       "      <td>922</td>\n",
       "      <td>0.2</td>\n",
       "      <td>5087.56</td>\n",
       "      <td>11.04</td>\n",
       "    </tr>\n",
       "  </tbody>\n",
       "</table>\n",
       "</div>"
      ],
      "text/plain": [
       "                                     Purchases     Spend  Lift  \\\n",
       "Exit Survey Source       date                                    \n",
       "Bloomberg                2017-09-30          1   4966.72   199   \n",
       "                         2017-10-31          1      0.00     0   \n",
       "Cnbc                     2017-09-30          5   6481.42   406   \n",
       "                         2017-10-31         10      0.00     0   \n",
       "Cnbc World               2017-09-30          0      0.00     0   \n",
       "                         2017-10-31          0   1299.99    51   \n",
       "Cnn                      2017-10-31         10   8954.75   574   \n",
       "                         2017-09-30         13   9159.60   507   \n",
       "Comedy Central           2017-09-30          0      0.00     0   \n",
       "                         2017-10-31          2   7501.25   108   \n",
       "Dateline                 2017-09-30          0   4211.62   252   \n",
       "                         2017-10-31         10  11076.49   610   \n",
       "Dish Network             2017-09-30          4   2513.09   976   \n",
       "                         2017-10-31          1    520.24   116   \n",
       "Fox Sports               2017-09-30          1   4258.50   183   \n",
       "                         2017-10-31          1      0.00     0   \n",
       "Msnbc                    2017-09-30         10   8091.15   701   \n",
       "                         2017-10-31          6   3238.89   422   \n",
       "Nfl Network              2017-09-30          2   5412.80   200   \n",
       "                         2017-10-31          1      0.00     0   \n",
       "One America News Network 2017-09-30          2   4966.80   648   \n",
       "                         2017-10-31         14  19968.20  1724   \n",
       "Science                  2017-09-30          1   7993.18   132   \n",
       "                         2017-10-31          3      0.00     0   \n",
       "Spectrum Sports          2017-09-30          2   5580.26   220   \n",
       "                         2017-10-31          1      0.00     0   \n",
       "Star Plus                2017-10-31          2   8338.98  1221   \n",
       "                         2017-09-30          2   3441.58   562   \n",
       "The History Channel      2017-10-31          1   1500.00    77   \n",
       "                         2017-09-30          4   5778.30   253   \n",
       "The Weather Channel      2017-10-31          0   7718.71   211   \n",
       "                         2017-09-30          0      0.00     0   \n",
       "Turner Network Tv        2017-09-30          2   5125.50   179   \n",
       "                         2017-10-31          2      0.00     0   \n",
       "Willow Tv                2017-10-31         29  27961.08  5076   \n",
       "                         2017-09-30         27  19773.49  3138   \n",
       "Zeetv                    2017-10-31          3  15429.12   819   \n",
       "                         2017-09-30          2  10175.13   922   \n",
       "\n",
       "                                     Conversion Rate (Purchases/Lift)%  \\\n",
       "Exit Survey Source       date                                            \n",
       "Bloomberg                2017-09-30                                0.5   \n",
       "                         2017-10-31                                inf   \n",
       "Cnbc                     2017-09-30                                1.2   \n",
       "                         2017-10-31                                inf   \n",
       "Cnbc World               2017-09-30                                NaN   \n",
       "                         2017-10-31                                0.0   \n",
       "Cnn                      2017-10-31                                1.7   \n",
       "                         2017-09-30                                2.6   \n",
       "Comedy Central           2017-09-30                                NaN   \n",
       "                         2017-10-31                                1.9   \n",
       "Dateline                 2017-09-30                                0.0   \n",
       "                         2017-10-31                                1.6   \n",
       "Dish Network             2017-09-30                                0.4   \n",
       "                         2017-10-31                                0.9   \n",
       "Fox Sports               2017-09-30                                0.5   \n",
       "                         2017-10-31                                inf   \n",
       "Msnbc                    2017-09-30                                1.4   \n",
       "                         2017-10-31                                1.4   \n",
       "Nfl Network              2017-09-30                                1.0   \n",
       "                         2017-10-31                                inf   \n",
       "One America News Network 2017-09-30                                0.3   \n",
       "                         2017-10-31                                0.8   \n",
       "Science                  2017-09-30                                0.8   \n",
       "                         2017-10-31                                inf   \n",
       "Spectrum Sports          2017-09-30                                0.9   \n",
       "                         2017-10-31                                inf   \n",
       "Star Plus                2017-10-31                                0.2   \n",
       "                         2017-09-30                                0.4   \n",
       "The History Channel      2017-10-31                                1.3   \n",
       "                         2017-09-30                                1.6   \n",
       "The Weather Channel      2017-10-31                                0.0   \n",
       "                         2017-09-30                                NaN   \n",
       "Turner Network Tv        2017-09-30                                1.1   \n",
       "                         2017-10-31                                inf   \n",
       "Willow Tv                2017-10-31                                0.6   \n",
       "                         2017-09-30                                0.9   \n",
       "Zeetv                    2017-10-31                                0.4   \n",
       "                         2017-09-30                                0.2   \n",
       "\n",
       "                                     Cost Per Acquisition (Spend/Purchases)  \\\n",
       "Exit Survey Source       date                                                 \n",
       "Bloomberg                2017-09-30                                 4966.72   \n",
       "                         2017-10-31                                    0.00   \n",
       "Cnbc                     2017-09-30                                 1296.28   \n",
       "                         2017-10-31                                    0.00   \n",
       "Cnbc World               2017-09-30                                     NaN   \n",
       "                         2017-10-31                                     inf   \n",
       "Cnn                      2017-10-31                                  895.48   \n",
       "                         2017-09-30                                  704.58   \n",
       "Comedy Central           2017-09-30                                     NaN   \n",
       "                         2017-10-31                                 3750.62   \n",
       "Dateline                 2017-09-30                                     inf   \n",
       "                         2017-10-31                                 1107.65   \n",
       "Dish Network             2017-09-30                                  628.27   \n",
       "                         2017-10-31                                  520.24   \n",
       "Fox Sports               2017-09-30                                 4258.50   \n",
       "                         2017-10-31                                    0.00   \n",
       "Msnbc                    2017-09-30                                  809.12   \n",
       "                         2017-10-31                                  539.81   \n",
       "Nfl Network              2017-09-30                                 2706.40   \n",
       "                         2017-10-31                                    0.00   \n",
       "One America News Network 2017-09-30                                 2483.40   \n",
       "                         2017-10-31                                 1426.30   \n",
       "Science                  2017-09-30                                 7993.18   \n",
       "                         2017-10-31                                    0.00   \n",
       "Spectrum Sports          2017-09-30                                 2790.13   \n",
       "                         2017-10-31                                    0.00   \n",
       "Star Plus                2017-10-31                                 4169.49   \n",
       "                         2017-09-30                                 1720.79   \n",
       "The History Channel      2017-10-31                                 1500.00   \n",
       "                         2017-09-30                                 1444.58   \n",
       "The Weather Channel      2017-10-31                                     inf   \n",
       "                         2017-09-30                                     NaN   \n",
       "Turner Network Tv        2017-09-30                                 2562.75   \n",
       "                         2017-10-31                                    0.00   \n",
       "Willow Tv                2017-10-31                                  964.18   \n",
       "                         2017-09-30                                  732.35   \n",
       "Zeetv                    2017-10-31                                 5143.04   \n",
       "                         2017-09-30                                 5087.56   \n",
       "\n",
       "                                     Cost Per Visitor (Spend/Lift)  \n",
       "Exit Survey Source       date                                       \n",
       "Bloomberg                2017-09-30                          24.96  \n",
       "                         2017-10-31                            NaN  \n",
       "Cnbc                     2017-09-30                          15.96  \n",
       "                         2017-10-31                            NaN  \n",
       "Cnbc World               2017-09-30                            NaN  \n",
       "                         2017-10-31                          25.49  \n",
       "Cnn                      2017-10-31                          15.60  \n",
       "                         2017-09-30                          18.07  \n",
       "Comedy Central           2017-09-30                            NaN  \n",
       "                         2017-10-31                          69.46  \n",
       "Dateline                 2017-09-30                          16.71  \n",
       "                         2017-10-31                          18.16  \n",
       "Dish Network             2017-09-30                           2.57  \n",
       "                         2017-10-31                           4.48  \n",
       "Fox Sports               2017-09-30                          23.27  \n",
       "                         2017-10-31                            NaN  \n",
       "Msnbc                    2017-09-30                          11.54  \n",
       "                         2017-10-31                           7.68  \n",
       "Nfl Network              2017-09-30                          27.06  \n",
       "                         2017-10-31                            NaN  \n",
       "One America News Network 2017-09-30                           7.66  \n",
       "                         2017-10-31                          11.58  \n",
       "Science                  2017-09-30                          60.55  \n",
       "                         2017-10-31                            NaN  \n",
       "Spectrum Sports          2017-09-30                          25.36  \n",
       "                         2017-10-31                            NaN  \n",
       "Star Plus                2017-10-31                           6.83  \n",
       "                         2017-09-30                           6.12  \n",
       "The History Channel      2017-10-31                          19.48  \n",
       "                         2017-09-30                          22.84  \n",
       "The Weather Channel      2017-10-31                          36.58  \n",
       "                         2017-09-30                            NaN  \n",
       "Turner Network Tv        2017-09-30                          28.63  \n",
       "                         2017-10-31                            NaN  \n",
       "Willow Tv                2017-10-31                           5.51  \n",
       "                         2017-09-30                           6.30  \n",
       "Zeetv                    2017-10-31                          18.84  \n",
       "                         2017-09-30                          11.04  "
      ]
     },
     "execution_count": 39,
     "metadata": {},
     "output_type": "execute_result"
    }
   ],
   "source": [
    "report_for_client_by_month"
   ]
  }
 ],
 "metadata": {
  "jupytext": {
   "formats": "ipynb,py:percent"
  },
  "kernelspec": {
   "display_name": "Python 3 (ipykernel)",
   "language": "python",
   "name": "python3"
  },
  "language_info": {
   "codemirror_mode": {
    "name": "ipython",
    "version": 3
   },
   "file_extension": ".py",
   "mimetype": "text/x-python",
   "name": "python",
   "nbconvert_exporter": "python",
   "pygments_lexer": "ipython3",
   "version": "3.9.10"
  }
 },
 "nbformat": 4,
 "nbformat_minor": 5
}
