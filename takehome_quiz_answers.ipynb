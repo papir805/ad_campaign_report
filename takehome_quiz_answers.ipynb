{
 "cells": [
  {
   "cell_type": "markdown",
   "id": "9e6a47a3-f66a-47ee-aae1-03662201353d",
   "metadata": {},
   "source": [
    "# Start"
   ]
  },
  {
   "cell_type": "code",
   "execution_count": 23,
   "id": "3fd2be60-3d51-4df0-8b6d-b09f24d395c0",
   "metadata": {},
   "outputs": [],
   "source": [
    "import pandas as pd\n",
    "import numpy as np\n",
    "from datetime import datetime"
   ]
  },
  {
   "cell_type": "code",
   "execution_count": 24,
   "id": "2fb855c2-8fa4-4d01-babd-124a80af3aad",
   "metadata": {},
   "outputs": [],
   "source": [
    "purchase_data = pd.read_excel(\"./Analyst_dataset.xlsx\", sheet_name='Purchase Exit Survey Data')\n",
    "airings_data = pd.read_excel(\"./Analyst_dataset.xlsx\", sheet_name='Airings')\n",
    "lookup_data = pd.read_excel(\"./Analyst_dataset.xlsx\", sheet_name='Lookup', skiprows=1)"
   ]
  },
  {
   "cell_type": "markdown",
   "id": "5804936d-21e1-49f5-8347-19b48bd50abb",
   "metadata": {},
   "source": [
    "# Preprocessing"
   ]
  },
  {
   "cell_type": "code",
   "execution_count": 25,
   "id": "08ae9bed-025a-49b8-b538-14a2bef75eb4",
   "metadata": {},
   "outputs": [],
   "source": [
    "# Lookup data is meant to facilitate a join between the purchases data and the spend/lift data, but lookup data has a row will all null values, which doesn't help the join in any way.  I'll drop it.\n",
    "lookup_data = lookup_data.dropna(how='all')"
   ]
  },
  {
   "cell_type": "code",
   "execution_count": 26,
   "id": "cef1597a-b1f4-4f80-b850-9875a7bee031",
   "metadata": {},
   "outputs": [],
   "source": [
    "# In order to make sure the joins happen correctly, we need to ensure that the strings we're joining on actually match.  \n",
    "\n",
    "# The purchase data table is pretty messy, but if we assume the second column always contains the names of the networks, we can use .iloc to grab them and ensure they're lowercase \n",
    "\n",
    "lookup_data['Exit Survey'] = lookup_data['Exit Survey'].str.lower()\n",
    "lookup_data['Airings'] = lookup_data['Airings'].str.upper()\n",
    "airings_data['Network'] = airings_data['Network'].str.upper()\n",
    "purchase_data.iloc[:, 1] = purchase_data.iloc[:, 1].str.lower()"
   ]
  },
  {
   "cell_type": "markdown",
   "id": "3a223e39-88d8-4186-899e-28f6804a375e",
   "metadata": {},
   "source": [
    "# Transposing Purchase Exit Survey Data - Converting dates from columns to rows in Purchase Exit Survey Data\n",
    "\n",
    "The purchases table is extremely messy and would be easier to work with if the rows were dates and the columns were the networks.  If we assume that the first row will always have the year, the third row will always have month names, and the fourth row will always have the day numbers, I can programmatically concatenate all the necessary date information in the form \"Year-Month-Day\", then use them for the rows."
   ]
  },
  {
   "cell_type": "code",
   "execution_count": 27,
   "id": "96897330-0baf-4a17-b5e3-032c2f49115b",
   "metadata": {},
   "outputs": [
    {
     "data": {
      "text/plain": [
       "2017"
      ]
     },
     "execution_count": 27,
     "metadata": {},
     "output_type": "execute_result"
    }
   ],
   "source": [
    "current_year = purchase_data.iloc[0,:].dropna()\n",
    "current_year = int(current_year)\n",
    "current_year"
   ]
  },
  {
   "cell_type": "code",
   "execution_count": 28,
   "id": "4b55fce2-d190-4dfc-a9cf-90084d8bc73d",
   "metadata": {},
   "outputs": [
    {
     "data": {
      "text/plain": [
       "['September', 'October']"
      ]
     },
     "execution_count": 28,
     "metadata": {},
     "output_type": "execute_result"
    }
   ],
   "source": [
    "months = []\n",
    "for month in purchase_data.iloc[2,2:].dropna():\n",
    "    months.append(month)\n",
    "months"
   ]
  },
  {
   "cell_type": "code",
   "execution_count": 29,
   "id": "04201d4a-970b-44bc-bed3-d3583f1ecfb7",
   "metadata": {},
   "outputs": [],
   "source": [
    "# Grab the row of day numbers and cast as integers\n",
    "day_nums = np.array(purchase_data.iloc[3,2:], dtype=int)\n",
    "\n",
    "parsed_dates = []\n",
    "current_month = months[0]\n",
    "i = 0\n",
    "\n",
    "# Walk through the list of day_nums.  \n",
    "\n",
    "# If current_day_num > next_day_num, that indicates a change in month (ex: If current_day = Sept-30 and next_day = Oct-1, b/c 30 > 1).  When this happens, we concatenate the current_day, then increase i by 1 to set the current_month to the next month for furture concatenation.  \n",
    "\n",
    "# If current_day_num < next_day_num, that indicates both days are in the same month (ex: If current_day = Sept-5 and next_day = Sept-6, b/c 5 < 6), so we concatenate like normal.\n",
    "\n",
    "# The try block handles the exception when you get to the last day in day_nums.  Since there are no more days in the list, we get an error when we try to index into the list one day into the future.\n",
    "for count, current_day_num in enumerate(day_nums, start=1):\n",
    "    try:\n",
    "        next_day_num = day_nums[count]\n",
    "    except:\n",
    "        pass\n",
    "    if current_day_num > next_day_num:\n",
    "        current_date = str(current_year) + '-' + current_month + '-' + str(current_day_num)\n",
    "        current_date = datetime.strptime(current_date, '%Y-%B-%d').date()\n",
    "        i += 1\n",
    "        current_month = months[i]\n",
    "        parsed_dates.append(current_date)\n",
    "    else:\n",
    "        current_date = str(current_year) + '-' + current_month + '-' + str(current_day_num)\n",
    "        current_date = datetime.strptime(current_date, '%Y-%B-%d').date()\n",
    "        parsed_dates.append(current_date)\n",
    "\n",
    "# Now that all the dates have been parsed, we replace the un\n",
    "purchase_data.iloc[3,2:] = parsed_dates"
   ]
  },
  {
   "cell_type": "code",
   "execution_count": 30,
   "id": "4ae8646c-a73a-46f3-a95c-0ad3e7835dce",
   "metadata": {},
   "outputs": [],
   "source": [
    "purchase_data_transpose = purchase_data.iloc[3:,:].transpose()\n",
    "#purchase_data_transpose.head()"
   ]
  },
  {
   "cell_type": "markdown",
   "id": "b78f2971-0eba-44c3-8a1c-8d3d49660b96",
   "metadata": {},
   "source": [
    "## Some Cleanup"
   ]
  },
  {
   "cell_type": "code",
   "execution_count": 31,
   "id": "4b205ebb-8b12-48f6-9e0e-534d1511e9f3",
   "metadata": {},
   "outputs": [],
   "source": [
    "# Set the column of dates as the index and rename the axis appropriately\n",
    "#purchase_data_transpose.index = purchase_data_transpose.iloc[:, 0]\n",
    "purchase_data_transpose.set_index(3, inplace=True)\n",
    "purchase_data_transpose.rename_axis('date', inplace=True)\n",
    "\n",
    "# Drop first row, which doesn't contain anything useful\n",
    "purchase_data_transpose = purchase_data_transpose.iloc[1:]\n",
    "\n",
    "# Drop the column of dates.  This row is no\n",
    "#purchase_data_transpose = purchase_data_transpose.drop(labels=3, axis=1)\n",
    "\n",
    "# Replace column names with the row of network names and then drop that row\n",
    "purchase_data_transpose.columns = purchase_data_transpose.iloc[0]\n",
    "purchase_data_transpose = purchase_data_transpose.drop(labels='source')\n",
    "\n",
    "purchase_data_transpose.rename_axis('Source', axis='columns')\n",
    "\n",
    "# Convert index of dates to datetime objects\n",
    "purchase_data_transpose.index = pd.to_datetime(purchase_data_transpose.index)"
   ]
  },
  {
   "cell_type": "code",
   "execution_count": null,
   "id": "8be99406-d866-42fc-8241-5f8b5f3f7627",
   "metadata": {},
   "outputs": [],
   "source": [
    "purchase_data_transpose"
   ]
  },
  {
   "cell_type": "code",
   "execution_count": 10,
   "id": "b1679f01-3e4a-4c48-8592-2b9666fb1d56",
   "metadata": {},
   "outputs": [],
   "source": [
    "# purchase_data_transpose = purchase_data_transpose.drop(labels=3, axis=1)"
   ]
  },
  {
   "cell_type": "code",
   "execution_count": 11,
   "id": "9042a71e-f795-4724-806d-38af3d71a00a",
   "metadata": {},
   "outputs": [],
   "source": [
    "# purchase_data_transpose.columns = purchase_data_transpose.iloc[0]"
   ]
  },
  {
   "cell_type": "code",
   "execution_count": 12,
   "id": "ece87e4b-9d3f-4128-a67f-018d55439e5b",
   "metadata": {},
   "outputs": [],
   "source": [
    "# purchase_data_transpose = purchase_data_transpose.drop(labels='source')"
   ]
  },
  {
   "cell_type": "code",
   "execution_count": 13,
   "id": "61c39312-b498-47f6-8ec5-a96d36dbaffb",
   "metadata": {},
   "outputs": [],
   "source": [
    "# purchase_data_transpose.index = pd.to_datetime(purchase_data_transpose.index)"
   ]
  },
  {
   "cell_type": "code",
   "execution_count": 14,
   "id": "4fefde1f-3f83-40cd-aa44-b0a85248ab84",
   "metadata": {},
   "outputs": [],
   "source": [
    "# purchase_data_transpose.rename_axis('date', inplace=True)\n",
    "# #purchase_data_transpose"
   ]
  },
  {
   "cell_type": "code",
   "execution_count": 15,
   "id": "34c9afcc-94c5-43d8-9eee-8d06246ab586",
   "metadata": {},
   "outputs": [
    {
     "data": {
      "text/plain": [
       "(56, 30)"
      ]
     },
     "execution_count": 15,
     "metadata": {},
     "output_type": "execute_result"
    }
   ],
   "source": [
    "purchase_data_transpose.shape"
   ]
  },
  {
   "cell_type": "code",
   "execution_count": 16,
   "id": "f0e5f701-6fc7-4409-95c4-9e1620d48d6c",
   "metadata": {},
   "outputs": [
    {
     "data": {
      "text/html": [
       "<div>\n",
       "<style scoped>\n",
       "    .dataframe tbody tr th:only-of-type {\n",
       "        vertical-align: middle;\n",
       "    }\n",
       "\n",
       "    .dataframe tbody tr th {\n",
       "        vertical-align: top;\n",
       "    }\n",
       "\n",
       "    .dataframe thead th {\n",
       "        text-align: right;\n",
       "    }\n",
       "</style>\n",
       "<table border=\"1\" class=\"dataframe\">\n",
       "  <thead>\n",
       "    <tr style=\"text-align: right;\">\n",
       "      <th>source</th>\n",
       "      <th>(blank)</th>\n",
       "      <th>aapka_colors</th>\n",
       "      <th>baby_first</th>\n",
       "      <th>bloomberg</th>\n",
       "      <th>cbs_sports</th>\n",
       "      <th>cnbc</th>\n",
       "      <th>cnn</th>\n",
       "      <th>comedy_central</th>\n",
       "      <th>dateline</th>\n",
       "      <th>dish_network</th>\n",
       "      <th>...</th>\n",
       "      <th>other</th>\n",
       "      <th>science</th>\n",
       "      <th>sony_entertainment_tv</th>\n",
       "      <th>spectrum_sports</th>\n",
       "      <th>star_plus</th>\n",
       "      <th>television_food_network</th>\n",
       "      <th>the_history_channel</th>\n",
       "      <th>turner_network_tv</th>\n",
       "      <th>willow_tv</th>\n",
       "      <th>zeetv</th>\n",
       "    </tr>\n",
       "    <tr>\n",
       "      <th>date</th>\n",
       "      <th></th>\n",
       "      <th></th>\n",
       "      <th></th>\n",
       "      <th></th>\n",
       "      <th></th>\n",
       "      <th></th>\n",
       "      <th></th>\n",
       "      <th></th>\n",
       "      <th></th>\n",
       "      <th></th>\n",
       "      <th></th>\n",
       "      <th></th>\n",
       "      <th></th>\n",
       "      <th></th>\n",
       "      <th></th>\n",
       "      <th></th>\n",
       "      <th></th>\n",
       "      <th></th>\n",
       "      <th></th>\n",
       "      <th></th>\n",
       "      <th></th>\n",
       "    </tr>\n",
       "  </thead>\n",
       "  <tbody>\n",
       "    <tr>\n",
       "      <th>2017-09-02</th>\n",
       "      <td>NaN</td>\n",
       "      <td>NaN</td>\n",
       "      <td>NaN</td>\n",
       "      <td>NaN</td>\n",
       "      <td>NaN</td>\n",
       "      <td>NaN</td>\n",
       "      <td>NaN</td>\n",
       "      <td>NaN</td>\n",
       "      <td>NaN</td>\n",
       "      <td>NaN</td>\n",
       "      <td>...</td>\n",
       "      <td>NaN</td>\n",
       "      <td>1</td>\n",
       "      <td>NaN</td>\n",
       "      <td>NaN</td>\n",
       "      <td>NaN</td>\n",
       "      <td>1</td>\n",
       "      <td>NaN</td>\n",
       "      <td>NaN</td>\n",
       "      <td>NaN</td>\n",
       "      <td>NaN</td>\n",
       "    </tr>\n",
       "    <tr>\n",
       "      <th>2017-09-03</th>\n",
       "      <td>NaN</td>\n",
       "      <td>NaN</td>\n",
       "      <td>NaN</td>\n",
       "      <td>NaN</td>\n",
       "      <td>1.0</td>\n",
       "      <td>1.0</td>\n",
       "      <td>NaN</td>\n",
       "      <td>NaN</td>\n",
       "      <td>NaN</td>\n",
       "      <td>NaN</td>\n",
       "      <td>...</td>\n",
       "      <td>NaN</td>\n",
       "      <td>NaN</td>\n",
       "      <td>NaN</td>\n",
       "      <td>NaN</td>\n",
       "      <td>NaN</td>\n",
       "      <td>NaN</td>\n",
       "      <td>NaN</td>\n",
       "      <td>NaN</td>\n",
       "      <td>4.0</td>\n",
       "      <td>NaN</td>\n",
       "    </tr>\n",
       "    <tr>\n",
       "      <th>2017-09-04</th>\n",
       "      <td>NaN</td>\n",
       "      <td>NaN</td>\n",
       "      <td>NaN</td>\n",
       "      <td>NaN</td>\n",
       "      <td>NaN</td>\n",
       "      <td>1.0</td>\n",
       "      <td>3.0</td>\n",
       "      <td>NaN</td>\n",
       "      <td>NaN</td>\n",
       "      <td>NaN</td>\n",
       "      <td>...</td>\n",
       "      <td>1.0</td>\n",
       "      <td>NaN</td>\n",
       "      <td>NaN</td>\n",
       "      <td>NaN</td>\n",
       "      <td>NaN</td>\n",
       "      <td>NaN</td>\n",
       "      <td>NaN</td>\n",
       "      <td>NaN</td>\n",
       "      <td>2.0</td>\n",
       "      <td>NaN</td>\n",
       "    </tr>\n",
       "    <tr>\n",
       "      <th>2017-09-05</th>\n",
       "      <td>NaN</td>\n",
       "      <td>NaN</td>\n",
       "      <td>NaN</td>\n",
       "      <td>NaN</td>\n",
       "      <td>NaN</td>\n",
       "      <td>NaN</td>\n",
       "      <td>NaN</td>\n",
       "      <td>NaN</td>\n",
       "      <td>NaN</td>\n",
       "      <td>NaN</td>\n",
       "      <td>...</td>\n",
       "      <td>NaN</td>\n",
       "      <td>NaN</td>\n",
       "      <td>NaN</td>\n",
       "      <td>NaN</td>\n",
       "      <td>1.0</td>\n",
       "      <td>NaN</td>\n",
       "      <td>NaN</td>\n",
       "      <td>NaN</td>\n",
       "      <td>NaN</td>\n",
       "      <td>NaN</td>\n",
       "    </tr>\n",
       "    <tr>\n",
       "      <th>2017-09-06</th>\n",
       "      <td>NaN</td>\n",
       "      <td>NaN</td>\n",
       "      <td>NaN</td>\n",
       "      <td>NaN</td>\n",
       "      <td>NaN</td>\n",
       "      <td>NaN</td>\n",
       "      <td>NaN</td>\n",
       "      <td>NaN</td>\n",
       "      <td>NaN</td>\n",
       "      <td>NaN</td>\n",
       "      <td>...</td>\n",
       "      <td>1.0</td>\n",
       "      <td>NaN</td>\n",
       "      <td>NaN</td>\n",
       "      <td>2.0</td>\n",
       "      <td>1.0</td>\n",
       "      <td>NaN</td>\n",
       "      <td>NaN</td>\n",
       "      <td>NaN</td>\n",
       "      <td>1.0</td>\n",
       "      <td>NaN</td>\n",
       "    </tr>\n",
       "  </tbody>\n",
       "</table>\n",
       "<p>5 rows × 30 columns</p>\n",
       "</div>"
      ],
      "text/plain": [
       "source     (blank) aapka_colors baby_first bloomberg cbs_sports cnbc  cnn  \\\n",
       "date                                                                        \n",
       "2017-09-02     NaN          NaN        NaN       NaN        NaN  NaN  NaN   \n",
       "2017-09-03     NaN          NaN        NaN       NaN        1.0  1.0  NaN   \n",
       "2017-09-04     NaN          NaN        NaN       NaN        NaN  1.0  3.0   \n",
       "2017-09-05     NaN          NaN        NaN       NaN        NaN  NaN  NaN   \n",
       "2017-09-06     NaN          NaN        NaN       NaN        NaN  NaN  NaN   \n",
       "\n",
       "source     comedy_central dateline dish_network  ... other science  \\\n",
       "date                                             ...                 \n",
       "2017-09-02            NaN      NaN          NaN  ...   NaN       1   \n",
       "2017-09-03            NaN      NaN          NaN  ...   NaN     NaN   \n",
       "2017-09-04            NaN      NaN          NaN  ...   1.0     NaN   \n",
       "2017-09-05            NaN      NaN          NaN  ...   NaN     NaN   \n",
       "2017-09-06            NaN      NaN          NaN  ...   1.0     NaN   \n",
       "\n",
       "source     sony_entertainment_tv spectrum_sports star_plus  \\\n",
       "date                                                         \n",
       "2017-09-02                   NaN             NaN       NaN   \n",
       "2017-09-03                   NaN             NaN       NaN   \n",
       "2017-09-04                   NaN             NaN       NaN   \n",
       "2017-09-05                   NaN             NaN       1.0   \n",
       "2017-09-06                   NaN             2.0       1.0   \n",
       "\n",
       "source     television_food_network the_history_channel turner_network_tv  \\\n",
       "date                                                                       \n",
       "2017-09-02                       1                 NaN               NaN   \n",
       "2017-09-03                     NaN                 NaN               NaN   \n",
       "2017-09-04                     NaN                 NaN               NaN   \n",
       "2017-09-05                     NaN                 NaN               NaN   \n",
       "2017-09-06                     NaN                 NaN               NaN   \n",
       "\n",
       "source     willow_tv zeetv  \n",
       "date                        \n",
       "2017-09-02       NaN   NaN  \n",
       "2017-09-03       4.0   NaN  \n",
       "2017-09-04       2.0   NaN  \n",
       "2017-09-05       NaN   NaN  \n",
       "2017-09-06       1.0   NaN  \n",
       "\n",
       "[5 rows x 30 columns]"
      ]
     },
     "execution_count": 16,
     "metadata": {},
     "output_type": "execute_result"
    }
   ],
   "source": [
    "purchase_data_transpose.head()"
   ]
  },
  {
   "cell_type": "markdown",
   "id": "6046a65a-d398-4287-8719-2ce509d4fcfd",
   "metadata": {},
   "source": [
    "## Done"
   ]
  },
  {
   "cell_type": "markdown",
   "id": "3c9fa84e-e1c5-4a24-8353-6f194764b831",
   "metadata": {},
   "source": [
    "# Overall metrics by Network"
   ]
  },
  {
   "cell_type": "markdown",
   "id": "f00b68a2-4a76-48d2-ae75-1d2551c41eda",
   "metadata": {},
   "source": [
    "## Sum of Purchases by Network"
   ]
  },
  {
   "cell_type": "code",
   "execution_count": 18,
   "id": "966c6caf-bceb-4a77-a9a6-933088dae0bf",
   "metadata": {},
   "outputs": [],
   "source": [
    "sum_of_purchases = purchase_data_transpose.sum(axis=0)\n",
    "sum_of_purchases = sum_of_purchases.to_frame()\n",
    "sum_of_purchases = sum_of_purchases.rename(columns={0:'Purchases'})\n",
    "sum_of_purchases.index = sum_of_purchases.index.str.lower()"
   ]
  },
  {
   "cell_type": "code",
   "execution_count": 20,
   "id": "e4023193-b86b-4ae4-b8e6-8fd3642aa8e7",
   "metadata": {},
   "outputs": [
    {
     "data": {
      "text/plain": [
       "(30, 1)"
      ]
     },
     "execution_count": 20,
     "metadata": {},
     "output_type": "execute_result"
    }
   ],
   "source": [
    "sum_of_purchases.shape"
   ]
  },
  {
   "cell_type": "markdown",
   "id": "9461665c-e7bd-4e7c-a0b5-dbcf26fc6e1b",
   "metadata": {},
   "source": [
    "## Joining Purchases to Lookup Data"
   ]
  },
  {
   "cell_type": "code",
   "execution_count": 21,
   "id": "423af1bf-7f89-4b75-a90c-81c9955e0b3b",
   "metadata": {},
   "outputs": [
    {
     "name": "stdout",
     "output_type": "stream",
     "text": [
      "<class 'pandas.core.frame.DataFrame'>\n",
      "Int64Index: 43 entries, 0 to 43\n",
      "Data columns (total 3 columns):\n",
      " #   Column         Non-Null Count  Dtype \n",
      "---  ------         --------------  ----- \n",
      " 0   Exit Survey    43 non-null     object\n",
      " 1   Airings        38 non-null     object\n",
      " 2   Exit Survey.1  43 non-null     object\n",
      "dtypes: object(3)\n",
      "memory usage: 1.3+ KB\n"
     ]
    }
   ],
   "source": [
    "lookup_data.info()"
   ]
  },
  {
   "cell_type": "code",
   "execution_count": 22,
   "id": "ea241d82-6ac7-4477-8fb3-df6b2900a244",
   "metadata": {},
   "outputs": [
    {
     "ename": "KeyError",
     "evalue": "'Source'",
     "output_type": "error",
     "traceback": [
      "\u001b[0;31m---------------------------------------------------------------------------\u001b[0m",
      "\u001b[0;31mKeyError\u001b[0m                                  Traceback (most recent call last)",
      "Input \u001b[0;32mIn [22]\u001b[0m, in \u001b[0;36m<module>\u001b[0;34m\u001b[0m\n\u001b[0;32m----> 1\u001b[0m overall_tbl \u001b[38;5;241m=\u001b[39m \u001b[43mlookup_data\u001b[49m\u001b[38;5;241;43m.\u001b[39;49m\u001b[43mmerge\u001b[49m\u001b[43m(\u001b[49m\u001b[43mright\u001b[49m\u001b[38;5;241;43m=\u001b[39;49m\u001b[43msum_of_purchases\u001b[49m\u001b[43m,\u001b[49m\u001b[43m \u001b[49m\u001b[43mleft_on\u001b[49m\u001b[38;5;241;43m=\u001b[39;49m\u001b[38;5;124;43m'\u001b[39;49m\u001b[38;5;124;43mExit Survey\u001b[39;49m\u001b[38;5;124;43m'\u001b[39;49m\u001b[43m,\u001b[49m\u001b[43m \u001b[49m\u001b[43mright_on\u001b[49m\u001b[38;5;241;43m=\u001b[39;49m\u001b[38;5;124;43m'\u001b[39;49m\u001b[38;5;124;43mSource\u001b[39;49m\u001b[38;5;124;43m'\u001b[39;49m\u001b[43m,\u001b[49m\u001b[43m \u001b[49m\u001b[43mhow\u001b[49m\u001b[38;5;241;43m=\u001b[39;49m\u001b[38;5;124;43m'\u001b[39;49m\u001b[38;5;124;43mleft\u001b[39;49m\u001b[38;5;124;43m'\u001b[39;49m\u001b[43m)\u001b[49m\n\u001b[1;32m      2\u001b[0m overall_tbl\u001b[38;5;241m.\u001b[39mdrop(labels\u001b[38;5;241m=\u001b[39m\u001b[38;5;124m'\u001b[39m\u001b[38;5;124mExit Survey.1\u001b[39m\u001b[38;5;124m'\u001b[39m, axis\u001b[38;5;241m=\u001b[39m\u001b[38;5;241m1\u001b[39m, inplace\u001b[38;5;241m=\u001b[39m\u001b[38;5;28;01mTrue\u001b[39;00m)\n\u001b[1;32m      3\u001b[0m \u001b[38;5;66;03m#overall_tbl.rename(columns={0:'Purchases'}, inplace=True)\u001b[39;00m\n",
      "File \u001b[0;32m~/opt/anaconda3/envs/ox/lib/python3.9/site-packages/pandas/core/frame.py:9339\u001b[0m, in \u001b[0;36mDataFrame.merge\u001b[0;34m(self, right, how, on, left_on, right_on, left_index, right_index, sort, suffixes, copy, indicator, validate)\u001b[0m\n\u001b[1;32m   9320\u001b[0m \u001b[38;5;129m@Substitution\u001b[39m(\u001b[38;5;124m\"\u001b[39m\u001b[38;5;124m\"\u001b[39m)\n\u001b[1;32m   9321\u001b[0m \u001b[38;5;129m@Appender\u001b[39m(_merge_doc, indents\u001b[38;5;241m=\u001b[39m\u001b[38;5;241m2\u001b[39m)\n\u001b[1;32m   9322\u001b[0m \u001b[38;5;28;01mdef\u001b[39;00m \u001b[38;5;21mmerge\u001b[39m(\n\u001b[0;32m   (...)\u001b[0m\n\u001b[1;32m   9335\u001b[0m     validate: \u001b[38;5;28mstr\u001b[39m \u001b[38;5;241m|\u001b[39m \u001b[38;5;28;01mNone\u001b[39;00m \u001b[38;5;241m=\u001b[39m \u001b[38;5;28;01mNone\u001b[39;00m,\n\u001b[1;32m   9336\u001b[0m ) \u001b[38;5;241m-\u001b[39m\u001b[38;5;241m>\u001b[39m DataFrame:\n\u001b[1;32m   9337\u001b[0m     \u001b[38;5;28;01mfrom\u001b[39;00m \u001b[38;5;21;01mpandas\u001b[39;00m\u001b[38;5;21;01m.\u001b[39;00m\u001b[38;5;21;01mcore\u001b[39;00m\u001b[38;5;21;01m.\u001b[39;00m\u001b[38;5;21;01mreshape\u001b[39;00m\u001b[38;5;21;01m.\u001b[39;00m\u001b[38;5;21;01mmerge\u001b[39;00m \u001b[38;5;28;01mimport\u001b[39;00m merge\n\u001b[0;32m-> 9339\u001b[0m     \u001b[38;5;28;01mreturn\u001b[39;00m \u001b[43mmerge\u001b[49m\u001b[43m(\u001b[49m\n\u001b[1;32m   9340\u001b[0m \u001b[43m        \u001b[49m\u001b[38;5;28;43mself\u001b[39;49m\u001b[43m,\u001b[49m\n\u001b[1;32m   9341\u001b[0m \u001b[43m        \u001b[49m\u001b[43mright\u001b[49m\u001b[43m,\u001b[49m\n\u001b[1;32m   9342\u001b[0m \u001b[43m        \u001b[49m\u001b[43mhow\u001b[49m\u001b[38;5;241;43m=\u001b[39;49m\u001b[43mhow\u001b[49m\u001b[43m,\u001b[49m\n\u001b[1;32m   9343\u001b[0m \u001b[43m        \u001b[49m\u001b[43mon\u001b[49m\u001b[38;5;241;43m=\u001b[39;49m\u001b[43mon\u001b[49m\u001b[43m,\u001b[49m\n\u001b[1;32m   9344\u001b[0m \u001b[43m        \u001b[49m\u001b[43mleft_on\u001b[49m\u001b[38;5;241;43m=\u001b[39;49m\u001b[43mleft_on\u001b[49m\u001b[43m,\u001b[49m\n\u001b[1;32m   9345\u001b[0m \u001b[43m        \u001b[49m\u001b[43mright_on\u001b[49m\u001b[38;5;241;43m=\u001b[39;49m\u001b[43mright_on\u001b[49m\u001b[43m,\u001b[49m\n\u001b[1;32m   9346\u001b[0m \u001b[43m        \u001b[49m\u001b[43mleft_index\u001b[49m\u001b[38;5;241;43m=\u001b[39;49m\u001b[43mleft_index\u001b[49m\u001b[43m,\u001b[49m\n\u001b[1;32m   9347\u001b[0m \u001b[43m        \u001b[49m\u001b[43mright_index\u001b[49m\u001b[38;5;241;43m=\u001b[39;49m\u001b[43mright_index\u001b[49m\u001b[43m,\u001b[49m\n\u001b[1;32m   9348\u001b[0m \u001b[43m        \u001b[49m\u001b[43msort\u001b[49m\u001b[38;5;241;43m=\u001b[39;49m\u001b[43msort\u001b[49m\u001b[43m,\u001b[49m\n\u001b[1;32m   9349\u001b[0m \u001b[43m        \u001b[49m\u001b[43msuffixes\u001b[49m\u001b[38;5;241;43m=\u001b[39;49m\u001b[43msuffixes\u001b[49m\u001b[43m,\u001b[49m\n\u001b[1;32m   9350\u001b[0m \u001b[43m        \u001b[49m\u001b[43mcopy\u001b[49m\u001b[38;5;241;43m=\u001b[39;49m\u001b[43mcopy\u001b[49m\u001b[43m,\u001b[49m\n\u001b[1;32m   9351\u001b[0m \u001b[43m        \u001b[49m\u001b[43mindicator\u001b[49m\u001b[38;5;241;43m=\u001b[39;49m\u001b[43mindicator\u001b[49m\u001b[43m,\u001b[49m\n\u001b[1;32m   9352\u001b[0m \u001b[43m        \u001b[49m\u001b[43mvalidate\u001b[49m\u001b[38;5;241;43m=\u001b[39;49m\u001b[43mvalidate\u001b[49m\u001b[43m,\u001b[49m\n\u001b[1;32m   9353\u001b[0m \u001b[43m    \u001b[49m\u001b[43m)\u001b[49m\n",
      "File \u001b[0;32m~/opt/anaconda3/envs/ox/lib/python3.9/site-packages/pandas/core/reshape/merge.py:107\u001b[0m, in \u001b[0;36mmerge\u001b[0;34m(left, right, how, on, left_on, right_on, left_index, right_index, sort, suffixes, copy, indicator, validate)\u001b[0m\n\u001b[1;32m     90\u001b[0m \u001b[38;5;129m@Substitution\u001b[39m(\u001b[38;5;124m\"\u001b[39m\u001b[38;5;130;01m\\n\u001b[39;00m\u001b[38;5;124mleft : DataFrame or named Series\u001b[39m\u001b[38;5;124m\"\u001b[39m)\n\u001b[1;32m     91\u001b[0m \u001b[38;5;129m@Appender\u001b[39m(_merge_doc, indents\u001b[38;5;241m=\u001b[39m\u001b[38;5;241m0\u001b[39m)\n\u001b[1;32m     92\u001b[0m \u001b[38;5;28;01mdef\u001b[39;00m \u001b[38;5;21mmerge\u001b[39m(\n\u001b[0;32m   (...)\u001b[0m\n\u001b[1;32m    105\u001b[0m     validate: \u001b[38;5;28mstr\u001b[39m \u001b[38;5;241m|\u001b[39m \u001b[38;5;28;01mNone\u001b[39;00m \u001b[38;5;241m=\u001b[39m \u001b[38;5;28;01mNone\u001b[39;00m,\n\u001b[1;32m    106\u001b[0m ) \u001b[38;5;241m-\u001b[39m\u001b[38;5;241m>\u001b[39m DataFrame:\n\u001b[0;32m--> 107\u001b[0m     op \u001b[38;5;241m=\u001b[39m \u001b[43m_MergeOperation\u001b[49m\u001b[43m(\u001b[49m\n\u001b[1;32m    108\u001b[0m \u001b[43m        \u001b[49m\u001b[43mleft\u001b[49m\u001b[43m,\u001b[49m\n\u001b[1;32m    109\u001b[0m \u001b[43m        \u001b[49m\u001b[43mright\u001b[49m\u001b[43m,\u001b[49m\n\u001b[1;32m    110\u001b[0m \u001b[43m        \u001b[49m\u001b[43mhow\u001b[49m\u001b[38;5;241;43m=\u001b[39;49m\u001b[43mhow\u001b[49m\u001b[43m,\u001b[49m\n\u001b[1;32m    111\u001b[0m \u001b[43m        \u001b[49m\u001b[43mon\u001b[49m\u001b[38;5;241;43m=\u001b[39;49m\u001b[43mon\u001b[49m\u001b[43m,\u001b[49m\n\u001b[1;32m    112\u001b[0m \u001b[43m        \u001b[49m\u001b[43mleft_on\u001b[49m\u001b[38;5;241;43m=\u001b[39;49m\u001b[43mleft_on\u001b[49m\u001b[43m,\u001b[49m\n\u001b[1;32m    113\u001b[0m \u001b[43m        \u001b[49m\u001b[43mright_on\u001b[49m\u001b[38;5;241;43m=\u001b[39;49m\u001b[43mright_on\u001b[49m\u001b[43m,\u001b[49m\n\u001b[1;32m    114\u001b[0m \u001b[43m        \u001b[49m\u001b[43mleft_index\u001b[49m\u001b[38;5;241;43m=\u001b[39;49m\u001b[43mleft_index\u001b[49m\u001b[43m,\u001b[49m\n\u001b[1;32m    115\u001b[0m \u001b[43m        \u001b[49m\u001b[43mright_index\u001b[49m\u001b[38;5;241;43m=\u001b[39;49m\u001b[43mright_index\u001b[49m\u001b[43m,\u001b[49m\n\u001b[1;32m    116\u001b[0m \u001b[43m        \u001b[49m\u001b[43msort\u001b[49m\u001b[38;5;241;43m=\u001b[39;49m\u001b[43msort\u001b[49m\u001b[43m,\u001b[49m\n\u001b[1;32m    117\u001b[0m \u001b[43m        \u001b[49m\u001b[43msuffixes\u001b[49m\u001b[38;5;241;43m=\u001b[39;49m\u001b[43msuffixes\u001b[49m\u001b[43m,\u001b[49m\n\u001b[1;32m    118\u001b[0m \u001b[43m        \u001b[49m\u001b[43mcopy\u001b[49m\u001b[38;5;241;43m=\u001b[39;49m\u001b[43mcopy\u001b[49m\u001b[43m,\u001b[49m\n\u001b[1;32m    119\u001b[0m \u001b[43m        \u001b[49m\u001b[43mindicator\u001b[49m\u001b[38;5;241;43m=\u001b[39;49m\u001b[43mindicator\u001b[49m\u001b[43m,\u001b[49m\n\u001b[1;32m    120\u001b[0m \u001b[43m        \u001b[49m\u001b[43mvalidate\u001b[49m\u001b[38;5;241;43m=\u001b[39;49m\u001b[43mvalidate\u001b[49m\u001b[43m,\u001b[49m\n\u001b[1;32m    121\u001b[0m \u001b[43m    \u001b[49m\u001b[43m)\u001b[49m\n\u001b[1;32m    122\u001b[0m     \u001b[38;5;28;01mreturn\u001b[39;00m op\u001b[38;5;241m.\u001b[39mget_result()\n",
      "File \u001b[0;32m~/opt/anaconda3/envs/ox/lib/python3.9/site-packages/pandas/core/reshape/merge.py:700\u001b[0m, in \u001b[0;36m_MergeOperation.__init__\u001b[0;34m(self, left, right, how, on, left_on, right_on, axis, left_index, right_index, sort, suffixes, copy, indicator, validate)\u001b[0m\n\u001b[1;32m    693\u001b[0m \u001b[38;5;28mself\u001b[39m\u001b[38;5;241m.\u001b[39m_cross \u001b[38;5;241m=\u001b[39m cross_col\n\u001b[1;32m    695\u001b[0m \u001b[38;5;66;03m# note this function has side effects\u001b[39;00m\n\u001b[1;32m    696\u001b[0m (\n\u001b[1;32m    697\u001b[0m     \u001b[38;5;28mself\u001b[39m\u001b[38;5;241m.\u001b[39mleft_join_keys,\n\u001b[1;32m    698\u001b[0m     \u001b[38;5;28mself\u001b[39m\u001b[38;5;241m.\u001b[39mright_join_keys,\n\u001b[1;32m    699\u001b[0m     \u001b[38;5;28mself\u001b[39m\u001b[38;5;241m.\u001b[39mjoin_names,\n\u001b[0;32m--> 700\u001b[0m ) \u001b[38;5;241m=\u001b[39m \u001b[38;5;28;43mself\u001b[39;49m\u001b[38;5;241;43m.\u001b[39;49m\u001b[43m_get_merge_keys\u001b[49m\u001b[43m(\u001b[49m\u001b[43m)\u001b[49m\n\u001b[1;32m    702\u001b[0m \u001b[38;5;66;03m# validate the merge keys dtypes. We may need to coerce\u001b[39;00m\n\u001b[1;32m    703\u001b[0m \u001b[38;5;66;03m# to avoid incompatible dtypes\u001b[39;00m\n\u001b[1;32m    704\u001b[0m \u001b[38;5;28mself\u001b[39m\u001b[38;5;241m.\u001b[39m_maybe_coerce_merge_keys()\n",
      "File \u001b[0;32m~/opt/anaconda3/envs/ox/lib/python3.9/site-packages/pandas/core/reshape/merge.py:1097\u001b[0m, in \u001b[0;36m_MergeOperation._get_merge_keys\u001b[0;34m(self)\u001b[0m\n\u001b[1;32m   1095\u001b[0m \u001b[38;5;28;01mif\u001b[39;00m \u001b[38;5;129;01mnot\u001b[39;00m is_rkey(rk):\n\u001b[1;32m   1096\u001b[0m     \u001b[38;5;28;01mif\u001b[39;00m rk \u001b[38;5;129;01mis\u001b[39;00m \u001b[38;5;129;01mnot\u001b[39;00m \u001b[38;5;28;01mNone\u001b[39;00m:\n\u001b[0;32m-> 1097\u001b[0m         right_keys\u001b[38;5;241m.\u001b[39mappend(\u001b[43mright\u001b[49m\u001b[38;5;241;43m.\u001b[39;49m\u001b[43m_get_label_or_level_values\u001b[49m\u001b[43m(\u001b[49m\u001b[43mrk\u001b[49m\u001b[43m)\u001b[49m)\n\u001b[1;32m   1098\u001b[0m     \u001b[38;5;28;01melse\u001b[39;00m:\n\u001b[1;32m   1099\u001b[0m         \u001b[38;5;66;03m# work-around for merge_asof(right_index=True)\u001b[39;00m\n\u001b[1;32m   1100\u001b[0m         right_keys\u001b[38;5;241m.\u001b[39mappend(right\u001b[38;5;241m.\u001b[39mindex)\n",
      "File \u001b[0;32m~/opt/anaconda3/envs/ox/lib/python3.9/site-packages/pandas/core/generic.py:1848\u001b[0m, in \u001b[0;36mNDFrame._get_label_or_level_values\u001b[0;34m(self, key, axis)\u001b[0m\n\u001b[1;32m   1846\u001b[0m     values \u001b[38;5;241m=\u001b[39m \u001b[38;5;28mself\u001b[39m\u001b[38;5;241m.\u001b[39maxes[axis]\u001b[38;5;241m.\u001b[39mget_level_values(key)\u001b[38;5;241m.\u001b[39m_values\n\u001b[1;32m   1847\u001b[0m \u001b[38;5;28;01melse\u001b[39;00m:\n\u001b[0;32m-> 1848\u001b[0m     \u001b[38;5;28;01mraise\u001b[39;00m \u001b[38;5;167;01mKeyError\u001b[39;00m(key)\n\u001b[1;32m   1850\u001b[0m \u001b[38;5;66;03m# Check for duplicates\u001b[39;00m\n\u001b[1;32m   1851\u001b[0m \u001b[38;5;28;01mif\u001b[39;00m values\u001b[38;5;241m.\u001b[39mndim \u001b[38;5;241m>\u001b[39m \u001b[38;5;241m1\u001b[39m:\n",
      "\u001b[0;31mKeyError\u001b[0m: 'Source'"
     ]
    }
   ],
   "source": [
    "overall_tbl = lookup_data.merge(right=sum_of_purchases, left_on='Exit Survey', right_on='Source', how='left')\n",
    "overall_tbl.drop(labels='Exit Survey.1', axis=1, inplace=True)\n",
    "#overall_tbl.rename(columns={0:'Purchases'}, inplace=True)\n",
    "overall_tbl.set_index('Exit Survey', inplace=True)\n",
    "overall_tbl.shape"
   ]
  },
  {
   "cell_type": "markdown",
   "id": "08aeba17-5ca8-43c2-8e80-0057e995269b",
   "metadata": {},
   "source": [
    "## Spend and Lift by Network"
   ]
  },
  {
   "cell_type": "code",
   "execution_count": null,
   "id": "b47b8230-e650-4602-bf8a-25e957dbf53c",
   "metadata": {},
   "outputs": [],
   "source": [
    "airings_spend_and_lift = airings_data.groupby('Network')[['Spend', 'Lift']].agg('sum')\n",
    "airings_spend_and_lift.shape"
   ]
  },
  {
   "cell_type": "markdown",
   "id": "60f0961b-fada-4358-8c1d-d97a74d71a2d",
   "metadata": {},
   "source": [
    "## Joining Purchases/Lookup to Spend and Lift"
   ]
  },
  {
   "cell_type": "code",
   "execution_count": null,
   "id": "4d46e4a8-3e00-46e4-af1f-fcc70ece6aec",
   "metadata": {},
   "outputs": [],
   "source": [
    "overall_tbl = overall_tbl.merge(right=airings_spend_and_lift,left_on='Airings', right_index=True, how='left')\n",
    "overall_tbl.shape"
   ]
  },
  {
   "cell_type": "markdown",
   "id": "9e4a42b9-74df-4446-bb60-4996be96b246",
   "metadata": {},
   "source": [
    "## Computing Metrics by Network"
   ]
  },
  {
   "cell_type": "code",
   "execution_count": null,
   "id": "0891498a-6a67-4f42-a5ba-859316a82914",
   "metadata": {},
   "outputs": [],
   "source": [
    "overall_tbl['Conversion Rate'] = overall_tbl['Purchases'] / overall_tbl['Lift'] * 100\n",
    "overall_tbl['Cost Per Acquisition'] = overall_tbl['Spend'] / overall_tbl['Purchases']\n",
    "overall_tbl['Cost Per Visitor'] = overall_tbl['Spend'] / overall_tbl['Lift']\n",
    "overall_tbl['Percent of Purchases'] = overall_tbl['Purchases'] / sum(overall_tbl['Purchases'].fillna(0)) * 100\n",
    "overall_tbl['Percent of Spend'] = overall_tbl['Spend'] / sum(overall_tbl['Spend'].fillna(0)) * 100\n",
    "overall_tbl['Percent Pur > Percent Spend'] = overall_tbl['Percent of Purchases'] > overall_tbl['Percent of Spend']\n",
    "overall_tbl"
   ]
  },
  {
   "cell_type": "code",
   "execution_count": null,
   "id": "333f8efd-8bc4-4e2a-89aa-3134f4f1d591",
   "metadata": {},
   "outputs": [],
   "source": [
    "overall_tbl.shape"
   ]
  },
  {
   "cell_type": "markdown",
   "id": "1f454f18-7548-439b-9d6a-4c2509c19e5d",
   "metadata": {},
   "source": [
    "## Done"
   ]
  },
  {
   "cell_type": "markdown",
   "id": "1698735a-9bd8-4f8d-a085-2d2474c410d8",
   "metadata": {},
   "source": [
    "# Grouped Metrics by Network and Month"
   ]
  },
  {
   "cell_type": "markdown",
   "id": "5b1bc2d5-f30e-4816-9840-ff1b92f5171e",
   "metadata": {},
   "source": [
    "## Purchase Data by Network and Month"
   ]
  },
  {
   "cell_type": "code",
   "execution_count": null,
   "id": "0d14cce1-59c4-4c19-bd74-86c7b697f01f",
   "metadata": {},
   "outputs": [],
   "source": [
    "purchase_data_by_month = purchase_data_transpose.groupby(pd.Grouper(freq='M')).agg('sum')\n",
    "purchase_data_by_month"
   ]
  },
  {
   "cell_type": "code",
   "execution_count": null,
   "id": "ab371aec-953c-4165-8479-ab785e228f35",
   "metadata": {},
   "outputs": [],
   "source": [
    "purchase_data_by_month = purchase_data_by_month.transpose()\n",
    "purchase_data_by_month = purchase_data_by_month.stack().to_frame()\n",
    "purchase_data_by_month.rename(columns={0:'Purchases'}, inplace=True)\n",
    "purchase_data_by_month = purchase_data_by_month.reset_index()\n",
    "purchase_data_by_month['Source'] = purchase_data_by_month['Source'].str.lower()\n",
    "purchase_data_by_month"
   ]
  },
  {
   "cell_type": "code",
   "execution_count": null,
   "id": "9d84aeea-10d4-47b2-8263-a64ed75a11c5",
   "metadata": {},
   "outputs": [],
   "source": [
    "purchase_data_by_month.shape"
   ]
  },
  {
   "cell_type": "markdown",
   "id": "b382e33e-0e0b-43e8-bc2b-e1fdad0ec2d6",
   "metadata": {},
   "source": [
    "## Airings Sheet"
   ]
  },
  {
   "cell_type": "code",
   "execution_count": null,
   "id": "95b8db1f-2ee3-49f7-8338-052731b88fd5",
   "metadata": {},
   "outputs": [],
   "source": [
    "airings_data.info()"
   ]
  },
  {
   "cell_type": "code",
   "execution_count": null,
   "id": "873b895e-00e7-4556-8b8d-b6286e2a48e0",
   "metadata": {},
   "outputs": [],
   "source": [
    "# airings_data.groupby([pd.Grouper(key='Date/Time ET', freq='M'), 'Network'])[['Spend', 'Lift']].agg('sum')"
   ]
  },
  {
   "cell_type": "markdown",
   "id": "e0a6ed52-48a6-40eb-a028-3528e1f67042",
   "metadata": {},
   "source": [
    "## Preparing Lookup Data for Join"
   ]
  },
  {
   "cell_type": "code",
   "execution_count": null,
   "id": "0db27ce1-3a7d-4964-92e5-1b08350bbe47",
   "metadata": {},
   "outputs": [],
   "source": [
    "lookup_data = lookup_data.drop('Exit Survey.1', axis=1)\n",
    "# lookup_data = lookup_data.set_index('Exit Survey')\n",
    "# lookup_data = lookup_data.rename_axis('Source')\n",
    "lookup_data"
   ]
  },
  {
   "cell_type": "code",
   "execution_count": null,
   "id": "3857ccf4-df2d-4e3f-bbb7-45156b1daefc",
   "metadata": {},
   "outputs": [],
   "source": [
    "lookup_data.shape"
   ]
  },
  {
   "cell_type": "markdown",
   "id": "fc10a862-73c5-4b9e-a729-a1319fecb91d",
   "metadata": {},
   "source": [
    "## Joining Purchases by network and month to Lookup Data"
   ]
  },
  {
   "cell_type": "code",
   "execution_count": null,
   "id": "3b244735-f6d0-470c-ad49-d6aa149106b8",
   "metadata": {},
   "outputs": [],
   "source": [
    "# joined_tbl = lookup_data[['Exit Survey', 'Airings']].merge(right=purchase_data_by_date, left_on='Exit Survey', right_on='Source', how='left')\n",
    "# #joined_tbl.drop(labels='Exit Survey', axis=1, inplace=True)\n",
    "# joined_tbl"
   ]
  },
  {
   "cell_type": "code",
   "execution_count": null,
   "id": "0ef06627-30a0-4e30-9754-2e03642485f3",
   "metadata": {},
   "outputs": [],
   "source": [
    "# purchase_grouped = purchase_data_by_month.join(lookup_data, how='right')\n",
    "# purchase_grouped"
   ]
  },
  {
   "cell_type": "code",
   "execution_count": null,
   "id": "f79b2417-65d6-411f-8e41-80b73e7fe102",
   "metadata": {},
   "outputs": [],
   "source": [
    "by_month_tbl = lookup_data.merge(right=purchase_data_by_month, left_on='Exit Survey', right_on='Source', how='left').set_index(['Exit Survey', 'date'])\n",
    "by_month_tbl"
   ]
  },
  {
   "cell_type": "code",
   "execution_count": null,
   "id": "f10040a2-c06d-46ca-b22b-c85d768d06d9",
   "metadata": {},
   "outputs": [],
   "source": [
    "print(by_month_tbl.to_string())"
   ]
  },
  {
   "cell_type": "code",
   "execution_count": null,
   "id": "5d859dfc-72ea-4a5d-929d-a0db5daacad4",
   "metadata": {},
   "outputs": [],
   "source": [
    "by_month_tbl.shape"
   ]
  },
  {
   "cell_type": "markdown",
   "id": "90c5a8c6-1f7d-40a1-8916-fef77880a340",
   "metadata": {},
   "source": [
    "## Spend and Lift by Network and Month"
   ]
  },
  {
   "cell_type": "code",
   "execution_count": null,
   "id": "3b1d3d5f-566d-499e-96b2-78389a551fee",
   "metadata": {},
   "outputs": [],
   "source": [
    "# NEED TO drop Network as an index and make a column, join with purchase_grouped and keep the \n",
    "airings_spend_lift_grouped = airings_data.groupby(['Network', pd.Grouper(key='Date/Time ET', freq='M')])[['Spend', 'Lift']].agg('sum')\n",
    "airings_spend_lift_grouped"
   ]
  },
  {
   "cell_type": "code",
   "execution_count": null,
   "id": "3bce1a42-3dc2-4721-a961-36a87d361307",
   "metadata": {},
   "outputs": [],
   "source": [
    "# airings_spend_lift_grouped.reset_index()"
   ]
  },
  {
   "cell_type": "code",
   "execution_count": null,
   "id": "b7984d2b-e88a-4dd2-b801-0c03e6acc749",
   "metadata": {},
   "outputs": [],
   "source": [
    "by_month_tbl.reset_index().head()"
   ]
  },
  {
   "cell_type": "code",
   "execution_count": null,
   "id": "e687cb3a-e445-4cb7-bebc-c27e611cd9fb",
   "metadata": {},
   "outputs": [],
   "source": [
    "# purchase_grouped.reset_index()"
   ]
  },
  {
   "cell_type": "code",
   "execution_count": null,
   "id": "199d79d5-2ce6-4997-89d1-229417d6cf27",
   "metadata": {},
   "outputs": [],
   "source": [
    "airings_spend_lift_grouped.reset_index().head()"
   ]
  },
  {
   "cell_type": "markdown",
   "id": "13ebbd48-a751-4920-a8c1-3c02ee78b8b0",
   "metadata": {},
   "source": [
    "## Joining Purchases/Lookup to Spend and Lift by Network and Month"
   ]
  },
  {
   "cell_type": "code",
   "execution_count": null,
   "id": "3dafe29d-6aa8-4e86-a027-24d8ed605c7c",
   "metadata": {},
   "outputs": [],
   "source": [
    "# month_and_network_grouped = purchase_grouped.reset_index().merge(right=airings_spend_lift_grouped.reset_index(), left_on=['Airings', 'date'], right_on=['Network', 'Date/Time ET'], how='left')\n",
    "# month_and_network_grouped\n",
    "\n",
    "new_tbl = by_month_tbl.reset_index().merge(right=airings_spend_lift_grouped.reset_index(), left_on=['Airings', 'date'], right_on=['Network', 'Date/Time ET'], how='left')\n",
    "new_tbl.head()"
   ]
  },
  {
   "cell_type": "code",
   "execution_count": null,
   "id": "278695ca-ff4c-46e3-83ad-88244a0a5f96",
   "metadata": {},
   "outputs": [],
   "source": [
    "new_tbl.shape"
   ]
  },
  {
   "cell_type": "code",
   "execution_count": null,
   "id": "f9cf99dc-6f0f-47f4-9453-7e1e3ac9fd39",
   "metadata": {},
   "outputs": [],
   "source": [
    "# month_and_network_grouped= month_and_network_grouped.set_index(['Source', 'date']).drop(labels=['Airings', 'Network', 'Date/Time ET'], axis=1)\n",
    "# month_and_network_grouped\n",
    "\n",
    "new_tbl = new_tbl.set_index(['Exit Survey', 'date']).drop(labels=['Airings', 'Network', 'Date/Time ET', 'Source'], axis=1)\n",
    "new_tbl"
   ]
  },
  {
   "cell_type": "code",
   "execution_count": null,
   "id": "70a80622-29da-44b1-a666-4029d85a6277",
   "metadata": {},
   "outputs": [],
   "source": [
    "new_tbl.shape"
   ]
  },
  {
   "cell_type": "code",
   "execution_count": null,
   "id": "79cffe61-8f2c-4c01-b6b8-947a9b8e0326",
   "metadata": {},
   "outputs": [],
   "source": [
    "print(new_tbl.to_string())"
   ]
  },
  {
   "cell_type": "code",
   "execution_count": null,
   "id": "15121994-649e-48f7-a94c-9a2ad47abab7",
   "metadata": {},
   "outputs": [],
   "source": [
    "new_tbl['Conversion Rate'] = new_tbl['Purchases'] / new_tbl['Lift'] * 100\n",
    "new_tbl['Cost Per Acquisition'] = new_tbl['Spend'] / new_tbl['Purchases']\n",
    "new_tbl['Cost Per Visitor'] = new_tbl['Spend'] / new_tbl['Lift']\n",
    "new_tbl['Percent of Purchases'] = new_tbl['Purchases'] / sum(new_tbl['Purchases'].fillna(0)) * 100\n",
    "new_tbl['Percent of Spend'] = new_tbl['Spend'] / sum(new_tbl['Spend'].fillna(0)) * 100\n",
    "new_tbl['Percent Pur > Percent Spend'] = new_tbl['Percent of Purchases'] > new_tbl['Percent of Spend']\n",
    "new_tbl"
   ]
  },
  {
   "cell_type": "code",
   "execution_count": null,
   "id": "10042117-db4c-4ce9-94e3-55b3214a0616",
   "metadata": {},
   "outputs": [],
   "source": [
    "print(new_tbl.to_string())"
   ]
  },
  {
   "cell_type": "markdown",
   "id": "6aedb5fe-c662-4f10-b317-018b833eafdf",
   "metadata": {},
   "source": [
    "## Done"
   ]
  },
  {
   "cell_type": "code",
   "execution_count": null,
   "id": "cce37716-d3a6-4131-9901-6f15898a24a3",
   "metadata": {},
   "outputs": [],
   "source": [
    "airings_data.query('Network == \"FOOD\"')"
   ]
  },
  {
   "cell_type": "code",
   "execution_count": null,
   "id": "913b2c83-ac9c-4df8-bee7-dd4b0e5a15dc",
   "metadata": {},
   "outputs": [],
   "source": []
  },
  {
   "cell_type": "markdown",
   "id": "ab0b6332-c156-4b84-9554-c927c48cbb51",
   "metadata": {},
   "source": [
    "# What networks have purchases but no spend?"
   ]
  },
  {
   "cell_type": "code",
   "execution_count": null,
   "id": "d401a463-d636-498b-ba43-9d10ea082b56",
   "metadata": {},
   "outputs": [],
   "source": [
    "airings_data.query('Spend == 0')['Network'].value_counts()"
   ]
  },
  {
   "cell_type": "code",
   "execution_count": null,
   "id": "25083176-6a00-4fda-9933-0dcfa5f21bf1",
   "metadata": {},
   "outputs": [],
   "source": [
    "airings_data.groupby('Network')[['Spend', 'Lift']].agg('sum')"
   ]
  },
  {
   "cell_type": "code",
   "execution_count": null,
   "id": "50108b10-9f3d-4c34-b954-a410bc9cc4cf",
   "metadata": {},
   "outputs": [],
   "source": []
  }
 ],
 "metadata": {
  "jupytext": {
   "formats": "ipynb,auto:percent"
  },
  "kernelspec": {
   "display_name": "Python 3 (ipykernel)",
   "language": "python",
   "name": "python3"
  },
  "language_info": {
   "codemirror_mode": {
    "name": "ipython",
    "version": 3
   },
   "file_extension": ".py",
   "mimetype": "text/x-python",
   "name": "python",
   "nbconvert_exporter": "python",
   "pygments_lexer": "ipython3",
   "version": "3.9.10"
  }
 },
 "nbformat": 4,
 "nbformat_minor": 5
}
