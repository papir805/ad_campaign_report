{
 "cells": [
  {
   "cell_type": "markdown",
   "id": "9e6a47a3-f66a-47ee-aae1-03662201353d",
   "metadata": {},
   "source": [
    "# Start"
   ]
  },
  {
   "cell_type": "code",
   "execution_count": 1,
   "id": "3fd2be60-3d51-4df0-8b6d-b09f24d395c0",
   "metadata": {},
   "outputs": [],
   "source": [
    "import pandas as pd\n",
    "import numpy as np\n",
    "from datetime import datetime"
   ]
  },
  {
   "cell_type": "code",
   "execution_count": 2,
   "id": "2fb855c2-8fa4-4d01-babd-124a80af3aad",
   "metadata": {},
   "outputs": [],
   "source": [
    "purchase_data = pd.read_excel(\"./Analyst_dataset.xlsx\", sheet_name='Purchase Exit Survey Data')\n",
    "airings_data = pd.read_excel(\"./Analyst_dataset.xlsx\", sheet_name='Airings')\n",
    "\n",
    "# The first row of Lookup table says \"Lookup table for survey response field to airings network ticker symbol.\"  Assuming the first row always says that, we can drop it.\n",
    "lookup_data = pd.read_excel(\"./Analyst_dataset.xlsx\", sheet_name='Lookup', skiprows=1)"
   ]
  },
  {
   "cell_type": "markdown",
   "id": "5804936d-21e1-49f5-8347-19b48bd50abb",
   "metadata": {},
   "source": [
    "# Preprocessing"
   ]
  },
  {
   "cell_type": "code",
   "execution_count": 3,
   "id": "08ae9bed-025a-49b8-b538-14a2bef75eb4",
   "metadata": {},
   "outputs": [],
   "source": [
    "# Lookup data is meant to facilitate a join between the purchases data and the spend/lift data, but lookup data has a row will all null values, which doesn't help the join in any way.  I'll drop that row.\n",
    "lookup_data = lookup_data.dropna(how='all')\n",
    "\n",
    "# The Exit Survey column and Exit Survey.1 column are identical, so we can drop the duplicated column.\n",
    "lookup_data.drop(labels='Exit Survey.1', axis=1, inplace=True)"
   ]
  },
  {
   "cell_type": "code",
   "execution_count": 4,
   "id": "cef1597a-b1f4-4f80-b850-9875a7bee031",
   "metadata": {},
   "outputs": [],
   "source": [
    "# In order to make sure the joins happen correctly, we need to ensure that the strings we're joining on actually match.\n",
    "\n",
    "# The purchase data table is pretty messy, but if we assume the second column always contains the names of the networks, we can use .iloc to grab them and ensure they're lowercase \n",
    "\n",
    "lookup_data['Exit Survey'] = lookup_data['Exit Survey'].str.lower()\n",
    "lookup_data['Airings'] = lookup_data['Airings'].str.upper()\n",
    "airings_data['Network'] = airings_data['Network'].str.upper()\n",
    "purchase_data.iloc[:, 1] = purchase_data.iloc[:, 1].str.lower()"
   ]
  },
  {
   "cell_type": "markdown",
   "id": "3a223e39-88d8-4186-899e-28f6804a375e",
   "metadata": {},
   "source": [
    "# Transposing Purchase Exit Survey Data - Converting dates from columns to rows in Purchase Exit Survey Data\n",
    "\n",
    "The purchases table is extremely messy and would be easier to work with if the rows were dates and the columns were the networks.  If we assume that the first row will always have the year, the third row will always have month names, and the fourth row will always have the day numbers, I can programmatically concatenate all the necessary date information in the form \"Year-Month-Day\", then use them for the rows."
   ]
  },
  {
   "cell_type": "code",
   "execution_count": 5,
   "id": "96897330-0baf-4a17-b5e3-032c2f49115b",
   "metadata": {},
   "outputs": [
    {
     "data": {
      "text/plain": [
       "2017"
      ]
     },
     "execution_count": 5,
     "metadata": {},
     "output_type": "execute_result"
    }
   ],
   "source": [
    "current_year = purchase_data.iloc[0,:].dropna()\n",
    "current_year = int(current_year)\n",
    "current_year"
   ]
  },
  {
   "cell_type": "code",
   "execution_count": 6,
   "id": "4b55fce2-d190-4dfc-a9cf-90084d8bc73d",
   "metadata": {},
   "outputs": [
    {
     "data": {
      "text/plain": [
       "['September', 'October']"
      ]
     },
     "execution_count": 6,
     "metadata": {},
     "output_type": "execute_result"
    }
   ],
   "source": [
    "months = []\n",
    "for month in purchase_data.iloc[2,2:].dropna():\n",
    "    months.append(month)\n",
    "months"
   ]
  },
  {
   "cell_type": "code",
   "execution_count": 7,
   "id": "04201d4a-970b-44bc-bed3-d3583f1ecfb7",
   "metadata": {},
   "outputs": [],
   "source": [
    "# Grab the row of day numbers and cast as integers\n",
    "day_nums = np.array(purchase_data.iloc[3,2:], dtype=int)\n",
    "\n",
    "parsed_dates = []\n",
    "current_month = months[0]\n",
    "i = 0\n",
    "\n",
    "# Walk through the list of day_nums.  \n",
    "\n",
    "# If current_day_num > next_day_num, that indicates a change in month (ex: If current_day = Sept-30 and next_day = Oct-1, b/c 30 > 1).  When this happens, we concatenate the current_day, then increase i by 1 to set the current_month to the next month for furture concatenation.  \n",
    "\n",
    "# If current_day_num < next_day_num, that indicates both days are in the same month (ex: If current_day = Sept-5 and next_day = Sept-6, b/c 5 < 6), so we concatenate like normal.\n",
    "\n",
    "# The try block handles the exception when you get to the last day in day_nums.  Since there are no more days in the list, we get an error when we try to index into the list one day into the future.\n",
    "for count, current_day_num in enumerate(day_nums, start=1):\n",
    "    try:\n",
    "        next_day_num = day_nums[count]\n",
    "    except:\n",
    "        pass\n",
    "    if current_day_num > next_day_num:\n",
    "        current_date = str(current_year) + '-' + current_month + '-' + str(current_day_num)\n",
    "        current_date = datetime.strptime(current_date, '%Y-%B-%d').date()\n",
    "        i += 1\n",
    "        current_month = months[i]\n",
    "        parsed_dates.append(current_date)\n",
    "    else:\n",
    "        current_date = str(current_year) + '-' + current_month + '-' + str(current_day_num)\n",
    "        current_date = datetime.strptime(current_date, '%Y-%B-%d').date()\n",
    "        parsed_dates.append(current_date)\n",
    "\n",
    "# Now that all the dates have been parsed, we replace the unparsed dates with the parsed ones, then transpose the table.  We now have rows that correspond to dates and columns that correspond to networks\n",
    "purchase_data.iloc[3,2:] = parsed_dates\n",
    "purchase_data_transpose = purchase_data.iloc[3:,:].transpose()"
   ]
  },
  {
   "cell_type": "markdown",
   "id": "b78f2971-0eba-44c3-8a1c-8d3d49660b96",
   "metadata": {},
   "source": [
    "## Some Cleanup"
   ]
  },
  {
   "cell_type": "code",
   "execution_count": 8,
   "id": "4b205ebb-8b12-48f6-9e0e-534d1511e9f3",
   "metadata": {},
   "outputs": [],
   "source": [
    "# Set the column of dates as the index and rename the axis appropriately\n",
    "#purchase_data_transpose.index = purchase_data_transpose.iloc[:, 0]\n",
    "purchase_data_transpose.set_index(3, inplace=True)\n",
    "purchase_data_transpose.rename_axis('date', inplace=True)\n",
    "\n",
    "# Drop first row, which doesn't contain anything useful\n",
    "purchase_data_transpose = purchase_data_transpose.iloc[1:]\n",
    "\n",
    "# Replace column names with the row of network names and then drop that row\n",
    "purchase_data_transpose.columns = purchase_data_transpose.iloc[0]\n",
    "purchase_data_transpose = purchase_data_transpose.drop(labels='source')\n",
    "\n",
    "# Rename column axis as upper-case \"Source\" to match original table\n",
    "purchase_data_transpose.rename_axis('Source', axis='columns', inplace=True)\n",
    "\n",
    "# Convert index of dates to datetime objects\n",
    "purchase_data_transpose.index = pd.to_datetime(purchase_data_transpose.index)"
   ]
  },
  {
   "cell_type": "code",
   "execution_count": 9,
   "id": "34c9afcc-94c5-43d8-9eee-8d06246ab586",
   "metadata": {},
   "outputs": [],
   "source": [
    "# purchase_data_transpose.shape"
   ]
  },
  {
   "cell_type": "code",
   "execution_count": 10,
   "id": "f0e5f701-6fc7-4409-95c4-9e1620d48d6c",
   "metadata": {},
   "outputs": [
    {
     "data": {
      "text/html": [
       "<div>\n",
       "<style scoped>\n",
       "    .dataframe tbody tr th:only-of-type {\n",
       "        vertical-align: middle;\n",
       "    }\n",
       "\n",
       "    .dataframe tbody tr th {\n",
       "        vertical-align: top;\n",
       "    }\n",
       "\n",
       "    .dataframe thead th {\n",
       "        text-align: right;\n",
       "    }\n",
       "</style>\n",
       "<table border=\"1\" class=\"dataframe\">\n",
       "  <thead>\n",
       "    <tr style=\"text-align: right;\">\n",
       "      <th>Source</th>\n",
       "      <th>(blank)</th>\n",
       "      <th>aapka_colors</th>\n",
       "      <th>baby_first</th>\n",
       "      <th>bloomberg</th>\n",
       "      <th>cbs_sports</th>\n",
       "      <th>cnbc</th>\n",
       "      <th>cnn</th>\n",
       "      <th>comedy_central</th>\n",
       "      <th>dateline</th>\n",
       "      <th>dish_network</th>\n",
       "      <th>...</th>\n",
       "      <th>other</th>\n",
       "      <th>science</th>\n",
       "      <th>sony_entertainment_tv</th>\n",
       "      <th>spectrum_sports</th>\n",
       "      <th>star_plus</th>\n",
       "      <th>television_food_network</th>\n",
       "      <th>the_history_channel</th>\n",
       "      <th>turner_network_tv</th>\n",
       "      <th>willow_tv</th>\n",
       "      <th>zeetv</th>\n",
       "    </tr>\n",
       "    <tr>\n",
       "      <th>date</th>\n",
       "      <th></th>\n",
       "      <th></th>\n",
       "      <th></th>\n",
       "      <th></th>\n",
       "      <th></th>\n",
       "      <th></th>\n",
       "      <th></th>\n",
       "      <th></th>\n",
       "      <th></th>\n",
       "      <th></th>\n",
       "      <th></th>\n",
       "      <th></th>\n",
       "      <th></th>\n",
       "      <th></th>\n",
       "      <th></th>\n",
       "      <th></th>\n",
       "      <th></th>\n",
       "      <th></th>\n",
       "      <th></th>\n",
       "      <th></th>\n",
       "      <th></th>\n",
       "    </tr>\n",
       "  </thead>\n",
       "  <tbody>\n",
       "    <tr>\n",
       "      <th>2017-09-02</th>\n",
       "      <td>NaN</td>\n",
       "      <td>NaN</td>\n",
       "      <td>NaN</td>\n",
       "      <td>NaN</td>\n",
       "      <td>NaN</td>\n",
       "      <td>NaN</td>\n",
       "      <td>NaN</td>\n",
       "      <td>NaN</td>\n",
       "      <td>NaN</td>\n",
       "      <td>NaN</td>\n",
       "      <td>...</td>\n",
       "      <td>NaN</td>\n",
       "      <td>1</td>\n",
       "      <td>NaN</td>\n",
       "      <td>NaN</td>\n",
       "      <td>NaN</td>\n",
       "      <td>1</td>\n",
       "      <td>NaN</td>\n",
       "      <td>NaN</td>\n",
       "      <td>NaN</td>\n",
       "      <td>NaN</td>\n",
       "    </tr>\n",
       "    <tr>\n",
       "      <th>2017-09-03</th>\n",
       "      <td>NaN</td>\n",
       "      <td>NaN</td>\n",
       "      <td>NaN</td>\n",
       "      <td>NaN</td>\n",
       "      <td>1.0</td>\n",
       "      <td>1.0</td>\n",
       "      <td>NaN</td>\n",
       "      <td>NaN</td>\n",
       "      <td>NaN</td>\n",
       "      <td>NaN</td>\n",
       "      <td>...</td>\n",
       "      <td>NaN</td>\n",
       "      <td>NaN</td>\n",
       "      <td>NaN</td>\n",
       "      <td>NaN</td>\n",
       "      <td>NaN</td>\n",
       "      <td>NaN</td>\n",
       "      <td>NaN</td>\n",
       "      <td>NaN</td>\n",
       "      <td>4.0</td>\n",
       "      <td>NaN</td>\n",
       "    </tr>\n",
       "    <tr>\n",
       "      <th>2017-09-04</th>\n",
       "      <td>NaN</td>\n",
       "      <td>NaN</td>\n",
       "      <td>NaN</td>\n",
       "      <td>NaN</td>\n",
       "      <td>NaN</td>\n",
       "      <td>1.0</td>\n",
       "      <td>3.0</td>\n",
       "      <td>NaN</td>\n",
       "      <td>NaN</td>\n",
       "      <td>NaN</td>\n",
       "      <td>...</td>\n",
       "      <td>1.0</td>\n",
       "      <td>NaN</td>\n",
       "      <td>NaN</td>\n",
       "      <td>NaN</td>\n",
       "      <td>NaN</td>\n",
       "      <td>NaN</td>\n",
       "      <td>NaN</td>\n",
       "      <td>NaN</td>\n",
       "      <td>2.0</td>\n",
       "      <td>NaN</td>\n",
       "    </tr>\n",
       "    <tr>\n",
       "      <th>2017-09-05</th>\n",
       "      <td>NaN</td>\n",
       "      <td>NaN</td>\n",
       "      <td>NaN</td>\n",
       "      <td>NaN</td>\n",
       "      <td>NaN</td>\n",
       "      <td>NaN</td>\n",
       "      <td>NaN</td>\n",
       "      <td>NaN</td>\n",
       "      <td>NaN</td>\n",
       "      <td>NaN</td>\n",
       "      <td>...</td>\n",
       "      <td>NaN</td>\n",
       "      <td>NaN</td>\n",
       "      <td>NaN</td>\n",
       "      <td>NaN</td>\n",
       "      <td>1.0</td>\n",
       "      <td>NaN</td>\n",
       "      <td>NaN</td>\n",
       "      <td>NaN</td>\n",
       "      <td>NaN</td>\n",
       "      <td>NaN</td>\n",
       "    </tr>\n",
       "    <tr>\n",
       "      <th>2017-09-06</th>\n",
       "      <td>NaN</td>\n",
       "      <td>NaN</td>\n",
       "      <td>NaN</td>\n",
       "      <td>NaN</td>\n",
       "      <td>NaN</td>\n",
       "      <td>NaN</td>\n",
       "      <td>NaN</td>\n",
       "      <td>NaN</td>\n",
       "      <td>NaN</td>\n",
       "      <td>NaN</td>\n",
       "      <td>...</td>\n",
       "      <td>1.0</td>\n",
       "      <td>NaN</td>\n",
       "      <td>NaN</td>\n",
       "      <td>2.0</td>\n",
       "      <td>1.0</td>\n",
       "      <td>NaN</td>\n",
       "      <td>NaN</td>\n",
       "      <td>NaN</td>\n",
       "      <td>1.0</td>\n",
       "      <td>NaN</td>\n",
       "    </tr>\n",
       "  </tbody>\n",
       "</table>\n",
       "<p>5 rows × 30 columns</p>\n",
       "</div>"
      ],
      "text/plain": [
       "Source     (blank) aapka_colors baby_first bloomberg cbs_sports cnbc  cnn  \\\n",
       "date                                                                        \n",
       "2017-09-02     NaN          NaN        NaN       NaN        NaN  NaN  NaN   \n",
       "2017-09-03     NaN          NaN        NaN       NaN        1.0  1.0  NaN   \n",
       "2017-09-04     NaN          NaN        NaN       NaN        NaN  1.0  3.0   \n",
       "2017-09-05     NaN          NaN        NaN       NaN        NaN  NaN  NaN   \n",
       "2017-09-06     NaN          NaN        NaN       NaN        NaN  NaN  NaN   \n",
       "\n",
       "Source     comedy_central dateline dish_network  ... other science  \\\n",
       "date                                             ...                 \n",
       "2017-09-02            NaN      NaN          NaN  ...   NaN       1   \n",
       "2017-09-03            NaN      NaN          NaN  ...   NaN     NaN   \n",
       "2017-09-04            NaN      NaN          NaN  ...   1.0     NaN   \n",
       "2017-09-05            NaN      NaN          NaN  ...   NaN     NaN   \n",
       "2017-09-06            NaN      NaN          NaN  ...   1.0     NaN   \n",
       "\n",
       "Source     sony_entertainment_tv spectrum_sports star_plus  \\\n",
       "date                                                         \n",
       "2017-09-02                   NaN             NaN       NaN   \n",
       "2017-09-03                   NaN             NaN       NaN   \n",
       "2017-09-04                   NaN             NaN       NaN   \n",
       "2017-09-05                   NaN             NaN       1.0   \n",
       "2017-09-06                   NaN             2.0       1.0   \n",
       "\n",
       "Source     television_food_network the_history_channel turner_network_tv  \\\n",
       "date                                                                       \n",
       "2017-09-02                       1                 NaN               NaN   \n",
       "2017-09-03                     NaN                 NaN               NaN   \n",
       "2017-09-04                     NaN                 NaN               NaN   \n",
       "2017-09-05                     NaN                 NaN               NaN   \n",
       "2017-09-06                     NaN                 NaN               NaN   \n",
       "\n",
       "Source     willow_tv zeetv  \n",
       "date                        \n",
       "2017-09-02       NaN   NaN  \n",
       "2017-09-03       4.0   NaN  \n",
       "2017-09-04       2.0   NaN  \n",
       "2017-09-05       NaN   NaN  \n",
       "2017-09-06       1.0   NaN  \n",
       "\n",
       "[5 rows x 30 columns]"
      ]
     },
     "execution_count": 10,
     "metadata": {},
     "output_type": "execute_result"
    }
   ],
   "source": [
    "purchase_data_transpose.head()"
   ]
  },
  {
   "cell_type": "markdown",
   "id": "6046a65a-d398-4287-8719-2ce509d4fcfd",
   "metadata": {},
   "source": [
    "## Done"
   ]
  },
  {
   "cell_type": "markdown",
   "id": "3c9fa84e-e1c5-4a24-8353-6f194764b831",
   "metadata": {},
   "source": [
    "# Metrics by Network"
   ]
  },
  {
   "cell_type": "markdown",
   "id": "f00b68a2-4a76-48d2-ae75-1d2551c41eda",
   "metadata": {},
   "source": [
    "## Purchases by Network"
   ]
  },
  {
   "cell_type": "code",
   "execution_count": 11,
   "id": "966c6caf-bceb-4a77-a9a6-933088dae0bf",
   "metadata": {},
   "outputs": [],
   "source": [
    "purchases_by_network = purchase_data_transpose.sum(axis=0)\n",
    "purchases_by_network = purchases_by_network.to_frame()\n",
    "purchases_by_network = purchases_by_network.rename(columns={0:'Purchases'})"
   ]
  },
  {
   "cell_type": "code",
   "execution_count": 12,
   "id": "e4023193-b86b-4ae4-b8e6-8fd3642aa8e7",
   "metadata": {},
   "outputs": [],
   "source": [
    "# purchases_by_network.shape"
   ]
  },
  {
   "cell_type": "code",
   "execution_count": 13,
   "id": "4aa6c632-15d7-4175-98c9-722a49b6a17e",
   "metadata": {},
   "outputs": [],
   "source": [
    "# purchases_by_network.head()"
   ]
  },
  {
   "cell_type": "markdown",
   "id": "08aeba17-5ca8-43c2-8e80-0057e995269b",
   "metadata": {},
   "source": [
    "## Spend and Lift by Network"
   ]
  },
  {
   "cell_type": "code",
   "execution_count": 14,
   "id": "b47b8230-e650-4602-bf8a-25e957dbf53c",
   "metadata": {},
   "outputs": [],
   "source": [
    "spend_and_lift_by_network = airings_data.groupby('Network')[['Spend', 'Lift']].agg('sum')"
   ]
  },
  {
   "cell_type": "code",
   "execution_count": 15,
   "id": "84555627-a528-4995-b642-6be073d9717b",
   "metadata": {},
   "outputs": [],
   "source": [
    "# spend_and_lift_by_network.shape"
   ]
  },
  {
   "cell_type": "code",
   "execution_count": 16,
   "id": "f68bf6ca-73ca-4889-aaf2-f4d0779721d6",
   "metadata": {},
   "outputs": [],
   "source": [
    "# spend_and_lift_by_network.head()"
   ]
  },
  {
   "cell_type": "markdown",
   "id": "601cd0c9-36bc-4e1d-b238-3402586c499b",
   "metadata": {},
   "source": [
    "## Joins"
   ]
  },
  {
   "cell_type": "markdown",
   "id": "9461665c-e7bd-4e7c-a0b5-dbcf26fc6e1b",
   "metadata": {},
   "source": [
    "### Joining Purchases by Network to Lookup Data"
   ]
  },
  {
   "cell_type": "code",
   "execution_count": 17,
   "id": "ea241d82-6ac7-4477-8fb3-df6b2900a244",
   "metadata": {},
   "outputs": [],
   "source": [
    "purchases_by_network_w_lookup = lookup_data.merge(right=purchases_by_network, left_on='Exit Survey', right_on='Source', how='left')\n",
    "purchases_by_network_w_lookup.set_index('Exit Survey', inplace=True)"
   ]
  },
  {
   "cell_type": "code",
   "execution_count": 18,
   "id": "11c3d6f6-b1e6-413f-b41b-a97a5283f6b0",
   "metadata": {},
   "outputs": [],
   "source": [
    "# purchases_by_network_w_lookup.shape"
   ]
  },
  {
   "cell_type": "code",
   "execution_count": 19,
   "id": "e00534b4-6e32-429a-9ee7-2a12f4275e20",
   "metadata": {},
   "outputs": [],
   "source": [
    "# purchases_by_network_w_lookup.head()"
   ]
  },
  {
   "cell_type": "markdown",
   "id": "60f0961b-fada-4358-8c1d-d97a74d71a2d",
   "metadata": {
    "tags": []
   },
   "source": [
    "### Joining Purchases/Lookup by Network to Spend and Lift"
   ]
  },
  {
   "cell_type": "code",
   "execution_count": 20,
   "id": "4d46e4a8-3e00-46e4-af1f-fcc70ece6aec",
   "metadata": {},
   "outputs": [],
   "source": [
    "purchases_spend_lift_by_network = purchases_by_network_w_lookup.merge(right=spend_and_lift_by_network, left_on='Airings', right_index=True, how='left')\n",
    "\n",
    "# Since this column was only needed for the join, I'm going to drop it post join\n",
    "purchases_spend_lift_by_network.drop('Airings', axis=1, inplace=True)"
   ]
  },
  {
   "cell_type": "code",
   "execution_count": 21,
   "id": "03c5b482-ca51-42e1-9990-3681762d93f0",
   "metadata": {},
   "outputs": [],
   "source": [
    "# purchases_spend_lift_by_network.shape"
   ]
  },
  {
   "cell_type": "code",
   "execution_count": 22,
   "id": "042bc51f-5cec-476a-b582-59a168dcef30",
   "metadata": {},
   "outputs": [],
   "source": [
    "# purchases_spend_lift_by_network.head()"
   ]
  },
  {
   "cell_type": "code",
   "execution_count": 23,
   "id": "cc65e922-aa8e-426b-b646-ff241ec2fb55",
   "metadata": {},
   "outputs": [],
   "source": [
    "purchases_spend_lift_by_network.index = purchases_spend_lift_by_network.index.str.replace('_', ' ').str.title()"
   ]
  },
  {
   "cell_type": "code",
   "execution_count": 24,
   "id": "3ca76722-6d4f-4283-85d7-75d693e7438d",
   "metadata": {},
   "outputs": [
    {
     "data": {
      "text/html": [
       "<div>\n",
       "<style scoped>\n",
       "    .dataframe tbody tr th:only-of-type {\n",
       "        vertical-align: middle;\n",
       "    }\n",
       "\n",
       "    .dataframe tbody tr th {\n",
       "        vertical-align: top;\n",
       "    }\n",
       "\n",
       "    .dataframe thead th {\n",
       "        text-align: right;\n",
       "    }\n",
       "</style>\n",
       "<table border=\"1\" class=\"dataframe\">\n",
       "  <thead>\n",
       "    <tr style=\"text-align: right;\">\n",
       "      <th></th>\n",
       "      <th>Purchases</th>\n",
       "      <th>Spend</th>\n",
       "      <th>Lift</th>\n",
       "    </tr>\n",
       "    <tr>\n",
       "      <th>Exit Survey</th>\n",
       "      <th></th>\n",
       "      <th></th>\n",
       "      <th></th>\n",
       "    </tr>\n",
       "  </thead>\n",
       "  <tbody>\n",
       "    <tr>\n",
       "      <th>(Blank)</th>\n",
       "      <td>3.0</td>\n",
       "      <td>NaN</td>\n",
       "      <td>NaN</td>\n",
       "    </tr>\n",
       "    <tr>\n",
       "      <th>Aapka Colors</th>\n",
       "      <td>6.0</td>\n",
       "      <td>NaN</td>\n",
       "      <td>NaN</td>\n",
       "    </tr>\n",
       "    <tr>\n",
       "      <th>Baby First</th>\n",
       "      <td>1.0</td>\n",
       "      <td>NaN</td>\n",
       "      <td>NaN</td>\n",
       "    </tr>\n",
       "    <tr>\n",
       "      <th>Bloomberg</th>\n",
       "      <td>2.0</td>\n",
       "      <td>4966.72</td>\n",
       "      <td>199.0</td>\n",
       "    </tr>\n",
       "    <tr>\n",
       "      <th>Cbs Sports</th>\n",
       "      <td>1.0</td>\n",
       "      <td>NaN</td>\n",
       "      <td>NaN</td>\n",
       "    </tr>\n",
       "    <tr>\n",
       "      <th>Cnbc</th>\n",
       "      <td>15.0</td>\n",
       "      <td>6481.42</td>\n",
       "      <td>406.0</td>\n",
       "    </tr>\n",
       "    <tr>\n",
       "      <th>Cnn</th>\n",
       "      <td>23.0</td>\n",
       "      <td>18114.35</td>\n",
       "      <td>1081.0</td>\n",
       "    </tr>\n",
       "    <tr>\n",
       "      <th>Comedy Central</th>\n",
       "      <td>2.0</td>\n",
       "      <td>7501.25</td>\n",
       "      <td>108.0</td>\n",
       "    </tr>\n",
       "    <tr>\n",
       "      <th>Cozi</th>\n",
       "      <td>NaN</td>\n",
       "      <td>NaN</td>\n",
       "      <td>NaN</td>\n",
       "    </tr>\n",
       "    <tr>\n",
       "      <th>Dateline</th>\n",
       "      <td>10.0</td>\n",
       "      <td>15288.11</td>\n",
       "      <td>862.0</td>\n",
       "    </tr>\n",
       "    <tr>\n",
       "      <th>Dish Network</th>\n",
       "      <td>5.0</td>\n",
       "      <td>3033.33</td>\n",
       "      <td>1092.0</td>\n",
       "    </tr>\n",
       "    <tr>\n",
       "      <th>Diy</th>\n",
       "      <td>2.0</td>\n",
       "      <td>NaN</td>\n",
       "      <td>NaN</td>\n",
       "    </tr>\n",
       "    <tr>\n",
       "      <th>Espn</th>\n",
       "      <td>4.0</td>\n",
       "      <td>NaN</td>\n",
       "      <td>NaN</td>\n",
       "    </tr>\n",
       "    <tr>\n",
       "      <th>Fox News</th>\n",
       "      <td>14.0</td>\n",
       "      <td>NaN</td>\n",
       "      <td>NaN</td>\n",
       "    </tr>\n",
       "    <tr>\n",
       "      <th>Fox Sports</th>\n",
       "      <td>2.0</td>\n",
       "      <td>4258.50</td>\n",
       "      <td>183.0</td>\n",
       "    </tr>\n",
       "    <tr>\n",
       "      <th>Fyi</th>\n",
       "      <td>2.0</td>\n",
       "      <td>NaN</td>\n",
       "      <td>NaN</td>\n",
       "    </tr>\n",
       "    <tr>\n",
       "      <th>Hgtv</th>\n",
       "      <td>6.0</td>\n",
       "      <td>NaN</td>\n",
       "      <td>NaN</td>\n",
       "    </tr>\n",
       "    <tr>\n",
       "      <th>Lifetime Movie Network</th>\n",
       "      <td>NaN</td>\n",
       "      <td>NaN</td>\n",
       "      <td>NaN</td>\n",
       "    </tr>\n",
       "    <tr>\n",
       "      <th>Msnbc</th>\n",
       "      <td>16.0</td>\n",
       "      <td>11330.04</td>\n",
       "      <td>1123.0</td>\n",
       "    </tr>\n",
       "    <tr>\n",
       "      <th>Nfl Network</th>\n",
       "      <td>3.0</td>\n",
       "      <td>5412.80</td>\n",
       "      <td>200.0</td>\n",
       "    </tr>\n",
       "    <tr>\n",
       "      <th>One America News Network</th>\n",
       "      <td>16.0</td>\n",
       "      <td>24935.00</td>\n",
       "      <td>2372.0</td>\n",
       "    </tr>\n",
       "    <tr>\n",
       "      <th>Oprah Winfrey Network</th>\n",
       "      <td>1.0</td>\n",
       "      <td>NaN</td>\n",
       "      <td>NaN</td>\n",
       "    </tr>\n",
       "    <tr>\n",
       "      <th>Other</th>\n",
       "      <td>13.0</td>\n",
       "      <td>NaN</td>\n",
       "      <td>NaN</td>\n",
       "    </tr>\n",
       "    <tr>\n",
       "      <th>Science</th>\n",
       "      <td>4.0</td>\n",
       "      <td>7993.18</td>\n",
       "      <td>132.0</td>\n",
       "    </tr>\n",
       "    <tr>\n",
       "      <th>Sony Entertainment Tv</th>\n",
       "      <td>4.0</td>\n",
       "      <td>NaN</td>\n",
       "      <td>NaN</td>\n",
       "    </tr>\n",
       "    <tr>\n",
       "      <th>Spectrum Sports</th>\n",
       "      <td>3.0</td>\n",
       "      <td>5580.26</td>\n",
       "      <td>220.0</td>\n",
       "    </tr>\n",
       "    <tr>\n",
       "      <th>Spike</th>\n",
       "      <td>NaN</td>\n",
       "      <td>NaN</td>\n",
       "      <td>NaN</td>\n",
       "    </tr>\n",
       "    <tr>\n",
       "      <th>Star Plus</th>\n",
       "      <td>4.0</td>\n",
       "      <td>11780.56</td>\n",
       "      <td>1783.0</td>\n",
       "    </tr>\n",
       "    <tr>\n",
       "      <th>Sundance Channel</th>\n",
       "      <td>NaN</td>\n",
       "      <td>NaN</td>\n",
       "      <td>NaN</td>\n",
       "    </tr>\n",
       "    <tr>\n",
       "      <th>Television Food Network</th>\n",
       "      <td>4.0</td>\n",
       "      <td>NaN</td>\n",
       "      <td>NaN</td>\n",
       "    </tr>\n",
       "    <tr>\n",
       "      <th>The Cooking Channel</th>\n",
       "      <td>NaN</td>\n",
       "      <td>NaN</td>\n",
       "      <td>NaN</td>\n",
       "    </tr>\n",
       "    <tr>\n",
       "      <th>The History Channel</th>\n",
       "      <td>5.0</td>\n",
       "      <td>7278.30</td>\n",
       "      <td>330.0</td>\n",
       "    </tr>\n",
       "    <tr>\n",
       "      <th>The Weather Channel</th>\n",
       "      <td>NaN</td>\n",
       "      <td>7718.71</td>\n",
       "      <td>211.0</td>\n",
       "    </tr>\n",
       "    <tr>\n",
       "      <th>Turner Network Tv</th>\n",
       "      <td>4.0</td>\n",
       "      <td>5125.50</td>\n",
       "      <td>179.0</td>\n",
       "    </tr>\n",
       "    <tr>\n",
       "      <th>Willow Tv</th>\n",
       "      <td>56.0</td>\n",
       "      <td>47734.57</td>\n",
       "      <td>8214.0</td>\n",
       "    </tr>\n",
       "    <tr>\n",
       "      <th>Zeetv</th>\n",
       "      <td>5.0</td>\n",
       "      <td>25604.25</td>\n",
       "      <td>1741.0</td>\n",
       "    </tr>\n",
       "    <tr>\n",
       "      <th>Velocity</th>\n",
       "      <td>NaN</td>\n",
       "      <td>NaN</td>\n",
       "      <td>NaN</td>\n",
       "    </tr>\n",
       "    <tr>\n",
       "      <th>Investigation Discovery</th>\n",
       "      <td>NaN</td>\n",
       "      <td>NaN</td>\n",
       "      <td>NaN</td>\n",
       "    </tr>\n",
       "    <tr>\n",
       "      <th>Viceland</th>\n",
       "      <td>NaN</td>\n",
       "      <td>NaN</td>\n",
       "      <td>NaN</td>\n",
       "    </tr>\n",
       "    <tr>\n",
       "      <th>Destination America</th>\n",
       "      <td>NaN</td>\n",
       "      <td>NaN</td>\n",
       "      <td>NaN</td>\n",
       "    </tr>\n",
       "    <tr>\n",
       "      <th>Golf</th>\n",
       "      <td>NaN</td>\n",
       "      <td>NaN</td>\n",
       "      <td>NaN</td>\n",
       "    </tr>\n",
       "    <tr>\n",
       "      <th>Tennis</th>\n",
       "      <td>NaN</td>\n",
       "      <td>NaN</td>\n",
       "      <td>NaN</td>\n",
       "    </tr>\n",
       "    <tr>\n",
       "      <th>Cnbc World</th>\n",
       "      <td>NaN</td>\n",
       "      <td>1299.99</td>\n",
       "      <td>51.0</td>\n",
       "    </tr>\n",
       "  </tbody>\n",
       "</table>\n",
       "</div>"
      ],
      "text/plain": [
       "                         Purchases     Spend    Lift\n",
       "Exit Survey                                         \n",
       "(Blank)                        3.0       NaN     NaN\n",
       "Aapka Colors                   6.0       NaN     NaN\n",
       "Baby First                     1.0       NaN     NaN\n",
       "Bloomberg                      2.0   4966.72   199.0\n",
       "Cbs Sports                     1.0       NaN     NaN\n",
       "Cnbc                          15.0   6481.42   406.0\n",
       "Cnn                           23.0  18114.35  1081.0\n",
       "Comedy Central                 2.0   7501.25   108.0\n",
       "Cozi                           NaN       NaN     NaN\n",
       "Dateline                      10.0  15288.11   862.0\n",
       "Dish Network                   5.0   3033.33  1092.0\n",
       "Diy                            2.0       NaN     NaN\n",
       "Espn                           4.0       NaN     NaN\n",
       "Fox News                      14.0       NaN     NaN\n",
       "Fox Sports                     2.0   4258.50   183.0\n",
       "Fyi                            2.0       NaN     NaN\n",
       "Hgtv                           6.0       NaN     NaN\n",
       "Lifetime Movie Network         NaN       NaN     NaN\n",
       "Msnbc                         16.0  11330.04  1123.0\n",
       "Nfl Network                    3.0   5412.80   200.0\n",
       "One America News Network      16.0  24935.00  2372.0\n",
       "Oprah Winfrey Network          1.0       NaN     NaN\n",
       "Other                         13.0       NaN     NaN\n",
       "Science                        4.0   7993.18   132.0\n",
       "Sony Entertainment Tv          4.0       NaN     NaN\n",
       "Spectrum Sports                3.0   5580.26   220.0\n",
       "Spike                          NaN       NaN     NaN\n",
       "Star Plus                      4.0  11780.56  1783.0\n",
       "Sundance Channel               NaN       NaN     NaN\n",
       "Television Food Network        4.0       NaN     NaN\n",
       "The Cooking Channel            NaN       NaN     NaN\n",
       "The History Channel            5.0   7278.30   330.0\n",
       "The Weather Channel            NaN   7718.71   211.0\n",
       "Turner Network Tv              4.0   5125.50   179.0\n",
       "Willow Tv                     56.0  47734.57  8214.0\n",
       "Zeetv                          5.0  25604.25  1741.0\n",
       "Velocity                       NaN       NaN     NaN\n",
       "Investigation Discovery        NaN       NaN     NaN\n",
       "Viceland                       NaN       NaN     NaN\n",
       "Destination America            NaN       NaN     NaN\n",
       "Golf                           NaN       NaN     NaN\n",
       "Tennis                         NaN       NaN     NaN\n",
       "Cnbc World                     NaN   1299.99    51.0"
      ]
     },
     "execution_count": 24,
     "metadata": {},
     "output_type": "execute_result"
    }
   ],
   "source": [
    "purchases_spend_lift_by_network"
   ]
  },
  {
   "cell_type": "code",
   "execution_count": 25,
   "id": "939311cd-b2e9-4d44-b6bf-e1e560671386",
   "metadata": {},
   "outputs": [],
   "source": [
    "purchases_spend_lift_by_network.fillna(0, inplace=True)"
   ]
  },
  {
   "cell_type": "code",
   "execution_count": 26,
   "id": "8854ec0a-fb4e-4b62-bba6-0e5da19014f1",
   "metadata": {},
   "outputs": [],
   "source": [
    "cnbc_world = airings_data[airings_data['Network']=='CNBCWORLD']"
   ]
  },
  {
   "cell_type": "code",
   "execution_count": 27,
   "id": "a5ab8075-0a9d-4752-bf59-8193d665bdf1",
   "metadata": {},
   "outputs": [
    {
     "data": {
      "text/html": [
       "<div>\n",
       "<style scoped>\n",
       "    .dataframe tbody tr th:only-of-type {\n",
       "        vertical-align: middle;\n",
       "    }\n",
       "\n",
       "    .dataframe tbody tr th {\n",
       "        vertical-align: top;\n",
       "    }\n",
       "\n",
       "    .dataframe thead th {\n",
       "        text-align: right;\n",
       "    }\n",
       "</style>\n",
       "<table border=\"1\" class=\"dataframe\">\n",
       "  <thead>\n",
       "    <tr style=\"text-align: right;\">\n",
       "      <th></th>\n",
       "      <th>Company</th>\n",
       "      <th>Date/Time ET</th>\n",
       "      <th>Rotation</th>\n",
       "      <th>Creative</th>\n",
       "      <th>Network</th>\n",
       "      <th>Spend</th>\n",
       "      <th>Lift</th>\n",
       "      <th>Program</th>\n",
       "    </tr>\n",
       "  </thead>\n",
       "  <tbody>\n",
       "  </tbody>\n",
       "</table>\n",
       "</div>"
      ],
      "text/plain": [
       "Empty DataFrame\n",
       "Columns: [Company, Date/Time ET, Rotation, Creative, Network, Spend, Lift, Program]\n",
       "Index: []"
      ]
     },
     "execution_count": 27,
     "metadata": {},
     "output_type": "execute_result"
    }
   ],
   "source": [
    "cnbc_world[cnbc_world['Date/Time ET'].isnull()==True]"
   ]
  },
  {
   "cell_type": "markdown",
   "id": "9e4a42b9-74df-4446-bb60-4996be96b246",
   "metadata": {},
   "source": [
    "## Computing Metrics by Network"
   ]
  },
  {
   "cell_type": "code",
   "execution_count": 28,
   "id": "0891498a-6a67-4f42-a5ba-859316a82914",
   "metadata": {},
   "outputs": [],
   "source": [
    "purchases_spend_lift_by_network['Conversion Rate (Purchases/Lift)%'] = purchases_spend_lift_by_network['Purchases'] / purchases_spend_lift_by_network['Lift'] * 100\n",
    "\n",
    "purchases_spend_lift_by_network['Cost Per Acquisition (Spend/Purchases)'] = purchases_spend_lift_by_network['Spend'] / purchases_spend_lift_by_network['Purchases'].fillna(0)\n",
    "\n",
    "purchases_spend_lift_by_network['Cost Per Visitor (Spend/Lift)'] = purchases_spend_lift_by_network['Spend'] / purchases_spend_lift_by_network['Lift'].fillna(0)\n",
    "\n",
    "purchases_spend_lift_by_network['Percent of Purchases'] = purchases_spend_lift_by_network['Purchases'] / sum(purchases_spend_lift_by_network['Purchases'].fillna(0)) * 100\n",
    "\n",
    "purchases_spend_lift_by_network['Percent of Spend'] = purchases_spend_lift_by_network['Spend'] / sum(purchases_spend_lift_by_network['Spend'].fillna(0)) * 100\n",
    "\n",
    "purchases_spend_lift_by_network['Percent Pur > Percent Spend'] = purchases_spend_lift_by_network['Percent of Purchases'] > purchases_spend_lift_by_network['Percent of Spend']"
   ]
  },
  {
   "cell_type": "code",
   "execution_count": 29,
   "id": "31cd310b-d72d-4205-b9b7-eb80ee869e44",
   "metadata": {},
   "outputs": [
    {
     "data": {
      "text/html": [
       "<div>\n",
       "<style scoped>\n",
       "    .dataframe tbody tr th:only-of-type {\n",
       "        vertical-align: middle;\n",
       "    }\n",
       "\n",
       "    .dataframe tbody tr th {\n",
       "        vertical-align: top;\n",
       "    }\n",
       "\n",
       "    .dataframe thead th {\n",
       "        text-align: right;\n",
       "    }\n",
       "</style>\n",
       "<table border=\"1\" class=\"dataframe\">\n",
       "  <thead>\n",
       "    <tr style=\"text-align: right;\">\n",
       "      <th></th>\n",
       "      <th>Purchases</th>\n",
       "      <th>Spend</th>\n",
       "      <th>Lift</th>\n",
       "      <th>Conversion Rate (Purchases/Lift)%</th>\n",
       "      <th>Cost Per Acquisition (Spend/Purchases)</th>\n",
       "      <th>Cost Per Visitor (Spend/Lift)</th>\n",
       "      <th>Percent of Purchases</th>\n",
       "      <th>Percent of Spend</th>\n",
       "      <th>Percent Pur &gt; Percent Spend</th>\n",
       "    </tr>\n",
       "    <tr>\n",
       "      <th>Exit Survey</th>\n",
       "      <th></th>\n",
       "      <th></th>\n",
       "      <th></th>\n",
       "      <th></th>\n",
       "      <th></th>\n",
       "      <th></th>\n",
       "      <th></th>\n",
       "      <th></th>\n",
       "      <th></th>\n",
       "    </tr>\n",
       "  </thead>\n",
       "  <tbody>\n",
       "    <tr>\n",
       "      <th>(Blank)</th>\n",
       "      <td>3.0</td>\n",
       "      <td>0.00</td>\n",
       "      <td>0.0</td>\n",
       "      <td>inf</td>\n",
       "      <td>0.000000</td>\n",
       "      <td>NaN</td>\n",
       "      <td>1.271186</td>\n",
       "      <td>0.000000</td>\n",
       "      <td>True</td>\n",
       "    </tr>\n",
       "    <tr>\n",
       "      <th>Aapka Colors</th>\n",
       "      <td>6.0</td>\n",
       "      <td>0.00</td>\n",
       "      <td>0.0</td>\n",
       "      <td>inf</td>\n",
       "      <td>0.000000</td>\n",
       "      <td>NaN</td>\n",
       "      <td>2.542373</td>\n",
       "      <td>0.000000</td>\n",
       "      <td>True</td>\n",
       "    </tr>\n",
       "    <tr>\n",
       "      <th>Baby First</th>\n",
       "      <td>1.0</td>\n",
       "      <td>0.00</td>\n",
       "      <td>0.0</td>\n",
       "      <td>inf</td>\n",
       "      <td>0.000000</td>\n",
       "      <td>NaN</td>\n",
       "      <td>0.423729</td>\n",
       "      <td>0.000000</td>\n",
       "      <td>True</td>\n",
       "    </tr>\n",
       "    <tr>\n",
       "      <th>Bloomberg</th>\n",
       "      <td>2.0</td>\n",
       "      <td>4966.72</td>\n",
       "      <td>199.0</td>\n",
       "      <td>1.005025</td>\n",
       "      <td>2483.360000</td>\n",
       "      <td>24.958392</td>\n",
       "      <td>0.847458</td>\n",
       "      <td>2.242951</td>\n",
       "      <td>False</td>\n",
       "    </tr>\n",
       "    <tr>\n",
       "      <th>Cbs Sports</th>\n",
       "      <td>1.0</td>\n",
       "      <td>0.00</td>\n",
       "      <td>0.0</td>\n",
       "      <td>inf</td>\n",
       "      <td>0.000000</td>\n",
       "      <td>NaN</td>\n",
       "      <td>0.423729</td>\n",
       "      <td>0.000000</td>\n",
       "      <td>True</td>\n",
       "    </tr>\n",
       "    <tr>\n",
       "      <th>Cnbc</th>\n",
       "      <td>15.0</td>\n",
       "      <td>6481.42</td>\n",
       "      <td>406.0</td>\n",
       "      <td>3.694581</td>\n",
       "      <td>432.094667</td>\n",
       "      <td>15.964089</td>\n",
       "      <td>6.355932</td>\n",
       "      <td>2.926984</td>\n",
       "      <td>True</td>\n",
       "    </tr>\n",
       "    <tr>\n",
       "      <th>Cnn</th>\n",
       "      <td>23.0</td>\n",
       "      <td>18114.35</td>\n",
       "      <td>1081.0</td>\n",
       "      <td>2.127660</td>\n",
       "      <td>787.580435</td>\n",
       "      <td>16.757031</td>\n",
       "      <td>9.745763</td>\n",
       "      <td>8.180369</td>\n",
       "      <td>True</td>\n",
       "    </tr>\n",
       "    <tr>\n",
       "      <th>Comedy Central</th>\n",
       "      <td>2.0</td>\n",
       "      <td>7501.25</td>\n",
       "      <td>108.0</td>\n",
       "      <td>1.851852</td>\n",
       "      <td>3750.625000</td>\n",
       "      <td>69.456019</td>\n",
       "      <td>0.847458</td>\n",
       "      <td>3.387535</td>\n",
       "      <td>False</td>\n",
       "    </tr>\n",
       "    <tr>\n",
       "      <th>Cozi</th>\n",
       "      <td>0.0</td>\n",
       "      <td>0.00</td>\n",
       "      <td>0.0</td>\n",
       "      <td>NaN</td>\n",
       "      <td>NaN</td>\n",
       "      <td>NaN</td>\n",
       "      <td>0.000000</td>\n",
       "      <td>0.000000</td>\n",
       "      <td>False</td>\n",
       "    </tr>\n",
       "    <tr>\n",
       "      <th>Dateline</th>\n",
       "      <td>10.0</td>\n",
       "      <td>15288.11</td>\n",
       "      <td>862.0</td>\n",
       "      <td>1.160093</td>\n",
       "      <td>1528.811000</td>\n",
       "      <td>17.735626</td>\n",
       "      <td>4.237288</td>\n",
       "      <td>6.904050</td>\n",
       "      <td>False</td>\n",
       "    </tr>\n",
       "    <tr>\n",
       "      <th>Dish Network</th>\n",
       "      <td>5.0</td>\n",
       "      <td>3033.33</td>\n",
       "      <td>1092.0</td>\n",
       "      <td>0.457875</td>\n",
       "      <td>606.666000</td>\n",
       "      <td>2.777775</td>\n",
       "      <td>2.118644</td>\n",
       "      <td>1.369840</td>\n",
       "      <td>True</td>\n",
       "    </tr>\n",
       "    <tr>\n",
       "      <th>Diy</th>\n",
       "      <td>2.0</td>\n",
       "      <td>0.00</td>\n",
       "      <td>0.0</td>\n",
       "      <td>inf</td>\n",
       "      <td>0.000000</td>\n",
       "      <td>NaN</td>\n",
       "      <td>0.847458</td>\n",
       "      <td>0.000000</td>\n",
       "      <td>True</td>\n",
       "    </tr>\n",
       "    <tr>\n",
       "      <th>Espn</th>\n",
       "      <td>4.0</td>\n",
       "      <td>0.00</td>\n",
       "      <td>0.0</td>\n",
       "      <td>inf</td>\n",
       "      <td>0.000000</td>\n",
       "      <td>NaN</td>\n",
       "      <td>1.694915</td>\n",
       "      <td>0.000000</td>\n",
       "      <td>True</td>\n",
       "    </tr>\n",
       "    <tr>\n",
       "      <th>Fox News</th>\n",
       "      <td>14.0</td>\n",
       "      <td>0.00</td>\n",
       "      <td>0.0</td>\n",
       "      <td>inf</td>\n",
       "      <td>0.000000</td>\n",
       "      <td>NaN</td>\n",
       "      <td>5.932203</td>\n",
       "      <td>0.000000</td>\n",
       "      <td>True</td>\n",
       "    </tr>\n",
       "    <tr>\n",
       "      <th>Fox Sports</th>\n",
       "      <td>2.0</td>\n",
       "      <td>4258.50</td>\n",
       "      <td>183.0</td>\n",
       "      <td>1.092896</td>\n",
       "      <td>2129.250000</td>\n",
       "      <td>23.270492</td>\n",
       "      <td>0.847458</td>\n",
       "      <td>1.923122</td>\n",
       "      <td>False</td>\n",
       "    </tr>\n",
       "    <tr>\n",
       "      <th>Fyi</th>\n",
       "      <td>2.0</td>\n",
       "      <td>0.00</td>\n",
       "      <td>0.0</td>\n",
       "      <td>inf</td>\n",
       "      <td>0.000000</td>\n",
       "      <td>NaN</td>\n",
       "      <td>0.847458</td>\n",
       "      <td>0.000000</td>\n",
       "      <td>True</td>\n",
       "    </tr>\n",
       "    <tr>\n",
       "      <th>Hgtv</th>\n",
       "      <td>6.0</td>\n",
       "      <td>0.00</td>\n",
       "      <td>0.0</td>\n",
       "      <td>inf</td>\n",
       "      <td>0.000000</td>\n",
       "      <td>NaN</td>\n",
       "      <td>2.542373</td>\n",
       "      <td>0.000000</td>\n",
       "      <td>True</td>\n",
       "    </tr>\n",
       "    <tr>\n",
       "      <th>Lifetime Movie Network</th>\n",
       "      <td>0.0</td>\n",
       "      <td>0.00</td>\n",
       "      <td>0.0</td>\n",
       "      <td>NaN</td>\n",
       "      <td>NaN</td>\n",
       "      <td>NaN</td>\n",
       "      <td>0.000000</td>\n",
       "      <td>0.000000</td>\n",
       "      <td>False</td>\n",
       "    </tr>\n",
       "    <tr>\n",
       "      <th>Msnbc</th>\n",
       "      <td>16.0</td>\n",
       "      <td>11330.04</td>\n",
       "      <td>1123.0</td>\n",
       "      <td>1.424755</td>\n",
       "      <td>708.127500</td>\n",
       "      <td>10.089083</td>\n",
       "      <td>6.779661</td>\n",
       "      <td>5.116601</td>\n",
       "      <td>True</td>\n",
       "    </tr>\n",
       "    <tr>\n",
       "      <th>Nfl Network</th>\n",
       "      <td>3.0</td>\n",
       "      <td>5412.80</td>\n",
       "      <td>200.0</td>\n",
       "      <td>1.500000</td>\n",
       "      <td>1804.266667</td>\n",
       "      <td>27.064000</td>\n",
       "      <td>1.271186</td>\n",
       "      <td>2.444399</td>\n",
       "      <td>False</td>\n",
       "    </tr>\n",
       "    <tr>\n",
       "      <th>One America News Network</th>\n",
       "      <td>16.0</td>\n",
       "      <td>24935.00</td>\n",
       "      <td>2372.0</td>\n",
       "      <td>0.674536</td>\n",
       "      <td>1558.437500</td>\n",
       "      <td>10.512226</td>\n",
       "      <td>6.779661</td>\n",
       "      <td>11.260547</td>\n",
       "      <td>False</td>\n",
       "    </tr>\n",
       "    <tr>\n",
       "      <th>Oprah Winfrey Network</th>\n",
       "      <td>1.0</td>\n",
       "      <td>0.00</td>\n",
       "      <td>0.0</td>\n",
       "      <td>inf</td>\n",
       "      <td>0.000000</td>\n",
       "      <td>NaN</td>\n",
       "      <td>0.423729</td>\n",
       "      <td>0.000000</td>\n",
       "      <td>True</td>\n",
       "    </tr>\n",
       "    <tr>\n",
       "      <th>Other</th>\n",
       "      <td>13.0</td>\n",
       "      <td>0.00</td>\n",
       "      <td>0.0</td>\n",
       "      <td>inf</td>\n",
       "      <td>0.000000</td>\n",
       "      <td>NaN</td>\n",
       "      <td>5.508475</td>\n",
       "      <td>0.000000</td>\n",
       "      <td>True</td>\n",
       "    </tr>\n",
       "    <tr>\n",
       "      <th>Science</th>\n",
       "      <td>4.0</td>\n",
       "      <td>7993.18</td>\n",
       "      <td>132.0</td>\n",
       "      <td>3.030303</td>\n",
       "      <td>1998.295000</td>\n",
       "      <td>60.554394</td>\n",
       "      <td>1.694915</td>\n",
       "      <td>3.609688</td>\n",
       "      <td>False</td>\n",
       "    </tr>\n",
       "    <tr>\n",
       "      <th>Sony Entertainment Tv</th>\n",
       "      <td>4.0</td>\n",
       "      <td>0.00</td>\n",
       "      <td>0.0</td>\n",
       "      <td>inf</td>\n",
       "      <td>0.000000</td>\n",
       "      <td>NaN</td>\n",
       "      <td>1.694915</td>\n",
       "      <td>0.000000</td>\n",
       "      <td>True</td>\n",
       "    </tr>\n",
       "    <tr>\n",
       "      <th>Spectrum Sports</th>\n",
       "      <td>3.0</td>\n",
       "      <td>5580.26</td>\n",
       "      <td>220.0</td>\n",
       "      <td>1.363636</td>\n",
       "      <td>1860.086667</td>\n",
       "      <td>25.364818</td>\n",
       "      <td>1.271186</td>\n",
       "      <td>2.520023</td>\n",
       "      <td>False</td>\n",
       "    </tr>\n",
       "    <tr>\n",
       "      <th>Spike</th>\n",
       "      <td>0.0</td>\n",
       "      <td>0.00</td>\n",
       "      <td>0.0</td>\n",
       "      <td>NaN</td>\n",
       "      <td>NaN</td>\n",
       "      <td>NaN</td>\n",
       "      <td>0.000000</td>\n",
       "      <td>0.000000</td>\n",
       "      <td>False</td>\n",
       "    </tr>\n",
       "    <tr>\n",
       "      <th>Star Plus</th>\n",
       "      <td>4.0</td>\n",
       "      <td>11780.56</td>\n",
       "      <td>1783.0</td>\n",
       "      <td>0.224341</td>\n",
       "      <td>2945.140000</td>\n",
       "      <td>6.607156</td>\n",
       "      <td>1.694915</td>\n",
       "      <td>5.320054</td>\n",
       "      <td>False</td>\n",
       "    </tr>\n",
       "    <tr>\n",
       "      <th>Sundance Channel</th>\n",
       "      <td>0.0</td>\n",
       "      <td>0.00</td>\n",
       "      <td>0.0</td>\n",
       "      <td>NaN</td>\n",
       "      <td>NaN</td>\n",
       "      <td>NaN</td>\n",
       "      <td>0.000000</td>\n",
       "      <td>0.000000</td>\n",
       "      <td>False</td>\n",
       "    </tr>\n",
       "    <tr>\n",
       "      <th>Television Food Network</th>\n",
       "      <td>4.0</td>\n",
       "      <td>0.00</td>\n",
       "      <td>0.0</td>\n",
       "      <td>inf</td>\n",
       "      <td>0.000000</td>\n",
       "      <td>NaN</td>\n",
       "      <td>1.694915</td>\n",
       "      <td>0.000000</td>\n",
       "      <td>True</td>\n",
       "    </tr>\n",
       "    <tr>\n",
       "      <th>The Cooking Channel</th>\n",
       "      <td>0.0</td>\n",
       "      <td>0.00</td>\n",
       "      <td>0.0</td>\n",
       "      <td>NaN</td>\n",
       "      <td>NaN</td>\n",
       "      <td>NaN</td>\n",
       "      <td>0.000000</td>\n",
       "      <td>0.000000</td>\n",
       "      <td>False</td>\n",
       "    </tr>\n",
       "    <tr>\n",
       "      <th>The History Channel</th>\n",
       "      <td>5.0</td>\n",
       "      <td>7278.30</td>\n",
       "      <td>330.0</td>\n",
       "      <td>1.515152</td>\n",
       "      <td>1455.660000</td>\n",
       "      <td>22.055455</td>\n",
       "      <td>2.118644</td>\n",
       "      <td>3.286851</td>\n",
       "      <td>False</td>\n",
       "    </tr>\n",
       "    <tr>\n",
       "      <th>The Weather Channel</th>\n",
       "      <td>0.0</td>\n",
       "      <td>7718.71</td>\n",
       "      <td>211.0</td>\n",
       "      <td>0.000000</td>\n",
       "      <td>inf</td>\n",
       "      <td>36.581564</td>\n",
       "      <td>0.000000</td>\n",
       "      <td>3.485739</td>\n",
       "      <td>False</td>\n",
       "    </tr>\n",
       "    <tr>\n",
       "      <th>Turner Network Tv</th>\n",
       "      <td>4.0</td>\n",
       "      <td>5125.50</td>\n",
       "      <td>179.0</td>\n",
       "      <td>2.234637</td>\n",
       "      <td>1281.375000</td>\n",
       "      <td>28.634078</td>\n",
       "      <td>1.694915</td>\n",
       "      <td>2.314656</td>\n",
       "      <td>False</td>\n",
       "    </tr>\n",
       "    <tr>\n",
       "      <th>Willow Tv</th>\n",
       "      <td>56.0</td>\n",
       "      <td>47734.57</td>\n",
       "      <td>8214.0</td>\n",
       "      <td>0.681763</td>\n",
       "      <td>852.403036</td>\n",
       "      <td>5.811367</td>\n",
       "      <td>23.728814</td>\n",
       "      <td>21.556743</td>\n",
       "      <td>True</td>\n",
       "    </tr>\n",
       "    <tr>\n",
       "      <th>Zeetv</th>\n",
       "      <td>5.0</td>\n",
       "      <td>25604.25</td>\n",
       "      <td>1741.0</td>\n",
       "      <td>0.287191</td>\n",
       "      <td>5120.850000</td>\n",
       "      <td>14.706634</td>\n",
       "      <td>2.118644</td>\n",
       "      <td>11.562778</td>\n",
       "      <td>False</td>\n",
       "    </tr>\n",
       "    <tr>\n",
       "      <th>Velocity</th>\n",
       "      <td>0.0</td>\n",
       "      <td>0.00</td>\n",
       "      <td>0.0</td>\n",
       "      <td>NaN</td>\n",
       "      <td>NaN</td>\n",
       "      <td>NaN</td>\n",
       "      <td>0.000000</td>\n",
       "      <td>0.000000</td>\n",
       "      <td>False</td>\n",
       "    </tr>\n",
       "    <tr>\n",
       "      <th>Investigation Discovery</th>\n",
       "      <td>0.0</td>\n",
       "      <td>0.00</td>\n",
       "      <td>0.0</td>\n",
       "      <td>NaN</td>\n",
       "      <td>NaN</td>\n",
       "      <td>NaN</td>\n",
       "      <td>0.000000</td>\n",
       "      <td>0.000000</td>\n",
       "      <td>False</td>\n",
       "    </tr>\n",
       "    <tr>\n",
       "      <th>Viceland</th>\n",
       "      <td>0.0</td>\n",
       "      <td>0.00</td>\n",
       "      <td>0.0</td>\n",
       "      <td>NaN</td>\n",
       "      <td>NaN</td>\n",
       "      <td>NaN</td>\n",
       "      <td>0.000000</td>\n",
       "      <td>0.000000</td>\n",
       "      <td>False</td>\n",
       "    </tr>\n",
       "    <tr>\n",
       "      <th>Destination America</th>\n",
       "      <td>0.0</td>\n",
       "      <td>0.00</td>\n",
       "      <td>0.0</td>\n",
       "      <td>NaN</td>\n",
       "      <td>NaN</td>\n",
       "      <td>NaN</td>\n",
       "      <td>0.000000</td>\n",
       "      <td>0.000000</td>\n",
       "      <td>False</td>\n",
       "    </tr>\n",
       "    <tr>\n",
       "      <th>Golf</th>\n",
       "      <td>0.0</td>\n",
       "      <td>0.00</td>\n",
       "      <td>0.0</td>\n",
       "      <td>NaN</td>\n",
       "      <td>NaN</td>\n",
       "      <td>NaN</td>\n",
       "      <td>0.000000</td>\n",
       "      <td>0.000000</td>\n",
       "      <td>False</td>\n",
       "    </tr>\n",
       "    <tr>\n",
       "      <th>Tennis</th>\n",
       "      <td>0.0</td>\n",
       "      <td>0.00</td>\n",
       "      <td>0.0</td>\n",
       "      <td>NaN</td>\n",
       "      <td>NaN</td>\n",
       "      <td>NaN</td>\n",
       "      <td>0.000000</td>\n",
       "      <td>0.000000</td>\n",
       "      <td>False</td>\n",
       "    </tr>\n",
       "    <tr>\n",
       "      <th>Cnbc World</th>\n",
       "      <td>0.0</td>\n",
       "      <td>1299.99</td>\n",
       "      <td>51.0</td>\n",
       "      <td>0.000000</td>\n",
       "      <td>inf</td>\n",
       "      <td>25.490000</td>\n",
       "      <td>0.000000</td>\n",
       "      <td>0.587070</td>\n",
       "      <td>False</td>\n",
       "    </tr>\n",
       "  </tbody>\n",
       "</table>\n",
       "</div>"
      ],
      "text/plain": [
       "                          Purchases     Spend    Lift  \\\n",
       "Exit Survey                                             \n",
       "(Blank)                         3.0      0.00     0.0   \n",
       "Aapka Colors                    6.0      0.00     0.0   \n",
       "Baby First                      1.0      0.00     0.0   \n",
       "Bloomberg                       2.0   4966.72   199.0   \n",
       "Cbs Sports                      1.0      0.00     0.0   \n",
       "Cnbc                           15.0   6481.42   406.0   \n",
       "Cnn                            23.0  18114.35  1081.0   \n",
       "Comedy Central                  2.0   7501.25   108.0   \n",
       "Cozi                            0.0      0.00     0.0   \n",
       "Dateline                       10.0  15288.11   862.0   \n",
       "Dish Network                    5.0   3033.33  1092.0   \n",
       "Diy                             2.0      0.00     0.0   \n",
       "Espn                            4.0      0.00     0.0   \n",
       "Fox News                       14.0      0.00     0.0   \n",
       "Fox Sports                      2.0   4258.50   183.0   \n",
       "Fyi                             2.0      0.00     0.0   \n",
       "Hgtv                            6.0      0.00     0.0   \n",
       "Lifetime Movie Network          0.0      0.00     0.0   \n",
       "Msnbc                          16.0  11330.04  1123.0   \n",
       "Nfl Network                     3.0   5412.80   200.0   \n",
       "One America News Network       16.0  24935.00  2372.0   \n",
       "Oprah Winfrey Network           1.0      0.00     0.0   \n",
       "Other                          13.0      0.00     0.0   \n",
       "Science                         4.0   7993.18   132.0   \n",
       "Sony Entertainment Tv           4.0      0.00     0.0   \n",
       "Spectrum Sports                 3.0   5580.26   220.0   \n",
       "Spike                           0.0      0.00     0.0   \n",
       "Star Plus                       4.0  11780.56  1783.0   \n",
       "Sundance Channel                0.0      0.00     0.0   \n",
       "Television Food Network         4.0      0.00     0.0   \n",
       "The Cooking Channel             0.0      0.00     0.0   \n",
       "The History Channel             5.0   7278.30   330.0   \n",
       "The Weather Channel             0.0   7718.71   211.0   \n",
       "Turner Network Tv               4.0   5125.50   179.0   \n",
       "Willow Tv                      56.0  47734.57  8214.0   \n",
       "Zeetv                           5.0  25604.25  1741.0   \n",
       "Velocity                        0.0      0.00     0.0   \n",
       "Investigation Discovery         0.0      0.00     0.0   \n",
       "Viceland                        0.0      0.00     0.0   \n",
       "Destination America             0.0      0.00     0.0   \n",
       "Golf                            0.0      0.00     0.0   \n",
       "Tennis                          0.0      0.00     0.0   \n",
       "Cnbc World                      0.0   1299.99    51.0   \n",
       "\n",
       "                          Conversion Rate (Purchases/Lift)%  \\\n",
       "Exit Survey                                                   \n",
       "(Blank)                                                 inf   \n",
       "Aapka Colors                                            inf   \n",
       "Baby First                                              inf   \n",
       "Bloomberg                                          1.005025   \n",
       "Cbs Sports                                              inf   \n",
       "Cnbc                                               3.694581   \n",
       "Cnn                                                2.127660   \n",
       "Comedy Central                                     1.851852   \n",
       "Cozi                                                    NaN   \n",
       "Dateline                                           1.160093   \n",
       "Dish Network                                       0.457875   \n",
       "Diy                                                     inf   \n",
       "Espn                                                    inf   \n",
       "Fox News                                                inf   \n",
       "Fox Sports                                         1.092896   \n",
       "Fyi                                                     inf   \n",
       "Hgtv                                                    inf   \n",
       "Lifetime Movie Network                                  NaN   \n",
       "Msnbc                                              1.424755   \n",
       "Nfl Network                                        1.500000   \n",
       "One America News Network                           0.674536   \n",
       "Oprah Winfrey Network                                   inf   \n",
       "Other                                                   inf   \n",
       "Science                                            3.030303   \n",
       "Sony Entertainment Tv                                   inf   \n",
       "Spectrum Sports                                    1.363636   \n",
       "Spike                                                   NaN   \n",
       "Star Plus                                          0.224341   \n",
       "Sundance Channel                                        NaN   \n",
       "Television Food Network                                 inf   \n",
       "The Cooking Channel                                     NaN   \n",
       "The History Channel                                1.515152   \n",
       "The Weather Channel                                0.000000   \n",
       "Turner Network Tv                                  2.234637   \n",
       "Willow Tv                                          0.681763   \n",
       "Zeetv                                              0.287191   \n",
       "Velocity                                                NaN   \n",
       "Investigation Discovery                                 NaN   \n",
       "Viceland                                                NaN   \n",
       "Destination America                                     NaN   \n",
       "Golf                                                    NaN   \n",
       "Tennis                                                  NaN   \n",
       "Cnbc World                                         0.000000   \n",
       "\n",
       "                          Cost Per Acquisition (Spend/Purchases)  \\\n",
       "Exit Survey                                                        \n",
       "(Blank)                                                 0.000000   \n",
       "Aapka Colors                                            0.000000   \n",
       "Baby First                                              0.000000   \n",
       "Bloomberg                                            2483.360000   \n",
       "Cbs Sports                                              0.000000   \n",
       "Cnbc                                                  432.094667   \n",
       "Cnn                                                   787.580435   \n",
       "Comedy Central                                       3750.625000   \n",
       "Cozi                                                         NaN   \n",
       "Dateline                                             1528.811000   \n",
       "Dish Network                                          606.666000   \n",
       "Diy                                                     0.000000   \n",
       "Espn                                                    0.000000   \n",
       "Fox News                                                0.000000   \n",
       "Fox Sports                                           2129.250000   \n",
       "Fyi                                                     0.000000   \n",
       "Hgtv                                                    0.000000   \n",
       "Lifetime Movie Network                                       NaN   \n",
       "Msnbc                                                 708.127500   \n",
       "Nfl Network                                          1804.266667   \n",
       "One America News Network                             1558.437500   \n",
       "Oprah Winfrey Network                                   0.000000   \n",
       "Other                                                   0.000000   \n",
       "Science                                              1998.295000   \n",
       "Sony Entertainment Tv                                   0.000000   \n",
       "Spectrum Sports                                      1860.086667   \n",
       "Spike                                                        NaN   \n",
       "Star Plus                                            2945.140000   \n",
       "Sundance Channel                                             NaN   \n",
       "Television Food Network                                 0.000000   \n",
       "The Cooking Channel                                          NaN   \n",
       "The History Channel                                  1455.660000   \n",
       "The Weather Channel                                          inf   \n",
       "Turner Network Tv                                    1281.375000   \n",
       "Willow Tv                                             852.403036   \n",
       "Zeetv                                                5120.850000   \n",
       "Velocity                                                     NaN   \n",
       "Investigation Discovery                                      NaN   \n",
       "Viceland                                                     NaN   \n",
       "Destination America                                          NaN   \n",
       "Golf                                                         NaN   \n",
       "Tennis                                                       NaN   \n",
       "Cnbc World                                                   inf   \n",
       "\n",
       "                          Cost Per Visitor (Spend/Lift)  Percent of Purchases  \\\n",
       "Exit Survey                                                                     \n",
       "(Blank)                                             NaN              1.271186   \n",
       "Aapka Colors                                        NaN              2.542373   \n",
       "Baby First                                          NaN              0.423729   \n",
       "Bloomberg                                     24.958392              0.847458   \n",
       "Cbs Sports                                          NaN              0.423729   \n",
       "Cnbc                                          15.964089              6.355932   \n",
       "Cnn                                           16.757031              9.745763   \n",
       "Comedy Central                                69.456019              0.847458   \n",
       "Cozi                                                NaN              0.000000   \n",
       "Dateline                                      17.735626              4.237288   \n",
       "Dish Network                                   2.777775              2.118644   \n",
       "Diy                                                 NaN              0.847458   \n",
       "Espn                                                NaN              1.694915   \n",
       "Fox News                                            NaN              5.932203   \n",
       "Fox Sports                                    23.270492              0.847458   \n",
       "Fyi                                                 NaN              0.847458   \n",
       "Hgtv                                                NaN              2.542373   \n",
       "Lifetime Movie Network                              NaN              0.000000   \n",
       "Msnbc                                         10.089083              6.779661   \n",
       "Nfl Network                                   27.064000              1.271186   \n",
       "One America News Network                      10.512226              6.779661   \n",
       "Oprah Winfrey Network                               NaN              0.423729   \n",
       "Other                                               NaN              5.508475   \n",
       "Science                                       60.554394              1.694915   \n",
       "Sony Entertainment Tv                               NaN              1.694915   \n",
       "Spectrum Sports                               25.364818              1.271186   \n",
       "Spike                                               NaN              0.000000   \n",
       "Star Plus                                      6.607156              1.694915   \n",
       "Sundance Channel                                    NaN              0.000000   \n",
       "Television Food Network                             NaN              1.694915   \n",
       "The Cooking Channel                                 NaN              0.000000   \n",
       "The History Channel                           22.055455              2.118644   \n",
       "The Weather Channel                           36.581564              0.000000   \n",
       "Turner Network Tv                             28.634078              1.694915   \n",
       "Willow Tv                                      5.811367             23.728814   \n",
       "Zeetv                                         14.706634              2.118644   \n",
       "Velocity                                            NaN              0.000000   \n",
       "Investigation Discovery                             NaN              0.000000   \n",
       "Viceland                                            NaN              0.000000   \n",
       "Destination America                                 NaN              0.000000   \n",
       "Golf                                                NaN              0.000000   \n",
       "Tennis                                              NaN              0.000000   \n",
       "Cnbc World                                    25.490000              0.000000   \n",
       "\n",
       "                          Percent of Spend  Percent Pur > Percent Spend  \n",
       "Exit Survey                                                              \n",
       "(Blank)                           0.000000                         True  \n",
       "Aapka Colors                      0.000000                         True  \n",
       "Baby First                        0.000000                         True  \n",
       "Bloomberg                         2.242951                        False  \n",
       "Cbs Sports                        0.000000                         True  \n",
       "Cnbc                              2.926984                         True  \n",
       "Cnn                               8.180369                         True  \n",
       "Comedy Central                    3.387535                        False  \n",
       "Cozi                              0.000000                        False  \n",
       "Dateline                          6.904050                        False  \n",
       "Dish Network                      1.369840                         True  \n",
       "Diy                               0.000000                         True  \n",
       "Espn                              0.000000                         True  \n",
       "Fox News                          0.000000                         True  \n",
       "Fox Sports                        1.923122                        False  \n",
       "Fyi                               0.000000                         True  \n",
       "Hgtv                              0.000000                         True  \n",
       "Lifetime Movie Network            0.000000                        False  \n",
       "Msnbc                             5.116601                         True  \n",
       "Nfl Network                       2.444399                        False  \n",
       "One America News Network         11.260547                        False  \n",
       "Oprah Winfrey Network             0.000000                         True  \n",
       "Other                             0.000000                         True  \n",
       "Science                           3.609688                        False  \n",
       "Sony Entertainment Tv             0.000000                         True  \n",
       "Spectrum Sports                   2.520023                        False  \n",
       "Spike                             0.000000                        False  \n",
       "Star Plus                         5.320054                        False  \n",
       "Sundance Channel                  0.000000                        False  \n",
       "Television Food Network           0.000000                         True  \n",
       "The Cooking Channel               0.000000                        False  \n",
       "The History Channel               3.286851                        False  \n",
       "The Weather Channel               3.485739                        False  \n",
       "Turner Network Tv                 2.314656                        False  \n",
       "Willow Tv                        21.556743                         True  \n",
       "Zeetv                            11.562778                        False  \n",
       "Velocity                          0.000000                        False  \n",
       "Investigation Discovery           0.000000                        False  \n",
       "Viceland                          0.000000                        False  \n",
       "Destination America               0.000000                        False  \n",
       "Golf                              0.000000                        False  \n",
       "Tennis                            0.000000                        False  \n",
       "Cnbc World                        0.587070                        False  "
      ]
     },
     "execution_count": 29,
     "metadata": {},
     "output_type": "execute_result"
    }
   ],
   "source": [
    "purchases_spend_lift_by_network"
   ]
  },
  {
   "cell_type": "code",
   "execution_count": 30,
   "id": "deae6fc9-40aa-4bdf-b090-36fb528af360",
   "metadata": {},
   "outputs": [],
   "source": [
    "# purchases_spend_lift_by_network"
   ]
  },
  {
   "cell_type": "code",
   "execution_count": 31,
   "id": "333f8efd-8bc4-4e2a-89aa-3134f4f1d591",
   "metadata": {},
   "outputs": [],
   "source": [
    "# purchases_spend_lift_by_network.shape"
   ]
  },
  {
   "cell_type": "markdown",
   "id": "f07c4ebd-49af-410d-b64e-cb0680383562",
   "metadata": {},
   "source": [
    "## Output results to CSV file"
   ]
  },
  {
   "cell_type": "code",
   "execution_count": 32,
   "id": "a6fd639b-ce56-4a8c-ae02-f4ffb6a8e198",
   "metadata": {},
   "outputs": [],
   "source": [
    "current_year_and_months = str(current_year) + '_' + '_'.join(str(month) for month in months)\n",
    "\n",
    "purchases_spend_lift_by_network.to_csv(F\"./cleaned_output/purchases_spend_lift_by_network_{current_year_and_months}.csv\")"
   ]
  },
  {
   "cell_type": "markdown",
   "id": "1f454f18-7548-439b-9d6a-4c2509c19e5d",
   "metadata": {},
   "source": [
    "## Done"
   ]
  },
  {
   "cell_type": "markdown",
   "id": "1698735a-9bd8-4f8d-a085-2d2474c410d8",
   "metadata": {},
   "source": [
    "# Metrics by Network and Month"
   ]
  },
  {
   "cell_type": "markdown",
   "id": "5b1bc2d5-f30e-4816-9840-ff1b92f5171e",
   "metadata": {},
   "source": [
    "## Purchases by Network and Month"
   ]
  },
  {
   "cell_type": "code",
   "execution_count": 33,
   "id": "0d14cce1-59c4-4c19-bd74-86c7b697f01f",
   "metadata": {},
   "outputs": [],
   "source": [
    "# GroupBy month to find purchases per month for each network\n",
    "purchase_data_by_month = purchase_data_transpose.groupby(pd.Grouper(freq='M')).agg('sum')"
   ]
  },
  {
   "cell_type": "code",
   "execution_count": 34,
   "id": "8e4e153b-a904-4fdc-8c84-e532cbbc9346",
   "metadata": {},
   "outputs": [
    {
     "data": {
      "text/html": [
       "<div>\n",
       "<style scoped>\n",
       "    .dataframe tbody tr th:only-of-type {\n",
       "        vertical-align: middle;\n",
       "    }\n",
       "\n",
       "    .dataframe tbody tr th {\n",
       "        vertical-align: top;\n",
       "    }\n",
       "\n",
       "    .dataframe thead th {\n",
       "        text-align: right;\n",
       "    }\n",
       "</style>\n",
       "<table border=\"1\" class=\"dataframe\">\n",
       "  <thead>\n",
       "    <tr style=\"text-align: right;\">\n",
       "      <th>Source</th>\n",
       "      <th>(blank)</th>\n",
       "      <th>aapka_colors</th>\n",
       "      <th>baby_first</th>\n",
       "      <th>bloomberg</th>\n",
       "      <th>cbs_sports</th>\n",
       "      <th>cnbc</th>\n",
       "      <th>cnn</th>\n",
       "      <th>comedy_central</th>\n",
       "      <th>dateline</th>\n",
       "      <th>dish_network</th>\n",
       "      <th>...</th>\n",
       "      <th>other</th>\n",
       "      <th>science</th>\n",
       "      <th>sony_entertainment_tv</th>\n",
       "      <th>spectrum_sports</th>\n",
       "      <th>star_plus</th>\n",
       "      <th>television_food_network</th>\n",
       "      <th>the_history_channel</th>\n",
       "      <th>turner_network_tv</th>\n",
       "      <th>willow_tv</th>\n",
       "      <th>zeetv</th>\n",
       "    </tr>\n",
       "    <tr>\n",
       "      <th>date</th>\n",
       "      <th></th>\n",
       "      <th></th>\n",
       "      <th></th>\n",
       "      <th></th>\n",
       "      <th></th>\n",
       "      <th></th>\n",
       "      <th></th>\n",
       "      <th></th>\n",
       "      <th></th>\n",
       "      <th></th>\n",
       "      <th></th>\n",
       "      <th></th>\n",
       "      <th></th>\n",
       "      <th></th>\n",
       "      <th></th>\n",
       "      <th></th>\n",
       "      <th></th>\n",
       "      <th></th>\n",
       "      <th></th>\n",
       "      <th></th>\n",
       "      <th></th>\n",
       "    </tr>\n",
       "  </thead>\n",
       "  <tbody>\n",
       "    <tr>\n",
       "      <th>2017-09-30</th>\n",
       "      <td>0.0</td>\n",
       "      <td>1.0</td>\n",
       "      <td>1.0</td>\n",
       "      <td>1.0</td>\n",
       "      <td>1.0</td>\n",
       "      <td>5.0</td>\n",
       "      <td>13.0</td>\n",
       "      <td>0.0</td>\n",
       "      <td>0.0</td>\n",
       "      <td>4.0</td>\n",
       "      <td>...</td>\n",
       "      <td>5.0</td>\n",
       "      <td>1.0</td>\n",
       "      <td>2.0</td>\n",
       "      <td>2.0</td>\n",
       "      <td>2.0</td>\n",
       "      <td>4.0</td>\n",
       "      <td>4.0</td>\n",
       "      <td>2.0</td>\n",
       "      <td>27.0</td>\n",
       "      <td>2.0</td>\n",
       "    </tr>\n",
       "    <tr>\n",
       "      <th>2017-10-31</th>\n",
       "      <td>3.0</td>\n",
       "      <td>5.0</td>\n",
       "      <td>0.0</td>\n",
       "      <td>1.0</td>\n",
       "      <td>0.0</td>\n",
       "      <td>10.0</td>\n",
       "      <td>10.0</td>\n",
       "      <td>2.0</td>\n",
       "      <td>10.0</td>\n",
       "      <td>1.0</td>\n",
       "      <td>...</td>\n",
       "      <td>8.0</td>\n",
       "      <td>3.0</td>\n",
       "      <td>2.0</td>\n",
       "      <td>1.0</td>\n",
       "      <td>2.0</td>\n",
       "      <td>0.0</td>\n",
       "      <td>1.0</td>\n",
       "      <td>2.0</td>\n",
       "      <td>29.0</td>\n",
       "      <td>3.0</td>\n",
       "    </tr>\n",
       "  </tbody>\n",
       "</table>\n",
       "<p>2 rows × 30 columns</p>\n",
       "</div>"
      ],
      "text/plain": [
       "Source      (blank)  aapka_colors  baby_first  bloomberg  cbs_sports  cnbc  \\\n",
       "date                                                                         \n",
       "2017-09-30      0.0           1.0         1.0        1.0         1.0   5.0   \n",
       "2017-10-31      3.0           5.0         0.0        1.0         0.0  10.0   \n",
       "\n",
       "Source       cnn  comedy_central  dateline  dish_network  ...  other  science  \\\n",
       "date                                                      ...                   \n",
       "2017-09-30  13.0             0.0       0.0           4.0  ...    5.0      1.0   \n",
       "2017-10-31  10.0             2.0      10.0           1.0  ...    8.0      3.0   \n",
       "\n",
       "Source      sony_entertainment_tv  spectrum_sports  star_plus  \\\n",
       "date                                                            \n",
       "2017-09-30                    2.0              2.0        2.0   \n",
       "2017-10-31                    2.0              1.0        2.0   \n",
       "\n",
       "Source      television_food_network  the_history_channel  turner_network_tv  \\\n",
       "date                                                                          \n",
       "2017-09-30                      4.0                  4.0                2.0   \n",
       "2017-10-31                      0.0                  1.0                2.0   \n",
       "\n",
       "Source      willow_tv  zeetv  \n",
       "date                          \n",
       "2017-09-30       27.0    2.0  \n",
       "2017-10-31       29.0    3.0  \n",
       "\n",
       "[2 rows x 30 columns]"
      ]
     },
     "execution_count": 34,
     "metadata": {},
     "output_type": "execute_result"
    }
   ],
   "source": [
    "purchase_data_by_month"
   ]
  },
  {
   "cell_type": "code",
   "execution_count": 35,
   "id": "ab371aec-953c-4165-8479-ab785e228f35",
   "metadata": {},
   "outputs": [],
   "source": [
    "# Transpose so that the name of network becomes the rows and purchases per month become columns\n",
    "purchase_data_by_month = purchase_data_by_month.transpose()\n",
    "\n",
    "# Stack so that the index of each row corresponds to a network for a given month and row values are the number of purchases for that network in that month\n",
    "purchase_data_by_month = purchase_data_by_month.stack().to_frame()\n",
    "\n",
    "# Rename purchases column\n",
    "purchase_data_by_month.rename(columns={0:'Purchases'}, inplace=True)\n",
    "\n",
    "# Reset_index to set up for merging tables.  It will be easier to merge by column that by index in future steps\n",
    "purchase_data_by_month = purchase_data_by_month.reset_index()"
   ]
  },
  {
   "cell_type": "code",
   "execution_count": 36,
   "id": "d9087e25-cff9-4406-83f4-b2a659d10d8f",
   "metadata": {},
   "outputs": [],
   "source": [
    "# purchase_data_by_month.head()"
   ]
  },
  {
   "cell_type": "code",
   "execution_count": 37,
   "id": "9d84aeea-10d4-47b2-8263-a64ed75a11c5",
   "metadata": {},
   "outputs": [],
   "source": [
    "# purchase_data_by_month.shape"
   ]
  },
  {
   "cell_type": "markdown",
   "id": "90c5a8c6-1f7d-40a1-8916-fef77880a340",
   "metadata": {},
   "source": [
    "## Spend and Lift by Network and Month"
   ]
  },
  {
   "cell_type": "code",
   "execution_count": 38,
   "id": "3b1d3d5f-566d-499e-96b2-78389a551fee",
   "metadata": {},
   "outputs": [],
   "source": [
    "spend_lift_by_network_month = airings_data.groupby(['Network', pd.Grouper(key='Date/Time ET', freq='M')])[['Spend', 'Lift']].agg('sum')"
   ]
  },
  {
   "cell_type": "markdown",
   "id": "f0e6196a-9409-433a-896d-3b23fd21db46",
   "metadata": {},
   "source": [
    "## Joins"
   ]
  },
  {
   "cell_type": "markdown",
   "id": "fc10a862-73c5-4b9e-a729-a1319fecb91d",
   "metadata": {},
   "source": [
    "### Joining Purchases by Network and Month to Lookup Data"
   ]
  },
  {
   "cell_type": "code",
   "execution_count": 39,
   "id": "f79b2417-65d6-411f-8e41-80b73e7fe102",
   "metadata": {},
   "outputs": [],
   "source": [
    "purchases_by_month_with_lookup = lookup_data.merge(right=purchase_data_by_month, left_on='Exit Survey', right_on='Source', how='left').set_index(['Exit Survey', 'date'])"
   ]
  },
  {
   "cell_type": "code",
   "execution_count": null,
   "id": "0af81375-cd52-450b-86b5-92fab203d5d7",
   "metadata": {},
   "outputs": [],
   "source": []
  },
  {
   "cell_type": "code",
   "execution_count": 40,
   "id": "f10040a2-c06d-46ca-b22b-c85d768d06d9",
   "metadata": {},
   "outputs": [],
   "source": [
    "# print(purchases_by_month_with_lookup.head().to_string())"
   ]
  },
  {
   "cell_type": "code",
   "execution_count": 41,
   "id": "5d859dfc-72ea-4a5d-929d-a0db5daacad4",
   "metadata": {},
   "outputs": [],
   "source": [
    "# purchases_by_month_with_lookup.shape"
   ]
  },
  {
   "cell_type": "markdown",
   "id": "13ebbd48-a751-4920-a8c1-3c02ee78b8b0",
   "metadata": {},
   "source": [
    "### Joining Purchases/Lookup by Network and Month to Spend and Lift"
   ]
  },
  {
   "cell_type": "code",
   "execution_count": null,
   "id": "3dafe29d-6aa8-4e86-a027-24d8ed605c7c",
   "metadata": {},
   "outputs": [],
   "source": [
    "purchases_spend_lift_by_network_and_month = purchases_by_month_with_lookup.reset_index().merge(right=spend_lift_by_network_month.reset_index(), left_on=['Airings', 'date'], right_on=['Network', 'Date/Time ET'], how='left')"
   ]
  },
  {
   "cell_type": "code",
   "execution_count": null,
   "id": "389d935f-7376-44b6-8d3b-22a370533d2f",
   "metadata": {},
   "outputs": [],
   "source": [
    "purchases_spend_lift_by_network_and_month.head()"
   ]
  },
  {
   "cell_type": "code",
   "execution_count": null,
   "id": "278695ca-ff4c-46e3-83ad-88244a0a5f96",
   "metadata": {},
   "outputs": [],
   "source": [
    "# purchases_spend_lift_by_network_and_month.shape"
   ]
  },
  {
   "cell_type": "code",
   "execution_count": null,
   "id": "3f53b09b-7481-4bb9-b8b2-3cfc1e887a11",
   "metadata": {},
   "outputs": [],
   "source": [
    "purchases_spend_lift_by_network_and_month['Exit Survey'] = purchases_spend_lift_by_network_and_month['Exit Survey'].str.replace('_', ' ').str.title()"
   ]
  },
  {
   "cell_type": "code",
   "execution_count": null,
   "id": "5e3c2b08-1281-444f-8bb2-c426331e1a29",
   "metadata": {},
   "outputs": [],
   "source": [
    "purchases_spend_lift_by_network_and_month.rename(columns={\"Exit Survey\": \"Exit Survey Source\"}, inplace=True)"
   ]
  },
  {
   "cell_type": "code",
   "execution_count": null,
   "id": "f9cf99dc-6f0f-47f4-9453-7e1e3ac9fd39",
   "metadata": {},
   "outputs": [],
   "source": [
    "purchases_spend_lift_by_network_and_month = purchases_spend_lift_by_network_and_month.set_index(['Exit Survey Source', 'date']).drop(labels=['Airings', 'Network', 'Date/Time ET', 'Source'], axis=1)"
   ]
  },
  {
   "cell_type": "code",
   "execution_count": null,
   "id": "d6eb3523-6f1f-4504-8ca4-8b37c23d47c5",
   "metadata": {},
   "outputs": [],
   "source": [
    "# purchases_spend_lift_by_network_and_month.head()"
   ]
  },
  {
   "cell_type": "code",
   "execution_count": null,
   "id": "70a80622-29da-44b1-a666-4029d85a6277",
   "metadata": {},
   "outputs": [],
   "source": [
    "# purchases_spend_lift_by_network_and_month.shape"
   ]
  },
  {
   "cell_type": "code",
   "execution_count": null,
   "id": "79cffe61-8f2c-4c01-b6b8-947a9b8e0326",
   "metadata": {},
   "outputs": [],
   "source": [
    "# print(purchases_spend_lift_by_network_and_month.head().to_string())"
   ]
  },
  {
   "cell_type": "code",
   "execution_count": null,
   "id": "b6040264-bc72-4493-aeff-75463608e34c",
   "metadata": {},
   "outputs": [],
   "source": [
    "purchases_spend_lift_by_network_and_month.fillna(0, inplace=True)"
   ]
  },
  {
   "cell_type": "markdown",
   "id": "44b060b2-6a6b-40be-bc23-bd2f9b5e6a6c",
   "metadata": {},
   "source": [
    "## Computing Metrics by Network and Month"
   ]
  },
  {
   "cell_type": "code",
   "execution_count": null,
   "id": "15121994-649e-48f7-a94c-9a2ad47abab7",
   "metadata": {},
   "outputs": [],
   "source": [
    "purchases_spend_lift_by_network_and_month['Conversion Rate (Purchases/Lift)%'] = purchases_spend_lift_by_network_and_month['Purchases'] / purchases_spend_lift_by_network_and_month['Lift'] * 100\n",
    "\n",
    "purchases_spend_lift_by_network_and_month['Cost Per Acquisition (Spend/Purchases)'] = purchases_spend_lift_by_network_and_month['Spend'] / purchases_spend_lift_by_network_and_month['Purchases']\n",
    "\n",
    "purchases_spend_lift_by_network_and_month['Cost Per Visitor (Spend/Lift)'] = purchases_spend_lift_by_network_and_month['Spend'] / purchases_spend_lift_by_network_and_month['Lift']\n",
    "\n",
    "purchases_spend_lift_by_network_and_month['Percent of Purchases'] = purchases_spend_lift_by_network_and_month['Purchases'] / sum(purchases_spend_lift_by_network_and_month['Purchases'].fillna(0)) * 100\n",
    "\n",
    "purchases_spend_lift_by_network_and_month['Percent of Spend'] = purchases_spend_lift_by_network_and_month['Spend'] / sum(purchases_spend_lift_by_network_and_month['Spend'].fillna(0)) * 100\n",
    "\n",
    "purchases_spend_lift_by_network_and_month['Percent Pur > Percent Spend'] = purchases_spend_lift_by_network_and_month['Percent of Purchases'] > purchases_spend_lift_by_network_and_month['Percent of Spend']"
   ]
  },
  {
   "cell_type": "code",
   "execution_count": null,
   "id": "590a33ca-3778-43e6-82a1-6a2b5c6d0677",
   "metadata": {},
   "outputs": [],
   "source": [
    "# purchases_spend_lift_by_network_and_month.head()"
   ]
  },
  {
   "cell_type": "code",
   "execution_count": null,
   "id": "10042117-db4c-4ce9-94e3-55b3214a0616",
   "metadata": {},
   "outputs": [],
   "source": [
    "# print(purchases_spend_lift_by_network_and_month.head().to_string())"
   ]
  },
  {
   "cell_type": "markdown",
   "id": "512c821f-ca10-4e32-b941-19185dfae99e",
   "metadata": {},
   "source": [
    "## Output results to CSV file"
   ]
  },
  {
   "cell_type": "code",
   "execution_count": null,
   "id": "772c7c5f-2ad0-4d77-9b14-32c197cd7311",
   "metadata": {},
   "outputs": [],
   "source": [
    "purchases_spend_lift_by_network_and_month.to_csv(F\"./cleaned_output/purchases_spend_lift_by_network_and_month_{current_year_and_months}.csv\")"
   ]
  },
  {
   "cell_type": "markdown",
   "id": "6aedb5fe-c662-4f10-b317-018b833eafdf",
   "metadata": {},
   "source": [
    "## Done"
   ]
  },
  {
   "cell_type": "code",
   "execution_count": null,
   "id": "75b53a3e-06b9-433b-b004-89d18a587c0f",
   "metadata": {},
   "outputs": [],
   "source": [
    "# airings_data.index = pd.to_datetime(airings_data['Date/Time ET'])\n",
    "\n",
    "# airings_data[airings_data['Network']=='COM'].groupby(pd.Grouper(freq='M')).sum()"
   ]
  },
  {
   "cell_type": "markdown",
   "id": "9e34230d-9f60-4a58-92cb-571268d19989",
   "metadata": {},
   "source": [
    "# Generating Reports"
   ]
  },
  {
   "cell_type": "code",
   "execution_count": null,
   "id": "6dded851-f47a-4028-8672-d102d577eb6f",
   "metadata": {
    "tags": []
   },
   "outputs": [],
   "source": [
    "report_for_client = purchases_spend_lift_by_network.drop(['Percent of Purchases', 'Percent of Spend', 'Percent Pur > Percent Spend'], axis=1)#.dropna(how='all').fillna(0)\n",
    "\n",
    "report_for_client.query('Spend != 0', inplace=True)"
   ]
  },
  {
   "cell_type": "code",
   "execution_count": null,
   "id": "548da4b5-dde9-47ff-8211-f6dab8b34ba1",
   "metadata": {},
   "outputs": [],
   "source": [
    "report_for_client"
   ]
  },
  {
   "cell_type": "code",
   "execution_count": null,
   "id": "d6735ab8-5c04-40ff-befc-cd48caca83ca",
   "metadata": {},
   "outputs": [],
   "source": [
    "report_for_client_by_month = purchases_spend_lift_by_network_and_month.drop(['Percent of Purchases', 'Percent of Spend', 'Percent Pur > Percent Spend'], axis=1)#.dropna(how='all').fillna(0)\n",
    "\n",
    "#report_for_client_by_month.query('Spend != 0', inplace=True)"
   ]
  },
  {
   "cell_type": "code",
   "execution_count": null,
   "id": "b422a3d1-0196-4cda-8005-04b1b5b3685f",
   "metadata": {},
   "outputs": [],
   "source": [
    "report_for_client[['Purchases', 'Lift']] = report_for_client[['Purchases', 'Lift']].astype(int)\n",
    "\n",
    "report_for_client = report_for_client.round({\"Purchases\":0, \"Spend\":2, \"Lift\":0, \"Conversion Rate (Purchases/Lift)%\":1, \"Cost Per Acquisition (Spend/Purchases)\":2, \"Cost Per Visitor (Spend/Lift)\":2})\n",
    "\n",
    "\n",
    "report_for_client.rename_axis('Exit Survey Source', axis=0, inplace=True)\n",
    "\n",
    "report_for_client = report_for_client.sort_values('Exit Survey Source')"
   ]
  },
  {
   "cell_type": "code",
   "execution_count": null,
   "id": "be91332a-0c2b-48a6-b78d-3775c59d4cf5",
   "metadata": {},
   "outputs": [],
   "source": [
    "report_for_client_by_month = report_for_client_by_month.round({\"Purchases\":0, \"Spend\":2, \"Lift\":0, \"Conversion Rate (Purchases/Lift)%\":1, \"Cost Per Acquisition (Spend/Purchases)\":2, \"Cost Per Visitor (Spend/Lift)\":2})\n",
    "\n",
    "report_for_client_by_month[['Purchases', 'Lift']] = report_for_client_by_month[['Purchases', 'Lift']].astype(int)"
   ]
  },
  {
   "cell_type": "code",
   "execution_count": null,
   "id": "4c0ca808-f41f-4521-9879-693732aa0c21",
   "metadata": {},
   "outputs": [],
   "source": [
    "report_for_client_by_month = report_for_client_by_month.loc[report_for_client.index]"
   ]
  },
  {
   "cell_type": "markdown",
   "id": "87b8e3aa-d017-44af-a69b-32db2d3321b7",
   "metadata": {},
   "source": [
    "## Exporting Results to PDF Files"
   ]
  },
  {
   "cell_type": "code",
   "execution_count": null,
   "id": "6579835b-2591-4558-9827-587b3d319936",
   "metadata": {},
   "outputs": [],
   "source": [
    "import pdfkit\n",
    "\n",
    "f = open('./reports_output/html/report_for_client.html','w')\n",
    "a = report_for_client.to_html(col_space='100px')\n",
    "f.write(a)\n",
    "f.close()\n",
    "\n",
    "pdfkit.from_file('./reports_output/html/report_for_client.html', './reports_output/pdfs/report_for_client.pdf')"
   ]
  },
  {
   "cell_type": "code",
   "execution_count": null,
   "id": "72281760-f28e-4d68-bbe4-7d39fd508c28",
   "metadata": {},
   "outputs": [],
   "source": [
    "f = open('./reports_output/html/report_for_client_by_month.html','w')\n",
    "a = report_for_client_by_month.to_html(col_space='100px')\n",
    "f.write(a)\n",
    "f.close()\n",
    "\n",
    "pdfkit.from_file('./reports_output/html/report_for_client_by_month.html', './reports_output/pdfs/report_for_client_by_month.pdf')"
   ]
  },
  {
   "cell_type": "markdown",
   "id": "7457e22b-60d6-4d4b-ab2b-9b0374e041f2",
   "metadata": {},
   "source": [
    "## Reports viewed in Jupyter Notebook"
   ]
  },
  {
   "cell_type": "markdown",
   "id": "c58bd422-90db-4426-8b47-a9332f98faf2",
   "metadata": {},
   "source": [
    "### Report by Network"
   ]
  },
  {
   "cell_type": "code",
   "execution_count": null,
   "id": "85c1ffc5-8319-42cf-ace3-752c8000ff56",
   "metadata": {},
   "outputs": [],
   "source": [
    "report_for_client"
   ]
  },
  {
   "cell_type": "markdown",
   "id": "f36fe491-d553-446d-adf6-c59a09f09679",
   "metadata": {},
   "source": [
    "### Report by Network and Month"
   ]
  },
  {
   "cell_type": "code",
   "execution_count": null,
   "id": "9253b306-00f4-4341-a95e-b4c9b784e518",
   "metadata": {},
   "outputs": [],
   "source": [
    "report_for_client_by_month"
   ]
  },
  {
   "cell_type": "markdown",
   "id": "28a7bc62-e165-4395-b482-d369d80343dc",
   "metadata": {},
   "source": [
    "## Sorted Reports"
   ]
  },
  {
   "cell_type": "markdown",
   "id": "fb5bfc7c-3e27-4b71-afa2-75993ec77220",
   "metadata": {},
   "source": [
    "### Sorted by purchases"
   ]
  },
  {
   "cell_type": "code",
   "execution_count": null,
   "id": "848da858-df3f-465b-a2be-966f17458923",
   "metadata": {},
   "outputs": [],
   "source": [
    "report_purchases_sorted = report_for_client.sort_values('Purchases', ascending=False)"
   ]
  },
  {
   "cell_type": "code",
   "execution_count": null,
   "id": "f75926cd-943d-43e0-a9ae-5e25888ce4ea",
   "metadata": {},
   "outputs": [],
   "source": [
    "f = open('./reports_output/html/report_purchases_sorted.html','w')\n",
    "a = report_purchases_sorted.to_html(col_space='100px')\n",
    "f.write(a)\n",
    "f.close()\n",
    "\n",
    "pdfkit.from_file('./reports_output/html/report_purchases_sorted.html', './reports_output/pdfs/report_purchases_sorted.pdf')"
   ]
  },
  {
   "cell_type": "code",
   "execution_count": null,
   "id": "667e4681-0dea-4fe3-92dd-b727066cad42",
   "metadata": {},
   "outputs": [],
   "source": [
    "report_top_5_purchases = report_purchases_sorted[0:5]"
   ]
  },
  {
   "cell_type": "markdown",
   "id": "062e40d5-8597-429c-b071-5f284d27e9b0",
   "metadata": {},
   "source": [
    "## Investigating reports"
   ]
  },
  {
   "cell_type": "code",
   "execution_count": null,
   "id": "2aa210b7-1a18-43cf-91bc-88d506cbebcf",
   "metadata": {},
   "outputs": [],
   "source": []
  },
  {
   "cell_type": "code",
   "execution_count": null,
   "id": "6d823185-d1ed-43c6-ace6-3e03c01c9748",
   "metadata": {},
   "outputs": [],
   "source": []
  },
  {
   "cell_type": "code",
   "execution_count": null,
   "id": "ed506636-4e5b-4deb-b985-de3977c99f53",
   "metadata": {},
   "outputs": [],
   "source": []
  },
  {
   "cell_type": "code",
   "execution_count": null,
   "id": "a7db1bf5-b944-460b-ba7a-3c4c79f8f594",
   "metadata": {},
   "outputs": [],
   "source": [
    "report_for_client_by_month.index"
   ]
  },
  {
   "cell_type": "markdown",
   "id": "ea796be5-6f49-48e7-9ea8-c032df5d46b4",
   "metadata": {},
   "source": [
    "# Presentation "
   ]
  },
  {
   "cell_type": "markdown",
   "id": "dbce54c9-f477-473e-ad62-b2f36a842bc6",
   "metadata": {},
   "source": [
    "## How much does it cost to acquire a customer through TV?"
   ]
  },
  {
   "cell_type": "code",
   "execution_count": null,
   "id": "f2fc1ded-6136-462f-aac6-e0227ea093cf",
   "metadata": {},
   "outputs": [],
   "source": []
  },
  {
   "cell_type": "code",
   "execution_count": null,
   "id": "ad89ce98-6d2c-4e75-843b-77351c57b323",
   "metadata": {},
   "outputs": [],
   "source": []
  },
  {
   "cell_type": "markdown",
   "id": "2c36e0b5-34fe-44fe-ae1a-f6122865cd5b",
   "metadata": {},
   "source": [
    "## Cost Efficiency"
   ]
  },
  {
   "cell_type": "code",
   "execution_count": null,
   "id": "4c9f9951-6b07-4d98-88a4-7a705a2ff062",
   "metadata": {},
   "outputs": [],
   "source": [
    "# For a channel to be cost-efficient, I'm going to limit my scope to only channels where money was spent on advertising there.\n",
    "report_for_client[report_for_client['Spend']>0]['Cost Per Visitor (Spend/Lift)'].sort_values()[0:5].to_frame()"
   ]
  },
  {
   "cell_type": "code",
   "execution_count": null,
   "id": "5040b2da-3035-4a1e-8e30-cb5380e8bc9c",
   "metadata": {},
   "outputs": [],
   "source": [
    "# For a channel to be cost-efficient, I'm going to limit my scope to only channels where money was spent on advertising there.\n",
    "report_for_client[report_for_client['Spend']>0]['Cost Per Visitor (Spend/Lift)'].sort_values(ascending=False)[0:5].to_frame()"
   ]
  },
  {
   "cell_type": "code",
   "execution_count": null,
   "id": "2bff9ae1-3922-4389-a6c7-43d42a24dbf4",
   "metadata": {},
   "outputs": [],
   "source": [
    "# For a channel to be cost-efficient, I'm going to limit my scope to only channels where money was spent on advertising there.\n",
    "\n",
    "## Note: Both CNBC World and The Weather Channel had ZERO purchases, so despite the sort order, they technically have the worst Cost Per Acquisition\n",
    "report_for_client[report_for_client['Spend']>0]['Cost Per Acquisition (Spend/Purchases)'].sort_values()[2:7].to_frame()"
   ]
  },
  {
   "cell_type": "code",
   "execution_count": null,
   "id": "65fbe29d-866a-4ea7-bde1-6838e993d0aa",
   "metadata": {},
   "outputs": [],
   "source": [
    "report_for_client[report_for_client['Spend']>0]['Cost Per Acquisition (Spend/Purchases)'].sort_values(ascending=False)"
   ]
  },
  {
   "cell_type": "code",
   "execution_count": null,
   "id": "dc209208-d439-4b1c-983e-cfc5eac24a02",
   "metadata": {},
   "outputs": [],
   "source": [
    "# For a channel to be cost-efficient, I'm going to limit my scope to only channels where money was spent on advertising there.\n",
    "\n",
    "report_for_client[report_for_client['Spend']>0]['Conversion Rate (Purchases/Lift)%'].sort_values(ascending=False)"
   ]
  },
  {
   "cell_type": "markdown",
   "id": "e60e21bb-0c1f-4786-a28d-cfc4510bdf60",
   "metadata": {},
   "source": [
    "## Which Networks have highest purchases?"
   ]
  },
  {
   "cell_type": "code",
   "execution_count": null,
   "id": "50f9b142-b378-451f-9920-cfc385e7a5ae",
   "metadata": {},
   "outputs": [],
   "source": [
    "num_purchases_by_network = purchases_spend_lift_by_network.groupby(\"Exit Survey\")['Purchases'].agg('sum')\n",
    "\n",
    "tot_purchases = sum(num_purchases_by_network)\n",
    "\n",
    "percent_purchases_by_network = num_purchases_by_network / tot_purchases * 100\n",
    "percent_purchases_by_network = percent_purchases_by_network.sort_values(ascending=False)\n",
    "\n",
    "percent_purchases_by_network"
   ]
  },
  {
   "cell_type": "markdown",
   "id": "7e0964d0-c4d9-4426-a59f-1d95017270b0",
   "metadata": {},
   "source": [
    "## Which Networks have no spend but high purchases?"
   ]
  },
  {
   "cell_type": "code",
   "execution_count": null,
   "id": "123411de-6ae3-48bd-b350-1d0c9091e05a",
   "metadata": {},
   "outputs": [],
   "source": [
    "num_purchases_no_spend = report_for_client[report_for_client['Spend']==0].groupby(\"Exit Survey Source\")['Purchases'].agg('sum')\n",
    "\n",
    "tot_purchases_no_spend = sum(num_purchases_no_spend)\n",
    "\n",
    "perc_purchases_no_spend = num_purchases_no_spend / tot_purchases_no_spend * 100\n",
    "perc_purchases_no_spend = perc_purchases_no_spend.sort_values(ascending=False)\n",
    "\n",
    "perc_purchases_no_spend\n",
    "# (report_for_client[report_for_client['Spend']==0].groupby(\"Exit Survey Source\")['Purchases'].agg('sum') / sum(report_for_client[report_for_client['Spend']==0].groupby(\"Exit Survey Source\")['Purchases'].agg('sum')) * 100).sort_values(ascending=False)"
   ]
  },
  {
   "cell_type": "code",
   "execution_count": null,
   "id": "328c797a-33ff-434b-b8f9-ad1b0755b619",
   "metadata": {},
   "outputs": [],
   "source": []
  },
  {
   "cell_type": "code",
   "execution_count": null,
   "id": "7abc8ffd-af07-42e2-9956-d211e0ed6708",
   "metadata": {},
   "outputs": [],
   "source": []
  },
  {
   "cell_type": "markdown",
   "id": "ace18240-f912-4ddd-bcf7-0cdcfd125e79",
   "metadata": {},
   "source": [
    "## Need to Redo using report_for_client... - Overall Metrics - Establishing a baseline"
   ]
  },
  {
   "cell_type": "code",
   "execution_count": null,
   "id": "944a857a-cfd8-4c9c-912f-7f5801b5cbdc",
   "metadata": {},
   "outputs": [],
   "source": [
    "total_purchases = sum(purchases_spend_lift_by_network['Purchases'].fillna(0))\n",
    "total_spend = sum(purchases_spend_lift_by_network['Spend'].fillna(0))\n",
    "total_lift = sum(purchases_spend_lift_by_network['Lift'].fillna(0))"
   ]
  },
  {
   "cell_type": "code",
   "execution_count": null,
   "id": "5bc73c95-01ef-467b-9d3b-e24c5a5487f9",
   "metadata": {},
   "outputs": [],
   "source": [
    "mean_purchases = purchases_spend_lift_by_network['Purchases'].mean()\n",
    "mean_spend = purchases_spend_lift_by_network['Spend'].mean()\n",
    "mean_lift = purchases_spend_lift_by_network['Lift'].mean()\n",
    "\n",
    "print(F\"Average number purchases: {round(mean_purchases)}\")\n",
    "print(F\"Average spend: ${round(mean_spend,2)}\")\n",
    "print(F\"Average lift: {round(mean_lift)}\")"
   ]
  },
  {
   "cell_type": "code",
   "execution_count": null,
   "id": "6a9afad0-37e6-4efd-b362-106bcbb40d2b",
   "metadata": {},
   "outputs": [],
   "source": [
    "mean_conversion_rate = purchases_spend_lift_by_network['Conversion Rate (Purchases/Lift)%'].mean()\n",
    "mean_cpa = purchases_spend_lift_by_network['Cost Per Acquisition (Spend/Purchases)'].mean()\n",
    "mean_cost_per_visitor = purchases_spend_lift_by_network['Cost Per Visitor (Spend/Lift)'].mean()\n",
    "\n",
    "print(F\"Average Cost Per Visitor: ${round(mean_cost_per_visitor)}\")\n",
    "print(F\"Average Conversion Rate: {round(mean_conversion_rate,1)}%\")\n",
    "print(F\"Average Cost Per Acquisition: ${round(mean_cpa,2)}\")"
   ]
  },
  {
   "cell_type": "code",
   "execution_count": null,
   "id": "0dac2373-ed08-414d-8e82-5379e020c376",
   "metadata": {},
   "outputs": [],
   "source": [
    "report_for_client['Spend'].mean()"
   ]
  },
  {
   "cell_type": "markdown",
   "id": "0a814e21-41ff-426e-a4d8-3d1d9c4584f6",
   "metadata": {},
   "source": [
    "### Cost Per Visitor = $ \\frac{\\text{total spend}}{\\text{total lift}}$"
   ]
  },
  {
   "cell_type": "code",
   "execution_count": null,
   "id": "3c90b1f3-5ed1-4ef6-a9bf-87d39a5569d2",
   "metadata": {},
   "outputs": [],
   "source": [
    "cost_per_visitor = total_spend / total_lift\n",
    "cost_per_visitor = round(cost_per_visitor, 2)\n",
    "print(F\"The overall cost per visitor for the TV campaign is ${cost_per_visitor}\")"
   ]
  },
  {
   "cell_type": "markdown",
   "id": "a3c3c4df-6a07-4750-8eda-0da00efa4ee0",
   "metadata": {},
   "source": [
    "### Conversion Rate = $ \\frac{\\text{total # of purchases}}{\\text{total lift}} $"
   ]
  },
  {
   "cell_type": "code",
   "execution_count": null,
   "id": "e8cbe210-33fc-4b84-ac7c-e1ad5fdc885d",
   "metadata": {},
   "outputs": [],
   "source": [
    "conversion_rate =  total_purchases / total_lift\n",
    "conversion_rate = round(conversion_rate * 100, 2)\n",
    "print(F\"The overall conversion rate for the TV campaign is {conversion_rate}%\")"
   ]
  },
  {
   "cell_type": "markdown",
   "id": "d34707f7-fb69-4f2f-9c14-bb399f364450",
   "metadata": {},
   "source": [
    "### Cost Per Acquisition = $ \\frac{\\text{total spend}}{\\text{total # of purchases}} $"
   ]
  },
  {
   "cell_type": "code",
   "execution_count": null,
   "id": "7599964a-aaec-48f0-9ad9-f44a5ba25a0d",
   "metadata": {},
   "outputs": [],
   "source": [
    "cost_per_acquisition = total_spend / total_purchases\n",
    "cost_per_acquisition = round(cost_per_acquisition, 2)\n",
    "print(F\"The overall cost per acquisition for the TV campaign is ${cost_per_acquisition}\")"
   ]
  },
  {
   "cell_type": "code",
   "execution_count": null,
   "id": "c2947239-a743-4ed5-b66d-4433887dc21f",
   "metadata": {},
   "outputs": [],
   "source": []
  },
  {
   "cell_type": "code",
   "execution_count": null,
   "id": "ed235295-7c61-4cc0-8326-07dd1704245e",
   "metadata": {},
   "outputs": [],
   "source": []
  },
  {
   "cell_type": "code",
   "execution_count": null,
   "id": "fc49fb94-dbcd-4e38-ae1e-75e49ed33443",
   "metadata": {},
   "outputs": [],
   "source": []
  },
  {
   "cell_type": "code",
   "execution_count": null,
   "id": "c4d54bf8-a79f-4d2a-9786-143e3112ceee",
   "metadata": {},
   "outputs": [],
   "source": []
  },
  {
   "cell_type": "markdown",
   "id": "7219d6c0-61cf-47e8-99b9-f5a524a3b443",
   "metadata": {},
   "source": [
    "# Graphing"
   ]
  },
  {
   "cell_type": "code",
   "execution_count": null,
   "id": "ec769071-9a6c-49bd-8ea5-d55cce1744d1",
   "metadata": {},
   "outputs": [],
   "source": [
    "import matplotlib.pyplot as plt"
   ]
  },
  {
   "cell_type": "markdown",
   "id": "972e24e1-8d4b-4418-82c2-db6845386bcd",
   "metadata": {},
   "source": [
    "## Bar Charts"
   ]
  },
  {
   "cell_type": "code",
   "execution_count": null,
   "id": "880d12ab-2d3b-44d3-b05d-36acb57486d0",
   "metadata": {},
   "outputs": [],
   "source": [
    "ax = report_purchases_sorted[0:10].plot(kind='barh', y='Purchases', title='Top 10 Networks by Purchase', legend=False)\n",
    "ax.invert_yaxis()\n",
    "ax.set_xlabel('Number of Purchases');"
   ]
  },
  {
   "cell_type": "code",
   "execution_count": null,
   "id": "0c98010f-2f58-4202-b5e9-468049a5f67d",
   "metadata": {},
   "outputs": [],
   "source": [
    "ax = report_purchases_sorted[-10:].plot(kind='barh', y='Purchases', title='Bottom 10 Networks by Purchase', legend=False)\n",
    "ax.invert_yaxis()\n",
    "ax.set_xlabel('Number of Purchases')\n",
    "ax.set_xticks(np.arange(0,3,1));"
   ]
  },
  {
   "cell_type": "code",
   "execution_count": null,
   "id": "b1a541a9-e8e4-44f6-83ea-d213ac318cf7",
   "metadata": {},
   "outputs": [],
   "source": [
    "ax = report_purchases_sorted[0:10].plot(kind='barh', y='Purchases', title='Top 10 Networks by Purchase', legend=False, color='blue')\n",
    "ax.invert_yaxis()\n",
    "ax.set_xlabel('Number of Purchases')\n",
    "ax1 = ax.twiny()\n",
    "report_purchases_sorted[0:10].plot(kind='barh', y='Spend', title='Top 10 Networks by Purchase', legend=False, ax=ax, color='r');"
   ]
  },
  {
   "cell_type": "code",
   "execution_count": null,
   "id": "5327be93-b8ae-4849-b1b1-7997b0d3bc63",
   "metadata": {},
   "outputs": [],
   "source": [
    "fig = plt.figure()\n",
    "ax = fig.add_subplot(111)\n",
    "ax.set_xlabel('Number of Purchases')\n",
    "\n",
    "\n",
    "ax2 = ax.twiny()\n",
    "ax2.set_xlabel('Amount Spent ($)')\n",
    "\n",
    "\n",
    "bar1 = report_purchases_sorted['Purchases'][0:10].plot(kind='barh', color='green', position=1, width=0.4, ax=ax, label='Purchases')\n",
    "bar2 = report_purchases_sorted['Spend'][0:10].plot(kind='barh', color='red', position=0, width=0.4, ax=ax2, label='Spend')\n",
    "\n",
    "#ax2.invert_yaxis()\n",
    "plt.ylim((-0.5, len(report_purchases_sorted[0:10])-0.5))\n",
    "ax.invert_yaxis()\n",
    "\n",
    "bars, labels = ax.get_legend_handles_labels()\n",
    "bars2, labels2 = ax2.get_legend_handles_labels()\n",
    "ax.legend(bars+bars2, labels+labels2, loc='lower right')\n",
    "\n",
    ";"
   ]
  },
  {
   "cell_type": "code",
   "execution_count": null,
   "id": "a2af46a2-3734-4697-ab86-56231e99e402",
   "metadata": {},
   "outputs": [],
   "source": [
    "fig = plt.figure(figsize=(7,7))\n",
    "ax = fig.add_subplot(111)\n",
    "ax.set_xlabel('Number of Purchases')\n",
    "\n",
    "\n",
    "ax2 = ax.twiny()\n",
    "ax2.set_xlabel('Amount Spent ($)')\n",
    "\n",
    "\n",
    "report_purchases_sorted['Purchases'][-10:].plot(kind='barh', color='blue', position=1, width=0.4, ax=ax)\n",
    "report_purchases_sorted['Spend'][-10:].plot(kind='barh', color='red', position=0, width=0.4, ax=ax2)\n",
    "ax.invert_yaxis()\n",
    "#ax2.invert_yaxis()\n",
    "plt.ylim((-0.5, len(report_purchases_sorted[0:10])-0.5));"
   ]
  },
  {
   "cell_type": "markdown",
   "id": "c7b272a6-0875-4ac9-ae33-dc9f3d642373",
   "metadata": {},
   "source": [
    "## Heatmaps"
   ]
  },
  {
   "cell_type": "code",
   "execution_count": null,
   "id": "8cccc21a-7600-4ecb-9dc8-e5d4736e9f5f",
   "metadata": {},
   "outputs": [],
   "source": [
    "import seaborn as sns"
   ]
  },
  {
   "cell_type": "markdown",
   "id": "479cf15d-4575-4431-84eb-6acd8fa20dd7",
   "metadata": {},
   "source": [
    "## Purchases"
   ]
  },
  {
   "cell_type": "code",
   "execution_count": null,
   "id": "64ffc770-9c27-4347-af9f-865c501dc423",
   "metadata": {},
   "outputs": [],
   "source": [
    "fig, ax = plt.subplots(1,1,figsize=(2,10))\n",
    "sns.heatmap(report_for_client[['Purchases']].sort_values(by='Purchases', ascending=False), annot=True, cmap='Greens', vmin=0, fmt='g')"
   ]
  },
  {
   "cell_type": "code",
   "execution_count": null,
   "id": "eaf03456-5ff9-45ba-be22-495b74693dc3",
   "metadata": {},
   "outputs": [],
   "source": [
    "fig, ax = plt.subplots(1,1,figsize=(2,10))\n",
    "sns.heatmap(report_for_client[['Spend']].sort_values(by='Spend', ascending=False), annot=True, cmap='Reds', vmin=0, fmt='g')"
   ]
  },
  {
   "cell_type": "code",
   "execution_count": null,
   "id": "d5c1eef5-1757-4b84-a423-dd4784f1166e",
   "metadata": {},
   "outputs": [],
   "source": [
    "fig, ax = plt.subplots(1,1,figsize=(2,10))\n",
    "sns.heatmap(report_for_client[['Lift']].sort_values(by='Lift', ascending=False), annot=True, cmap='Reds', vmin=0, fmt='g')"
   ]
  },
  {
   "cell_type": "code",
   "execution_count": null,
   "id": "d6e478f4-ca0e-4217-85b7-6f81f617c8f8",
   "metadata": {},
   "outputs": [],
   "source": [
    "fig, ax = plt.subplots(1,1,figsize=(2,10))\n",
    "sns.heatmap(report_for_client[['Conversion Rate (Purchases/Lift)%']].sort_values(by='Conversion Rate (Purchases/Lift)%', ascending=False), annot=True, cmap='Reds', vmin=0, fmt='g')"
   ]
  },
  {
   "cell_type": "code",
   "execution_count": null,
   "id": "b19ec5ca-b8e3-43d3-a807-b5fa4b685d78",
   "metadata": {},
   "outputs": [],
   "source": [
    "fig, ax = plt.subplots(1,1,figsize=(2,10))\n",
    "sns.heatmap(report_for_client[['Cost Per Acquisition (Spend/Purchases)']].sort_values(by='Cost Per Acquisition (Spend/Purchases)', ascending=False), annot=True, cmap='Reds', vmin=0, fmt='g')"
   ]
  },
  {
   "cell_type": "code",
   "execution_count": null,
   "id": "95188c85-6731-4db7-a19b-72d35a0a22af",
   "metadata": {},
   "outputs": [],
   "source": [
    "fig, ax = plt.subplots(1,1,figsize=(2,10))\n",
    "sns.heatmap(report_for_client[['Cost Per Visitor (Spend/Lift)']].sort_values(by='Cost Per Visitor (Spend/Lift)', ascending=False), annot=True, cmap='Reds', vmin=0, fmt='g')"
   ]
  },
  {
   "cell_type": "code",
   "execution_count": null,
   "id": "3f3735e8-e2bc-4aee-bb67-e2674b76db08",
   "metadata": {},
   "outputs": [],
   "source": []
  },
  {
   "cell_type": "code",
   "execution_count": null,
   "id": "e24d6a93-10af-4d67-bc8d-685a244f7043",
   "metadata": {},
   "outputs": [],
   "source": [
    "#fig, ax = plt.subplots(1,1,figsize=(10,10))\n",
    "sns.heatmap(report_for_client[['Cost Per Acquisition (Spend/Purchases)', 'Cost Per Visitor (Spend/Lift)']], annot=True, cmap='Reds', vmin=0, fmt='g')"
   ]
  },
  {
   "cell_type": "code",
   "execution_count": null,
   "id": "2efa0cda-7be0-462e-8ef1-c9dfad34347c",
   "metadata": {},
   "outputs": [],
   "source": []
  },
  {
   "cell_type": "code",
   "execution_count": null,
   "id": "69de1399-8c98-4a60-806e-d9a0b5510be0",
   "metadata": {},
   "outputs": [],
   "source": []
  },
  {
   "cell_type": "markdown",
   "id": "ed4ce585-20e4-414e-9cd8-b26058e9a645",
   "metadata": {
    "tags": []
   },
   "source": [
    "## Plotting Function - make_scatter()"
   ]
  },
  {
   "cell_type": "code",
   "execution_count": null,
   "id": "a0d4c5f2-fefd-4c2f-a4ef-d68f0db824ca",
   "metadata": {},
   "outputs": [],
   "source": [
    "def make_scatter(df, x_field, y_field, x_units='', y_units='', color_1='green', color_2='red'):\n",
    "    \n",
    "    from adjustText import adjust_text\n",
    "    \n",
    "    fig, ax = plt.subplots(1,1,figsize=(10,5))\n",
    "    \n",
    "    # ax.tick_params(top=False,\n",
    "    #                bottom=True,\n",
    "    #                left=True,\n",
    "    #                right=False,\n",
    "    #                labelleft=False,\n",
    "    #                labelbottom=False)\n",
    "    \n",
    "    df[x_field] = df[x_field].replace(np.inf, 0)\n",
    "    \n",
    "    df.plot(kind='scatter', x=x_field, y=y_field, ax=ax)\n",
    "    \n",
    "    x_field_mean = df[x_field].mean()\n",
    "    y_field_mean = df[y_field].mean()\n",
    "    if x_units == \"$\":\n",
    "        x_field_mean = round(x_field_mean, 2)\n",
    "    elif x_units == \"%\":\n",
    "        x_field_mean = round(x_field_mean, 1)\n",
    "    else:\n",
    "        x_field_mean = round(x_field_mean)\n",
    "        \n",
    "    if y_units == \"$\":\n",
    "        y_field_mean = round(y_field_mean, 2)\n",
    "    elif y_units == \"%\":\n",
    "        y_field_mean = round(y_field_mean, 1)\n",
    "    else:\n",
    "        y_field_mean = round(y_field_mean)\n",
    "\n",
    "    \n",
    "    low_x_high_y = df[(df[x_field] < x_field_mean) & (df[y_field] >= y_field_mean)]\n",
    "    high_x_low_y = df[(df[x_field] >= x_field_mean) & (df[y_field] < y_field_mean)]\n",
    "\n",
    "    together = []\n",
    "    \n",
    "    for i in range(len(low_x_high_y)):\n",
    "        txt1 = low_x_high_y.index[i]\n",
    "        x_coord1 = low_x_high_y[x_field][i]\n",
    "        y_coord1 = low_x_high_y[y_field][i]\n",
    "        #size1 = low_x_high_y['Purchases'][i]\n",
    "        color1 = color_1\n",
    "        together.append((txt1, x_coord1, y_coord1, color1))\n",
    "        ax.scatter(x_coord1, y_coord1, color=color1)\n",
    "\n",
    "    for i in range(len(high_x_low_y)):\n",
    "        txt2 = high_x_low_y.index[i]\n",
    "        x_coord2 = high_x_low_y[x_field][i]\n",
    "        y_coord2 = high_x_low_y[y_field][i]\n",
    "        color2 = color_2\n",
    "        together.append((txt2, x_coord2, y_coord2, color2))\n",
    "        ax.scatter(x_coord2, y_coord2, color=color2)\n",
    "    together.sort()\n",
    "\n",
    "\n",
    "    text = [x for (x,y,z,c) in together]\n",
    "    x_coords = [y for (x,y,z,c) in together]\n",
    "    y_coords = [z for (x,y,z,c) in together]\n",
    "    colors = [c for (x,y,z,c) in together]\n",
    "\n",
    "    texts = []\n",
    "    for x, y, s, c in zip(x_coords, y_coords, text, colors):\n",
    "        texts.append(plt.text(x, y, s, color=c))\n",
    "\n",
    "    \n",
    "    # I should lookup how to do this with regex to make things easier...\n",
    "    x_annot_text = x_field\n",
    "    y_annot_text = y_field\n",
    "    if x_field == \"Conversion Rate (Purchases/Lift)%\":\n",
    "        x_annot_text = \"Conversion Rate\"\n",
    "    elif x_field == \"Cost Per Acquisition (Spend/Purchases)\":\n",
    "        x_annot_text = \"Cost Per Acquisition\"\n",
    "    elif x_field == \"Cost Per Visitor (Spend/Lift)\":\n",
    "        x_annot_text = \"Cost Per Visitor\"\n",
    "        \n",
    "    if y_field == \"Conversion Rate (Purchases/Lift)%\":\n",
    "        y_annot_text = \"Conversion Rate\"\n",
    "    elif y_field == \"Cost Per Acquisition (Spend/Purchases)\":\n",
    "        y_annot_text = \"Cost Per Acquisition\"\n",
    "    elif y_field == \"Cost Per Visitor (Spend/Lift)\":\n",
    "        y_annot_text = \"Cost Per Visitor\"\n",
    "    \n",
    "    \n",
    "    \n",
    "    plt.axvline(x=x_field_mean, linestyle=(0, (2, 8)), color='k')\n",
    "    ax.annotate(F'Mean {x_annot_text}'#: {round(x_field_mean, 2)}{x_units}'\n",
    "                ,\n",
    "                xy=(x_field_mean, max(ax.get_ylim())), xycoords='data',\n",
    "                xytext=(0, 2), textcoords='offset pixels',\n",
    "                color='k', ha='center')\n",
    "    \n",
    "    plt.axhline(y=y_field_mean, linestyle=(0, (2, 8)), color='k')\n",
    "    ax.annotate(F'Mean\\n{y_annot_text}' #:\\n{round(y_field_mean, 2)}{y_units}'\n",
    "                ,\n",
    "                xy=(max(ax.get_xlim()), y_field_mean), xycoords='data',\n",
    "                xytext=(5, 0), textcoords='offset pixels',\n",
    "                color='k', ha='left')\n",
    "    \n",
    "    ax.axes.set_xticks([0, x_field_mean])\n",
    "    #ax.axes.xaxis.set_ticklabels([])\n",
    "    ax.axes.set_yticks([0, y_field_mean])\n",
    "    #ax.axes.yaxis.set_ticklabels([])\n",
    "    adjust_text(texts, \n",
    "            force_text=(0.5,2),\n",
    "            force_points=(5,5),\n",
    "            force_objects=(2,2),\n",
    "            only_move={'points':'y', 'texts':'y'},\n",
    "            arrowprops=dict(arrowstyle=\"->\", color='k', lw=0.5))\n",
    "\n",
    "    plt.show();"
   ]
  },
  {
   "cell_type": "markdown",
   "id": "06ed1a83-7d88-4c41-bbe6-0faa5b7afdf2",
   "metadata": {},
   "source": [
    "## Scatter Plots"
   ]
  },
  {
   "cell_type": "markdown",
   "id": "9a4c6015-5e04-4e1f-af81-443ee897b4a8",
   "metadata": {},
   "source": [
    "### Using make_scatter()"
   ]
  },
  {
   "cell_type": "markdown",
   "id": "6112cf63-5fd4-4ba9-b5be-491379254229",
   "metadata": {},
   "source": [
    "#### Purchases vs. Spend"
   ]
  },
  {
   "cell_type": "code",
   "execution_count": null,
   "id": "8607b749-ae3f-4564-8ae3-9d52bec535f5",
   "metadata": {},
   "outputs": [],
   "source": [
    "make_scatter(df=report_for_client,\n",
    "             x_field='Purchases',\n",
    "             y_field='Spend',\n",
    "             #size=False,\n",
    "             x_units='',\n",
    "             y_units='$',\n",
    "             color_1='red',\n",
    "             color_2='green')"
   ]
  },
  {
   "cell_type": "markdown",
   "id": "d3079cb8-90b9-4e13-8797-748896db9aca",
   "metadata": {},
   "source": [
    "#### Lift vs. Spend"
   ]
  },
  {
   "cell_type": "code",
   "execution_count": null,
   "id": "0f15e605-9877-4be8-8752-2227ff447b53",
   "metadata": {},
   "outputs": [],
   "source": [
    "make_scatter(report_for_client,\n",
    "             x_field='Lift',\n",
    "             y_field='Spend',\n",
    "             #size=True,\n",
    "             x_units='',\n",
    "             y_units='$',\n",
    "             color_1='red',\n",
    "             color_2='green')"
   ]
  },
  {
   "cell_type": "markdown",
   "id": "134426b7-9b9c-448a-97ec-dcf734784e88",
   "metadata": {},
   "source": [
    "#### Lift vs. Purchases"
   ]
  },
  {
   "cell_type": "code",
   "execution_count": null,
   "id": "bea356aa-414b-4e20-8068-ef7b022f575f",
   "metadata": {},
   "outputs": [],
   "source": [
    "make_scatter(report_for_client,\n",
    "             x_field='Lift',\n",
    "             y_field='Purchases',\n",
    "             x_units='',\n",
    "             y_units='')"
   ]
  },
  {
   "cell_type": "markdown",
   "id": "8aaaed6b-41d9-4ab1-b742-a2953e7bcd30",
   "metadata": {},
   "source": [
    "#### Conversion Rate vs. Spend"
   ]
  },
  {
   "cell_type": "code",
   "execution_count": null,
   "id": "ec997332-9ca1-47a5-baf3-3e91dbe898f9",
   "metadata": {},
   "outputs": [],
   "source": [
    "make_scatter(report_for_client,\n",
    "             x_field='Conversion Rate (Purchases/Lift)%',\n",
    "             y_field='Spend',\n",
    "             x_units='%',\n",
    "             y_units='$',\n",
    "             color_1='red',\n",
    "             color_2='green')"
   ]
  },
  {
   "cell_type": "markdown",
   "id": "3c664832-8ec7-4e2c-80c2-8db5af580569",
   "metadata": {},
   "source": [
    "#### Conversion Rate vs. Cost Per Acquisition"
   ]
  },
  {
   "cell_type": "code",
   "execution_count": null,
   "id": "f30477d6-2a66-48dd-9ae8-4ae07640f945",
   "metadata": {},
   "outputs": [],
   "source": [
    "make_scatter(report_for_client,\n",
    "             x_field='Conversion Rate (Purchases/Lift)%',\n",
    "             y_field='Cost Per Acquisition (Spend/Purchases)',\n",
    "             x_units='%',\n",
    "             y_units='$',\n",
    "             color_1='red',\n",
    "             color_2='green')"
   ]
  },
  {
   "cell_type": "markdown",
   "id": "36eb80a8-196a-4aac-a9f9-f7c4781654fc",
   "metadata": {},
   "source": [
    "#### Conversion Rate vs. Cost Per Visitor"
   ]
  },
  {
   "cell_type": "code",
   "execution_count": null,
   "id": "cef35922-8dd9-40c7-bb72-eed270e2aa39",
   "metadata": {},
   "outputs": [],
   "source": [
    "make_scatter(df=report_for_client,\n",
    "             x_field=\"Conversion Rate (Purchases/Lift)%\",\n",
    "             y_field=\"Cost Per Visitor (Spend/Lift)\",\n",
    "             x_units=\"%\",\n",
    "             y_units=\"$\",\n",
    "             color_1='red',\n",
    "             color_2='green')"
   ]
  },
  {
   "cell_type": "code",
   "execution_count": null,
   "id": "5b27ed8d-d748-4516-b4eb-bc807eff7398",
   "metadata": {},
   "outputs": [],
   "source": []
  },
  {
   "cell_type": "code",
   "execution_count": null,
   "id": "b85d0745-3dbe-4744-a62d-09962a6e8452",
   "metadata": {},
   "outputs": [],
   "source": []
  },
  {
   "cell_type": "code",
   "execution_count": null,
   "id": "dcef92bc-2904-4184-abda-4ba7efa870dd",
   "metadata": {},
   "outputs": [],
   "source": []
  },
  {
   "cell_type": "markdown",
   "id": "0f1b852a-aa91-4882-8701-f3135d5139ab",
   "metadata": {},
   "source": [
    "### Manual Plots"
   ]
  },
  {
   "cell_type": "code",
   "execution_count": null,
   "id": "03d3ab91-93fd-4a89-a6df-e3813000af68",
   "metadata": {},
   "outputs": [],
   "source": [
    "#Q1: High Purchases, High Spend, check cost per acquisition?\n",
    "#Q2: Low Purchases, High Spend, Bad!\n",
    "low_purchase_high_spend = report_for_client.query(F'(Purchases < {mean_purchases}) & (Spend >= {mean_spend})').sort_values('Cost Per Acquisition (Spend/Purchases)', ascending=False)\n",
    "#Q3: Low Purchases, Low Spend, check cost per acquisition?\n",
    "#Q4: High Purchases, Low Spend, great!\n",
    "high_purchase_low_spend = report_for_client.query(F'(Purchases >= {mean_purchases}) & (Spend < {mean_spend})').sort_values('Cost Per Acquisition (Spend/Purchases)', ascending=False)\n",
    "\n",
    "fig, ax = plt.subplots(1,1,figsize=(10,5))\n",
    "report_for_client[['Purchases', 'Spend']].plot(kind='scatter', x='Purchases', y='Spend', ax=ax)\n",
    "\n",
    "plt.tick_params(left=True,labelleft=False,\n",
    "                   labelbottom=False)\n",
    "\n",
    "for i in range(len(low_purchase_high_spend)):\n",
    "    txt = low_purchase_high_spend.index[i]\n",
    "    x_coord = low_purchase_high_spend['Purchases'][i]\n",
    "    y_coord = low_purchase_high_spend['Spend'][i]\n",
    "    ax.annotate(txt, xy=(x_coord, y_coord), xytext=(x_coord, y_coord+1_000), color='red', ha='center')\n",
    "    ax.scatter(x_coord, y_coord, color='red')\n",
    "    \n",
    "for i in range(len(high_purchase_low_spend)):\n",
    "    txt = high_purchase_low_spend.index[i]\n",
    "    x_coord = high_purchase_low_spend['Purchases'][i]\n",
    "    y_coord = high_purchase_low_spend['Spend'][i]\n",
    "    ax.scatter(x_coord, y_coord, color='green')\n",
    "    if i == 3:\n",
    "        ax.annotate(txt, xy=(x_coord, y_coord), xytext=(x_coord-0.5, y_coord+1_000), color='green', ha='right')\n",
    "    elif i == 2:\n",
    "        ax.annotate(txt, xy=(x_coord, y_coord), xytext=(x_coord+0.5, y_coord+1_000), color='green', ha='left')\n",
    "    else:\n",
    "        ax.annotate(txt, xy=(x_coord, y_coord), xytext=(x_coord+0.5, y_coord+1_000), color='green', ha='center')\n",
    "\n",
    "#report_top_5_purchases[['Purchases', 'Spend']].plot(kind='scatter', x='Purchases', y='Spend', color='red', ax=ax)\n",
    "plt.axhline(y=mean_spend, linestyle='--', color='k')\n",
    "plt.text(x=45, y=mean_spend+1_000, s=F'Mean Spend: ${round(mean_spend,2)}', color='k')\n",
    "plt.axvline(x=mean_purchases, linestyle='--', color='k')\n",
    "plt.text(x=mean_purchases+0.5, y=48_000, s=F'Mean Purchases: {round(mean_purchases)}', color='k')\n",
    "\n",
    "# plt.text(x=2, y=45_000, s='Low Purchases,', ha='center', color='red')\n",
    "# plt.text(x=2, y=43_000, s='High Spend', ha='center', color='red')\n",
    "\n",
    "# plt.text(x=40, y=5_000, s='High Purchases,', ha='center', color='green')\n",
    "# plt.text(x=40, y=3_000, s='Low Spend', ha='center', color='green')\n",
    "\n",
    "plt.show();"
   ]
  },
  {
   "cell_type": "code",
   "execution_count": null,
   "id": "89e661c6-0cbf-4ace-baf8-6a8d65a714f4",
   "metadata": {
    "tags": []
   },
   "outputs": [],
   "source": [
    "report_for_client.query(F'(Purchases >= {mean_purchases}) & (Spend >= {mean_spend})').sort_values('Cost Per Acquisition (Spend/Purchases)', ascending=False)"
   ]
  },
  {
   "cell_type": "code",
   "execution_count": null,
   "id": "62022e23-1a49-448b-8a10-25ef476aa062",
   "metadata": {},
   "outputs": [],
   "source": [
    "report_for_client.query(F'(Purchases < {mean_purchases}) & (Spend >= {mean_spend})').sort_values('Cost Per Acquisition (Spend/Purchases)', ascending=False)"
   ]
  },
  {
   "cell_type": "code",
   "execution_count": null,
   "id": "efba4104-71ee-4fea-a431-a58afbe7bb6a",
   "metadata": {
    "tags": []
   },
   "outputs": [],
   "source": [
    "report_for_client.query(F'(Purchases < {mean_purchases}) & (Spend < {mean_spend})').sort_values('Cost Per Acquisition (Spend/Purchases)', ascending=False)"
   ]
  },
  {
   "cell_type": "code",
   "execution_count": null,
   "id": "53c1d8a7-951a-4970-8ff3-d74ecd77d7a2",
   "metadata": {},
   "outputs": [],
   "source": [
    "report_for_client.query(F'(Purchases >= {mean_purchases}) & (Spend < {mean_spend})').sort_values('Cost Per Acquisition (Spend/Purchases)', ascending=False)"
   ]
  },
  {
   "cell_type": "code",
   "execution_count": null,
   "id": "77b99313-bf44-436e-ba5c-55dda218b051",
   "metadata": {},
   "outputs": [],
   "source": [
    "#Q1: High Lift, High Spend, check cost per visitor?\n",
    "#Q2: Low Lift, High Spend, Bad!\n",
    "#Q3: Low Lift, Low Spend, check cost per visitor?\n",
    "#Q4: High Lift, Low Spend great!\n",
    "\n",
    "fig, ax = plt.subplots(1,1,figsize=(10,5))\n",
    "report_for_client.plot(kind='scatter', x='Lift', y='Spend', ax=ax)\n",
    "#report_top_5_purchases.plot(kind='scatter', x='Lift', y='Spend', color='red', ax=ax)\n",
    "\n",
    "low_lift_high_spend = report_for_client.query(F'(Lift < {mean_lift}) & (Spend >= {mean_spend})').sort_values('Cost Per Visitor (Spend/Lift)', ascending=False)\n",
    "\n",
    "for i in range(len(low_lift_high_spend)):\n",
    "    txt = low_lift_high_spend.index[i]\n",
    "    x_coord = low_lift_high_spend['Lift'][i]\n",
    "    y_coord = low_lift_high_spend['Spend'][i]\n",
    "    ax.annotate(txt, xy=(x_coord, y_coord), xytext=(x_coord, y_coord+1_000), color='red', ha='right')\n",
    "    ax.scatter(x_coord, y_coord, color='red')\n",
    "\n",
    "high_lift_low_spend = report_for_client.query(F'(Lift >= {mean_lift}) & (Spend < {mean_spend})').sort_values('Cost Per Visitor (Spend/Lift)', ascending=False)\n",
    "\n",
    "for i in range(len(high_lift_low_spend)):\n",
    "    txt = high_lift_low_spend.index[i]\n",
    "    x_coord = high_lift_low_spend['Lift'][i]\n",
    "    y_coord = high_lift_low_spend['Spend'][i]\n",
    "    ax.annotate(txt, xy=(x_coord, y_coord), xytext=(x_coord+50, y_coord-2_000), color='green', ha='left')\n",
    "    ax.scatter(x_coord, y_coord, color='green')\n",
    "\n",
    "# plt.axhline(y=mean_spend)\n",
    "# plt.axvline(x=mean_lift)\n",
    "\n",
    "plt.axhline(y=mean_spend, linestyle='--', color='k')\n",
    "plt.text(x=6_500, y=mean_spend+1_000, s=F'Mean Spend: ${round(mean_spend,2)}', color='k')\n",
    "\n",
    "plt.axvline(x=mean_lift, linestyle='--', color='k')\n",
    "plt.text(x=mean_lift+100, y=48_000, s=F'Mean Lift: {round(mean_lift)}', color='k')\n",
    "\n",
    "plt.show();"
   ]
  },
  {
   "cell_type": "code",
   "execution_count": null,
   "id": "e7d61c2a-4d9b-49d4-a1bf-04edf2f562b9",
   "metadata": {
    "tags": []
   },
   "outputs": [],
   "source": [
    "report_for_client.query(F'(Lift >= {mean_lift}) & (Spend >= {mean_spend})').sort_values('Cost Per Visitor (Spend/Lift)', ascending=False)"
   ]
  },
  {
   "cell_type": "code",
   "execution_count": null,
   "id": "2eb6c26b-f98a-4263-a441-5ea7153a9d06",
   "metadata": {},
   "outputs": [],
   "source": [
    "report_for_client.query(F'(Lift < {mean_lift}) & (Spend >= {mean_spend})').sort_values('Cost Per Visitor (Spend/Lift)', ascending=False)"
   ]
  },
  {
   "cell_type": "code",
   "execution_count": null,
   "id": "c01c5bf4-28df-4f76-8850-7f7c9fc724ec",
   "metadata": {
    "tags": []
   },
   "outputs": [],
   "source": [
    "report_for_client.query(F'(Lift < {mean_lift}) & (Spend < {mean_spend})').sort_values('Cost Per Visitor (Spend/Lift)', ascending=False)"
   ]
  },
  {
   "cell_type": "code",
   "execution_count": null,
   "id": "dc385ad7-8798-45ea-ae77-a5930d6cb411",
   "metadata": {},
   "outputs": [],
   "source": [
    "report_for_client.query(F'(Lift >= {mean_lift}) & (Spend < {mean_spend})').sort_values('Cost Per Visitor (Spend/Lift)', ascending=False)"
   ]
  },
  {
   "cell_type": "code",
   "execution_count": null,
   "id": "f5ddf560-ec2f-498d-ad34-14b814a86916",
   "metadata": {},
   "outputs": [],
   "source": [
    "#Q1: High Lift, High Purchases, check _?\n",
    "#Q2: Low Lift, High Purchases, check spend, maybe spend more here!\n",
    "#Q3: Low Lift, Low Purchases, check conversion rate, spend more on ones that have high conversion rate?  Maybe also check cost per visitor?\n",
    "#Q4: High Lift, Low Purchases, not good?\n",
    "fig, ax = plt.subplots(1,1,figsize=(10,5))\n",
    "report_for_client.plot(kind='scatter', x='Lift', y='Purchases', ax=ax)\n",
    "\n",
    "low_lift_high_purchases = report_for_client.query(F'(Lift < {mean_lift}) & (Purchases >= {mean_purchases})').sort_values('Cost Per Visitor (Spend/Lift)', ascending=False)\n",
    "\n",
    "for i in range(len(low_lift_high_purchases)):\n",
    "    txt = low_lift_high_purchases.index[i]\n",
    "    x_coord = low_lift_high_purchases['Lift'][i]\n",
    "    y_coord = low_lift_high_purchases['Purchases'][i]\n",
    "    if i == 1: #cnbc\n",
    "        ax.annotate(txt, xy=(x_coord, y_coord), xytext=(x_coord, y_coord+2), color='green', ha='left')\n",
    "        ax.scatter(x_coord, y_coord, color='green')\n",
    "    elif i == 2: #fox news\n",
    "        ax.annotate(txt, xy=(x_coord, y_coord), xytext=(x_coord, y_coord+1), color='green', ha='center')\n",
    "        ax.scatter(x_coord, y_coord, color='green')\n",
    "    elif i == 3: #other\n",
    "        ax.annotate(txt, xy=(x_coord, y_coord), xytext=(x_coord, y_coord-3), color='green', ha='center')\n",
    "        ax.scatter(x_coord, y_coord, color='green')\n",
    "    else: #cnbc and dateline\n",
    "        ax.annotate(txt, xy=(x_coord, y_coord), xytext=(x_coord, y_coord+1), color='green', ha='center')\n",
    "        ax.scatter(x_coord, y_coord, color='green')\n",
    "\n",
    "high_lift_low_purchases = report_for_client.query(F'(Lift >= {mean_lift}) & (Purchases < {mean_purchases})').sort_values('Cost Per Visitor (Spend/Lift)', ascending=False)\n",
    "\n",
    "for i in range(len(high_lift_low_purchases)):\n",
    "    txt = high_lift_low_purchases.index[i]\n",
    "    x_coord = high_lift_low_purchases['Lift'][i]\n",
    "    y_coord = high_lift_low_purchases['Purchases'][i]\n",
    "    \n",
    "    if i == 2: #dishnetwork\n",
    "        ax.annotate(txt, xy=(x_coord, y_coord), xytext=(x_coord+140, y_coord-5), color='red', ha='center')\n",
    "        ax.scatter(x_coord, y_coord, color='red')\n",
    "    elif i == 0: #zeetv\n",
    "        ax.annotate(txt, xy=(x_coord, y_coord), xytext=(x_coord, y_coord+1), color='red', ha='center')\n",
    "        ax.scatter(x_coord, y_coord, color='red')\n",
    "    else: #starplus\n",
    "        ax.annotate(txt, xy=(x_coord, y_coord), xytext=(x_coord+100, y_coord-2), color='red', ha='left')\n",
    "        ax.scatter(x_coord, y_coord, color='red')\n",
    "\n",
    "# report_top_5_purchases.plot(kind='scatter', x='Lift', y='Purchases', color='red', ax=ax)\n",
    "# plt.axhline(y=mean_purchases)\n",
    "# plt.axvline(x=mean_lift)\n",
    "\n",
    "plt.axhline(y=mean_purchases, linestyle='--', color='k')\n",
    "plt.text(x=6_500, y=mean_purchases+1, s=F'Mean Purchases: {round(mean_purchases)}', color='k')\n",
    "\n",
    "plt.axvline(x=mean_lift, linestyle='--', color='k')\n",
    "plt.text(x=mean_lift+100, y=55, s=F'Mean Lift: {round(mean_lift)}', color='k')\n",
    "\n",
    "plt.show();"
   ]
  },
  {
   "cell_type": "code",
   "execution_count": null,
   "id": "b402d112-7f8e-4e6f-9b68-aa581d075340",
   "metadata": {},
   "outputs": [],
   "source": [
    "report_for_client.query(F'(Lift < {mean_lift}) & (Purchases >= {mean_purchases})').sort_values('Cost Per Visitor (Spend/Lift)', ascending=False)"
   ]
  },
  {
   "cell_type": "code",
   "execution_count": null,
   "id": "8c008275-eda3-4c97-bb92-6397931a592a",
   "metadata": {},
   "outputs": [],
   "source": [
    "report_for_client.query(F'(Lift >= {mean_lift}) & (Purchases < {mean_purchases})').sort_values('Cost Per Visitor (Spend/Lift)', ascending=False)"
   ]
  },
  {
   "cell_type": "code",
   "execution_count": null,
   "id": "0c03b663-8a65-4add-b72c-827b34db238a",
   "metadata": {},
   "outputs": [],
   "source": [
    "#Q1: High Conversion Rate, High Spend, check _?\n",
    "#Q2: Low Conversion Rate, High Spend, bad!\n",
    "#Q3: Low Conversion Rate, Low Spend, check conversion rate, check cost per acquisition and cost per visitor?\n",
    "#Q4: high Conversion Rate, Low Spend great!\n",
    "\n",
    "fig, ax = plt.subplots(1,1,figsize=(10,5))\n",
    "report_for_client.plot(kind='scatter', x='Conversion Rate (Purchases/Lift)%', y='Spend', ax=ax)\n",
    "\n",
    "low_conversion_rate_high_spend = report_for_client[(report_for_client[\"Conversion Rate (Purchases/Lift)%\"] < mean_conversion_rate) & (report_for_client[\"Spend\"] >= mean_spend)]\n",
    "\n",
    "for i in range(len(low_conversion_rate_high_spend)):\n",
    "    txt = low_conversion_rate_high_spend.index[i]\n",
    "    x_coord = low_conversion_rate_high_spend['Conversion Rate (Purchases/Lift)%'][i]\n",
    "    y_coord = low_conversion_rate_high_spend['Spend'][i]\n",
    "    ax.annotate(txt, xy=(x_coord, y_coord), xytext=(x_coord, y_coord+1_000), color='red', ha='center')\n",
    "    ax.scatter(x_coord, y_coord, color='red')\n",
    "\n",
    "    \n",
    "high_conversion_rate_low_spend = report_for_client[(report_for_client[\"Conversion Rate (Purchases/Lift)%\"] >= mean_conversion_rate) & (report_for_client[\"Spend\"] < mean_spend)]\n",
    "    \n",
    "# report_top_5_purchases.plot(kind='scatter', x='Conversion Rate (Purchases/Lift)%', y='Spend', color='red', ax=ax)\n",
    "# plt.axhline(y=mean_spend)\n",
    "# plt.axvline(x=mean_conversion_rate)\n",
    "\n",
    "plt.axhline(y=mean_spend, linestyle='--', color='k')\n",
    "plt.text(x=3, y=mean_spend+1_000, s=F'Mean Spend: ${round(mean_spend, 2)}', color='k')\n",
    "\n",
    "plt.axvline(x=mean_conversion_rate, linestyle='--', color='k')\n",
    "plt.text(x=mean_conversion_rate+0.05, y=45_000, s=F'Mean Conversion Rate: {round(mean_conversion_rate, 1)}%', color='k')\n",
    "\n",
    "plt.show();"
   ]
  },
  {
   "cell_type": "markdown",
   "id": "f496c21e-6b08-4c79-9b6f-88ab940a1428",
   "metadata": {},
   "source": [
    "#### Where you started using adjustText"
   ]
  },
  {
   "cell_type": "code",
   "execution_count": null,
   "id": "b72dd4c6-ee77-4b30-b671-308111f21b50",
   "metadata": {},
   "outputs": [],
   "source": [
    "from adjustText import adjust_text\n",
    "\n",
    "fig, ax = plt.subplots(1,1,figsize=(10,5))\n",
    "report_for_client.plot(kind='scatter', x='Conversion Rate (Purchases/Lift)%', y='Spend', ax=ax)\n",
    "\n",
    "together1 = []\n",
    "# text_list = []\n",
    "# x_coords = []\n",
    "# y_coords = []\n",
    "for i in range(len(low_conversion_rate_high_spend)):\n",
    "    txt1 = low_conversion_rate_high_spend.index[i]\n",
    "    x_coord1 = low_conversion_rate_high_spend['Conversion Rate (Purchases/Lift)%'][i]\n",
    "    y_coord1 = low_conversion_rate_high_spend['Spend'][i]\n",
    "    together1.append((txt1, x_coord1, y_coord1))\n",
    "    ax.scatter(x_coord1, y_coord1, color='red')\n",
    "together1.sort()\n",
    "\n",
    "text1 = [x for (x,y,z) in together1]\n",
    "x_coords1 = [y for (x,y,z) in together1]\n",
    "y_coords1 = [z for (x,y,z) in together1]\n",
    "\n",
    "texts1 = []\n",
    "for x, y, s in zip(x_coords1, y_coords1, text1):\n",
    "    texts1.append(plt.text(x, y, s, color='red'))\n",
    "\n",
    "adjust_text(texts1, only_move={'points':'y', 'texts1':'y'})\n",
    "\n",
    "\n",
    "together2 = []\n",
    "# text_list = []\n",
    "# x_coords = []\n",
    "# y_coords = []\n",
    "for i in range(len(high_conversion_rate_low_spend)):\n",
    "    txt2 = high_conversion_rate_low_spend.index[i]\n",
    "    x_coord2 = high_conversion_rate_low_spend['Conversion Rate (Purchases/Lift)%'][i]\n",
    "    y_coord2 = high_conversion_rate_low_spend['Spend'][i]\n",
    "    together2.append((txt2, x_coord2, y_coord2))\n",
    "    ax.scatter(x_coord2, y_coord2, color='green')\n",
    "together2.sort()\n",
    "\n",
    "text2 = [x for (x,y,z) in together2]\n",
    "x_coords2 = [y for (x,y,z) in together2]\n",
    "y_coords2 = [z for (x,y,z) in together2]\n",
    "\n",
    "texts2 = []\n",
    "for x, y, s in zip(x_coords2, y_coords2, text2):\n",
    "    texts2.append(plt.text(x, y, s, color='green'))\n",
    "\n",
    "adjust_text(texts2, only_move={'points':'y', 'texts2':'y'})\n",
    "\n",
    "plt.axhline(y=mean_spend, linestyle=(0, (2, 8)), color='k')\n",
    "plt.text(x=2.9, y=mean_spend+1_000, s=F'Mean Spend: ${round(mean_spend, 2)}', color='k')\n",
    "\n",
    "plt.axvline(x=mean_conversion_rate, linestyle=(0, (2, 8)), color='k')\n",
    "plt.text(x=mean_conversion_rate+0.05, y=45_000, s=F'Mean Conversion Rate: {round(mean_conversion_rate, 1)}%', color='k')\n",
    "\n",
    "plt.show()"
   ]
  },
  {
   "cell_type": "code",
   "execution_count": null,
   "id": "e0fd3c52-0d5d-41f6-9a02-f9f35d269d59",
   "metadata": {},
   "outputs": [],
   "source": [
    "from adjustText import adjust_text\n",
    "\n",
    "fig, ax = plt.subplots(1,1,figsize=(10,5))\n",
    "report_for_client.plot(kind='scatter', x='Conversion Rate (Purchases/Lift)%', y='Spend', ax=ax)\n",
    "\n",
    "together = []\n",
    "\n",
    "for i in range(len(low_conversion_rate_high_spend)):\n",
    "    txt1 = low_conversion_rate_high_spend.index[i]\n",
    "    x_coord1 = low_conversion_rate_high_spend['Conversion Rate (Purchases/Lift)%'][i]\n",
    "    y_coord1 = low_conversion_rate_high_spend['Spend'][i]\n",
    "    color1 = 'red'\n",
    "    together.append((txt1, x_coord1, y_coord1, color1))\n",
    "    ax.scatter(x_coord1, y_coord1, color=color1)\n",
    "\n",
    "for i in range(len(high_conversion_rate_low_spend)):\n",
    "    txt2 = high_conversion_rate_low_spend.index[i]\n",
    "    x_coord2 = high_conversion_rate_low_spend['Conversion Rate (Purchases/Lift)%'][i]\n",
    "    y_coord2 = high_conversion_rate_low_spend['Spend'][i]\n",
    "    color2 = 'green'\n",
    "    together.append((txt2, x_coord2, y_coord2, color2))\n",
    "    ax.scatter(x_coord2, y_coord2, color=color2)\n",
    "together.sort()\n",
    "\n",
    "text = [x for (x,y,z,c) in together]\n",
    "x_coords = [y for (x,y,z,c) in together]\n",
    "y_coords = [z for (x,y,z,c) in together]\n",
    "colors = [c for (x,y,z,c) in together]\n",
    "\n",
    "texts = []\n",
    "for x, y, s, c in zip(x_coords, y_coords, text, colors):\n",
    "    texts.append(plt.text(x, y, s, color=c))\n",
    "\n",
    "adjust_text(texts, only_move={'points':'y', 'texts':'y'})\n",
    "\n",
    "\n",
    "plt.axhline(y=mean_spend, linestyle=(0, (2, 8)), color='k')\n",
    "plt.text(x=2.9, y=mean_spend+1_000, s=F'Mean Spend: ${round(mean_spend, 2)}', color='k')\n",
    "\n",
    "plt.axvline(x=mean_conversion_rate, linestyle=(0, (2, 8)), color='k')\n",
    "plt.text(x=mean_conversion_rate+0.05, y=45_000, s=F'Mean Conversion Rate: {round(mean_conversion_rate, 1)}%', color='k')\n",
    "\n",
    "plt.show()"
   ]
  },
  {
   "cell_type": "code",
   "execution_count": null,
   "id": "89a4ad42-c449-4a38-9910-76d308952e74",
   "metadata": {},
   "outputs": [],
   "source": []
  },
  {
   "cell_type": "code",
   "execution_count": null,
   "id": "6f59588b-7d05-4863-8860-e0df3c40a162",
   "metadata": {},
   "outputs": [],
   "source": [
    "report_for_client[(report_for_client[\"Conversion Rate (Purchases/Lift)%\"] < mean_conversion_rate) & (report_for_client[\"Spend\"] >= mean_spend)]"
   ]
  },
  {
   "cell_type": "code",
   "execution_count": null,
   "id": "6df8e8d3-7cab-43b6-a363-9bd541318e81",
   "metadata": {},
   "outputs": [],
   "source": [
    "report_for_client[(report_for_client[\"Conversion Rate (Purchases/Lift)%\"] >= mean_conversion_rate) & (report_for_client[\"Spend\"] < mean_spend)]"
   ]
  },
  {
   "cell_type": "code",
   "execution_count": null,
   "id": "d282451f-0561-4f52-9305-20955f58df9c",
   "metadata": {},
   "outputs": [],
   "source": [
    "# report_for_client.query(\"(Conversion Rate (Purchases/Lift)% < {0}) & (Spend >= {1})\".format(mean_conversion_rate, mean_spend)).sort_values('Cost Per Visitor (Spend/Lift)', ascending=False)"
   ]
  },
  {
   "cell_type": "code",
   "execution_count": null,
   "id": "e061a99c-41fa-4545-9b67-4ad7812046bf",
   "metadata": {},
   "outputs": [],
   "source": [
    "# # This chart just seems bad\n",
    "\n",
    "# #Q1: High Cost Per Acquisition, High Spend, bad!\n",
    "# #Q2: Low Cost Per Acquisition, High Spend, must mean lots of purchases?  Doesn't make a lot of sense\n",
    "# #Q3: Low Cost Per Acquisition, Low Spend, check conversion rate, check cost per acquisition and cost per visitor?\n",
    "# #Q4: Low Spend, high Cost Per Acquisition, doesn't make a lot of sense..?\n",
    "# fig, ax = plt.subplots(1,1,figsize=(10,5))\n",
    "# report_for_client.plot(kind='scatter', x='Cost Per Acquisition', y='Spend', ax=ax)\n",
    "# report_top_5_purchases.plot(kind='scatter', x='Cost Per Acquisition', y='Spend', color='red', ax=ax)\n",
    "# plt.axhline(y=mean_spend)\n",
    "# plt.axvline(x=mean_cpa)\n",
    "# ;"
   ]
  },
  {
   "cell_type": "code",
   "execution_count": null,
   "id": "0f560f14-2922-4992-9392-d10d15973a81",
   "metadata": {},
   "outputs": [],
   "source": [
    "# # This chart just seems bad\n",
    "\n",
    "# #Q1: High Cost Per Visitor, High Spend, none present, doesn't matter\n",
    "# #Q2: Low Cost Per Visitor, High Spend, Seems weird? Doesn't make sense\n",
    "# #Q3: Low Cost Per Visitor, Low Spend, Seems weird, doesn't make sense\n",
    "# #Q4: High Cost Per Visitor, Low Spend, seems weird, doesn't make sense\n",
    "\n",
    "# fig, ax = plt.subplots(1,1,figsize=(10,5))\n",
    "# report_for_client.plot(kind='scatter', x='Cost Per Visitor', y='Spend', ax=ax)\n",
    "# report_top_5_purchases.plot(kind='scatter', x='Cost Per Visitor', y='Spend', color='red', ax=ax)\n",
    "# plt.axhline(y=mean_spend)\n",
    "# plt.axvline(x=mean_cost_per_visitor)\n",
    "# ;"
   ]
  },
  {
   "cell_type": "code",
   "execution_count": null,
   "id": "b293580e-533f-4ede-9059-4912db02f036",
   "metadata": {},
   "outputs": [],
   "source": [
    "#Q1: High Conversion Rate, High Cost Per Acquisition, check _?\n",
    "#Q2: Low Conversion Rate, High Cost Per Acquisition, bad!\n",
    "#Q3: Low Conversion Rate, Low Cost Per Acquisition, unsure?\n",
    "#Q4: High Conversion Rate, Low Cost Per Acquisition, great!\n",
    "\n",
    "fig, ax = plt.subplots(1,1,figsize=(10,5))\n",
    "report_for_client.plot(kind='scatter', x='Conversion Rate (Purchases/Lift)%', y='Cost Per Acquisition (Spend/Purchases)', ax=ax)\n",
    "\n",
    "\n",
    "report_top_5_purchases.plot(kind='scatter', x='Conversion Rate (Purchases/Lift)%', y='Cost Per Acquisition (Spend/Purchases)', color='red', ax=ax)\n",
    "plt.axhline(y=mean_cpa)\n",
    "plt.axvline(x=mean_conversion_rate)\n",
    "\n",
    "plt.show();"
   ]
  },
  {
   "cell_type": "code",
   "execution_count": null,
   "id": "5f8dcfd4-a77d-4eaf-a804-18c9a1a18174",
   "metadata": {},
   "outputs": [],
   "source": [
    "make_scatter(df=report_for_client,\n",
    "             x_field=\"Conversion Rate (Purchases/Lift)%\",\n",
    "             y_field=\"Cost Per Acquisition (Spend/Purchases)\",\n",
    "             x_units=\"%\",\n",
    "             y_units=\"$\")"
   ]
  },
  {
   "cell_type": "code",
   "execution_count": null,
   "id": "03bbf56c-97d1-400a-9612-47b9e2349221",
   "metadata": {},
   "outputs": [],
   "source": [
    "fig, ax = plt.subplots(1,1,figsize=(10,5))\n",
    "report_for_client.plot(kind='scatter', x='Conversion Rate (Purchases/Lift)%', y='Cost Per Acquisition (Spend/Purchases)', ax=ax)\n",
    "\n",
    "low_conversion_rate_high_cost_per_acquisition = report_for_client[(report_for_client[\"Conversion Rate (Purchases/Lift)%\"] < mean_conversion_rate) & (report_for_client[\"Cost Per Acquisition (Spend/Purchases)\"] >= mean_cpa)]\n",
    "\n",
    "together = []\n",
    "\n",
    "for i in range(len(low_conversion_rate_high_cost_per_acquisition)):\n",
    "    txt1 = low_conversion_rate_high_cost_per_acquisition.index[i]\n",
    "    x_coord1 = low_conversion_rate_high_cost_per_acquisition['Conversion Rate (Purchases/Lift)%'][i]\n",
    "    y_coord1 = low_conversion_rate_high_cost_per_acquisition['Cost Per Acquisition (Spend/Purchases)'][i]\n",
    "    color1 = 'red'\n",
    "    together.append((txt1, x_coord1, y_coord1, color1))\n",
    "    ax.scatter(x_coord1, y_coord1, color=color1)\n",
    "\n",
    "\n",
    "high_conversion_rate_low_cost_per_acquisition = report_for_client[(report_for_client[\"Conversion Rate (Purchases/Lift)%\"] >= mean_conversion_rate) & (report_for_client[\"Cost Per Acquisition (Spend/Purchases)\"] < mean_cpa)]\n",
    "\n",
    "\n",
    "for i in range(len(high_conversion_rate_low_cost_per_acquisition)):\n",
    "    txt2 = high_conversion_rate_low_cost_per_acquisition.index[i]\n",
    "    x_coord2 = high_conversion_rate_low_cost_per_acquisition['Conversion Rate (Purchases/Lift)%'][i]\n",
    "    y_coord2 = high_conversion_rate_low_cost_per_acquisition['Cost Per Acquisition (Spend/Purchases)'][i]\n",
    "    color2 = 'green'\n",
    "    together.append((txt2, x_coord2, y_coord2, color2))\n",
    "    ax.scatter(x_coord2, y_coord2, color=color2)\n",
    "together.sort()\n",
    "\n",
    "    \n",
    "text = [x for (x,y,z,c) in together]\n",
    "x_coords = [y for (x,y,z,c) in together]\n",
    "y_coords = [z for (x,y,z,c) in together]\n",
    "colors = [c for (x,y,z,c) in together]\n",
    "\n",
    "texts = []\n",
    "for x, y, s, c in zip(x_coords, y_coords, text, colors):\n",
    "    texts.append(plt.text(x, y, s, color=c))\n",
    "\n",
    "adjust_text(texts, only_move={'points':'y', 'texts':'y'})\n",
    "\n",
    "\n",
    "plt.axhline(y=mean_cpa, linestyle=(0, (2, 8)), color='k')\n",
    "plt.text(x=2.5, y=mean_cpa-300, s=F'Mean Cost Per Acquisition: ${round(mean_cpa, 2)}', color='k')\n",
    "\n",
    "plt.axvline(x=mean_conversion_rate, linestyle=(0, (2, 8)), color='k')\n",
    "plt.text(x=mean_conversion_rate+0.05, y=5_000, s=F'Mean Conversion Rate: {round(mean_conversion_rate, 1)}%', color='k')\n",
    "\n",
    "plt.show();"
   ]
  },
  {
   "cell_type": "code",
   "execution_count": null,
   "id": "af3afc84-14dc-47ed-848f-c2ffdbb2572a",
   "metadata": {},
   "outputs": [],
   "source": [
    "report_for_client[(report_for_client[\"Conversion Rate (Purchases/Lift)%\"] < mean_conversion_rate) & (report_for_client[\"Cost Per Acquisition (Spend/Purchases)\"] >= mean_cpa)]"
   ]
  },
  {
   "cell_type": "code",
   "execution_count": null,
   "id": "1ece09ac-9e12-44ec-bd7b-fcaa5db45ac4",
   "metadata": {},
   "outputs": [],
   "source": [
    "report_for_client[(report_for_client[\"Conversion Rate (Purchases/Lift)%\"] >= mean_conversion_rate) & (report_for_client[\"Cost Per Acquisition (Spend/Purchases)\"] < mean_cpa)]"
   ]
  },
  {
   "cell_type": "code",
   "execution_count": null,
   "id": "be4ad32c-f679-42a7-995d-cffce782f7fb",
   "metadata": {},
   "outputs": [],
   "source": [
    "#Q1: High Conversion Rate, High Cost Per Visitor, check _?\n",
    "#Q2: Low Conversion Rate, High Cost Per Visitor, bad!\n",
    "#Q3: Low Conversion Rate, Low Cost Per Visitor, unsure?\n",
    "#Q4: High Conversion Rate, Low Cost Per Visitor, great!\n",
    "\n",
    "fig, ax = plt.subplots(1,1,figsize=(10,5))\n",
    "report_for_client.plot(kind='scatter', x='Conversion Rate (Purchases/Lift)%', y='Cost Per Visitor (Spend/Lift)', ax=ax)\n",
    "report_top_5_purchases.plot(kind='scatter', x='Conversion Rate (Purchases/Lift)%', y='Cost Per Visitor (Spend/Lift)', color='red', ax=ax)\n",
    "plt.axhline(y=mean_cost_per_visitor)\n",
    "plt.axvline(x=mean_conversion_rate)\n",
    ";"
   ]
  },
  {
   "cell_type": "code",
   "execution_count": null,
   "id": "b4c2db6b-215a-4cd5-a08e-da90810551ac",
   "metadata": {},
   "outputs": [],
   "source": [
    "fig, ax = plt.subplots(1,1,figsize=(10,5))\n",
    "report_for_client.plot(kind='scatter', x='Conversion Rate (Purchases/Lift)%', y='Cost Per Visitor (Spend/Lift)', ax=ax)\n",
    "\n",
    "low_conversion_rate_high_cost_per_visitor = report_for_client[(report_for_client[\"Conversion Rate (Purchases/Lift)%\"] < mean_conversion_rate) & (report_for_client[\"Cost Per Visitor (Spend/Lift)\"] >= mean_cost_per_visitor)]\n",
    "\n",
    "together1 = []\n",
    "# text_list = []\n",
    "# x_coords = []\n",
    "# y_coords = []\n",
    "for i in range(len(low_conversion_rate_high_cost_per_visitor)):\n",
    "    txt1 = low_conversion_rate_high_cost_per_visitor.index[i]\n",
    "    x_coord1 = low_conversion_rate_high_cost_per_visitor['Conversion Rate (Purchases/Lift)%'][i]\n",
    "    y_coord1 = low_conversion_rate_high_cost_per_visitor['Cost Per Visitor (Spend/Lift)'][i]\n",
    "    together1.append((txt1, x_coord1, y_coord1))\n",
    "    ax.scatter(x_coord1, y_coord1, color='red')\n",
    "together1.sort()\n",
    "\n",
    "text1 = [x for (x,y,z) in together1]\n",
    "x_coords1 = [y for (x,y,z) in together1]\n",
    "y_coords1 = [z for (x,y,z) in together1]\n",
    "\n",
    "texts1 = []\n",
    "for x, y, s in zip(x_coords1, y_coords1, text1):\n",
    "    texts1.append(plt.text(x, y, s, color='red'))\n",
    "\n",
    "adjust_text(texts1, only_move={'points':'y', 'texts1':'y'})\n",
    "\n",
    "high_conversion_rate_low_cost_per_visitor = report_for_client[(report_for_client[\"Conversion Rate (Purchases/Lift)%\"] >= mean_conversion_rate) & (report_for_client[\"Cost Per Visitor (Spend/Lift)\"] < mean_cost_per_visitor)]\n",
    "\n",
    "together2 = []\n",
    "# text_list = []\n",
    "# x_coords = []\n",
    "# y_coords = []\n",
    "for i in range(len(high_conversion_rate_low_cost_per_visitor)):\n",
    "    txt2 = high_conversion_rate_low_cost_per_visitor.index[i]\n",
    "    x_coord2 = high_conversion_rate_low_cost_per_visitor['Conversion Rate (Purchases/Lift)%'][i]\n",
    "    y_coord2 = high_conversion_rate_low_cost_per_visitor['Cost Per Visitor (Spend/Lift)'][i]\n",
    "    together2.append((txt2, x_coord2, y_coord2))\n",
    "    ax.scatter(x_coord2, y_coord2, color='green')\n",
    "together2.sort()\n",
    "\n",
    "text2 = [x for (x,y,z) in together2]\n",
    "x_coords2 = [y for (x,y,z) in together2]\n",
    "y_coords2 = [z for (x,y,z) in together2]\n",
    "\n",
    "texts2 = []\n",
    "for x, y, s in zip(x_coords2, y_coords2, text2):\n",
    "    texts2.append(plt.text(x, y, s, color='green'))\n",
    "\n",
    "adjust_text(texts2, only_move={'points':'y', 'texts2':'y'})\n",
    "\n",
    "plt.axhline(y=mean_cost_per_visitor, linestyle=(0, (2, 8)), color='k')\n",
    "plt.text(x=2.75, y=mean_cost_per_visitor+2, s=F'Mean Cost Per Visitor: ${round(mean_cost_per_visitor, 2)}', color='k')\n",
    "\n",
    "plt.axvline(x=mean_conversion_rate, linestyle=(0, (2, 8)), color='k')\n",
    "plt.text(x=mean_conversion_rate+0.05, y=65, s=F'Mean Conversion Rate: {round(mean_conversion_rate, 1)}%', color='k')\n",
    "\n",
    "plt.show();"
   ]
  },
  {
   "cell_type": "code",
   "execution_count": null,
   "id": "99290e0f-d45e-4b19-b356-d495b39f4d2f",
   "metadata": {},
   "outputs": [],
   "source": [
    "report_for_client[(report_for_client[\"Conversion Rate (Purchases/Lift)%\"] < mean_conversion_rate) & (report_for_client[\"Cost Per Visitor (Spend/Lift)\"] >= mean_cost_per_visitor)]"
   ]
  },
  {
   "cell_type": "code",
   "execution_count": null,
   "id": "2c8213ca-65a8-4f2d-bd6a-3064506dbc9e",
   "metadata": {},
   "outputs": [],
   "source": [
    "report_for_client[(report_for_client[\"Conversion Rate (Purchases/Lift)%\"] >= mean_conversion_rate) & (report_for_client[\"Cost Per Visitor (Spend/Lift)\"] < mean_cost_per_visitor)]"
   ]
  },
  {
   "cell_type": "code",
   "execution_count": null,
   "id": "0c0e5944-73f4-4ab4-9405-b9c16ce0a60c",
   "metadata": {},
   "outputs": [],
   "source": [
    "# # This graph seems bad\n",
    "\n",
    "# #Q1: High Cost Per Acquisition, High Cost Per Visitor, sounds bad?\n",
    "# #Q2: Low Cost Per Acquisition, High Cost Per Visitor, sounds weird!\n",
    "# #Q3: Low Cost Per Acquisition, Low Cost Per Visitor, unsure?\n",
    "# #Q4: High Cost Per Acquisition, Low Cost Per Visitor, sounds weird!\n",
    "\n",
    "# fig, ax = plt.subplots(1,1,figsize=(10,5))\n",
    "# report_for_client.plot(kind='scatter', x='Cost Per Acquisition (Spend/Purchases)', y='Cost Per Visitor (Spend/Lift)', ax=ax)\n",
    "# report_top_5_purchases.plot(kind='scatter', x='Cost Per Acquisition (Spend/Purchases)', y='Cost Per Visitor (Spend/Lift)', color='red', ax=ax)\n",
    "# plt.axhline(y=mean_cost_per_visitor)\n",
    "# plt.axvline(x=mean_cpa)\n",
    "# ;"
   ]
  },
  {
   "cell_type": "code",
   "execution_count": null,
   "id": "bd5ee6ae-7121-4732-9063-622b625318c3",
   "metadata": {},
   "outputs": [],
   "source": [
    "# fix, ax = plt.subplots(1,1, figsize=(10,5))\n",
    "# for column in report_for_client.columns:\n",
    "#     report_for_client.plot.box(x='Purchases', ax=ax, vert=False)\n",
    "\n",
    "\n",
    "#fix, ax = plt.subplots(1,1, figsize=(10,5))\n",
    "for column in report_for_client.columns:\n",
    "    #print(column)\n",
    "    fig,ax = plt.subplots(1,1)\n",
    "    report_for_client[column].plot.box(vert=False, ax=ax)"
   ]
  },
  {
   "cell_type": "markdown",
   "id": "c30f1297-6d78-4f0a-a342-d3a37618f8d4",
   "metadata": {},
   "source": [
    "# Done"
   ]
  },
  {
   "cell_type": "code",
   "execution_count": null,
   "id": "c0656c41-3843-4857-8ffa-8efdcdf13acd",
   "metadata": {},
   "outputs": [],
   "source": []
  },
  {
   "cell_type": "code",
   "execution_count": null,
   "id": "375a11f9-cb13-42f2-a98a-ac37aceeac51",
   "metadata": {},
   "outputs": [],
   "source": []
  }
 ],
 "metadata": {
  "jupytext": {
   "formats": "ipynb,auto:percent"
  },
  "kernelspec": {
   "display_name": "Python 3 (ipykernel)",
   "language": "python",
   "name": "python3"
  },
  "language_info": {
   "codemirror_mode": {
    "name": "ipython",
    "version": 3
   },
   "file_extension": ".py",
   "mimetype": "text/x-python",
   "name": "python",
   "nbconvert_exporter": "python",
   "pygments_lexer": "ipython3",
   "version": "3.9.10"
  }
 },
 "nbformat": 4,
 "nbformat_minor": 5
}
