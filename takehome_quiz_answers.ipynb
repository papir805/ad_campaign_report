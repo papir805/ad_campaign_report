{
 "cells": [
  {
   "cell_type": "markdown",
   "id": "9e6a47a3-f66a-47ee-aae1-03662201353d",
   "metadata": {},
   "source": [
    "# Start"
   ]
  },
  {
   "cell_type": "code",
   "execution_count": 27,
   "id": "3fd2be60-3d51-4df0-8b6d-b09f24d395c0",
   "metadata": {},
   "outputs": [],
   "source": [
    "import pandas as pd\n",
    "import numpy as np\n",
    "from datetime import datetime"
   ]
  },
  {
   "cell_type": "code",
   "execution_count": 28,
   "id": "2fb855c2-8fa4-4d01-babd-124a80af3aad",
   "metadata": {},
   "outputs": [],
   "source": [
    "purchase_data = pd.read_excel(\"./Analyst_dataset.xlsx\", sheet_name='Purchase Exit Survey Data')\n",
    "airings_data = pd.read_excel(\"./Analyst_dataset.xlsx\", sheet_name='Airings')\n",
    "\n",
    "# The first row of Lookup table says \"Lookup table for survey response field to airings network ticker symbol.\"  Assuming the first row always says that, we can drop it.\n",
    "lookup_data = pd.read_excel(\"./Analyst_dataset.xlsx\", sheet_name='Lookup', skiprows=1)"
   ]
  },
  {
   "cell_type": "markdown",
   "id": "5804936d-21e1-49f5-8347-19b48bd50abb",
   "metadata": {},
   "source": [
    "# Preprocessing"
   ]
  },
  {
   "cell_type": "code",
   "execution_count": 29,
   "id": "08ae9bed-025a-49b8-b538-14a2bef75eb4",
   "metadata": {},
   "outputs": [],
   "source": [
    "# Lookup data is meant to facilitate a join between the purchases data and the spend/lift data, but lookup data has a row will all null values, which doesn't help the join in any way.  I'll drop that row.\n",
    "lookup_data = lookup_data.dropna(how='all')\n",
    "\n",
    "# The Exit Survey column and Exit Survey.1 column are identical, so we can drop the duplicated column.\n",
    "lookup_data.drop(labels='Exit Survey.1', axis=1, inplace=True)"
   ]
  },
  {
   "cell_type": "code",
   "execution_count": 30,
   "id": "cef1597a-b1f4-4f80-b850-9875a7bee031",
   "metadata": {},
   "outputs": [],
   "source": [
    "# In order to make sure the joins happen correctly, we need to ensure that the strings we're joining on actually match.\n",
    "\n",
    "# The purchase data table is pretty messy, but if we assume the second column always contains the names of the networks, we can use .iloc to grab them and ensure they're lowercase \n",
    "\n",
    "lookup_data['Exit Survey'] = lookup_data['Exit Survey'].str.lower()\n",
    "lookup_data['Airings'] = lookup_data['Airings'].str.upper()\n",
    "airings_data['Network'] = airings_data['Network'].str.upper()\n",
    "purchase_data.iloc[:, 1] = purchase_data.iloc[:, 1].str.lower()"
   ]
  },
  {
   "cell_type": "markdown",
   "id": "3a223e39-88d8-4186-899e-28f6804a375e",
   "metadata": {},
   "source": [
    "# Transposing Purchase Exit Survey Data - Converting dates from columns to rows in Purchase Exit Survey Data\n",
    "\n",
    "The purchases table is extremely messy and would be easier to work with if the rows were dates and the columns were the networks.  If we assume that the first row will always have the year, the third row will always have month names, and the fourth row will always have the day numbers, I can programmatically concatenate all the necessary date information in the form \"Year-Month-Day\", then use them for the rows."
   ]
  },
  {
   "cell_type": "code",
   "execution_count": 31,
   "id": "96897330-0baf-4a17-b5e3-032c2f49115b",
   "metadata": {},
   "outputs": [
    {
     "data": {
      "text/plain": [
       "2017"
      ]
     },
     "execution_count": 31,
     "metadata": {},
     "output_type": "execute_result"
    }
   ],
   "source": [
    "current_year = purchase_data.iloc[0,:].dropna()\n",
    "current_year = int(current_year)\n",
    "current_year"
   ]
  },
  {
   "cell_type": "code",
   "execution_count": 32,
   "id": "4b55fce2-d190-4dfc-a9cf-90084d8bc73d",
   "metadata": {},
   "outputs": [
    {
     "data": {
      "text/plain": [
       "['September', 'October']"
      ]
     },
     "execution_count": 32,
     "metadata": {},
     "output_type": "execute_result"
    }
   ],
   "source": [
    "months = []\n",
    "for month in purchase_data.iloc[2,2:].dropna():\n",
    "    months.append(month)\n",
    "months"
   ]
  },
  {
   "cell_type": "code",
   "execution_count": 33,
   "id": "04201d4a-970b-44bc-bed3-d3583f1ecfb7",
   "metadata": {},
   "outputs": [],
   "source": [
    "# Grab the row of day numbers and cast as integers\n",
    "day_nums = np.array(purchase_data.iloc[3,2:], dtype=int)\n",
    "\n",
    "parsed_dates = []\n",
    "current_month = months[0]\n",
    "i = 0\n",
    "\n",
    "# Walk through the list of day_nums.  \n",
    "\n",
    "# If current_day_num > next_day_num, that indicates a change in month (ex: If current_day = Sept-30 and next_day = Oct-1, b/c 30 > 1).  When this happens, we concatenate the current_day, then increase i by 1 to set the current_month to the next month for furture concatenation.  \n",
    "\n",
    "# If current_day_num < next_day_num, that indicates both days are in the same month (ex: If current_day = Sept-5 and next_day = Sept-6, b/c 5 < 6), so we concatenate like normal.\n",
    "\n",
    "# The try block handles the exception when you get to the last day in day_nums.  Since there are no more days in the list, we get an error when we try to index into the list one day into the future.\n",
    "for count, current_day_num in enumerate(day_nums, start=1):\n",
    "    try:\n",
    "        next_day_num = day_nums[count]\n",
    "    except:\n",
    "        pass\n",
    "    if current_day_num > next_day_num:\n",
    "        current_date = str(current_year) + '-' + current_month + '-' + str(current_day_num)\n",
    "        current_date = datetime.strptime(current_date, '%Y-%B-%d').date()\n",
    "        i += 1\n",
    "        current_month = months[i]\n",
    "        parsed_dates.append(current_date)\n",
    "    else:\n",
    "        current_date = str(current_year) + '-' + current_month + '-' + str(current_day_num)\n",
    "        current_date = datetime.strptime(current_date, '%Y-%B-%d').date()\n",
    "        parsed_dates.append(current_date)\n",
    "\n",
    "# Now that all the dates have been parsed, we replace the unparsed dates with the parsed ones, then transpose the table.  We now have rows that correspond to dates and columns that correspond to networks\n",
    "purchase_data.iloc[3,2:] = parsed_dates\n",
    "purchase_data_transpose = purchase_data.iloc[3:,:].transpose()"
   ]
  },
  {
   "cell_type": "markdown",
   "id": "b78f2971-0eba-44c3-8a1c-8d3d49660b96",
   "metadata": {},
   "source": [
    "## Some Cleanup"
   ]
  },
  {
   "cell_type": "code",
   "execution_count": 34,
   "id": "4b205ebb-8b12-48f6-9e0e-534d1511e9f3",
   "metadata": {},
   "outputs": [],
   "source": [
    "# Set the column of dates as the index and rename the axis appropriately\n",
    "#purchase_data_transpose.index = purchase_data_transpose.iloc[:, 0]\n",
    "purchase_data_transpose.set_index(3, inplace=True)\n",
    "purchase_data_transpose.rename_axis('date', inplace=True)\n",
    "\n",
    "# Drop first row, which doesn't contain anything useful\n",
    "purchase_data_transpose = purchase_data_transpose.iloc[1:]\n",
    "\n",
    "# Replace column names with the row of network names and then drop that row\n",
    "purchase_data_transpose.columns = purchase_data_transpose.iloc[0]\n",
    "purchase_data_transpose = purchase_data_transpose.drop(labels='source')\n",
    "\n",
    "# Rename column axis as upper-case \"Source\" to match original table\n",
    "purchase_data_transpose.rename_axis('Source', axis='columns', inplace=True)\n",
    "\n",
    "# Convert index of dates to datetime objects\n",
    "purchase_data_transpose.index = pd.to_datetime(purchase_data_transpose.index)"
   ]
  },
  {
   "cell_type": "code",
   "execution_count": 35,
   "id": "34c9afcc-94c5-43d8-9eee-8d06246ab586",
   "metadata": {},
   "outputs": [],
   "source": [
    "# purchase_data_transpose.shape"
   ]
  },
  {
   "cell_type": "code",
   "execution_count": 36,
   "id": "f0e5f701-6fc7-4409-95c4-9e1620d48d6c",
   "metadata": {},
   "outputs": [],
   "source": [
    "# purchase_data_transpose.head()"
   ]
  },
  {
   "cell_type": "markdown",
   "id": "6046a65a-d398-4287-8719-2ce509d4fcfd",
   "metadata": {},
   "source": [
    "## Done"
   ]
  },
  {
   "cell_type": "markdown",
   "id": "3c9fa84e-e1c5-4a24-8353-6f194764b831",
   "metadata": {},
   "source": [
    "# Metrics by Network"
   ]
  },
  {
   "cell_type": "markdown",
   "id": "f00b68a2-4a76-48d2-ae75-1d2551c41eda",
   "metadata": {},
   "source": [
    "## Purchases by Network"
   ]
  },
  {
   "cell_type": "code",
   "execution_count": 37,
   "id": "966c6caf-bceb-4a77-a9a6-933088dae0bf",
   "metadata": {},
   "outputs": [],
   "source": [
    "purchases_by_network = purchase_data_transpose.sum(axis=0)\n",
    "purchases_by_network = purchases_by_network.to_frame()\n",
    "purchases_by_network = purchases_by_network.rename(columns={0:'Purchases'})"
   ]
  },
  {
   "cell_type": "code",
   "execution_count": 38,
   "id": "e4023193-b86b-4ae4-b8e6-8fd3642aa8e7",
   "metadata": {},
   "outputs": [],
   "source": [
    "# purchases_by_network.shape"
   ]
  },
  {
   "cell_type": "code",
   "execution_count": 39,
   "id": "4aa6c632-15d7-4175-98c9-722a49b6a17e",
   "metadata": {},
   "outputs": [],
   "source": [
    "# purchases_by_network.head()"
   ]
  },
  {
   "cell_type": "markdown",
   "id": "08aeba17-5ca8-43c2-8e80-0057e995269b",
   "metadata": {},
   "source": [
    "## Spend and Lift by Network"
   ]
  },
  {
   "cell_type": "code",
   "execution_count": 40,
   "id": "b47b8230-e650-4602-bf8a-25e957dbf53c",
   "metadata": {},
   "outputs": [],
   "source": [
    "spend_and_lift_by_network = airings_data.groupby('Network')[['Spend', 'Lift']].agg('sum')"
   ]
  },
  {
   "cell_type": "code",
   "execution_count": 41,
   "id": "84555627-a528-4995-b642-6be073d9717b",
   "metadata": {},
   "outputs": [],
   "source": [
    "# spend_and_lift_by_network.shape"
   ]
  },
  {
   "cell_type": "code",
   "execution_count": 42,
   "id": "f68bf6ca-73ca-4889-aaf2-f4d0779721d6",
   "metadata": {},
   "outputs": [],
   "source": [
    "# spend_and_lift_by_network.head()"
   ]
  },
  {
   "cell_type": "markdown",
   "id": "601cd0c9-36bc-4e1d-b238-3402586c499b",
   "metadata": {},
   "source": [
    "## Joins"
   ]
  },
  {
   "cell_type": "markdown",
   "id": "9461665c-e7bd-4e7c-a0b5-dbcf26fc6e1b",
   "metadata": {},
   "source": [
    "### Joining Purchases by Network to Lookup Data"
   ]
  },
  {
   "cell_type": "code",
   "execution_count": 43,
   "id": "ea241d82-6ac7-4477-8fb3-df6b2900a244",
   "metadata": {},
   "outputs": [],
   "source": [
    "purchases_by_network_w_lookup = lookup_data.merge(right=purchases_by_network, left_on='Exit Survey', right_on='Source', how='left')\n",
    "purchases_by_network_w_lookup.set_index('Exit Survey', inplace=True)"
   ]
  },
  {
   "cell_type": "code",
   "execution_count": 44,
   "id": "11c3d6f6-b1e6-413f-b41b-a97a5283f6b0",
   "metadata": {},
   "outputs": [],
   "source": [
    "# purchases_by_network_w_lookup.shape"
   ]
  },
  {
   "cell_type": "code",
   "execution_count": 45,
   "id": "e00534b4-6e32-429a-9ee7-2a12f4275e20",
   "metadata": {},
   "outputs": [],
   "source": [
    "# purchases_by_network_w_lookup.head()"
   ]
  },
  {
   "cell_type": "markdown",
   "id": "60f0961b-fada-4358-8c1d-d97a74d71a2d",
   "metadata": {
    "tags": []
   },
   "source": [
    "### Joining Purchases/Lookup by Network to Spend and Lift"
   ]
  },
  {
   "cell_type": "code",
   "execution_count": 46,
   "id": "4d46e4a8-3e00-46e4-af1f-fcc70ece6aec",
   "metadata": {},
   "outputs": [],
   "source": [
    "purchases_spend_lift_by_network = purchases_by_network_w_lookup.merge(right=spend_and_lift_by_network, left_on='Airings', right_index=True, how='left')"
   ]
  },
  {
   "cell_type": "code",
   "execution_count": 47,
   "id": "03c5b482-ca51-42e1-9990-3681762d93f0",
   "metadata": {},
   "outputs": [],
   "source": [
    "# purchases_spend_lift_by_network.shape"
   ]
  },
  {
   "cell_type": "code",
   "execution_count": 48,
   "id": "042bc51f-5cec-476a-b582-59a168dcef30",
   "metadata": {},
   "outputs": [],
   "source": [
    "# purchases_spend_lift_by_network.head()"
   ]
  },
  {
   "cell_type": "markdown",
   "id": "9e4a42b9-74df-4446-bb60-4996be96b246",
   "metadata": {},
   "source": [
    "## Computing Metrics by Network"
   ]
  },
  {
   "cell_type": "code",
   "execution_count": 49,
   "id": "0891498a-6a67-4f42-a5ba-859316a82914",
   "metadata": {},
   "outputs": [],
   "source": [
    "purchases_spend_lift_by_network['Conversion Rate (%)'] = purchases_spend_lift_by_network['Purchases'] / purchases_spend_lift_by_network['Lift'] * 100\n",
    "\n",
    "purchases_spend_lift_by_network['Cost Per Acquisition'] = purchases_spend_lift_by_network['Spend'] / purchases_spend_lift_by_network['Purchases']\n",
    "\n",
    "purchases_spend_lift_by_network['Cost Per Visitor'] = purchases_spend_lift_by_network['Spend'] / purchases_spend_lift_by_network['Lift']\n",
    "\n",
    "purchases_spend_lift_by_network['Percent of Purchases'] = purchases_spend_lift_by_network['Purchases'] / sum(purchases_spend_lift_by_network['Purchases'].fillna(0)) * 100\n",
    "\n",
    "purchases_spend_lift_by_network['Percent of Spend'] = purchases_spend_lift_by_network['Spend'] / sum(purchases_spend_lift_by_network['Spend'].fillna(0)) * 100\n",
    "\n",
    "purchases_spend_lift_by_network['Percent Pur > Percent Spend'] = purchases_spend_lift_by_network['Percent of Purchases'] > purchases_spend_lift_by_network['Percent of Spend']"
   ]
  },
  {
   "cell_type": "code",
   "execution_count": 50,
   "id": "deae6fc9-40aa-4bdf-b090-36fb528af360",
   "metadata": {},
   "outputs": [],
   "source": [
    "# purchases_spend_lift_by_network"
   ]
  },
  {
   "cell_type": "code",
   "execution_count": 51,
   "id": "333f8efd-8bc4-4e2a-89aa-3134f4f1d591",
   "metadata": {},
   "outputs": [],
   "source": [
    "# purchases_spend_lift_by_network.shape"
   ]
  },
  {
   "cell_type": "markdown",
   "id": "f07c4ebd-49af-410d-b64e-cb0680383562",
   "metadata": {},
   "source": [
    "## Output results to CSV file"
   ]
  },
  {
   "cell_type": "code",
   "execution_count": 52,
   "id": "a6fd639b-ce56-4a8c-ae02-f4ffb6a8e198",
   "metadata": {},
   "outputs": [],
   "source": [
    "current_year_and_months = str(current_year) + '_' + '_'.join(str(month) for month in months)\n",
    "\n",
    "purchases_spend_lift_by_network.to_csv(F\"./cleaned_output/purchases_spend_lift_by_network_{current_year_and_months}.csv\")"
   ]
  },
  {
   "cell_type": "markdown",
   "id": "1f454f18-7548-439b-9d6a-4c2509c19e5d",
   "metadata": {},
   "source": [
    "## Done"
   ]
  },
  {
   "cell_type": "markdown",
   "id": "1698735a-9bd8-4f8d-a085-2d2474c410d8",
   "metadata": {},
   "source": [
    "# Metrics by Network and Month"
   ]
  },
  {
   "cell_type": "markdown",
   "id": "5b1bc2d5-f30e-4816-9840-ff1b92f5171e",
   "metadata": {},
   "source": [
    "## Purchases by Network and Month"
   ]
  },
  {
   "cell_type": "code",
   "execution_count": 53,
   "id": "0d14cce1-59c4-4c19-bd74-86c7b697f01f",
   "metadata": {},
   "outputs": [],
   "source": [
    "# GroupBy month to find purchases per month for each network\n",
    "purchase_data_by_month = purchase_data_transpose.groupby(pd.Grouper(freq='M')).agg('sum')"
   ]
  },
  {
   "cell_type": "code",
   "execution_count": 54,
   "id": "8e4e153b-a904-4fdc-8c84-e532cbbc9346",
   "metadata": {},
   "outputs": [],
   "source": [
    "# purchase_data_by_month"
   ]
  },
  {
   "cell_type": "code",
   "execution_count": 55,
   "id": "ab371aec-953c-4165-8479-ab785e228f35",
   "metadata": {},
   "outputs": [],
   "source": [
    "# Transpose so that the name of network becomes the rows and purchases per month become columns\n",
    "purchase_data_by_month = purchase_data_by_month.transpose()\n",
    "\n",
    "# Stack so that the index of each row corresponds to a network for a given month and row values are the number of purchases for that network in that month\n",
    "purchase_data_by_month = purchase_data_by_month.stack().to_frame()\n",
    "\n",
    "# Rename purchases column\n",
    "purchase_data_by_month.rename(columns={0:'Purchases'}, inplace=True)\n",
    "\n",
    "# Reset_index to set up for merging tables.  It will be easier to merge by column that by index in future steps\n",
    "purchase_data_by_month = purchase_data_by_month.reset_index()"
   ]
  },
  {
   "cell_type": "code",
   "execution_count": 56,
   "id": "d9087e25-cff9-4406-83f4-b2a659d10d8f",
   "metadata": {},
   "outputs": [],
   "source": [
    "# purchase_data_by_month.head()"
   ]
  },
  {
   "cell_type": "code",
   "execution_count": 57,
   "id": "9d84aeea-10d4-47b2-8263-a64ed75a11c5",
   "metadata": {},
   "outputs": [],
   "source": [
    "# purchase_data_by_month.shape"
   ]
  },
  {
   "cell_type": "markdown",
   "id": "90c5a8c6-1f7d-40a1-8916-fef77880a340",
   "metadata": {},
   "source": [
    "## Spend and Lift by Network and Month"
   ]
  },
  {
   "cell_type": "code",
   "execution_count": 58,
   "id": "3b1d3d5f-566d-499e-96b2-78389a551fee",
   "metadata": {},
   "outputs": [],
   "source": [
    "spend_lift_by_network_month = airings_data.groupby(['Network', pd.Grouper(key='Date/Time ET', freq='M')])[['Spend', 'Lift']].agg('sum')"
   ]
  },
  {
   "cell_type": "code",
   "execution_count": 59,
   "id": "30dc3be6-df48-4467-a7b9-ad23def04700",
   "metadata": {},
   "outputs": [],
   "source": [
    "# spend_lift_by_network_month.head()"
   ]
  },
  {
   "cell_type": "markdown",
   "id": "f0e6196a-9409-433a-896d-3b23fd21db46",
   "metadata": {},
   "source": [
    "## Joins"
   ]
  },
  {
   "cell_type": "markdown",
   "id": "fc10a862-73c5-4b9e-a729-a1319fecb91d",
   "metadata": {},
   "source": [
    "### Joining Purchases by Network and Month to Lookup Data"
   ]
  },
  {
   "cell_type": "code",
   "execution_count": 60,
   "id": "f79b2417-65d6-411f-8e41-80b73e7fe102",
   "metadata": {},
   "outputs": [],
   "source": [
    "purchases_by_month_with_lookup = lookup_data.merge(right=purchase_data_by_month, left_on='Exit Survey', right_on='Source', how='left').set_index(['Exit Survey', 'date'])"
   ]
  },
  {
   "cell_type": "code",
   "execution_count": 61,
   "id": "a5e7243a-69a2-42b6-bea9-d2451832dab3",
   "metadata": {},
   "outputs": [],
   "source": [
    "# purchases_by_month_with_lookup.head()"
   ]
  },
  {
   "cell_type": "code",
   "execution_count": 62,
   "id": "f10040a2-c06d-46ca-b22b-c85d768d06d9",
   "metadata": {},
   "outputs": [],
   "source": [
    "# print(purchases_by_month_with_lookup.head().to_string())"
   ]
  },
  {
   "cell_type": "code",
   "execution_count": 63,
   "id": "5d859dfc-72ea-4a5d-929d-a0db5daacad4",
   "metadata": {},
   "outputs": [],
   "source": [
    "# purchases_by_month_with_lookup.shape"
   ]
  },
  {
   "cell_type": "markdown",
   "id": "13ebbd48-a751-4920-a8c1-3c02ee78b8b0",
   "metadata": {},
   "source": [
    "### Joining Purchases/Lookup by Network and Month to Spend and Lift"
   ]
  },
  {
   "cell_type": "code",
   "execution_count": 64,
   "id": "3dafe29d-6aa8-4e86-a027-24d8ed605c7c",
   "metadata": {},
   "outputs": [],
   "source": [
    "purchases_spend_lift_by_network_and_month = purchases_by_month_with_lookup.reset_index().merge(right=spend_lift_by_network_month.reset_index(), left_on=['Airings', 'date'], right_on=['Network', 'Date/Time ET'], how='left')"
   ]
  },
  {
   "cell_type": "code",
   "execution_count": 65,
   "id": "389d935f-7376-44b6-8d3b-22a370533d2f",
   "metadata": {},
   "outputs": [],
   "source": [
    "# purchases_spend_lift_by_network_and_month.head()"
   ]
  },
  {
   "cell_type": "code",
   "execution_count": 66,
   "id": "278695ca-ff4c-46e3-83ad-88244a0a5f96",
   "metadata": {},
   "outputs": [],
   "source": [
    "# purchases_spend_lift_by_network_and_month.shape"
   ]
  },
  {
   "cell_type": "code",
   "execution_count": 67,
   "id": "f9cf99dc-6f0f-47f4-9453-7e1e3ac9fd39",
   "metadata": {},
   "outputs": [],
   "source": [
    "purchases_spend_lift_by_network_and_month = purchases_spend_lift_by_network_and_month.set_index(['Exit Survey', 'date']).drop(labels=['Airings', 'Network', 'Date/Time ET', 'Source'], axis=1)"
   ]
  },
  {
   "cell_type": "code",
   "execution_count": 68,
   "id": "d6eb3523-6f1f-4504-8ca4-8b37c23d47c5",
   "metadata": {},
   "outputs": [],
   "source": [
    "# purchases_spend_lift_by_network_and_month.head()"
   ]
  },
  {
   "cell_type": "code",
   "execution_count": 69,
   "id": "70a80622-29da-44b1-a666-4029d85a6277",
   "metadata": {},
   "outputs": [],
   "source": [
    "# purchases_spend_lift_by_network_and_month.shape"
   ]
  },
  {
   "cell_type": "code",
   "execution_count": 70,
   "id": "79cffe61-8f2c-4c01-b6b8-947a9b8e0326",
   "metadata": {},
   "outputs": [],
   "source": [
    "# print(purchases_spend_lift_by_network_and_month.head().to_string())"
   ]
  },
  {
   "cell_type": "markdown",
   "id": "44b060b2-6a6b-40be-bc23-bd2f9b5e6a6c",
   "metadata": {},
   "source": [
    "## Computing Metrics by Network and Month"
   ]
  },
  {
   "cell_type": "code",
   "execution_count": 71,
   "id": "15121994-649e-48f7-a94c-9a2ad47abab7",
   "metadata": {},
   "outputs": [],
   "source": [
    "purchases_spend_lift_by_network_and_month['Conversion Rate (%)'] = purchases_spend_lift_by_network_and_month['Purchases'] / purchases_spend_lift_by_network_and_month['Lift'] * 100\n",
    "\n",
    "purchases_spend_lift_by_network_and_month['Cost Per Acquisition'] = purchases_spend_lift_by_network_and_month['Spend'] / purchases_spend_lift_by_network_and_month['Purchases']\n",
    "\n",
    "purchases_spend_lift_by_network_and_month['Cost Per Visitor'] = purchases_spend_lift_by_network_and_month['Spend'] / purchases_spend_lift_by_network_and_month['Lift']\n",
    "\n",
    "purchases_spend_lift_by_network_and_month['Percent of Purchases'] = purchases_spend_lift_by_network_and_month['Purchases'] / sum(purchases_spend_lift_by_network_and_month['Purchases'].fillna(0)) * 100\n",
    "\n",
    "purchases_spend_lift_by_network_and_month['Percent of Spend'] = purchases_spend_lift_by_network_and_month['Spend'] / sum(purchases_spend_lift_by_network_and_month['Spend'].fillna(0)) * 100\n",
    "\n",
    "purchases_spend_lift_by_network_and_month['Percent Pur > Percent Spend'] = purchases_spend_lift_by_network_and_month['Percent of Purchases'] > purchases_spend_lift_by_network_and_month['Percent of Spend']"
   ]
  },
  {
   "cell_type": "code",
   "execution_count": 72,
   "id": "590a33ca-3778-43e6-82a1-6a2b5c6d0677",
   "metadata": {},
   "outputs": [],
   "source": [
    "# purchases_spend_lift_by_network_and_month.head()"
   ]
  },
  {
   "cell_type": "code",
   "execution_count": 73,
   "id": "10042117-db4c-4ce9-94e3-55b3214a0616",
   "metadata": {},
   "outputs": [],
   "source": [
    "# print(purchases_spend_lift_by_network_and_month.head().to_string())"
   ]
  },
  {
   "cell_type": "markdown",
   "id": "512c821f-ca10-4e32-b941-19185dfae99e",
   "metadata": {},
   "source": [
    "## Output results to CSV file"
   ]
  },
  {
   "cell_type": "code",
   "execution_count": 74,
   "id": "772c7c5f-2ad0-4d77-9b14-32c197cd7311",
   "metadata": {},
   "outputs": [],
   "source": [
    "purchases_spend_lift_by_network_and_month.to_csv(F\"./cleaned_output/purchases_spend_lift_by_network_and_month_{current_year_and_months}.csv\")"
   ]
  },
  {
   "cell_type": "markdown",
   "id": "6aedb5fe-c662-4f10-b317-018b833eafdf",
   "metadata": {},
   "source": [
    "## Done"
   ]
  },
  {
   "cell_type": "markdown",
   "id": "9e34230d-9f60-4a58-92cb-571268d19989",
   "metadata": {},
   "source": [
    "# Report"
   ]
  },
  {
   "cell_type": "markdown",
   "id": "ace18240-f912-4ddd-bcf7-0cdcfd125e79",
   "metadata": {},
   "source": [
    "## Overall Metrics - Establishing a baseline"
   ]
  },
  {
   "cell_type": "code",
   "execution_count": 75,
   "id": "944a857a-cfd8-4c9c-912f-7f5801b5cbdc",
   "metadata": {},
   "outputs": [
    {
     "data": {
      "text/plain": [
       "20487.0"
      ]
     },
     "execution_count": 75,
     "metadata": {},
     "output_type": "execute_result"
    }
   ],
   "source": [
    "total_purchases = sum(purchases_spend_lift_by_network['Purchases'].fillna(0))\n",
    "total_spend = sum(purchases_spend_lift_by_network['Spend'].fillna(0))\n",
    "total_lift = sum(purchases_spend_lift_by_network['Lift'].fillna(0))\n",
    "\n",
    "total_lift"
   ]
  },
  {
   "cell_type": "markdown",
   "id": "0a814e21-41ff-426e-a4d8-3d1d9c4584f6",
   "metadata": {},
   "source": [
    "### Cost Per Visitor = $ \\frac{\\text{total spend}}{\\text{total lift}}$"
   ]
  },
  {
   "cell_type": "code",
   "execution_count": 76,
   "id": "3c90b1f3-5ed1-4ef6-a9bf-87d39a5569d2",
   "metadata": {},
   "outputs": [
    {
     "name": "stdout",
     "output_type": "stream",
     "text": [
      "The overall cost per visitor for the TV campaign is $10.81\n"
     ]
    }
   ],
   "source": [
    "cost_per_visitor = total_spend / total_lift\n",
    "cost_per_visitor = round(cost_per_visitor, 2)\n",
    "print(F\"The overall cost per visitor for the TV campaign is ${cost_per_visitor}\")"
   ]
  },
  {
   "cell_type": "markdown",
   "id": "a3c3c4df-6a07-4750-8eda-0da00efa4ee0",
   "metadata": {},
   "source": [
    "### Conversion Rate = $ \\frac{\\text{total # of purchases}}{\\text{total lift}} $"
   ]
  },
  {
   "cell_type": "code",
   "execution_count": 77,
   "id": "e8cbe210-33fc-4b84-ac7c-e1ad5fdc885d",
   "metadata": {},
   "outputs": [
    {
     "name": "stdout",
     "output_type": "stream",
     "text": [
      "The overall conversion rate for the TV campaign is 1.15%\n"
     ]
    }
   ],
   "source": [
    "conversion_rate =  total_purchases / total_lift\n",
    "conversion_rate = round(conversion_rate * 100, 2)\n",
    "print(F\"The overall conversion rate for the TV campaign is {conversion_rate}%\")"
   ]
  },
  {
   "cell_type": "markdown",
   "id": "d34707f7-fb69-4f2f-9c14-bb399f364450",
   "metadata": {},
   "source": [
    "### Cost Per Acquisition = $ \\frac{\\text{total spend}}{\\text{total # of purchases}} $"
   ]
  },
  {
   "cell_type": "code",
   "execution_count": 78,
   "id": "7599964a-aaec-48f0-9ad9-f44a5ba25a0d",
   "metadata": {},
   "outputs": [
    {
     "name": "stdout",
     "output_type": "stream",
     "text": [
      "The overall cost per acquisition for the TV campaign is $938.29\n"
     ]
    }
   ],
   "source": [
    "cost_per_acquisition = total_spend / total_purchases\n",
    "cost_per_acquisition = round(cost_per_acquisition, 2)\n",
    "print(F\"The overall cost per acquisition for the TV campaign is ${cost_per_acquisition}\")"
   ]
  },
  {
   "cell_type": "code",
   "execution_count": null,
   "id": "c2947239-a743-4ed5-b66d-4433887dc21f",
   "metadata": {},
   "outputs": [],
   "source": []
  },
  {
   "cell_type": "code",
   "execution_count": null,
   "id": "ed235295-7c61-4cc0-8326-07dd1704245e",
   "metadata": {},
   "outputs": [],
   "source": []
  },
  {
   "cell_type": "code",
   "execution_count": null,
   "id": "9aa42520-d1af-4a67-9e26-a151e0e8f475",
   "metadata": {},
   "outputs": [],
   "source": []
  },
  {
   "cell_type": "code",
   "execution_count": 79,
   "id": "b80db713-d95a-41a9-bd86-ae9e451e1625",
   "metadata": {},
   "outputs": [
    {
     "data": {
      "text/html": [
       "<div>\n",
       "<style scoped>\n",
       "    .dataframe tbody tr th:only-of-type {\n",
       "        vertical-align: middle;\n",
       "    }\n",
       "\n",
       "    .dataframe tbody tr th {\n",
       "        vertical-align: top;\n",
       "    }\n",
       "\n",
       "    .dataframe thead th {\n",
       "        text-align: right;\n",
       "    }\n",
       "</style>\n",
       "<table border=\"1\" class=\"dataframe\">\n",
       "  <thead>\n",
       "    <tr style=\"text-align: right;\">\n",
       "      <th></th>\n",
       "      <th>Airings</th>\n",
       "      <th>Purchases</th>\n",
       "      <th>Spend</th>\n",
       "      <th>Lift</th>\n",
       "      <th>Conversion Rate (%)</th>\n",
       "      <th>Cost Per Acquisition</th>\n",
       "      <th>Cost Per Visitor</th>\n",
       "      <th>Percent of Purchases</th>\n",
       "      <th>Percent of Spend</th>\n",
       "      <th>Percent Pur &gt; Percent Spend</th>\n",
       "    </tr>\n",
       "    <tr>\n",
       "      <th>Exit Survey</th>\n",
       "      <th></th>\n",
       "      <th></th>\n",
       "      <th></th>\n",
       "      <th></th>\n",
       "      <th></th>\n",
       "      <th></th>\n",
       "      <th></th>\n",
       "      <th></th>\n",
       "      <th></th>\n",
       "      <th></th>\n",
       "    </tr>\n",
       "  </thead>\n",
       "  <tbody>\n",
       "    <tr>\n",
       "      <th>(blank)</th>\n",
       "      <td>NaN</td>\n",
       "      <td>3.0</td>\n",
       "      <td>NaN</td>\n",
       "      <td>NaN</td>\n",
       "      <td>NaN</td>\n",
       "      <td>NaN</td>\n",
       "      <td>NaN</td>\n",
       "      <td>1.271186</td>\n",
       "      <td>NaN</td>\n",
       "      <td>False</td>\n",
       "    </tr>\n",
       "    <tr>\n",
       "      <th>aapka_colors</th>\n",
       "      <td>NaN</td>\n",
       "      <td>6.0</td>\n",
       "      <td>NaN</td>\n",
       "      <td>NaN</td>\n",
       "      <td>NaN</td>\n",
       "      <td>NaN</td>\n",
       "      <td>NaN</td>\n",
       "      <td>2.542373</td>\n",
       "      <td>NaN</td>\n",
       "      <td>False</td>\n",
       "    </tr>\n",
       "    <tr>\n",
       "      <th>baby_first</th>\n",
       "      <td>BABY</td>\n",
       "      <td>1.0</td>\n",
       "      <td>NaN</td>\n",
       "      <td>NaN</td>\n",
       "      <td>NaN</td>\n",
       "      <td>NaN</td>\n",
       "      <td>NaN</td>\n",
       "      <td>0.423729</td>\n",
       "      <td>NaN</td>\n",
       "      <td>False</td>\n",
       "    </tr>\n",
       "    <tr>\n",
       "      <th>bloomberg</th>\n",
       "      <td>BLOM</td>\n",
       "      <td>2.0</td>\n",
       "      <td>4966.72</td>\n",
       "      <td>199.0</td>\n",
       "      <td>1.005025</td>\n",
       "      <td>2483.36</td>\n",
       "      <td>24.958392</td>\n",
       "      <td>0.847458</td>\n",
       "      <td>2.242951</td>\n",
       "      <td>False</td>\n",
       "    </tr>\n",
       "    <tr>\n",
       "      <th>cbs_sports</th>\n",
       "      <td>CBSS</td>\n",
       "      <td>1.0</td>\n",
       "      <td>NaN</td>\n",
       "      <td>NaN</td>\n",
       "      <td>NaN</td>\n",
       "      <td>NaN</td>\n",
       "      <td>NaN</td>\n",
       "      <td>0.423729</td>\n",
       "      <td>NaN</td>\n",
       "      <td>False</td>\n",
       "    </tr>\n",
       "  </tbody>\n",
       "</table>\n",
       "</div>"
      ],
      "text/plain": [
       "             Airings Purchases    Spend   Lift Conversion Rate (%)  \\\n",
       "Exit Survey                                                          \n",
       "(blank)          NaN       3.0      NaN    NaN                 NaN   \n",
       "aapka_colors     NaN       6.0      NaN    NaN                 NaN   \n",
       "baby_first      BABY       1.0      NaN    NaN                 NaN   \n",
       "bloomberg       BLOM       2.0  4966.72  199.0            1.005025   \n",
       "cbs_sports      CBSS       1.0      NaN    NaN                 NaN   \n",
       "\n",
       "             Cost Per Acquisition  Cost Per Visitor Percent of Purchases  \\\n",
       "Exit Survey                                                                \n",
       "(blank)                       NaN               NaN             1.271186   \n",
       "aapka_colors                  NaN               NaN             2.542373   \n",
       "baby_first                    NaN               NaN             0.423729   \n",
       "bloomberg                 2483.36         24.958392             0.847458   \n",
       "cbs_sports                    NaN               NaN             0.423729   \n",
       "\n",
       "              Percent of Spend  Percent Pur > Percent Spend  \n",
       "Exit Survey                                                  \n",
       "(blank)                    NaN                        False  \n",
       "aapka_colors               NaN                        False  \n",
       "baby_first                 NaN                        False  \n",
       "bloomberg             2.242951                        False  \n",
       "cbs_sports                 NaN                        False  "
      ]
     },
     "execution_count": 79,
     "metadata": {},
     "output_type": "execute_result"
    }
   ],
   "source": [
    "purchases_spend_lift_by_network.head()"
   ]
  },
  {
   "cell_type": "code",
   "execution_count": 80,
   "id": "6dded851-f47a-4028-8672-d102d577eb6f",
   "metadata": {
    "tags": []
   },
   "outputs": [
    {
     "data": {
      "text/html": [
       "<div>\n",
       "<style scoped>\n",
       "    .dataframe tbody tr th:only-of-type {\n",
       "        vertical-align: middle;\n",
       "    }\n",
       "\n",
       "    .dataframe tbody tr th {\n",
       "        vertical-align: top;\n",
       "    }\n",
       "\n",
       "    .dataframe thead th {\n",
       "        text-align: right;\n",
       "    }\n",
       "</style>\n",
       "<table border=\"1\" class=\"dataframe\">\n",
       "  <thead>\n",
       "    <tr style=\"text-align: right;\">\n",
       "      <th></th>\n",
       "      <th>Purchases</th>\n",
       "      <th>Spend</th>\n",
       "      <th>Lift</th>\n",
       "      <th>Conversion Rate (%)</th>\n",
       "      <th>Cost Per Acquisition</th>\n",
       "      <th>Cost Per Visitor</th>\n",
       "    </tr>\n",
       "    <tr>\n",
       "      <th>Exit Survey</th>\n",
       "      <th></th>\n",
       "      <th></th>\n",
       "      <th></th>\n",
       "      <th></th>\n",
       "      <th></th>\n",
       "      <th></th>\n",
       "    </tr>\n",
       "  </thead>\n",
       "  <tbody>\n",
       "    <tr>\n",
       "      <th>(blank)</th>\n",
       "      <td>3.0</td>\n",
       "      <td>0.00</td>\n",
       "      <td>0.0</td>\n",
       "      <td>0.000000</td>\n",
       "      <td>0.00</td>\n",
       "      <td>0.000000</td>\n",
       "    </tr>\n",
       "    <tr>\n",
       "      <th>aapka_colors</th>\n",
       "      <td>6.0</td>\n",
       "      <td>0.00</td>\n",
       "      <td>0.0</td>\n",
       "      <td>0.000000</td>\n",
       "      <td>0.00</td>\n",
       "      <td>0.000000</td>\n",
       "    </tr>\n",
       "    <tr>\n",
       "      <th>baby_first</th>\n",
       "      <td>1.0</td>\n",
       "      <td>0.00</td>\n",
       "      <td>0.0</td>\n",
       "      <td>0.000000</td>\n",
       "      <td>0.00</td>\n",
       "      <td>0.000000</td>\n",
       "    </tr>\n",
       "    <tr>\n",
       "      <th>bloomberg</th>\n",
       "      <td>2.0</td>\n",
       "      <td>4966.72</td>\n",
       "      <td>199.0</td>\n",
       "      <td>1.005025</td>\n",
       "      <td>2483.36</td>\n",
       "      <td>24.958392</td>\n",
       "    </tr>\n",
       "    <tr>\n",
       "      <th>cbs_sports</th>\n",
       "      <td>1.0</td>\n",
       "      <td>0.00</td>\n",
       "      <td>0.0</td>\n",
       "      <td>0.000000</td>\n",
       "      <td>0.00</td>\n",
       "      <td>0.000000</td>\n",
       "    </tr>\n",
       "  </tbody>\n",
       "</table>\n",
       "</div>"
      ],
      "text/plain": [
       "              Purchases    Spend   Lift  Conversion Rate (%)  \\\n",
       "Exit Survey                                                    \n",
       "(blank)             3.0     0.00    0.0             0.000000   \n",
       "aapka_colors        6.0     0.00    0.0             0.000000   \n",
       "baby_first          1.0     0.00    0.0             0.000000   \n",
       "bloomberg           2.0  4966.72  199.0             1.005025   \n",
       "cbs_sports          1.0     0.00    0.0             0.000000   \n",
       "\n",
       "              Cost Per Acquisition  Cost Per Visitor  \n",
       "Exit Survey                                           \n",
       "(blank)                       0.00          0.000000  \n",
       "aapka_colors                  0.00          0.000000  \n",
       "baby_first                    0.00          0.000000  \n",
       "bloomberg                  2483.36         24.958392  \n",
       "cbs_sports                    0.00          0.000000  "
      ]
     },
     "execution_count": 80,
     "metadata": {},
     "output_type": "execute_result"
    }
   ],
   "source": [
    "report_for_client = purchases_spend_lift_by_network.drop(['Airings', 'Percent of Purchases', 'Percent of Spend', 'Percent Pur > Percent Spend'], axis=1).dropna(how='all').fillna(0)\n",
    "\n",
    "report_for_client.head()"
   ]
  },
  {
   "cell_type": "code",
   "execution_count": 81,
   "id": "b422a3d1-0196-4cda-8005-04b1b5b3685f",
   "metadata": {},
   "outputs": [],
   "source": [
    "report_for_client = report_for_client.round({\"Purchases\":0, \"Spend\":2, \"Lift\":0, \"Conversion Rate\":0, \"Cost Per Acquisition\":2, \"Cost Per Visitor\":2})\n",
    "\n",
    "report_for_client[['Purchases', 'Lift']] = report_for_client[['Purchases', 'Lift']].astype(int)\n",
    "\n",
    "report_for_client.rename_axis('Exit Survey Source', axis =0, inplace=True)\n",
    "\n",
    "report_for_client = report_for_client.sort_values('Exit Survey Source')"
   ]
  },
  {
   "cell_type": "code",
   "execution_count": 82,
   "id": "e411247c-b22f-47ad-a39f-8bb0ba263054",
   "metadata": {},
   "outputs": [],
   "source": [
    "report_for_client.index = report_for_client.index.str.replace('_', ' ').str.title()"
   ]
  },
  {
   "cell_type": "code",
   "execution_count": 83,
   "id": "26c70e13-bbd1-4fb2-92c5-e1edc572ffeb",
   "metadata": {},
   "outputs": [],
   "source": [
    "# import matplotlib.pyplot as plt\n",
    "# from matplotlib.backends.backend_pdf import PdfPages\n",
    "\n",
    "# #df = pd.DataFrame(np.random.random((10,3)), columns = (\"col 1\", \"col 2\", \"col 3\"))\n",
    "\n",
    "# #https://stackoverflow.com/questions/32137396/how-do-i-plot-only-a-table-in-matplotlib\n",
    "# fig, ax = plt.subplots(figsize=(12,4))\n",
    "# #plt.title('Purchases, Spend, and Lift by Network')\n",
    "# ax.axis('tight')\n",
    "# ax.axis('off')\n",
    "# the_table = ax.table(cellText=report_for_client.values,colLabels=report_for_client.columns,loc='center')\n",
    "\n",
    "# #https://stackoverflow.com/questions/4042192/reduce-left-and-right-margins-in-matplotlib-plot\n",
    "# pp = PdfPages(\"foo.pdf\")\n",
    "# pp.savefig(fig, bbox_inches='tight')\n",
    "# pp.close()"
   ]
  },
  {
   "cell_type": "code",
   "execution_count": 85,
   "id": "6579835b-2591-4558-9827-587b3d319936",
   "metadata": {},
   "outputs": [],
   "source": [
    "import pdfkit\n",
    "\n",
    "f = open('./reports_output/html/report_for_client.html','w')\n",
    "a = report_for_client.to_html(col_space='100px')\n",
    "f.write(a)\n",
    "f.close()\n",
    "\n",
    "pdfkit.from_file('./reports_output/html/report_for_client.html', './reports_output/pdfs/report_for_client.pdf')"
   ]
  },
  {
   "cell_type": "code",
   "execution_count": 91,
   "id": "58cd7992-9a49-4d2f-8675-a688c62b2701",
   "metadata": {},
   "outputs": [
    {
     "data": {
      "text/html": [
       "<div>\n",
       "<style scoped>\n",
       "    .dataframe tbody tr th:only-of-type {\n",
       "        vertical-align: middle;\n",
       "    }\n",
       "\n",
       "    .dataframe tbody tr th {\n",
       "        vertical-align: top;\n",
       "    }\n",
       "\n",
       "    .dataframe thead th {\n",
       "        text-align: right;\n",
       "    }\n",
       "</style>\n",
       "<table border=\"1\" class=\"dataframe\">\n",
       "  <thead>\n",
       "    <tr style=\"text-align: right;\">\n",
       "      <th></th>\n",
       "      <th>Purchases</th>\n",
       "      <th>Spend</th>\n",
       "      <th>Lift</th>\n",
       "      <th>Conversion Rate (%)</th>\n",
       "      <th>Cost Per Acquisition</th>\n",
       "      <th>Cost Per Visitor</th>\n",
       "    </tr>\n",
       "    <tr>\n",
       "      <th>Exit Survey Source</th>\n",
       "      <th></th>\n",
       "      <th></th>\n",
       "      <th></th>\n",
       "      <th></th>\n",
       "      <th></th>\n",
       "      <th></th>\n",
       "    </tr>\n",
       "  </thead>\n",
       "  <tbody>\n",
       "    <tr>\n",
       "      <th>(Blank)</th>\n",
       "      <td>3</td>\n",
       "      <td>0.00</td>\n",
       "      <td>0</td>\n",
       "      <td>0.000000</td>\n",
       "      <td>0.00</td>\n",
       "      <td>0.00</td>\n",
       "    </tr>\n",
       "    <tr>\n",
       "      <th>Aapka Colors</th>\n",
       "      <td>6</td>\n",
       "      <td>0.00</td>\n",
       "      <td>0</td>\n",
       "      <td>0.000000</td>\n",
       "      <td>0.00</td>\n",
       "      <td>0.00</td>\n",
       "    </tr>\n",
       "    <tr>\n",
       "      <th>Baby First</th>\n",
       "      <td>1</td>\n",
       "      <td>0.00</td>\n",
       "      <td>0</td>\n",
       "      <td>0.000000</td>\n",
       "      <td>0.00</td>\n",
       "      <td>0.00</td>\n",
       "    </tr>\n",
       "    <tr>\n",
       "      <th>Bloomberg</th>\n",
       "      <td>2</td>\n",
       "      <td>4966.72</td>\n",
       "      <td>199</td>\n",
       "      <td>1.005025</td>\n",
       "      <td>2483.36</td>\n",
       "      <td>24.96</td>\n",
       "    </tr>\n",
       "    <tr>\n",
       "      <th>Cbs Sports</th>\n",
       "      <td>1</td>\n",
       "      <td>0.00</td>\n",
       "      <td>0</td>\n",
       "      <td>0.000000</td>\n",
       "      <td>0.00</td>\n",
       "      <td>0.00</td>\n",
       "    </tr>\n",
       "  </tbody>\n",
       "</table>\n",
       "</div>"
      ],
      "text/plain": [
       "                    Purchases    Spend  Lift  Conversion Rate (%)  \\\n",
       "Exit Survey Source                                                  \n",
       "(Blank)                     3     0.00     0             0.000000   \n",
       "Aapka Colors                6     0.00     0             0.000000   \n",
       "Baby First                  1     0.00     0             0.000000   \n",
       "Bloomberg                   2  4966.72   199             1.005025   \n",
       "Cbs Sports                  1     0.00     0             0.000000   \n",
       "\n",
       "                    Cost Per Acquisition  Cost Per Visitor  \n",
       "Exit Survey Source                                          \n",
       "(Blank)                             0.00              0.00  \n",
       "Aapka Colors                        0.00              0.00  \n",
       "Baby First                          0.00              0.00  \n",
       "Bloomberg                        2483.36             24.96  \n",
       "Cbs Sports                          0.00              0.00  "
      ]
     },
     "execution_count": 91,
     "metadata": {},
     "output_type": "execute_result"
    }
   ],
   "source": []
  },
  {
   "cell_type": "markdown",
   "id": "ceb4a817-f575-4776-8bdb-0aa9f3b454ba",
   "metadata": {},
   "source": [
    "## Report sorted by Purchases"
   ]
  },
  {
   "cell_type": "code",
   "execution_count": 92,
   "id": "848da858-df3f-465b-a2be-966f17458923",
   "metadata": {},
   "outputs": [],
   "source": [
    "report_purchases_sorted = report_for_client.sort_values('Purchases', ascending=False)"
   ]
  },
  {
   "cell_type": "code",
   "execution_count": 93,
   "id": "f75926cd-943d-43e0-a9ae-5e25888ce4ea",
   "metadata": {},
   "outputs": [
    {
     "data": {
      "text/plain": [
       "True"
      ]
     },
     "execution_count": 93,
     "metadata": {},
     "output_type": "execute_result"
    }
   ],
   "source": [
    "f = open('./reports_output/html/report_purchases_sorted.html','w')\n",
    "a = report_purchases_sorted.to_html(col_space='100px')\n",
    "f.write(a)\n",
    "f.close()\n",
    "\n",
    "pdfkit.from_file('./reports_output/html/report_purchases_sorted.html', './reports_output/pdfs/report_purchases_sorted.pdf')"
   ]
  },
  {
   "cell_type": "code",
   "execution_count": 94,
   "id": "ec769071-9a6c-49bd-8ea5-d55cce1744d1",
   "metadata": {},
   "outputs": [],
   "source": [
    "import matplotlib.pyplot as plt"
   ]
  },
  {
   "cell_type": "code",
   "execution_count": 95,
   "id": "8a24e052-6285-445f-990b-043005b38216",
   "metadata": {},
   "outputs": [
    {
     "ename": "TypeError",
     "evalue": "bar() missing 1 required positional argument: 'height'",
     "output_type": "error",
     "traceback": [
      "\u001b[0;31m---------------------------------------------------------------------------\u001b[0m",
      "\u001b[0;31mTypeError\u001b[0m                                 Traceback (most recent call last)",
      "Input \u001b[0;32mIn [95]\u001b[0m, in \u001b[0;36m<module>\u001b[0;34m\u001b[0m\n\u001b[0;32m----> 1\u001b[0m \u001b[43mplt\u001b[49m\u001b[38;5;241;43m.\u001b[39;49m\u001b[43mbar\u001b[49m\u001b[43m(\u001b[49m\u001b[38;5;124;43m'\u001b[39;49m\u001b[38;5;124;43mPurchases\u001b[39;49m\u001b[38;5;124;43m'\u001b[39;49m\u001b[43m)\u001b[49m\n",
      "\u001b[0;31mTypeError\u001b[0m: bar() missing 1 required positional argument: 'height'"
     ]
    }
   ],
   "source": [
    "plt.bar(x=report_purchases_sorted.index, height='Purchases')"
   ]
  },
  {
   "cell_type": "code",
   "execution_count": 115,
   "id": "880d12ab-2d3b-44d3-b05d-36acb57486d0",
   "metadata": {},
   "outputs": [
    {
     "data": {
      "image/png": "[encoded data removed]",
      "text/plain": [
       "<Figure size 432x288 with 1 Axes>"
      ]
     },
     "metadata": {
      "needs_background": "light"
     },
     "output_type": "display_data"
    }
   ],
   "source": [
    "ax = report_purchases_sorted[0:10].plot(kind='barh', y='Purchases', title='Top 10 Networks by Purchase', legend=False)\n",
    "ax.invert_yaxis()\n",
    "ax.set_xlabel('Number of Purchases');"
   ]
  },
  {
   "cell_type": "code",
   "execution_count": 118,
   "id": "0c98010f-2f58-4202-b5e9-468049a5f67d",
   "metadata": {},
   "outputs": [
    {
     "data": {
      "image/png": "[encoded data removed]",
      "text/plain": [
       "<Figure size 432x288 with 1 Axes>"
      ]
     },
     "metadata": {
      "needs_background": "light"
     },
     "output_type": "display_data"
    }
   ],
   "source": [
    "ax = report_purchases_sorted[-10:].plot(kind='barh', y='Purchases', title='Bottom 10 Networks by Purchase', legend=False)\n",
    "ax.invert_yaxis()\n",
    "ax.set_xlabel('Number of Purchases')\n",
    "ax.set_xticks(np.arange(0,3,1));"
   ]
  },
  {
   "cell_type": "code",
   "execution_count": 127,
   "id": "b1a541a9-e8e4-44f6-83ea-d213ac318cf7",
   "metadata": {},
   "outputs": [
    {
     "data": {
      "image/png": "[encoded data removed]",
      "text/plain": [
       "<Figure size 432x288 with 2 Axes>"
      ]
     },
     "metadata": {
      "needs_background": "light"
     },
     "output_type": "display_data"
    }
   ],
   "source": [
    "ax = report_purchases_sorted[0:10].plot(kind='barh', y='Purchases', title='Top 10 Networks by Purchase', legend=False, color='blue')\n",
    "ax.invert_yaxis()\n",
    "ax.set_xlabel('Number of Purchases')\n",
    "ax1 = ax.twiny()\n",
    "report_purchases_sorted[0:10].plot(kind='barh', y='Spend', title='Top 10 Networks by Purchase', legend=False, ax=ax, color='r');"
   ]
  },
  {
   "cell_type": "code",
   "execution_count": 161,
   "id": "5327be93-b8ae-4849-b1b1-7997b0d3bc63",
   "metadata": {},
   "outputs": [
    {
     "data": {
      "text/plain": [
       "''"
      ]
     },
     "execution_count": 161,
     "metadata": {},
     "output_type": "execute_result"
    },
    {
     "data": {
      "image/png": "[encoded data removed]",
      "text/plain": [
       "<Figure size 432x288 with 2 Axes>"
      ]
     },
     "metadata": {
      "needs_background": "light"
     },
     "output_type": "display_data"
    }
   ],
   "source": [
    "fig = plt.figure()\n",
    "ax = fig.add_subplot(111)\n",
    "ax.set_xlabel('Number of Purchases')\n",
    "\n",
    "\n",
    "ax2 = ax.twiny()\n",
    "ax2.set_xlabel('Amount Spent ($)')\n",
    "\n",
    "\n",
    "report_purchases_sorted['Purchases'][0:10].plot(kind='barh', color='blue', position=1, width=0.4, ax=ax)\n",
    "report_purchases_sorted['Spend'][0:10].plot(kind='barh', color='red', position=0, width=0.4, ax=ax2)\n",
    "\n",
    "#ax2.invert_yaxis()\n",
    "plt.ylim((-0.5, len(report_purchases_sorted[0:10])-0.5))\n",
    "ax.invert_yaxis()\n",
    ";"
   ]
  },
  {
   "cell_type": "code",
   "execution_count": 157,
   "id": "a2af46a2-3734-4697-ab86-56231e99e402",
   "metadata": {},
   "outputs": [
    {
     "data": {
      "image/png": "[encoded data removed]",
      "text/plain": [
       "<Figure size 504x504 with 2 Axes>"
      ]
     },
     "metadata": {
      "needs_background": "light"
     },
     "output_type": "display_data"
    }
   ],
   "source": [
    "fig = plt.figure(figsize=(7,7))\n",
    "ax = fig.add_subplot(111)\n",
    "ax.set_xlabel('Number of Purchases')\n",
    "\n",
    "\n",
    "ax2 = ax.twiny()\n",
    "ax2.set_xlabel('Amount Spent ($)')\n",
    "\n",
    "\n",
    "report_purchases_sorted['Purchases'][-10:].plot(kind='barh', color='blue', position=1, width=0.4, ax=ax)\n",
    "report_purchases_sorted['Spend'][-10:].plot(kind='barh', color='red', position=0, width=0.4, ax=ax2)\n",
    "ax.invert_yaxis()\n",
    "#ax2.invert_yaxis()\n",
    "plt.ylim((-0.5, len(report_purchases_sorted[0:10])-0.5));"
   ]
  },
  {
   "cell_type": "code",
   "execution_count": 159,
   "id": "52bb9bf3-e1d5-4e19-8837-c568194259c5",
   "metadata": {},
   "outputs": [
    {
     "data": {
      "text/plain": [
       "<AxesSubplot:ylabel='Exit Survey Source'>"
      ]
     },
     "execution_count": 159,
     "metadata": {},
     "output_type": "execute_result"
    },
    {
     "data": {
      "image/png": "[encoded data removed]",
      "text/plain": [
       "<Figure size 504x504 with 2 Axes>"
      ]
     },
     "metadata": {
      "needs_background": "light"
     },
     "output_type": "display_data"
    },
    {
     "data": {
      "image/png": "[encoded data removed]",
      "text/plain": [
       "<Figure size 432x288 with 1 Axes>"
      ]
     },
     "metadata": {
      "needs_background": "light"
     },
     "output_type": "display_data"
    }
   ],
   "source": [
    "fig = plt.figure(figsize=(7,7))\n",
    "ax = fig.add_subplot(111)\n",
    "ax.set_xlabel('Number of Purchases')\n",
    "\n",
    "\n",
    "ax2 = ax.twiny()\n",
    "ax2.set_xlabel('Amount Spent ($)')\n",
    "\n",
    "report_purchases_sorted[['Purchases', 'Spend']][0:10].plot(kind='barh')"
   ]
  },
  {
   "cell_type": "code",
   "execution_count": null,
   "id": "03d3ab91-93fd-4a89-a6df-e3813000af68",
   "metadata": {},
   "outputs": [],
   "source": []
  }
 ],
 "metadata": {
  "jupytext": {
   "formats": "ipynb,auto:percent"
  },
  "kernelspec": {
   "display_name": "Python 3 (ipykernel)",
   "language": "python",
   "name": "python3"
  },
  "language_info": {
   "codemirror_mode": {
    "name": "ipython",
    "version": 3
   },
   "file_extension": ".py",
   "mimetype": "text/x-python",
   "name": "python",
   "nbconvert_exporter": "python",
   "pygments_lexer": "ipython3",
   "version": "3.9.10"
  }
 },
 "nbformat": 4,
 "nbformat_minor": 5
}
